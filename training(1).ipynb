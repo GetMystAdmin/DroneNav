{
 "cells": [
  {
   "cell_type": "code",
   "execution_count": 1,
   "id": "a2c00b7b-6162-4477-9b84-b26c3e1b1a50",
   "metadata": {},
   "outputs": [
    {
     "name": "stdout",
     "output_type": "stream",
     "text": [
      "Cloning into 'CLIP-fine-tune'...\n",
      "remote: Enumerating objects: 33, done.\u001b[K\n",
      "remote: Counting objects: 100% (33/33), done.\u001b[K\n",
      "remote: Compressing objects: 100% (32/32), done.\u001b[K\n",
      "remote: Total 33 (delta 9), reused 0 (delta 0), pack-reused 0\u001b[K\n",
      "Receiving objects: 100% (33/33), 22.52 KiB | 512.00 KiB/s, done.\n",
      "Resolving deltas: 100% (9/9), done.\n"
     ]
    }
   ],
   "source": [
    "!git clone https://github.com/zer0int/CLIP-fine-tune.git"
   ]
  },
  {
   "cell_type": "code",
   "execution_count": 2,
   "id": "901de8b1-8ed8-4e02-93a9-ad674140833b",
   "metadata": {},
   "outputs": [
    {
     "name": "stdout",
     "output_type": "stream",
     "text": [
      "/workspace/CLIP-fine-tune\n"
     ]
    },
    {
     "name": "stderr",
     "output_type": "stream",
     "text": [
      "/usr/local/lib/python3.10/dist-packages/IPython/core/magics/osm.py:417: UserWarning: using dhist requires you to install the `pickleshare` library.\n",
      "  self.shell.db['dhist'] = compress_dhist(dhist)[-100:]\n"
     ]
    }
   ],
   "source": [
    "%cd CLIP-fine-tune/"
   ]
  },
  {
   "cell_type": "code",
   "execution_count": 3,
   "id": "99f0cd34-98cc-4501-909e-bd8b0c207155",
   "metadata": {},
   "outputs": [
    {
     "name": "stdout",
     "output_type": "stream",
     "text": [
      "Collecting git+https://github.com/openai/CLIP.git (from -r requirements-finetune.txt (line 10))\n",
      "  Cloning https://github.com/openai/CLIP.git to /tmp/pip-req-build-n69skk0r\n",
      "  Running command git clone --filter=blob:none --quiet https://github.com/openai/CLIP.git /tmp/pip-req-build-n69skk0r\n",
      "  Resolved https://github.com/openai/CLIP.git to commit a1d071733d7111c9c014f024669f959182114e33\n",
      "  Preparing metadata (setup.py) ... \u001b[?25ldone\n",
      "\u001b[?25hCollecting adabelief-pytorch (from -r requirements-finetune.txt (line 1))\n",
      "  Downloading adabelief_pytorch-0.2.1-py3-none-any.whl.metadata (616 bytes)\n",
      "Requirement already satisfied: torchvision in /usr/local/lib/python3.10/dist-packages (from -r requirements-finetune.txt (line 2)) (0.16.0+cu118)\n",
      "Requirement already satisfied: Pillow in /usr/local/lib/python3.10/dist-packages (from -r requirements-finetune.txt (line 3)) (9.3.0)\n",
      "Collecting scikit-learn (from -r requirements-finetune.txt (line 4))\n",
      "  Downloading scikit_learn-1.4.2-cp310-cp310-manylinux_2_17_x86_64.manylinux2014_x86_64.whl.metadata (11 kB)\n",
      "Collecting matplotlib (from -r requirements-finetune.txt (line 5))\n",
      "  Downloading matplotlib-3.8.4-cp310-cp310-manylinux_2_17_x86_64.manylinux2014_x86_64.whl.metadata (5.8 kB)\n",
      "Collecting colorama (from -r requirements-finetune.txt (line 6))\n",
      "  Downloading colorama-0.4.6-py2.py3-none-any.whl.metadata (17 kB)\n",
      "Collecting tqdm (from -r requirements-finetune.txt (line 7))\n",
      "  Downloading tqdm-4.66.4-py3-none-any.whl.metadata (57 kB)\n",
      "\u001b[2K     \u001b[90m━━━━━━━━━━━━━━━━━━━━━━━━━━━━━━━━━━━━━━━━\u001b[0m \u001b[32m57.6/57.6 kB\u001b[0m \u001b[31m1.2 MB/s\u001b[0m eta \u001b[36m0:00:00\u001b[0mta \u001b[36m0:00:01\u001b[0m\n",
      "\u001b[?25hRequirement already satisfied: numpy in /usr/local/lib/python3.10/dist-packages (from -r requirements-finetune.txt (line 8)) (1.24.1)\n",
      "Collecting seaborn (from -r requirements-finetune.txt (line 9))\n",
      "  Downloading seaborn-0.13.2-py3-none-any.whl.metadata (5.4 kB)\n",
      "Requirement already satisfied: torch>=0.4.0 in /usr/local/lib/python3.10/dist-packages (from adabelief-pytorch->-r requirements-finetune.txt (line 1)) (2.1.0+cu118)\n",
      "Collecting tabulate>=0.7 (from adabelief-pytorch->-r requirements-finetune.txt (line 1))\n",
      "  Downloading tabulate-0.9.0-py3-none-any.whl.metadata (34 kB)\n",
      "Requirement already satisfied: requests in /usr/local/lib/python3.10/dist-packages (from torchvision->-r requirements-finetune.txt (line 2)) (2.31.0)\n",
      "Requirement already satisfied: filelock in /usr/local/lib/python3.10/dist-packages (from torch>=0.4.0->adabelief-pytorch->-r requirements-finetune.txt (line 1)) (3.9.0)\n",
      "Requirement already satisfied: typing-extensions in /usr/local/lib/python3.10/dist-packages (from torch>=0.4.0->adabelief-pytorch->-r requirements-finetune.txt (line 1)) (4.4.0)\n",
      "Requirement already satisfied: sympy in /usr/local/lib/python3.10/dist-packages (from torch>=0.4.0->adabelief-pytorch->-r requirements-finetune.txt (line 1)) (1.12)\n",
      "Requirement already satisfied: networkx in /usr/local/lib/python3.10/dist-packages (from torch>=0.4.0->adabelief-pytorch->-r requirements-finetune.txt (line 1)) (3.0)\n",
      "Requirement already satisfied: jinja2 in /usr/local/lib/python3.10/dist-packages (from torch>=0.4.0->adabelief-pytorch->-r requirements-finetune.txt (line 1)) (3.1.2)\n",
      "Requirement already satisfied: fsspec in /usr/local/lib/python3.10/dist-packages (from torch>=0.4.0->adabelief-pytorch->-r requirements-finetune.txt (line 1)) (2023.4.0)\n",
      "Requirement already satisfied: triton==2.1.0 in /usr/local/lib/python3.10/dist-packages (from torch>=0.4.0->adabelief-pytorch->-r requirements-finetune.txt (line 1)) (2.1.0)\n",
      "Collecting scipy>=1.6.0 (from scikit-learn->-r requirements-finetune.txt (line 4))\n",
      "  Downloading scipy-1.13.0-cp310-cp310-manylinux_2_17_x86_64.manylinux2014_x86_64.whl.metadata (60 kB)\n",
      "\u001b[2K     \u001b[90m━━━━━━━━━━━━━━━━━━━━━━━━━━━━━━━━━━━━━━━━\u001b[0m \u001b[32m60.6/60.6 kB\u001b[0m \u001b[31m5.2 MB/s\u001b[0m eta \u001b[36m0:00:00\u001b[0m\n",
      "\u001b[?25hCollecting joblib>=1.2.0 (from scikit-learn->-r requirements-finetune.txt (line 4))\n",
      "  Downloading joblib-1.4.2-py3-none-any.whl.metadata (5.4 kB)\n",
      "Collecting threadpoolctl>=2.0.0 (from scikit-learn->-r requirements-finetune.txt (line 4))\n",
      "  Downloading threadpoolctl-3.5.0-py3-none-any.whl.metadata (13 kB)\n",
      "Collecting contourpy>=1.0.1 (from matplotlib->-r requirements-finetune.txt (line 5))\n",
      "  Downloading contourpy-1.2.1-cp310-cp310-manylinux_2_17_x86_64.manylinux2014_x86_64.whl.metadata (5.8 kB)\n",
      "Collecting cycler>=0.10 (from matplotlib->-r requirements-finetune.txt (line 5))\n",
      "  Downloading cycler-0.12.1-py3-none-any.whl.metadata (3.8 kB)\n",
      "Collecting fonttools>=4.22.0 (from matplotlib->-r requirements-finetune.txt (line 5))\n",
      "  Downloading fonttools-4.51.0-cp310-cp310-manylinux_2_17_x86_64.manylinux2014_x86_64.whl.metadata (159 kB)\n",
      "\u001b[2K     \u001b[90m━━━━━━━━━━━━━━━━━━━━━━━━━━━━━━━━━━━━━━━\u001b[0m \u001b[32m159.5/159.5 kB\u001b[0m \u001b[31m2.8 MB/s\u001b[0m eta \u001b[36m0:00:00\u001b[0ma \u001b[36m0:00:01\u001b[0m\n",
      "\u001b[?25hCollecting kiwisolver>=1.3.1 (from matplotlib->-r requirements-finetune.txt (line 5))\n",
      "  Downloading kiwisolver-1.4.5-cp310-cp310-manylinux_2_12_x86_64.manylinux2010_x86_64.whl.metadata (6.4 kB)\n",
      "Requirement already satisfied: packaging>=20.0 in /usr/local/lib/python3.10/dist-packages (from matplotlib->-r requirements-finetune.txt (line 5)) (23.2)\n",
      "Requirement already satisfied: pyparsing>=2.3.1 in /usr/lib/python3/dist-packages (from matplotlib->-r requirements-finetune.txt (line 5)) (2.4.7)\n",
      "Requirement already satisfied: python-dateutil>=2.7 in /usr/local/lib/python3.10/dist-packages (from matplotlib->-r requirements-finetune.txt (line 5)) (2.8.2)\n",
      "Collecting pandas>=1.2 (from seaborn->-r requirements-finetune.txt (line 9))\n",
      "  Downloading pandas-2.2.2-cp310-cp310-manylinux_2_17_x86_64.manylinux2014_x86_64.whl.metadata (19 kB)\n",
      "Collecting ftfy (from clip==1.0->-r requirements-finetune.txt (line 10))\n",
      "  Downloading ftfy-6.2.0-py3-none-any.whl.metadata (7.3 kB)\n",
      "Collecting regex (from clip==1.0->-r requirements-finetune.txt (line 10))\n",
      "  Downloading regex-2024.4.28-cp310-cp310-manylinux_2_17_x86_64.manylinux2014_x86_64.whl.metadata (40 kB)\n",
      "\u001b[2K     \u001b[90m━━━━━━━━━━━━━━━━━━━━━━━━━━━━━━━━━━━━━━━━\u001b[0m \u001b[32m40.8/40.8 kB\u001b[0m \u001b[31m9.8 MB/s\u001b[0m eta \u001b[36m0:00:00\u001b[0m\n",
      "\u001b[?25hCollecting pytz>=2020.1 (from pandas>=1.2->seaborn->-r requirements-finetune.txt (line 9))\n",
      "  Downloading pytz-2024.1-py2.py3-none-any.whl.metadata (22 kB)\n",
      "Collecting tzdata>=2022.7 (from pandas>=1.2->seaborn->-r requirements-finetune.txt (line 9))\n",
      "  Downloading tzdata-2024.1-py2.py3-none-any.whl.metadata (1.4 kB)\n",
      "Requirement already satisfied: six>=1.5 in /usr/lib/python3/dist-packages (from python-dateutil>=2.7->matplotlib->-r requirements-finetune.txt (line 5)) (1.16.0)\n",
      "Collecting wcwidth<0.3.0,>=0.2.12 (from ftfy->clip==1.0->-r requirements-finetune.txt (line 10))\n",
      "  Downloading wcwidth-0.2.13-py2.py3-none-any.whl.metadata (14 kB)\n",
      "Requirement already satisfied: charset-normalizer<4,>=2 in /usr/local/lib/python3.10/dist-packages (from requests->torchvision->-r requirements-finetune.txt (line 2)) (2.1.1)\n",
      "Requirement already satisfied: idna<4,>=2.5 in /usr/local/lib/python3.10/dist-packages (from requests->torchvision->-r requirements-finetune.txt (line 2)) (3.4)\n",
      "Requirement already satisfied: urllib3<3,>=1.21.1 in /usr/local/lib/python3.10/dist-packages (from requests->torchvision->-r requirements-finetune.txt (line 2)) (1.26.13)\n",
      "Requirement already satisfied: certifi>=2017.4.17 in /usr/local/lib/python3.10/dist-packages (from requests->torchvision->-r requirements-finetune.txt (line 2)) (2022.12.7)\n",
      "Requirement already satisfied: MarkupSafe>=2.0 in /usr/local/lib/python3.10/dist-packages (from jinja2->torch>=0.4.0->adabelief-pytorch->-r requirements-finetune.txt (line 1)) (2.1.2)\n",
      "Requirement already satisfied: mpmath>=0.19 in /usr/local/lib/python3.10/dist-packages (from sympy->torch>=0.4.0->adabelief-pytorch->-r requirements-finetune.txt (line 1)) (1.3.0)\n",
      "Downloading adabelief_pytorch-0.2.1-py3-none-any.whl (5.8 kB)\n",
      "Downloading scikit_learn-1.4.2-cp310-cp310-manylinux_2_17_x86_64.manylinux2014_x86_64.whl (12.1 MB)\n",
      "\u001b[2K   \u001b[90m━━━━━━━━━━━━━━━━━━━━━━━━━━━━━━━━━━━━━━━━\u001b[0m \u001b[32m12.1/12.1 MB\u001b[0m \u001b[31m29.5 MB/s\u001b[0m eta \u001b[36m0:00:00\u001b[0m00:01\u001b[0m00:01\u001b[0m\n",
      "\u001b[?25hDownloading matplotlib-3.8.4-cp310-cp310-manylinux_2_17_x86_64.manylinux2014_x86_64.whl (11.6 MB)\n",
      "\u001b[2K   \u001b[90m━━━━━━━━━━━━━━━━━━━━━━━━━━━━━━━━━━━━━━━━\u001b[0m \u001b[32m11.6/11.6 MB\u001b[0m \u001b[31m21.8 MB/s\u001b[0m eta \u001b[36m0:00:00\u001b[0m00:01\u001b[0m00:01\u001b[0m\n",
      "\u001b[?25hDownloading colorama-0.4.6-py2.py3-none-any.whl (25 kB)\n",
      "Downloading tqdm-4.66.4-py3-none-any.whl (78 kB)\n",
      "\u001b[2K   \u001b[90m━━━━━━━━━━━━━━━━━━━━━━━━━━━━━━━━━━━━━━━━\u001b[0m \u001b[32m78.3/78.3 kB\u001b[0m \u001b[31m21.3 MB/s\u001b[0m eta \u001b[36m0:00:00\u001b[0m\n",
      "\u001b[?25hDownloading seaborn-0.13.2-py3-none-any.whl (294 kB)\n",
      "\u001b[2K   \u001b[90m━━━━━━━━━━━━━━━━━━━━━━━━━━━━━━━━━━━━━━━━\u001b[0m \u001b[32m294.9/294.9 kB\u001b[0m \u001b[31m14.7 MB/s\u001b[0m eta \u001b[36m0:00:00\u001b[0m\n",
      "\u001b[?25hDownloading contourpy-1.2.1-cp310-cp310-manylinux_2_17_x86_64.manylinux2014_x86_64.whl (305 kB)\n",
      "\u001b[2K   \u001b[90m━━━━━━━━━━━━━━━━━━━━━━━━━━━━━━━━━━━━━━━━\u001b[0m \u001b[32m305.2/305.2 kB\u001b[0m \u001b[31m5.4 MB/s\u001b[0m eta \u001b[36m0:00:00\u001b[0mta \u001b[36m0:00:01\u001b[0m\n",
      "\u001b[?25hDownloading cycler-0.12.1-py3-none-any.whl (8.3 kB)\n",
      "Downloading fonttools-4.51.0-cp310-cp310-manylinux_2_17_x86_64.manylinux2014_x86_64.whl (4.6 MB)\n",
      "\u001b[2K   \u001b[90m━━━━━━━━━━━━━━━━━━━━━━━━━━━━━━━━━━━━━━━━\u001b[0m \u001b[32m4.6/4.6 MB\u001b[0m \u001b[31m5.8 MB/s\u001b[0m eta \u001b[36m0:00:00\u001b[0m00:01\u001b[0m00:01\u001b[0mm\n",
      "\u001b[?25hDownloading joblib-1.4.2-py3-none-any.whl (301 kB)\n",
      "\u001b[2K   \u001b[90m━━━━━━━━━━━━━━━━━━━━━━━━━━━━━━━━━━━━━━━━\u001b[0m \u001b[32m301.8/301.8 kB\u001b[0m \u001b[31m3.1 MB/s\u001b[0m eta \u001b[36m0:00:00\u001b[0ma \u001b[36m0:00:01\u001b[0m\n",
      "\u001b[?25hDownloading kiwisolver-1.4.5-cp310-cp310-manylinux_2_12_x86_64.manylinux2010_x86_64.whl (1.6 MB)\n",
      "\u001b[2K   \u001b[90m━━━━━━━━━━━━━━━━━━━━━━━━━━━━━━━━━━━━━━━━\u001b[0m \u001b[32m1.6/1.6 MB\u001b[0m \u001b[31m2.3 MB/s\u001b[0m eta \u001b[36m0:00:00\u001b[0ma \u001b[36m0:00:01\u001b[0m\n",
      "\u001b[?25hDownloading pandas-2.2.2-cp310-cp310-manylinux_2_17_x86_64.manylinux2014_x86_64.whl (13.0 MB)\n",
      "\u001b[2K   \u001b[90m━━━━━━━━━━━━━━━━━━━━━━━━━━━━━━━━━━━━━━━━\u001b[0m \u001b[32m13.0/13.0 MB\u001b[0m \u001b[31m1.2 MB/s\u001b[0m eta \u001b[36m0:00:00\u001b[0m00:01\u001b[0m00:01\u001b[0m\n",
      "\u001b[?25hDownloading scipy-1.13.0-cp310-cp310-manylinux_2_17_x86_64.manylinux2014_x86_64.whl (38.6 MB)\n",
      "\u001b[2K   \u001b[90m━━━━━━━━━━━━━━━━━━━━━━━━━━━━━━━━━━━━━━━━\u001b[0m \u001b[32m38.6/38.6 MB\u001b[0m \u001b[31m1.2 MB/s\u001b[0m eta \u001b[36m0:00:00\u001b[0m00:01\u001b[0m00:01\u001b[0m0m\n",
      "\u001b[?25hDownloading tabulate-0.9.0-py3-none-any.whl (35 kB)\n",
      "Downloading threadpoolctl-3.5.0-py3-none-any.whl (18 kB)\n",
      "Downloading ftfy-6.2.0-py3-none-any.whl (54 kB)\n",
      "\u001b[2K   \u001b[90m━━━━━━━━━━━━━━━━━━━━━━━━━━━━━━━━━━━━━━━━\u001b[0m \u001b[32m54.4/54.4 kB\u001b[0m \u001b[31m2.3 MB/s\u001b[0m eta \u001b[36m0:00:00\u001b[0m\n",
      "\u001b[?25hDownloading regex-2024.4.28-cp310-cp310-manylinux_2_17_x86_64.manylinux2014_x86_64.whl (774 kB)\n",
      "\u001b[2K   \u001b[90m━━━━━━━━━━━━━━━━━━━━━━━━━━━━━━━━━━━━━━━━\u001b[0m \u001b[32m774.1/774.1 kB\u001b[0m \u001b[31m1.9 MB/s\u001b[0m eta \u001b[36m0:00:00\u001b[0m00:01\u001b[0m00:01\u001b[0m\n",
      "\u001b[?25hDownloading pytz-2024.1-py2.py3-none-any.whl (505 kB)\n",
      "\u001b[2K   \u001b[90m━━━━━━━━━━━━━━━━━━━━━━━━━━━━━━━━━━━━━━━━\u001b[0m \u001b[32m505.5/505.5 kB\u001b[0m \u001b[31m2.1 MB/s\u001b[0m eta \u001b[36m0:00:00\u001b[0ma \u001b[36m0:00:01\u001b[0m\n",
      "\u001b[?25hDownloading tzdata-2024.1-py2.py3-none-any.whl (345 kB)\n",
      "\u001b[2K   \u001b[90m━━━━━━━━━━━━━━━━━━━━━━━━━━━━━━━━━━━━━━━━\u001b[0m \u001b[32m345.4/345.4 kB\u001b[0m \u001b[31m2.2 MB/s\u001b[0m eta \u001b[36m0:00:00\u001b[0ma \u001b[36m0:00:01\u001b[0m\n",
      "\u001b[?25hDownloading wcwidth-0.2.13-py2.py3-none-any.whl (34 kB)\n",
      "Building wheels for collected packages: clip\n",
      "  Building wheel for clip (setup.py) ... \u001b[?25ldone\n",
      "\u001b[?25h  Created wheel for clip: filename=clip-1.0-py3-none-any.whl size=1369500 sha256=19201441c1ea0b4a3aa70ff6b6576a433dbe7f6f84c83c710f9044a471045c82\n",
      "  Stored in directory: /tmp/pip-ephem-wheel-cache-p4xwi75p/wheels/da/2b/4c/d6691fa9597aac8bb85d2ac13b112deb897d5b50f5ad9a37e4\n",
      "Successfully built clip\n",
      "Installing collected packages: wcwidth, pytz, tzdata, tqdm, threadpoolctl, tabulate, scipy, regex, kiwisolver, joblib, ftfy, fonttools, cycler, contourpy, colorama, scikit-learn, pandas, matplotlib, seaborn, adabelief-pytorch, clip\n",
      "  Attempting uninstall: wcwidth\n",
      "    Found existing installation: wcwidth 0.2.9\n",
      "    Uninstalling wcwidth-0.2.9:\n",
      "      Successfully uninstalled wcwidth-0.2.9\n",
      "Successfully installed adabelief-pytorch-0.2.1 clip-1.0 colorama-0.4.6 contourpy-1.2.1 cycler-0.12.1 fonttools-4.51.0 ftfy-6.2.0 joblib-1.4.2 kiwisolver-1.4.5 matplotlib-3.8.4 pandas-2.2.2 pytz-2024.1 regex-2024.4.28 scikit-learn-1.4.2 scipy-1.13.0 seaborn-0.13.2 tabulate-0.9.0 threadpoolctl-3.5.0 tqdm-4.66.4 tzdata-2024.1 wcwidth-0.2.13\n",
      "\u001b[33mWARNING: Running pip as the 'root' user can result in broken permissions and conflicting behaviour with the system package manager. It is recommended to use a virtual environment instead: https://pip.pypa.io/warnings/venv\u001b[0m\u001b[33m\n",
      "\u001b[0m\n",
      "\u001b[1m[\u001b[0m\u001b[34;49mnotice\u001b[0m\u001b[1;39;49m]\u001b[0m\u001b[39;49m A new release of pip is available: \u001b[0m\u001b[31;49m23.3.1\u001b[0m\u001b[39;49m -> \u001b[0m\u001b[32;49m24.0\u001b[0m\n",
      "\u001b[1m[\u001b[0m\u001b[34;49mnotice\u001b[0m\u001b[1;39;49m]\u001b[0m\u001b[39;49m To update, run: \u001b[0m\u001b[32;49mpython -m pip install --upgrade pip\u001b[0m\n"
     ]
    }
   ],
   "source": [
    "!pip install -r requirements-finetune.txt"
   ]
  },
  {
   "cell_type": "code",
   "execution_count": 5,
   "id": "ad29dccc-5b0a-4c19-a6da-80657783645c",
   "metadata": {},
   "outputs": [
    {
     "name": "stdout",
     "output_type": "stream",
     "text": [
      "Looking in indexes: https://download.pytorch.org/whl/cu118\n",
      "Requirement already satisfied: torch in /usr/local/lib/python3.10/dist-packages (2.1.0+cu118)\n",
      "Requirement already satisfied: torchvision in /usr/local/lib/python3.10/dist-packages (0.16.0+cu118)\n",
      "Requirement already satisfied: torchaudio in /usr/local/lib/python3.10/dist-packages (2.1.0+cu118)\n",
      "Requirement already satisfied: filelock in /usr/local/lib/python3.10/dist-packages (from torch) (3.9.0)\n",
      "Requirement already satisfied: typing-extensions in /usr/local/lib/python3.10/dist-packages (from torch) (4.4.0)\n",
      "Requirement already satisfied: sympy in /usr/local/lib/python3.10/dist-packages (from torch) (1.12)\n",
      "Requirement already satisfied: networkx in /usr/local/lib/python3.10/dist-packages (from torch) (3.0)\n",
      "Requirement already satisfied: jinja2 in /usr/local/lib/python3.10/dist-packages (from torch) (3.1.2)\n",
      "Requirement already satisfied: fsspec in /usr/local/lib/python3.10/dist-packages (from torch) (2023.4.0)\n",
      "Requirement already satisfied: triton==2.1.0 in /usr/local/lib/python3.10/dist-packages (from torch) (2.1.0)\n",
      "Requirement already satisfied: numpy in /usr/local/lib/python3.10/dist-packages (from torchvision) (1.24.1)\n",
      "Requirement already satisfied: requests in /usr/local/lib/python3.10/dist-packages (from torchvision) (2.31.0)\n",
      "Requirement already satisfied: pillow!=8.3.*,>=5.3.0 in /usr/local/lib/python3.10/dist-packages (from torchvision) (9.3.0)\n",
      "Requirement already satisfied: MarkupSafe>=2.0 in /usr/local/lib/python3.10/dist-packages (from jinja2->torch) (2.1.2)\n",
      "Requirement already satisfied: charset-normalizer<4,>=2 in /usr/local/lib/python3.10/dist-packages (from requests->torchvision) (2.1.1)\n",
      "Requirement already satisfied: idna<4,>=2.5 in /usr/local/lib/python3.10/dist-packages (from requests->torchvision) (3.4)\n",
      "Requirement already satisfied: urllib3<3,>=1.21.1 in /usr/local/lib/python3.10/dist-packages (from requests->torchvision) (1.26.13)\n",
      "Requirement already satisfied: certifi>=2017.4.17 in /usr/local/lib/python3.10/dist-packages (from requests->torchvision) (2022.12.7)\n",
      "Requirement already satisfied: mpmath>=0.19 in /usr/local/lib/python3.10/dist-packages (from sympy->torch) (1.3.0)\n",
      "\u001b[33mWARNING: Running pip as the 'root' user can result in broken permissions and conflicting behaviour with the system package manager. It is recommended to use a virtual environment instead: https://pip.pypa.io/warnings/venv\u001b[0m\u001b[33m\n",
      "\u001b[0m\n",
      "\u001b[1m[\u001b[0m\u001b[34;49mnotice\u001b[0m\u001b[1;39;49m]\u001b[0m\u001b[39;49m A new release of pip is available: \u001b[0m\u001b[31;49m23.3.1\u001b[0m\u001b[39;49m -> \u001b[0m\u001b[32;49m24.0\u001b[0m\n",
      "\u001b[1m[\u001b[0m\u001b[34;49mnotice\u001b[0m\u001b[1;39;49m]\u001b[0m\u001b[39;49m To update, run: \u001b[0m\u001b[32;49mpython -m pip install --upgrade pip\u001b[0m\n"
     ]
    }
   ],
   "source": [
    "!pip install torch torchvision torchaudio --index-url https://download.pytorch.org/whl/cu118"
   ]
  },
  {
   "cell_type": "code",
   "execution_count": 8,
   "id": "9244f461-c94c-47df-80e9-1952b7f63102",
   "metadata": {},
   "outputs": [
    {
     "name": "stderr",
     "output_type": "stream",
     "text": [
      "100%|███████████████████████████████████████| 890M/890M [00:19<00:00, 48.9MiB/s]\n"
     ]
    }
   ],
   "source": [
    "import clip\n",
    "import torch\n",
    "\n",
    "clipmodel = 'ViT-L/14'\n",
    "device = \"cuda:0\" if torch.cuda.is_available() else \"cpu\"\n",
    "model, preprocess = clip.load(clipmodel, device=device)"
   ]
  },
  {
   "cell_type": "code",
   "execution_count": 9,
   "id": "5fcb255b-2ede-4bcc-917d-bb51f106c549",
   "metadata": {},
   "outputs": [
    {
     "name": "stdout",
     "output_type": "stream",
     "text": [
      "--2024-05-05 09:19:13--  https://huggingface.co/toady123/coord-tracker/resolve/main/clip_ft_30.pt\n",
      "Resolving huggingface.co (huggingface.co)... 18.239.50.80, 18.239.50.16, 18.239.50.49, ...\n",
      "Connecting to huggingface.co (huggingface.co)|18.239.50.80|:443... connected.\n",
      "HTTP request sent, awaiting response... 302 Found\n",
      "Location: https://cdn-lfs-us-1.huggingface.co/repos/57/7f/577f0c751666b7dbd1175d2d06522b943536bd62b45b60160b10d6f0b573a558/a9aa59dc7ffe957a15fd8649ec058152b959fefee736900940214bec04987940?response-content-disposition=attachment%3B+filename*%3DUTF-8%27%27clip_ft_30.pt%3B+filename%3D%22clip_ft_30.pt%22%3B&Expires=1715159953&Policy=eyJTdGF0ZW1lbnQiOlt7IkNvbmRpdGlvbiI6eyJEYXRlTGVzc1RoYW4iOnsiQVdTOkVwb2NoVGltZSI6MTcxNTE1OTk1M319LCJSZXNvdXJjZSI6Imh0dHBzOi8vY2RuLWxmcy11cy0xLmh1Z2dpbmdmYWNlLmNvL3JlcG9zLzU3LzdmLzU3N2YwYzc1MTY2NmI3ZGJkMTE3NWQyZDA2NTIyYjk0MzUzNmJkNjJiNDViNjAxNjBiMTBkNmYwYjU3M2E1NTgvYTlhYTU5ZGM3ZmZlOTU3YTE1ZmQ4NjQ5ZWMwNTgxNTJiOTU5ZmVmZWU3MzY5MDA5NDAyMTRiZWMwNDk4Nzk0MD9yZXNwb25zZS1jb250ZW50LWRpc3Bvc2l0aW9uPSoifV19&Signature=Qo3%7E1332M5sQGD1r6OCLU4ZmSwK8YJDnqpzB4Y5vgH0Bf2vz5SPsKOPga2MYhWBOgjUtS2%7EBvpaz9FlnHrlWs5uRyvsBfDtqq8dWcBQjTrHD3YPBbk%7Enf9cGN3hJEpi1dHREql5HToJNgLUJ0aMUsJ-IznvoILeeOsN10UrfSW8tHEo-WaDIOxacfXLqrrBh7cHMM32MY%7EXpoyiVqk3YbFKXHRxQ6gUte4itwOCS7VEyVP5vq8lE38SBmLARvph%7E5W2lioet3%7EkTLSBLL31FotCsJBtwgugYvO7cst7p98NbYDyd2uxEIrgfQksKw9ae1t3RIibCDbcF5KtuRSbQeQ__&Key-Pair-Id=KCD77M1F0VK2B [following]\n",
      "--2024-05-05 09:19:14--  https://cdn-lfs-us-1.huggingface.co/repos/57/7f/577f0c751666b7dbd1175d2d06522b943536bd62b45b60160b10d6f0b573a558/a9aa59dc7ffe957a15fd8649ec058152b959fefee736900940214bec04987940?response-content-disposition=attachment%3B+filename*%3DUTF-8%27%27clip_ft_30.pt%3B+filename%3D%22clip_ft_30.pt%22%3B&Expires=1715159953&Policy=eyJTdGF0ZW1lbnQiOlt7IkNvbmRpdGlvbiI6eyJEYXRlTGVzc1RoYW4iOnsiQVdTOkVwb2NoVGltZSI6MTcxNTE1OTk1M319LCJSZXNvdXJjZSI6Imh0dHBzOi8vY2RuLWxmcy11cy0xLmh1Z2dpbmdmYWNlLmNvL3JlcG9zLzU3LzdmLzU3N2YwYzc1MTY2NmI3ZGJkMTE3NWQyZDA2NTIyYjk0MzUzNmJkNjJiNDViNjAxNjBiMTBkNmYwYjU3M2E1NTgvYTlhYTU5ZGM3ZmZlOTU3YTE1ZmQ4NjQ5ZWMwNTgxNTJiOTU5ZmVmZWU3MzY5MDA5NDAyMTRiZWMwNDk4Nzk0MD9yZXNwb25zZS1jb250ZW50LWRpc3Bvc2l0aW9uPSoifV19&Signature=Qo3%7E1332M5sQGD1r6OCLU4ZmSwK8YJDnqpzB4Y5vgH0Bf2vz5SPsKOPga2MYhWBOgjUtS2%7EBvpaz9FlnHrlWs5uRyvsBfDtqq8dWcBQjTrHD3YPBbk%7Enf9cGN3hJEpi1dHREql5HToJNgLUJ0aMUsJ-IznvoILeeOsN10UrfSW8tHEo-WaDIOxacfXLqrrBh7cHMM32MY%7EXpoyiVqk3YbFKXHRxQ6gUte4itwOCS7VEyVP5vq8lE38SBmLARvph%7E5W2lioet3%7EkTLSBLL31FotCsJBtwgugYvO7cst7p98NbYDyd2uxEIrgfQksKw9ae1t3RIibCDbcF5KtuRSbQeQ__&Key-Pair-Id=KCD77M1F0VK2B\n",
      "Resolving cdn-lfs-us-1.huggingface.co (cdn-lfs-us-1.huggingface.co)... 108.156.60.27, 108.156.60.30, 108.156.60.121, ...\n",
      "Connecting to cdn-lfs-us-1.huggingface.co (cdn-lfs-us-1.huggingface.co)|108.156.60.27|:443... connected.\n",
      "HTTP request sent, awaiting response... 200 OK\n",
      "Length: 1710971720 (1.6G) [binary/octet-stream]\n",
      "Saving to: ‘clip_ft_30.pt’\n",
      "\n",
      "clip_ft_30.pt       100%[===================>]   1.59G  50.3MB/s    in 34s     \n",
      "\n",
      "2024-05-05 09:19:48 (48.4 MB/s) - ‘clip_ft_30.pt’ saved [1710971720/1710971720]\n",
      "\n"
     ]
    }
   ],
   "source": [
    "!wget https://huggingface.co/toady123/coord-tracker/resolve/main/clip_ft_30.pt && mv clip_ft_30.pt models/."
   ]
  },
  {
   "cell_type": "code",
   "execution_count": 11,
   "id": "c500cb67-2fb5-401d-82bf-1511ef9616ce",
   "metadata": {},
   "outputs": [
    {
     "data": {
      "text/plain": [
       "'models/clip_ft_30.pt'"
      ]
     },
     "execution_count": 11,
     "metadata": {},
     "output_type": "execute_result"
    }
   ],
   "source": [
    "# Load the fine-tuned model\n",
    "model_path = 'models/clip_ft_40.pt'  # Update this path\n",
    "model = torch.load(model_path)\n",
    "model.eval()\n",
    "model_path"
   ]
  },
  {
   "cell_type": "code",
   "execution_count": 12,
   "id": "1c01d477-ef35-4ece-98d9-76bfe1e78241",
   "metadata": {},
   "outputs": [
    {
     "name": "stdout",
     "output_type": "stream",
     "text": [
      "Found 255 unique prompts.\n"
     ]
    }
   ],
   "source": [
    "import os\n",
    "\n",
    "def gather_prompts(directory):\n",
    "    prompts = set()  # Using a set to avoid duplicate prompts\n",
    "\n",
    "    # Walk through all files in the directory\n",
    "    for root, dirs, files in os.walk(directory):\n",
    "        for file in files:\n",
    "            if file.endswith(\".txt\"):  # Ensure it's a text file\n",
    "                file_path = os.path.join(root, file)\n",
    "                with open(file_path, 'r', encoding='utf-8') as f:\n",
    "                    # Read each line from the file, strip whitespace, and add to the set\n",
    "                    for line in f:\n",
    "                        stripped_line = line.strip()\n",
    "                        #print(stripped_line)\n",
    "                        if stripped_line:  # Only add non-empty lines\n",
    "                            prompts.add(stripped_line)\n",
    "\n",
    "    return list(prompts)  # Convert set to list to allow indexing\n",
    "\n",
    "# Specify the path to your directory containing text files\n",
    "directory_path = 'tiles/'\n",
    "all_prompts = gather_prompts(directory_path)\n",
    "\n",
    "print(f\"Found {len(all_prompts)} unique prompts.\")\n"
   ]
  },
  {
   "cell_type": "code",
   "execution_count": 13,
   "id": "261c8dfe-90a8-4baf-b468-029250e7da30",
   "metadata": {},
   "outputs": [],
   "source": [
    "# Assuming 'model', 'preprocess', and 'image_preprocessed' are already defined\n",
    "text_tokens = clip.tokenize(all_prompts).to(device)\n",
    "\n",
    "# Proceed with model encoding and similarity calculation\n",
    "with torch.no_grad():\n",
    "    #image_features = model.encode_image(image_preprocessed)\n",
    "    text_features = model.encode_text(text_tokens)\n",
    "\n"
   ]
  },
  {
   "cell_type": "code",
   "execution_count": 20,
   "id": "d9e029d9-9e79-4c24-ad9e-71346744a112",
   "metadata": {},
   "outputs": [
    {
     "name": "stdout",
     "output_type": "stream",
     "text": [
      "(-97.74734405076143, 30.28421523530908),mysterious group of flamingos urban called a synthetic: 0.4884\n",
      "(-97.72553683587141, 30.281803065377765),You can hear a urban whale's heartbeat from more sacred 2 miles ancient: 0.2472\n",
      "(-97.7099602538071, 30.29386391503434),A solar of flamingos is mythic a flamboyance.: 0.0293\n",
      "(-97.74422873434857, 30.278184810480795),solar lived solar in time to the moon landing than exotic the barren of the Great legendary crimson Giza.: 0.0227\n",
      "(-97.75357468358715, 30.278184810480795),fabricated group luminous flamingos wonderful urban a flamboyance.: 0.0184\n"
     ]
    }
   ],
   "source": [
    "from PIL import Image\n",
    "# Load the image\n",
    "image_path = 'tiles/1536_2048.png'  # Adjust this path\n",
    "image = Image.open(image_path).convert(\"RGB\")\n",
    "\n",
    "# Preprocess the image\n",
    "image_preprocessed = preprocess(image).unsqueeze(0).to(device)\n",
    "\n",
    "# Proceed with model encoding and similarity calculation\n",
    "with torch.no_grad():\n",
    "    # Calculate the cosine similarity\n",
    "    logits_per_image, logits_per_text = model(image_preprocessed, text_tokens)\n",
    "    probs = logits_per_image.softmax(dim=-1).cpu().numpy()\n",
    "\n",
    "# Display the top scoring prompts\n",
    "top_prompts = sorted(zip(all_prompts, probs[0]), key=lambda x: x[1], reverse=True)[:5]  # Top 5 predictions\n",
    "for prompt, probability in top_prompts:\n",
    "    print(f\"{prompt}: {probability:.4f}\")\n"
   ]
  },
  {
   "cell_type": "code",
   "execution_count": null,
   "id": "1929b5ae-fecb-49c2-9938-646bc2806e15",
   "metadata": {},
   "outputs": [],
   "source": []
  }
 ],
 "metadata": {
  "kernelspec": {
   "display_name": "Python 3 (ipykernel)",
   "language": "python",
   "name": "python3"
  },
  "language_info": {
   "codemirror_mode": {
    "name": "ipython",
    "version": 3
   },
   "file_extension": ".py",
   "mimetype": "text/x-python",
   "name": "python",
   "nbconvert_exporter": "python",
   "pygments_lexer": "ipython3",
   "version": "3.10.12"
  }
 },
 "nbformat": 4,
 "nbformat_minor": 5
}
