{
 "cells": [
  {
   "cell_type": "code",
   "execution_count": 13,
   "id": "2ccd440c-05e1-45ef-acd4-8c793ea74ea9",
   "metadata": {},
   "outputs": [
    {
     "name": "stdout",
     "output_type": "stream",
     "text": [
      "Collecting flask\n",
      "  Using cached flask-3.0.3-py3-none-any.whl.metadata (3.2 kB)\n",
      "Using cached flask-3.0.3-py3-none-any.whl (101 kB)\n",
      "Installing collected packages: flask\n",
      "Successfully installed flask-3.0.3\n",
      "\u001b[33mWARNING: Running pip as the 'root' user can result in broken permissions and conflicting behaviour with the system package manager. It is recommended to use a virtual environment instead: https://pip.pypa.io/warnings/venv\u001b[0m\u001b[33m\n",
      "\u001b[0m\n",
      "\u001b[1m[\u001b[0m\u001b[34;49mnotice\u001b[0m\u001b[1;39;49m]\u001b[0m\u001b[39;49m A new release of pip is available: \u001b[0m\u001b[31;49m23.3.1\u001b[0m\u001b[39;49m -> \u001b[0m\u001b[32;49m24.0\u001b[0m\n",
      "\u001b[1m[\u001b[0m\u001b[34;49mnotice\u001b[0m\u001b[1;39;49m]\u001b[0m\u001b[39;49m To update, run: \u001b[0m\u001b[32;49mpython -m pip install --upgrade pip\u001b[0m\n"
     ]
    }
   ],
   "source": [
    "!pip install flask --no-deps"
   ]
  },
  {
   "cell_type": "code",
   "execution_count": 19,
   "id": "0dd5c67b-a9ca-46a4-a44e-ae4185eaff35",
   "metadata": {},
   "outputs": [
    {
     "name": "stdout",
     "output_type": "stream",
     "text": [
      "/workspace/CLIP-fine-tune\n"
     ]
    }
   ],
   "source": [
    "!pwd"
   ]
  },
  {
   "cell_type": "code",
   "execution_count": 36,
   "id": "418a7402-d7ca-4e13-aa90-b8e0bac00297",
   "metadata": {},
   "outputs": [
    {
     "name": "stderr",
     "output_type": "stream",
     "text": [
      "/tmp/ipykernel_866/4017276661.py:12: DeprecationWarning: ANTIALIAS is deprecated and will be removed in Pillow 10 (2023-07-01). Use Resampling.LANCZOS instead.\n",
      "  img.thumbnail(thumb_size, Image.ANTIALIAS)  # Resize the image\n"
     ]
    },
    {
     "name": "stdout",
     "output_type": "stream",
     "text": [
      "Thumbnail created for 8192_5632.png at tiles/thumbs/8192_5632.png\n",
      "Thumbnail created for 8192_6656.png at tiles/thumbs/8192_6656.png\n",
      "Thumbnail created for 2560_5632.png at tiles/thumbs/2560_5632.png\n",
      "Thumbnail created for 3072_4096.png at tiles/thumbs/3072_4096.png\n",
      "Thumbnail created for 5120_5632.png at tiles/thumbs/5120_5632.png\n",
      "Thumbnail created for 3584_6656.png at tiles/thumbs/3584_6656.png\n",
      "Thumbnail created for 7168_6656.png at tiles/thumbs/7168_6656.png\n",
      "Thumbnail created for 1024_5632.png at tiles/thumbs/1024_5632.png\n",
      "Thumbnail created for 4608_512.png at tiles/thumbs/4608_512.png\n",
      "Thumbnail created for 4608_1024.png at tiles/thumbs/4608_1024.png\n",
      "Thumbnail created for 4096_1024.png at tiles/thumbs/4096_1024.png\n",
      "Thumbnail created for 3584_4096.png at tiles/thumbs/3584_4096.png\n",
      "Thumbnail created for 5632_4608.png at tiles/thumbs/5632_4608.png\n",
      "Thumbnail created for 3584_3584.png at tiles/thumbs/3584_3584.png\n",
      "Thumbnail created for 5120_512.png at tiles/thumbs/5120_512.png\n",
      "Thumbnail created for 4608_6144.png at tiles/thumbs/4608_6144.png\n",
      "Thumbnail created for 5120_3584.png at tiles/thumbs/5120_3584.png\n",
      "Thumbnail created for 3584_2560.png at tiles/thumbs/3584_2560.png\n",
      "Thumbnail created for 5632_5120.png at tiles/thumbs/5632_5120.png\n",
      "Thumbnail created for 7168_4608.png at tiles/thumbs/7168_4608.png\n",
      "Thumbnail created for 2560_5120.png at tiles/thumbs/2560_5120.png\n",
      "Thumbnail created for 6656_3072.png at tiles/thumbs/6656_3072.png\n",
      "Thumbnail created for 3072_7168.png at tiles/thumbs/3072_7168.png\n",
      "Thumbnail created for 3072_512.png at tiles/thumbs/3072_512.png\n",
      "Thumbnail created for 5632_5632.png at tiles/thumbs/5632_5632.png\n",
      "Thumbnail created for 4608_6656.png at tiles/thumbs/4608_6656.png\n",
      "Thumbnail created for 3072_5632.png at tiles/thumbs/3072_5632.png\n",
      "Thumbnail created for 4608_3584.png at tiles/thumbs/4608_3584.png\n",
      "Thumbnail created for 4608_5632.png at tiles/thumbs/4608_5632.png\n",
      "Thumbnail created for 3584_5120.png at tiles/thumbs/3584_5120.png\n",
      "Thumbnail created for 4608_5120.png at tiles/thumbs/4608_5120.png\n",
      "Thumbnail created for 3072_2048.png at tiles/thumbs/3072_2048.png\n",
      "Thumbnail created for 4608_3072.png at tiles/thumbs/4608_3072.png\n",
      "Thumbnail created for 3584_1536.png at tiles/thumbs/3584_1536.png\n",
      "Thumbnail created for 7168_1536.png at tiles/thumbs/7168_1536.png\n",
      "Thumbnail created for 3584_2048.png at tiles/thumbs/3584_2048.png\n",
      "Thumbnail created for 5120_6656.png at tiles/thumbs/5120_6656.png\n",
      "Thumbnail created for 5632_1536.png at tiles/thumbs/5632_1536.png\n",
      "Thumbnail created for 4096_5120.png at tiles/thumbs/4096_5120.png\n",
      "Thumbnail created for 3584_0.png at tiles/thumbs/3584_0.png\n",
      "Thumbnail created for 7168_2560.png at tiles/thumbs/7168_2560.png\n",
      "Thumbnail created for 4096_2560.png at tiles/thumbs/4096_2560.png\n",
      "Thumbnail created for 2048_7168.png at tiles/thumbs/2048_7168.png\n",
      "Thumbnail created for 5632_512.png at tiles/thumbs/5632_512.png\n",
      "Thumbnail created for 5120_1536.png at tiles/thumbs/5120_1536.png\n",
      "Thumbnail created for 7680_6656.png at tiles/thumbs/7680_6656.png\n",
      "Thumbnail created for 3072_3072.png at tiles/thumbs/3072_3072.png\n",
      "Thumbnail created for 7168_5120.png at tiles/thumbs/7168_5120.png\n",
      "Thumbnail created for 5120_6144.png at tiles/thumbs/5120_6144.png\n",
      "Thumbnail created for 5632_4096.png at tiles/thumbs/5632_4096.png\n",
      "Thumbnail created for 7680_1024.png at tiles/thumbs/7680_1024.png\n",
      "Thumbnail created for 5632_1024.png at tiles/thumbs/5632_1024.png\n",
      "Thumbnail created for 3584_3072.png at tiles/thumbs/3584_3072.png\n",
      "Thumbnail created for 7168_6144.png at tiles/thumbs/7168_6144.png\n",
      "Thumbnail created for 3584_4608.png at tiles/thumbs/3584_4608.png\n",
      "Thumbnail created for 3072_0.png at tiles/thumbs/3072_0.png\n",
      "Thumbnail created for 6144_512.png at tiles/thumbs/6144_512.png\n",
      "Thumbnail created for 4096_5632.png at tiles/thumbs/4096_5632.png\n",
      "Thumbnail created for 1536_4096.png at tiles/thumbs/1536_4096.png\n",
      "Thumbnail created for 6656_2560.png at tiles/thumbs/6656_2560.png\n",
      "Thumbnail created for 4096_2048.png at tiles/thumbs/4096_2048.png\n",
      "Thumbnail created for 5120_7168.png at tiles/thumbs/5120_7168.png\n",
      "Thumbnail created for 2560_6656.png at tiles/thumbs/2560_6656.png\n",
      "Thumbnail created for 7168_3584.png at tiles/thumbs/7168_3584.png\n",
      "Thumbnail created for 7168_2048.png at tiles/thumbs/7168_2048.png\n",
      "Thumbnail created for 6656_5632.png at tiles/thumbs/6656_5632.png\n",
      "Thumbnail created for 4096_3584.png at tiles/thumbs/4096_3584.png\n",
      "Thumbnail created for 6656_2048.png at tiles/thumbs/6656_2048.png\n",
      "Thumbnail created for 4096_3072.png at tiles/thumbs/4096_3072.png\n",
      "Thumbnail created for 7168_3072.png at tiles/thumbs/7168_3072.png\n",
      "Thumbnail created for 5120_1024.png at tiles/thumbs/5120_1024.png\n",
      "Thumbnail created for 5120_3072.png at tiles/thumbs/5120_3072.png\n",
      "Thumbnail created for 4608_4608.png at tiles/thumbs/4608_4608.png\n",
      "Thumbnail created for 7168_5632.png at tiles/thumbs/7168_5632.png\n",
      "Thumbnail created for 4096_4096.png at tiles/thumbs/4096_4096.png\n",
      "Thumbnail created for 4608_4096.png at tiles/thumbs/4608_4096.png\n",
      "Thumbnail created for 4608_0.png at tiles/thumbs/4608_0.png\n",
      "Thumbnail created for 1024_6144.png at tiles/thumbs/1024_6144.png\n",
      "Thumbnail created for 1536_4608.png at tiles/thumbs/1536_4608.png\n",
      "Thumbnail created for 5120_2048.png at tiles/thumbs/5120_2048.png\n",
      "Thumbnail created for 4608_2048.png at tiles/thumbs/4608_2048.png\n",
      "Thumbnail created for 3072_6144.png at tiles/thumbs/3072_6144.png\n",
      "Thumbnail created for 4608_2560.png at tiles/thumbs/4608_2560.png\n",
      "Thumbnail created for 4096_4608.png at tiles/thumbs/4096_4608.png\n",
      "Thumbnail created for 5120_0.png at tiles/thumbs/5120_0.png\n",
      "Thumbnail created for 3584_512.png at tiles/thumbs/3584_512.png\n",
      "Thumbnail created for 3584_6144.png at tiles/thumbs/3584_6144.png\n",
      "Thumbnail created for 4608_1536.png at tiles/thumbs/4608_1536.png\n",
      "Thumbnail created for 3072_1536.png at tiles/thumbs/3072_1536.png\n",
      "Thumbnail created for 3072_5120.png at tiles/thumbs/3072_5120.png\n",
      "Thumbnail created for 3072_1024.png at tiles/thumbs/3072_1024.png\n",
      "Thumbnail created for 7168_7168.png at tiles/thumbs/7168_7168.png\n",
      "Thumbnail created for 7168_4096.png at tiles/thumbs/7168_4096.png\n",
      "Thumbnail created for 4096_6144.png at tiles/thumbs/4096_6144.png\n",
      "Thumbnail created for 6144_0.png at tiles/thumbs/6144_0.png\n",
      "Thumbnail created for 2048_6656.png at tiles/thumbs/2048_6656.png\n",
      "Thumbnail created for 2560_0.png at tiles/thumbs/2560_0.png\n",
      "Thumbnail created for 6656_6144.png at tiles/thumbs/6656_6144.png\n",
      "Thumbnail created for 6144_2048.png at tiles/thumbs/6144_2048.png\n",
      "Thumbnail created for 4096_1536.png at tiles/thumbs/4096_1536.png\n",
      "Thumbnail created for 5632_0.png at tiles/thumbs/5632_0.png\n",
      "Thumbnail created for 4096_6656.png at tiles/thumbs/4096_6656.png\n",
      "Thumbnail created for 5120_2560.png at tiles/thumbs/5120_2560.png\n",
      "Thumbnail created for 6656_1536.png at tiles/thumbs/6656_1536.png\n",
      "Thumbnail created for 6656_1024.png at tiles/thumbs/6656_1024.png\n",
      "Thumbnail created for 2560_2560.png at tiles/thumbs/2560_2560.png\n",
      "Thumbnail created for 6144_3072.png at tiles/thumbs/6144_3072.png\n",
      "Thumbnail created for 0_2560.png at tiles/thumbs/0_2560.png\n",
      "Thumbnail created for 2048_3584.png at tiles/thumbs/2048_3584.png\n",
      "Thumbnail created for 8192_3584.png at tiles/thumbs/8192_3584.png\n",
      "Thumbnail created for 512_5632.png at tiles/thumbs/512_5632.png\n",
      "Thumbnail created for 5632_6144.png at tiles/thumbs/5632_6144.png\n",
      "Thumbnail created for 512_4096.png at tiles/thumbs/512_4096.png\n",
      "Thumbnail created for 0_512.png at tiles/thumbs/0_512.png\n",
      "Thumbnail created for 1536_1536.png at tiles/thumbs/1536_1536.png\n",
      "Thumbnail created for 512_4608.png at tiles/thumbs/512_4608.png\n",
      "Thumbnail created for 512_512.png at tiles/thumbs/512_512.png\n",
      "Thumbnail created for 2560_3072.png at tiles/thumbs/2560_3072.png\n",
      "Thumbnail created for 2560_4608.png at tiles/thumbs/2560_4608.png\n",
      "Thumbnail created for 3072_2560.png at tiles/thumbs/3072_2560.png\n",
      "Thumbnail created for 1024_6656.png at tiles/thumbs/1024_6656.png\n",
      "Thumbnail created for 512_2048.png at tiles/thumbs/512_2048.png\n",
      "Thumbnail created for 512_1536.png at tiles/thumbs/512_1536.png\n",
      "Thumbnail created for 512_5120.png at tiles/thumbs/512_5120.png\n",
      "Thumbnail created for 2048_2560.png at tiles/thumbs/2048_2560.png\n",
      "Thumbnail created for 1024_7168.png at tiles/thumbs/1024_7168.png\n",
      "Thumbnail created for 8192_6144.png at tiles/thumbs/8192_6144.png\n",
      "Thumbnail created for 512_3584.png at tiles/thumbs/512_3584.png\n",
      "Thumbnail created for 0_3072.png at tiles/thumbs/0_3072.png\n",
      "Thumbnail created for 0_4608.png at tiles/thumbs/0_4608.png\n",
      "Thumbnail created for 512_6144.png at tiles/thumbs/512_6144.png\n",
      "Thumbnail created for 1024_1536.png at tiles/thumbs/1024_1536.png\n",
      "Thumbnail created for 1024_2560.png at tiles/thumbs/1024_2560.png\n",
      "Thumbnail created for 3072_6656.png at tiles/thumbs/3072_6656.png\n",
      "Thumbnail created for 5120_4096.png at tiles/thumbs/5120_4096.png\n",
      "Thumbnail created for 1536_3072.png at tiles/thumbs/1536_3072.png\n",
      "Thumbnail created for 0_1024.png at tiles/thumbs/0_1024.png\n",
      "Thumbnail created for 2560_6144.png at tiles/thumbs/2560_6144.png\n",
      "Thumbnail created for 1536_6656.png at tiles/thumbs/1536_6656.png\n",
      "Thumbnail created for 512_7168.png at tiles/thumbs/512_7168.png\n",
      "Thumbnail created for 512_1024.png at tiles/thumbs/512_1024.png\n",
      "Thumbnail created for 3072_4608.png at tiles/thumbs/3072_4608.png\n",
      "Thumbnail created for 0_3584.png at tiles/thumbs/0_3584.png\n",
      "Thumbnail created for 2048_4096.png at tiles/thumbs/2048_4096.png\n",
      "Thumbnail created for 512_3072.png at tiles/thumbs/512_3072.png\n",
      "Thumbnail created for 1536_6144.png at tiles/thumbs/1536_6144.png\n",
      "Thumbnail created for 5632_7168.png at tiles/thumbs/5632_7168.png\n",
      "Thumbnail created for 2560_4096.png at tiles/thumbs/2560_4096.png\n",
      "Thumbnail created for 3584_1024.png at tiles/thumbs/3584_1024.png\n",
      "Thumbnail created for 2048_5120.png at tiles/thumbs/2048_5120.png\n",
      "Thumbnail created for 0_0.png at tiles/thumbs/0_0.png\n",
      "Thumbnail created for 512_0.png at tiles/thumbs/512_0.png\n",
      "Thumbnail created for 1024_1024.png at tiles/thumbs/1024_1024.png\n",
      "Thumbnail created for 1024_5120.png at tiles/thumbs/1024_5120.png\n",
      "Thumbnail created for 5120_4608.png at tiles/thumbs/5120_4608.png\n",
      "Thumbnail created for 1024_512.png at tiles/thumbs/1024_512.png\n",
      "Thumbnail created for 1024_4096.png at tiles/thumbs/1024_4096.png\n",
      "Thumbnail created for 0_4096.png at tiles/thumbs/0_4096.png\n",
      "Thumbnail created for 2560_1024.png at tiles/thumbs/2560_1024.png\n",
      "Thumbnail created for 0_7168.png at tiles/thumbs/0_7168.png\n",
      "Thumbnail created for 6144_5120.png at tiles/thumbs/6144_5120.png\n",
      "Thumbnail created for 6144_2560.png at tiles/thumbs/6144_2560.png\n",
      "Thumbnail created for 2048_2048.png at tiles/thumbs/2048_2048.png\n",
      "Thumbnail created for 2560_512.png at tiles/thumbs/2560_512.png\n",
      "Thumbnail created for 2560_1536.png at tiles/thumbs/2560_1536.png\n",
      "Thumbnail created for 8192_7168.png at tiles/thumbs/8192_7168.png\n",
      "Thumbnail created for 2048_5632.png at tiles/thumbs/2048_5632.png\n",
      "Thumbnail created for 2048_6144.png at tiles/thumbs/2048_6144.png\n",
      "Thumbnail created for 5632_6656.png at tiles/thumbs/5632_6656.png\n",
      "Thumbnail created for 6144_1536.png at tiles/thumbs/6144_1536.png\n",
      "Thumbnail created for 0_6144.png at tiles/thumbs/0_6144.png\n",
      "Thumbnail created for 0_5120.png at tiles/thumbs/0_5120.png\n",
      "Thumbnail created for 2048_512.png at tiles/thumbs/2048_512.png\n",
      "Thumbnail created for 2560_2048.png at tiles/thumbs/2560_2048.png\n",
      "Thumbnail created for 2048_3072.png at tiles/thumbs/2048_3072.png\n",
      "Thumbnail created for 0_1536.png at tiles/thumbs/0_1536.png\n",
      "Thumbnail created for 512_6656.png at tiles/thumbs/512_6656.png\n",
      "Thumbnail created for 0_6656.png at tiles/thumbs/0_6656.png\n",
      "Thumbnail created for 0_2048.png at tiles/thumbs/0_2048.png\n",
      "Thumbnail created for 6144_1024.png at tiles/thumbs/6144_1024.png\n",
      "Thumbnail created for 1024_2048.png at tiles/thumbs/1024_2048.png\n",
      "Thumbnail created for 1024_0.png at tiles/thumbs/1024_0.png\n",
      "Thumbnail created for 1024_3584.png at tiles/thumbs/1024_3584.png\n",
      "Thumbnail created for 512_2560.png at tiles/thumbs/512_2560.png\n",
      "Thumbnail created for 1536_5120.png at tiles/thumbs/1536_5120.png\n",
      "Thumbnail created for 2560_7168.png at tiles/thumbs/2560_7168.png\n",
      "Thumbnail created for 2048_1536.png at tiles/thumbs/2048_1536.png\n",
      "Thumbnail created for 7680_512.png at tiles/thumbs/7680_512.png\n",
      "Thumbnail created for 6144_7168.png at tiles/thumbs/6144_7168.png\n",
      "Thumbnail created for 1024_4608.png at tiles/thumbs/1024_4608.png\n",
      "Thumbnail created for 6144_3584.png at tiles/thumbs/6144_3584.png\n",
      "Thumbnail created for 6144_6656.png at tiles/thumbs/6144_6656.png\n",
      "Thumbnail created for 6656_0.png at tiles/thumbs/6656_0.png\n",
      "Thumbnail created for 6144_6144.png at tiles/thumbs/6144_6144.png\n",
      "Thumbnail created for 2560_3584.png at tiles/thumbs/2560_3584.png\n",
      "Thumbnail created for 6656_512.png at tiles/thumbs/6656_512.png\n",
      "Thumbnail created for 6144_4608.png at tiles/thumbs/6144_4608.png\n",
      "Thumbnail created for 7680_0.png at tiles/thumbs/7680_0.png\n",
      "Thumbnail created for 3072_3584.png at tiles/thumbs/3072_3584.png\n",
      "Thumbnail created for 0_5632.png at tiles/thumbs/0_5632.png\n",
      "Thumbnail created for 6144_5632.png at tiles/thumbs/6144_5632.png\n",
      "Thumbnail created for 1024_3072.png at tiles/thumbs/1024_3072.png\n",
      "Thumbnail created for 5120_5120.png at tiles/thumbs/5120_5120.png\n",
      "Thumbnail created for 7680_1536.png at tiles/thumbs/7680_1536.png\n",
      "Thumbnail created for 7680_2048.png at tiles/thumbs/7680_2048.png\n",
      "Thumbnail created for 8192_1536.png at tiles/thumbs/8192_1536.png\n",
      "Thumbnail created for 7680_3584.png at tiles/thumbs/7680_3584.png\n",
      "Thumbnail created for 7680_7168.png at tiles/thumbs/7680_7168.png\n",
      "Thumbnail created for 7680_4096.png at tiles/thumbs/7680_4096.png\n",
      "Thumbnail created for 7680_2560.png at tiles/thumbs/7680_2560.png\n",
      "Thumbnail created for 4096_0.png at tiles/thumbs/4096_0.png\n",
      "Thumbnail created for 5632_3584.png at tiles/thumbs/5632_3584.png\n",
      "Thumbnail created for 8192_0.png at tiles/thumbs/8192_0.png\n",
      "Thumbnail created for 3584_7168.png at tiles/thumbs/3584_7168.png\n",
      "Thumbnail created for 2048_0.png at tiles/thumbs/2048_0.png\n",
      "Thumbnail created for 6656_5120.png at tiles/thumbs/6656_5120.png\n",
      "Thumbnail created for 8192_512.png at tiles/thumbs/8192_512.png\n",
      "Thumbnail created for 4096_512.png at tiles/thumbs/4096_512.png\n",
      "Thumbnail created for 7168_512.png at tiles/thumbs/7168_512.png\n",
      "Thumbnail created for 6656_4096.png at tiles/thumbs/6656_4096.png\n",
      "Thumbnail created for 8192_4096.png at tiles/thumbs/8192_4096.png\n",
      "Thumbnail created for 7680_5632.png at tiles/thumbs/7680_5632.png\n",
      "Thumbnail created for 6144_4096.png at tiles/thumbs/6144_4096.png\n",
      "Thumbnail created for 1536_7168.png at tiles/thumbs/1536_7168.png\n",
      "Thumbnail created for 1536_5632.png at tiles/thumbs/1536_5632.png\n",
      "Thumbnail created for 7168_0.png at tiles/thumbs/7168_0.png\n",
      "Thumbnail created for 2048_4608.png at tiles/thumbs/2048_4608.png\n",
      "Thumbnail created for 6656_3584.png at tiles/thumbs/6656_3584.png\n",
      "Thumbnail created for 6656_4608.png at tiles/thumbs/6656_4608.png\n",
      "Thumbnail created for 1536_512.png at tiles/thumbs/1536_512.png\n",
      "Thumbnail created for 8192_2048.png at tiles/thumbs/8192_2048.png\n",
      "Thumbnail created for 8192_3072.png at tiles/thumbs/8192_3072.png\n",
      "Thumbnail created for 1536_3584.png at tiles/thumbs/1536_3584.png\n",
      "Thumbnail created for 7680_3072.png at tiles/thumbs/7680_3072.png\n",
      "Thumbnail created for 5632_2560.png at tiles/thumbs/5632_2560.png\n",
      "Thumbnail created for 6656_6656.png at tiles/thumbs/6656_6656.png\n",
      "Thumbnail created for 1536_2560.png at tiles/thumbs/1536_2560.png\n",
      "Thumbnail created for 1536_0.png at tiles/thumbs/1536_0.png\n",
      "Thumbnail created for 6656_7168.png at tiles/thumbs/6656_7168.png\n",
      "Thumbnail created for 7680_4608.png at tiles/thumbs/7680_4608.png\n",
      "Thumbnail created for 8192_2560.png at tiles/thumbs/8192_2560.png\n",
      "Thumbnail created for 3584_5632.png at tiles/thumbs/3584_5632.png\n",
      "Thumbnail created for 4096_7168.png at tiles/thumbs/4096_7168.png\n",
      "Thumbnail created for 5632_3072.png at tiles/thumbs/5632_3072.png\n",
      "Thumbnail created for 1536_2048.png at tiles/thumbs/1536_2048.png\n",
      "Thumbnail created for 8192_5120.png at tiles/thumbs/8192_5120.png\n",
      "Thumbnail created for 7680_5120.png at tiles/thumbs/7680_5120.png\n",
      "Thumbnail created for 5632_2048.png at tiles/thumbs/5632_2048.png\n",
      "Thumbnail created for 4608_7168.png at tiles/thumbs/4608_7168.png\n",
      "Thumbnail created for 2048_1024.png at tiles/thumbs/2048_1024.png\n",
      "Thumbnail created for 8192_1024.png at tiles/thumbs/8192_1024.png\n",
      "Thumbnail created for 7680_6144.png at tiles/thumbs/7680_6144.png\n",
      "Thumbnail created for 7168_1024.png at tiles/thumbs/7168_1024.png\n",
      "Thumbnail created for 8192_4608.png at tiles/thumbs/8192_4608.png\n",
      "Thumbnail created for 1536_1024.png at tiles/thumbs/1536_1024.png\n"
     ]
    }
   ],
   "source": [
    "from PIL import Image\n",
    "import os\n",
    "\n",
    "def create_thumbnails(input_dir, output_dir, thumb_size=(64, 64)):\n",
    "    if not os.path.exists(output_dir):\n",
    "        os.makedirs(output_dir)\n",
    "\n",
    "    for filename in os.listdir(input_dir):\n",
    "        if filename.endswith(\".png\"):  # Adjust this if your files have a different extension\n",
    "            image_path = os.path.join(input_dir, filename)\n",
    "            img = Image.open(image_path)\n",
    "            img.thumbnail(thumb_size, Image.ANTIALIAS)  # Resize the image\n",
    "\n",
    "            # Create a new filename for the thumbnail\n",
    "            base, ext = os.path.splitext(filename)\n",
    "            new_filename = f\"{base}{ext}\"\n",
    "            output_path = os.path.join(output_dir, new_filename)\n",
    "\n",
    "            # Save the thumbnail\n",
    "            img.save(output_path)\n",
    "\n",
    "            print(f\"Thumbnail created for {filename} at {output_path}\")\n",
    "\n",
    "# Specify the input and output directories\n",
    "input_dir = 'tiles'\n",
    "output_dir = 'tiles/thumbs'\n",
    "\n",
    "create_thumbnails(input_dir, output_dir)\n"
   ]
  },
  {
   "cell_type": "code",
   "execution_count": null,
   "id": "cfd8462a-2313-43a3-9261-b6e64dc78832",
   "metadata": {},
   "outputs": [
    {
     "name": "stdout",
     "output_type": "stream",
     "text": [
      "Found 255 unique prompts.\n",
      " * Serving Flask app '__main__'\n",
      " * Debug mode: off\n"
     ]
    },
    {
     "name": "stderr",
     "output_type": "stream",
     "text": [
      "WARNING: This is a development server. Do not use it in a production deployment. Use a production WSGI server instead.\n",
      " * Running on all addresses (0.0.0.0)\n",
      " * Running on http://127.0.0.1:3002\n",
      " * Running on http://192.168.96.2:3002\n",
      "Press CTRL+C to quit\n"
     ]
    },
    {
     "name": "stdout",
     "output_type": "stream",
     "text": [
      "Overlay moved to position: (512, 0)\n",
      "Overlay moved to position: (512, 0)\n",
      "Overlay moved to position: (512, 0)\n",
      "Overlay moved to position: (512, 0)\n",
      "Overlay moved to position: (512, 0)\n",
      "Overlay moved to position: (512, 0)\n",
      "Overlay moved to position: (512, 0)\n",
      "Overlay moved to position: (512, 0)\n",
      "Overlay moved to position: (512, 0)\n",
      "Overlay moved to position: (512, 0)\n",
      "Overlay moved to position: (512, 0)\n",
      "Overlay moved to position: (512, 0)\n"
     ]
    },
    {
     "name": "stderr",
     "output_type": "stream",
     "text": [
      "100.64.0.24 - - [05/May/2024 10:55:36] \"POST /update_position HTTP/1.1\" 400 -\n",
      "100.64.0.24 - - [05/May/2024 10:55:36] \"POST /update_position HTTP/1.1\" 200 -\n"
     ]
    },
    {
     "name": "stdout",
     "output_type": "stream",
     "text": [
      "Overlay moved to position: (512, 0)\n",
      "Overlay moved to position: (512, 0)\n"
     ]
    },
    {
     "name": "stderr",
     "output_type": "stream",
     "text": [
      "100.64.0.24 - - [05/May/2024 10:55:36] \"GET / HTTP/1.1\" 200 -\n"
     ]
    },
    {
     "name": "stdout",
     "output_type": "stream",
     "text": [
      "Overlay moved to position: (512, 0)\n",
      "Overlay moved to position: (512, 0)\n",
      "Overlay moved to position: (512, 0)\n",
      "Overlay moved to position: (512, 0)\n",
      "Overlay moved to position: (512, 0)\n",
      "Overlay moved to position: (512, 0)\n",
      "Overlay moved to position: (512, 0)\n"
     ]
    },
    {
     "name": "stderr",
     "output_type": "stream",
     "text": [
      "100.64.0.24 - - [05/May/2024 10:55:36] \"GET /static/thumbs/0_0.png HTTP/1.1\" 200 -\n",
      "100.64.0.24 - - [05/May/2024 10:55:36] \"GET /static/thumbs/0_4608.png HTTP/1.1\" 200 -\n",
      "100.64.0.24 - - [05/May/2024 10:55:36] \"GET /static/thumbs/0_1536.png HTTP/1.1\" 200 -\n",
      "100.64.0.24 - - [05/May/2024 10:55:36] \"GET /static/thumbs/0_2048.png HTTP/1.1\" 200 -\n",
      "100.64.0.24 - - [05/May/2024 10:55:36] \"GET /static/thumbs/0_512.png HTTP/1.1\" 200 -\n",
      "100.64.0.24 - - [05/May/2024 10:55:36] \"GET /static/thumbs/0_5632.png HTTP/1.1\" 200 -\n",
      "100.64.0.24 - - [05/May/2024 10:55:36] \"GET /static/thumbs/0_2560.png HTTP/1.1\" 200 -\n",
      "100.64.0.24 - - [05/May/2024 10:55:36] \"GET /static/thumbs/0_4096.png HTTP/1.1\" 200 -\n",
      "100.64.0.24 - - [05/May/2024 10:55:36] \"GET /static/thumbs/0_3584.png HTTP/1.1\" 200 -\n",
      "100.64.0.24 - - [05/May/2024 10:55:36] \"GET /static/thumbs/0_1024.png HTTP/1.1\" 200 -\n",
      "100.64.0.24 - - [05/May/2024 10:55:37] \"GET /static/thumbs/0_7168.png HTTP/1.1\" 200 -\n",
      "100.64.0.24 - - [05/May/2024 10:55:37] \"GET /static/thumbs/0_5120.png HTTP/1.1\" 200 -\n",
      "100.64.0.24 - - [05/May/2024 10:55:37] \"GET /static/thumbs/0_6656.png HTTP/1.1\" 200 -\n",
      "100.64.0.24 - - [05/May/2024 10:55:37] \"GET /static/thumbs/512_2048.png HTTP/1.1\" 200 -\n",
      "100.64.0.24 - - [05/May/2024 10:55:37] \"GET /static/thumbs/0_3072.png HTTP/1.1\" 200 -\n",
      "100.64.0.24 - - [05/May/2024 10:55:37] \"GET /static/thumbs/512_0.png HTTP/1.1\" 200 -\n",
      "100.64.0.24 - - [05/May/2024 10:55:37] \"GET /static/thumbs/512_1024.png HTTP/1.1\" 200 -\n",
      "100.64.0.24 - - [05/May/2024 10:55:37] \"GET /static/thumbs/512_512.png HTTP/1.1\" 200 -\n",
      "100.64.0.24 - - [05/May/2024 10:55:37] \"GET /static/thumbs/512_3072.png HTTP/1.1\" 200 -\n",
      "100.64.0.24 - - [05/May/2024 10:55:37] \"GET /static/thumbs/512_3584.png HTTP/1.1\" 200 -\n",
      "100.64.0.24 - - [05/May/2024 10:55:37] \"GET /static/thumbs/512_5120.png HTTP/1.1\" 200 -\n",
      "100.64.0.24 - - [05/May/2024 10:55:37] \"GET /static/thumbs/512_4096.png HTTP/1.1\" 200 -\n",
      "100.64.0.24 - - [05/May/2024 10:55:37] \"GET /static/thumbs/1024_1024.png HTTP/1.1\" 200 -\n",
      "100.64.0.24 - - [05/May/2024 10:55:37] \"GET /static/thumbs/1536_512.png HTTP/1.1\" 200 -\n",
      "100.64.0.24 - - [05/May/2024 10:55:37] \"GET /static/thumbs/512_6656.png HTTP/1.1\" 200 -\n",
      "100.64.0.24 - - [05/May/2024 10:55:37] \"GET /static/thumbs/1024_512.png HTTP/1.1\" 200 -\n",
      "100.64.0.24 - - [05/May/2024 10:55:37] \"GET /static/thumbs/512_1536.png HTTP/1.1\" 200 -\n",
      "100.64.0.24 - - [05/May/2024 10:55:37] \"GET /static/thumbs/512_4608.png HTTP/1.1\" 200 -\n",
      "100.64.0.24 - - [05/May/2024 10:55:37] \"GET /static/thumbs/512_6144.png HTTP/1.1\" 200 -\n",
      "100.64.0.24 - - [05/May/2024 10:55:37] \"GET /static/thumbs/1024_3072.png HTTP/1.1\" 200 -\n",
      "100.64.0.24 - - [05/May/2024 10:55:37] \"GET /static/thumbs/512_2560.png HTTP/1.1\" 200 -\n",
      "100.64.0.24 - - [05/May/2024 10:55:37] \"GET /static/thumbs/1024_2560.png HTTP/1.1\" 200 -\n",
      "100.64.0.24 - - [05/May/2024 10:55:37] \"GET /static/thumbs/1024_0.png HTTP/1.1\" 200 -\n",
      "100.64.0.24 - - [05/May/2024 10:55:37] \"GET /static/thumbs/1024_3584.png HTTP/1.1\" 200 -\n",
      "100.64.0.24 - - [05/May/2024 10:55:37] \"GET /static/thumbs/1024_1536.png HTTP/1.1\" 200 -\n",
      "100.64.0.24 - - [05/May/2024 10:55:37] \"GET /static/thumbs/0_6144.png HTTP/1.1\" 200 -\n",
      "100.64.0.24 - - [05/May/2024 10:55:37] \"GET /static/thumbs/1024_2048.png HTTP/1.1\" 200 -\n",
      "100.64.0.24 - - [05/May/2024 10:55:37] \"GET /static/thumbs/1024_4096.png HTTP/1.1\" 200 -\n",
      "100.64.0.24 - - [05/May/2024 10:55:37] \"GET /static/thumbs/1024_5120.png HTTP/1.1\" 200 -\n",
      "100.64.0.24 - - [05/May/2024 10:55:37] \"GET /static/thumbs/1024_5632.png HTTP/1.1\" 200 -\n",
      "100.64.0.24 - - [05/May/2024 10:55:37] \"GET /static/thumbs/1024_4608.png HTTP/1.1\" 200 -\n",
      "100.64.0.24 - - [05/May/2024 10:55:37] \"GET /static/thumbs/1024_6656.png HTTP/1.1\" 200 -\n",
      "100.64.0.24 - - [05/May/2024 10:55:37] \"GET /static/thumbs/512_5632.png HTTP/1.1\" 200 -\n",
      "100.64.0.24 - - [05/May/2024 10:55:37] \"GET /static/thumbs/1536_0.png HTTP/1.1\" 200 -\n",
      "100.64.0.24 - - [05/May/2024 10:55:37] \"GET /static/thumbs/1536_1536.png HTTP/1.1\" 200 -\n",
      "100.64.0.24 - - [05/May/2024 10:55:37] \"GET /static/thumbs/1024_7168.png HTTP/1.1\" 200 -\n",
      "100.64.0.24 - - [05/May/2024 10:55:37] \"GET /static/thumbs/1024_6144.png HTTP/1.1\" 200 -\n",
      "100.64.0.24 - - [05/May/2024 10:55:37] \"GET /static/thumbs/1536_2560.png HTTP/1.1\" 200 -\n",
      "100.64.0.24 - - [05/May/2024 10:55:37] \"GET /static/thumbs/1536_1024.png HTTP/1.1\" 200 -\n",
      "100.64.0.24 - - [05/May/2024 10:55:37] \"GET /static/thumbs/1536_3584.png HTTP/1.1\" 200 -\n",
      "100.64.0.24 - - [05/May/2024 10:55:37] \"GET /static/thumbs/1536_4096.png HTTP/1.1\" 200 -\n",
      "100.64.0.24 - - [05/May/2024 10:55:37] \"GET /static/thumbs/1536_2048.png HTTP/1.1\" 200 -\n",
      "100.64.0.24 - - [05/May/2024 10:55:37] \"GET /static/thumbs/1536_6656.png HTTP/1.1\" 200 -\n",
      "100.64.0.24 - - [05/May/2024 10:55:37] \"GET /static/thumbs/512_7168.png HTTP/1.1\" 200 -\n",
      "100.64.0.24 - - [05/May/2024 10:55:37] \"GET /static/thumbs/1536_3072.png HTTP/1.1\" 200 -\n",
      "100.64.0.24 - - [05/May/2024 10:55:37] \"GET /static/thumbs/1536_5120.png HTTP/1.1\" 200 -\n",
      "100.64.0.24 - - [05/May/2024 10:55:37] \"GET /static/thumbs/2048_1536.png HTTP/1.1\" 200 -\n",
      "100.64.0.24 - - [05/May/2024 10:55:37] \"GET /static/thumbs/2048_2560.png HTTP/1.1\" 200 -\n",
      "100.64.0.24 - - [05/May/2024 10:55:37] \"GET /static/thumbs/1536_4608.png HTTP/1.1\" 200 -\n",
      "100.64.0.24 - - [05/May/2024 10:55:37] \"GET /static/thumbs/1536_5632.png HTTP/1.1\" 200 -\n",
      "100.64.0.24 - - [05/May/2024 10:55:37] \"GET /static/thumbs/2048_0.png HTTP/1.1\" 200 -\n",
      "100.64.0.24 - - [05/May/2024 10:55:37] \"GET /static/thumbs/1536_7168.png HTTP/1.1\" 200 -\n",
      "100.64.0.24 - - [05/May/2024 10:55:37] \"GET /static/thumbs/2048_3072.png HTTP/1.1\" 200 -\n",
      "100.64.0.24 - - [05/May/2024 10:55:37] \"GET /static/thumbs/2048_1024.png HTTP/1.1\" 200 -\n",
      "100.64.0.24 - - [05/May/2024 10:55:37] \"GET /static/thumbs/2048_512.png HTTP/1.1\" 200 -\n",
      "100.64.0.24 - - [05/May/2024 10:55:37] \"GET /static/thumbs/1536_6144.png HTTP/1.1\" 200 -\n",
      "100.64.0.24 - - [05/May/2024 10:55:37] \"GET /static/thumbs/2048_2048.png HTTP/1.1\" 200 -\n",
      "100.64.0.24 - - [05/May/2024 10:55:37] \"GET /static/thumbs/2560_512.png HTTP/1.1\" 200 -\n",
      "100.64.0.24 - - [05/May/2024 10:55:37] \"GET /static/thumbs/2048_6144.png HTTP/1.1\" 200 -\n",
      "100.64.0.24 - - [05/May/2024 10:55:37] \"GET /static/thumbs/2048_6656.png HTTP/1.1\" 200 -\n",
      "100.64.0.24 - - [05/May/2024 10:55:37] \"GET /static/thumbs/2048_3584.png HTTP/1.1\" 200 -\n",
      "100.64.0.24 - - [05/May/2024 10:55:37] \"GET /static/thumbs/2048_5120.png HTTP/1.1\" 200 -\n",
      "100.64.0.24 - - [05/May/2024 10:55:37] \"GET /static/thumbs/2048_4608.png HTTP/1.1\" 200 -\n",
      "100.64.0.24 - - [05/May/2024 10:55:37] \"GET /static/thumbs/2048_5632.png HTTP/1.1\" 200 -\n",
      "100.64.0.24 - - [05/May/2024 10:55:37] \"GET /static/thumbs/2048_4096.png HTTP/1.1\" 200 -\n",
      "100.64.0.24 - - [05/May/2024 10:55:37] \"GET /static/thumbs/2560_6144.png HTTP/1.1\" 200 -\n",
      "100.64.0.24 - - [05/May/2024 10:55:37] \"GET /static/thumbs/2560_4096.png HTTP/1.1\" 200 -\n",
      "100.64.0.24 - - [05/May/2024 10:55:37] \"GET /static/thumbs/2048_7168.png HTTP/1.1\" 200 -\n",
      "100.64.0.24 - - [05/May/2024 10:55:37] \"GET /static/thumbs/2560_0.png HTTP/1.1\" 200 -\n",
      "100.64.0.24 - - [05/May/2024 10:55:37] \"GET /static/thumbs/2560_1536.png HTTP/1.1\" 200 -\n",
      "100.64.0.24 - - [05/May/2024 10:55:37] \"GET /static/thumbs/2560_3072.png HTTP/1.1\" 200 -\n",
      "100.64.0.24 - - [05/May/2024 10:55:37] \"GET /static/thumbs/2560_1024.png HTTP/1.1\" 200 -\n",
      "100.64.0.24 - - [05/May/2024 10:55:37] \"GET /static/thumbs/2560_2048.png HTTP/1.1\" 200 -\n",
      "100.64.0.24 - - [05/May/2024 10:55:37] \"GET /static/thumbs/3072_512.png HTTP/1.1\" 200 -\n",
      "100.64.0.24 - - [05/May/2024 10:55:37] \"GET /static/thumbs/2560_6656.png HTTP/1.1\" 200 -\n",
      "100.64.0.24 - - [05/May/2024 10:55:37] \"GET /static/thumbs/2560_4608.png HTTP/1.1\" 200 -\n",
      "100.64.0.24 - - [05/May/2024 10:55:37] \"GET /static/thumbs/2560_2560.png HTTP/1.1\" 200 -\n",
      "100.64.0.24 - - [05/May/2024 10:55:37] \"GET /static/thumbs/2560_3584.png HTTP/1.1\" 200 -\n",
      "100.64.0.24 - - [05/May/2024 10:55:37] \"GET /static/thumbs/2560_5120.png HTTP/1.1\" 200 -\n",
      "100.64.0.24 - - [05/May/2024 10:55:37] \"GET /static/thumbs/2560_5632.png HTTP/1.1\" 200 -\n",
      "100.64.0.24 - - [05/May/2024 10:55:37] \"GET /static/thumbs/2560_7168.png HTTP/1.1\" 200 -\n",
      "100.64.0.24 - - [05/May/2024 10:55:37] \"GET /static/thumbs/3072_1024.png HTTP/1.1\" 200 -\n",
      "100.64.0.24 - - [05/May/2024 10:55:37] \"GET /static/thumbs/3072_0.png HTTP/1.1\" 200 -\n",
      "100.64.0.24 - - [05/May/2024 10:55:37] \"GET /static/thumbs/3072_1536.png HTTP/1.1\" 200 -\n",
      "100.64.0.24 - - [05/May/2024 10:55:37] \"GET /static/thumbs/3072_2048.png HTTP/1.1\" 200 -\n",
      "100.64.0.24 - - [05/May/2024 10:55:37] \"GET /static/thumbs/3072_2560.png HTTP/1.1\" 200 -\n",
      "100.64.0.24 - - [05/May/2024 10:55:37] \"GET /static/thumbs/3072_3072.png HTTP/1.1\" 200 -\n",
      "100.64.0.24 - - [05/May/2024 10:55:37] \"GET /static/thumbs/3072_3584.png HTTP/1.1\" 200 -\n",
      "100.64.0.24 - - [05/May/2024 10:55:37] \"GET /static/thumbs/3072_4608.png HTTP/1.1\" 200 -\n",
      "100.64.0.24 - - [05/May/2024 10:55:37] \"GET /static/thumbs/6144_4096.png HTTP/1.1\" 200 -\n",
      "100.64.0.24 - - [05/May/2024 10:55:37] \"GET /static/thumbs/3072_4096.png HTTP/1.1\" 200 -\n",
      "100.64.0.24 - - [05/May/2024 10:55:37] \"GET /static/thumbs/7680_7168.png HTTP/1.1\" 200 -\n",
      "100.64.0.24 - - [05/May/2024 10:55:37] \"GET /static/thumbs/6144_4608.png HTTP/1.1\" 200 -\n",
      "100.64.0.24 - - [05/May/2024 10:55:37] \"GET /static/thumbs/3584_1024.png HTTP/1.1\" 200 -\n",
      "100.64.0.24 - - [05/May/2024 10:55:37] \"GET /static/thumbs/3584_1536.png HTTP/1.1\" 200 -\n",
      "100.64.0.24 - - [05/May/2024 10:55:37] \"GET /static/thumbs/3584_2560.png HTTP/1.1\" 200 -\n",
      "100.64.0.24 - - [05/May/2024 10:55:37] \"GET /static/thumbs/3584_2048.png HTTP/1.1\" 200 -\n",
      "100.64.0.24 - - [05/May/2024 10:55:37] \"GET /static/thumbs/3584_3584.png HTTP/1.1\" 200 -\n",
      "100.64.0.24 - - [05/May/2024 10:55:37] \"GET /static/thumbs/3584_3072.png HTTP/1.1\" 200 -\n",
      "100.64.0.24 - - [05/May/2024 10:55:37] \"GET /static/thumbs/3584_4096.png HTTP/1.1\" 200 -\n",
      "100.64.0.24 - - [05/May/2024 10:55:37] \"GET /static/thumbs/3584_6656.png HTTP/1.1\" 200 -\n",
      "100.64.0.24 - - [05/May/2024 10:55:37] \"GET /static/thumbs/3584_5632.png HTTP/1.1\" 200 -\n",
      "100.64.0.24 - - [05/May/2024 10:55:37] \"GET /static/thumbs/3584_7168.png HTTP/1.1\" 200 -\n",
      "100.64.0.24 - - [05/May/2024 10:55:37] \"GET /static/thumbs/3584_4608.png HTTP/1.1\" 200 -\n",
      "100.64.0.24 - - [05/May/2024 10:55:37] \"GET /static/thumbs/3584_6144.png HTTP/1.1\" 200 -\n",
      "100.64.0.24 - - [05/May/2024 10:55:37] \"GET /static/thumbs/3584_5120.png HTTP/1.1\" 200 -\n",
      "100.64.0.24 - - [05/May/2024 10:55:37] \"GET /static/thumbs/4096_0.png HTTP/1.1\" 200 -\n",
      "100.64.0.24 - - [05/May/2024 10:55:37] \"GET /static/thumbs/4096_1024.png HTTP/1.1\" 200 -\n",
      "100.64.0.24 - - [05/May/2024 10:55:37] \"GET /static/thumbs/4608_1024.png HTTP/1.1\" 200 -\n",
      "100.64.0.24 - - [05/May/2024 10:55:37] \"GET /static/thumbs/4096_3072.png HTTP/1.1\" 200 -\n",
      "100.64.0.24 - - [05/May/2024 10:55:37] \"GET /static/thumbs/4608_0.png HTTP/1.1\" 200 -\n",
      "100.64.0.24 - - [05/May/2024 10:55:37] \"GET /static/thumbs/4096_3584.png HTTP/1.1\" 200 -\n",
      "100.64.0.24 - - [05/May/2024 10:55:37] \"GET /static/thumbs/4096_1536.png HTTP/1.1\" 200 -\n",
      "100.64.0.24 - - [05/May/2024 10:55:37] \"GET /static/thumbs/4096_6144.png HTTP/1.1\" 200 -\n",
      "100.64.0.24 - - [05/May/2024 10:55:37] \"GET /static/thumbs/4096_4608.png HTTP/1.1\" 200 -\n",
      "100.64.0.24 - - [05/May/2024 10:55:37] \"GET /static/thumbs/4096_5120.png HTTP/1.1\" 200 -\n",
      "100.64.0.24 - - [05/May/2024 10:55:37] \"GET /static/thumbs/4096_512.png HTTP/1.1\" 200 -\n",
      "100.64.0.24 - - [05/May/2024 10:55:37] \"GET /static/thumbs/4096_7168.png HTTP/1.1\" 200 -\n",
      "100.64.0.24 - - [05/May/2024 10:55:37] \"GET /static/thumbs/4096_2048.png HTTP/1.1\" 200 -\n",
      "100.64.0.24 - - [05/May/2024 10:55:37] \"GET /static/thumbs/4096_5632.png HTTP/1.1\" 200 -\n",
      "100.64.0.24 - - [05/May/2024 10:55:37] \"GET /static/thumbs/4096_6656.png HTTP/1.1\" 200 -\n",
      "100.64.0.24 - - [05/May/2024 10:55:37] \"GET /static/thumbs/4608_512.png HTTP/1.1\" 200 -\n",
      "100.64.0.24 - - [05/May/2024 10:55:37] \"GET /static/thumbs/4608_1536.png HTTP/1.1\" 200 -\n",
      "100.64.0.24 - - [05/May/2024 10:55:37] \"GET /static/thumbs/4608_2048.png HTTP/1.1\" 200 -\n",
      "100.64.0.24 - - [05/May/2024 10:55:37] \"GET /static/thumbs/4096_2560.png HTTP/1.1\" 200 -\n",
      "100.64.0.24 - - [05/May/2024 10:55:37] \"GET /static/thumbs/4608_2560.png HTTP/1.1\" 200 -\n",
      "100.64.0.24 - - [05/May/2024 10:55:37] \"GET /static/thumbs/4608_3072.png HTTP/1.1\" 200 -\n",
      "100.64.0.24 - - [05/May/2024 10:55:37] \"GET /static/thumbs/4096_4096.png HTTP/1.1\" 200 -\n",
      "100.64.0.24 - - [05/May/2024 10:55:37] \"GET /static/thumbs/4608_4096.png HTTP/1.1\" 200 -\n",
      "100.64.0.24 - - [05/May/2024 10:55:37] \"GET /static/thumbs/4608_5632.png HTTP/1.1\" 200 -\n",
      "100.64.0.24 - - [05/May/2024 10:55:37] \"GET /static/thumbs/4608_5120.png HTTP/1.1\" 200 -\n",
      "100.64.0.24 - - [05/May/2024 10:55:37] \"GET /static/thumbs/4608_3584.png HTTP/1.1\" 200 -\n",
      "100.64.0.24 - - [05/May/2024 10:55:37] \"GET /static/thumbs/4608_4608.png HTTP/1.1\" 200 -\n",
      "100.64.0.24 - - [05/May/2024 10:55:37] \"GET /static/thumbs/4608_6144.png HTTP/1.1\" 200 -\n",
      "100.64.0.24 - - [05/May/2024 10:55:37] \"GET /static/thumbs/4608_6656.png HTTP/1.1\" 200 -\n",
      "100.64.0.24 - - [05/May/2024 10:55:37] \"GET /static/thumbs/5120_0.png HTTP/1.1\" 200 -\n",
      "100.64.0.24 - - [05/May/2024 10:55:37] \"GET /static/thumbs/4608_7168.png HTTP/1.1\" 200 -\n",
      "100.64.0.24 - - [05/May/2024 10:55:37] \"GET /static/thumbs/5120_512.png HTTP/1.1\" 200 -\n",
      "100.64.0.24 - - [05/May/2024 10:55:37] \"GET /static/thumbs/5120_1536.png HTTP/1.1\" 200 -\n",
      "100.64.0.24 - - [05/May/2024 10:55:37] \"GET /static/thumbs/7168_2048.png HTTP/1.1\" 200 -\n",
      "100.64.0.24 - - [05/May/2024 10:55:37] \"GET /static/thumbs/5120_1024.png HTTP/1.1\" 200 -\n",
      "100.64.0.24 - - [05/May/2024 10:55:37] \"GET /static/thumbs/5120_2048.png HTTP/1.1\" 200 -\n",
      "100.64.0.24 - - [05/May/2024 10:55:37] \"GET /static/thumbs/5120_2560.png HTTP/1.1\" 200 -\n",
      "100.64.0.24 - - [05/May/2024 10:55:37] \"GET /static/thumbs/5120_3072.png HTTP/1.1\" 200 -\n",
      "100.64.0.24 - - [05/May/2024 10:55:37] \"GET /static/thumbs/7168_2560.png HTTP/1.1\" 200 -\n",
      "100.64.0.24 - - [05/May/2024 10:55:37] \"GET /static/thumbs/7168_3584.png HTTP/1.1\" 200 -\n",
      "100.64.0.24 - - [05/May/2024 10:55:37] \"GET /static/thumbs/7168_4096.png HTTP/1.1\" 200 -\n",
      "100.64.0.24 - - [05/May/2024 10:55:37] \"GET /static/thumbs/7168_4608.png HTTP/1.1\" 200 -\n",
      "100.64.0.24 - - [05/May/2024 10:55:37] \"GET /static/thumbs/8192_1536.png HTTP/1.1\" 200 -\n",
      "100.64.0.24 - - [05/May/2024 10:55:37] \"GET /static/thumbs/8192_512.png HTTP/1.1\" 200 -\n",
      "100.64.0.24 - - [05/May/2024 10:55:37] \"GET /static/thumbs/8192_1024.png HTTP/1.1\" 200 -\n",
      "100.64.0.24 - - [05/May/2024 10:55:37] \"GET /static/thumbs/6656_6144.png HTTP/1.1\" 200 -\n",
      "100.64.0.24 - - [05/May/2024 10:55:37] \"GET /static/thumbs/7168_3072.png HTTP/1.1\" 200 -\n",
      "100.64.0.24 - - [05/May/2024 10:55:37] \"GET /static/thumbs/6656_6656.png HTTP/1.1\" 200 -\n",
      "100.64.0.24 - - [05/May/2024 10:55:37] \"GET /static/thumbs/6656_5632.png HTTP/1.1\" 200 -\n",
      "100.64.0.24 - - [05/May/2024 10:55:37] \"GET /static/thumbs/7168_0.png HTTP/1.1\" 200 -\n",
      "100.64.0.24 - - [05/May/2024 10:55:37] \"GET /static/thumbs/7680_5120.png HTTP/1.1\" 200 -\n",
      "100.64.0.24 - - [05/May/2024 10:55:37] \"GET /static/thumbs/6656_7168.png HTTP/1.1\" 200 -\n",
      "100.64.0.24 - - [05/May/2024 10:55:37] \"GET /static/thumbs/7680_6144.png HTTP/1.1\" 200 -\n",
      "100.64.0.24 - - [05/May/2024 10:55:37] \"GET /static/thumbs/7680_6656.png HTTP/1.1\" 200 -\n",
      "100.64.0.24 - - [05/May/2024 10:55:37] \"GET /static/thumbs/7680_5632.png HTTP/1.1\" 200 -\n",
      "100.64.0.24 - - [05/May/2024 10:55:37] \"GET /static/thumbs/8192_0.png HTTP/1.1\" 200 -\n",
      "100.64.0.24 - - [05/May/2024 10:55:37] \"GET /static/thumbs/8192_2048.png HTTP/1.1\" 200 -\n",
      "100.64.0.24 - - [05/May/2024 10:55:37] \"GET /static/thumbs/8192_3584.png HTTP/1.1\" 200 -\n",
      "100.64.0.24 - - [05/May/2024 10:55:37] \"GET /static/thumbs/8192_2560.png HTTP/1.1\" 200 -\n",
      "100.64.0.24 - - [05/May/2024 10:55:37] \"GET /static/thumbs/8192_4096.png HTTP/1.1\" 200 -\n",
      "100.64.0.24 - - [05/May/2024 10:55:37] \"GET /static/thumbs/8192_5120.png HTTP/1.1\" 200 -\n",
      "100.64.0.24 - - [05/May/2024 10:55:37] \"GET /static/thumbs/8192_3072.png HTTP/1.1\" 200 -\n",
      "100.64.0.24 - - [05/May/2024 10:55:37] \"GET /static/thumbs/8192_7168.png HTTP/1.1\" 200 -\n",
      "100.64.0.24 - - [05/May/2024 10:55:37] \"GET /static/thumbs/8192_6656.png HTTP/1.1\" 200 -\n",
      "100.64.0.24 - - [05/May/2024 10:55:37] \"GET /static/thumbs/3072_5120.png HTTP/1.1\" 200 -\n",
      "100.64.0.24 - - [05/May/2024 10:55:37] \"GET /static/thumbs/8192_4608.png HTTP/1.1\" 200 -\n",
      "100.64.0.24 - - [05/May/2024 10:55:37] \"GET /static/images/drone.png HTTP/1.1\" 200 -\n",
      "100.64.0.24 - - [05/May/2024 10:55:37] \"GET /static/thumbs/3072_5632.png HTTP/1.1\" 200 -\n",
      "100.64.0.24 - - [05/May/2024 10:55:37] \"GET /static/thumbs/8192_5632.png HTTP/1.1\" 200 -\n",
      "100.64.0.24 - - [05/May/2024 10:55:37] \"GET /static/thumbs/8192_6144.png HTTP/1.1\" 200 -\n",
      "100.64.0.24 - - [05/May/2024 10:55:37] \"GET /static/thumbs/3072_6144.png HTTP/1.1\" 200 -\n",
      "100.64.0.24 - - [05/May/2024 10:55:37] \"GET /static/thumbs/3072_6656.png HTTP/1.1\" 200 -\n",
      "100.64.0.24 - - [05/May/2024 10:55:37] \"GET /static/thumbs/3072_7168.png HTTP/1.1\" 200 -\n",
      "100.64.0.24 - - [05/May/2024 10:55:37] \"GET /static/thumbs/3584_0.png HTTP/1.1\" 200 -\n",
      "100.64.0.24 - - [05/May/2024 10:55:37] \"GET /static/thumbs/5120_3584.png HTTP/1.1\" 200 -\n",
      "100.64.0.24 - - [05/May/2024 10:55:37] \"GET /static/thumbs/3584_512.png HTTP/1.1\" 200 -\n",
      "100.64.0.24 - - [05/May/2024 10:55:37] \"GET /static/thumbs/5120_4096.png HTTP/1.1\" 200 -\n",
      "100.64.0.24 - - [05/May/2024 10:55:37] \"GET /static/thumbs/5120_4608.png HTTP/1.1\" 200 -\n",
      "100.64.0.24 - - [05/May/2024 10:55:37] \"GET /static/thumbs/5120_5120.png HTTP/1.1\" 200 -\n",
      "100.64.0.24 - - [05/May/2024 10:55:37] \"GET /static/thumbs/5120_7168.png HTTP/1.1\" 200 -\n",
      "100.64.0.24 - - [05/May/2024 10:55:37] \"GET /static/thumbs/5120_5632.png HTTP/1.1\" 200 -\n",
      "100.64.0.24 - - [05/May/2024 10:55:37] \"GET /static/thumbs/5632_0.png HTTP/1.1\" 200 -\n",
      "100.64.0.24 - - [05/May/2024 10:55:37] \"GET /static/thumbs/5120_6656.png HTTP/1.1\" 200 -\n",
      "100.64.0.24 - - [05/May/2024 10:55:37] \"GET /static/thumbs/5632_512.png HTTP/1.1\" 200 -\n",
      "100.64.0.24 - - [05/May/2024 10:55:37] \"GET /static/thumbs/5120_6144.png HTTP/1.1\" 200 -\n",
      "100.64.0.24 - - [05/May/2024 10:55:37] \"GET /static/thumbs/5632_1024.png HTTP/1.1\" 200 -\n",
      "100.64.0.24 - - [05/May/2024 10:55:37] \"GET /static/thumbs/5632_2048.png HTTP/1.1\" 200 -\n",
      "100.64.0.24 - - [05/May/2024 10:55:37] \"GET /static/thumbs/5632_1536.png HTTP/1.1\" 200 -\n",
      "100.64.0.24 - - [05/May/2024 10:55:37] \"GET /static/thumbs/5632_2560.png HTTP/1.1\" 200 -\n",
      "100.64.0.24 - - [05/May/2024 10:55:37] \"GET /static/thumbs/5632_3072.png HTTP/1.1\" 200 -\n",
      "100.64.0.24 - - [05/May/2024 10:55:37] \"GET /static/thumbs/5632_3584.png HTTP/1.1\" 200 -\n",
      "100.64.0.24 - - [05/May/2024 10:55:37] \"GET /static/thumbs/5632_4096.png HTTP/1.1\" 200 -\n",
      "100.64.0.24 - - [05/May/2024 10:55:37] \"GET /static/thumbs/5632_5632.png HTTP/1.1\" 200 -\n",
      "100.64.0.24 - - [05/May/2024 10:55:37] \"GET /static/thumbs/5632_4608.png HTTP/1.1\" 200 -\n",
      "100.64.0.24 - - [05/May/2024 10:55:38] \"GET /static/thumbs/5632_6144.png HTTP/1.1\" 200 -\n",
      "100.64.0.24 - - [05/May/2024 10:55:38] \"GET /static/thumbs/5632_5120.png HTTP/1.1\" 200 -\n",
      "100.64.0.24 - - [05/May/2024 10:55:38] \"GET /static/thumbs/5632_6656.png HTTP/1.1\" 200 -\n",
      "100.64.0.24 - - [05/May/2024 10:55:38] \"GET /static/thumbs/5632_7168.png HTTP/1.1\" 200 -\n",
      "100.64.0.24 - - [05/May/2024 10:55:38] \"GET /static/thumbs/6144_0.png HTTP/1.1\" 200 -\n",
      "100.64.0.24 - - [05/May/2024 10:55:38] \"GET /static/thumbs/6144_512.png HTTP/1.1\" 200 -\n",
      "100.64.0.24 - - [05/May/2024 10:55:38] \"GET /static/thumbs/6144_1024.png HTTP/1.1\" 200 -\n",
      "100.64.0.24 - - [05/May/2024 10:55:38] \"GET /static/thumbs/6144_3584.png HTTP/1.1\" 200 -\n",
      "100.64.0.24 - - [05/May/2024 10:55:38] \"GET /static/thumbs/6144_3072.png HTTP/1.1\" 200 -\n",
      "100.64.0.24 - - [05/May/2024 10:55:38] \"GET /static/thumbs/6144_1536.png HTTP/1.1\" 200 -\n",
      "100.64.0.24 - - [05/May/2024 10:55:38] \"GET /static/thumbs/6144_6656.png HTTP/1.1\" 200 -\n",
      "100.64.0.24 - - [05/May/2024 10:55:38] \"GET /static/thumbs/6144_2560.png HTTP/1.1\" 200 -\n",
      "100.64.0.24 - - [05/May/2024 10:55:38] \"GET /static/thumbs/6144_6144.png HTTP/1.1\" 200 -\n",
      "100.64.0.24 - - [05/May/2024 10:55:38] \"GET /static/thumbs/6656_1536.png HTTP/1.1\" 200 -\n",
      "100.64.0.24 - - [05/May/2024 10:55:38] \"GET /static/thumbs/6144_5632.png HTTP/1.1\" 200 -\n",
      "100.64.0.24 - - [05/May/2024 10:55:38] \"GET /static/thumbs/6144_2048.png HTTP/1.1\" 200 -\n",
      "100.64.0.24 - - [05/May/2024 10:55:38] \"GET /static/thumbs/6656_0.png HTTP/1.1\" 200 -\n",
      "100.64.0.24 - - [05/May/2024 10:55:38] \"GET /static/thumbs/6656_1024.png HTTP/1.1\" 200 -\n",
      "100.64.0.24 - - [05/May/2024 10:55:38] \"GET /static/thumbs/6656_512.png HTTP/1.1\" 200 -\n",
      "100.64.0.24 - - [05/May/2024 10:55:38] \"GET /static/thumbs/6656_2048.png HTTP/1.1\" 200 -\n",
      "100.64.0.24 - - [05/May/2024 10:55:38] \"GET /static/thumbs/6144_5120.png HTTP/1.1\" 200 -\n",
      "100.64.0.24 - - [05/May/2024 10:55:38] \"GET /static/thumbs/6656_3072.png HTTP/1.1\" 200 -\n",
      "100.64.0.24 - - [05/May/2024 10:55:38] \"GET /static/thumbs/6656_4096.png HTTP/1.1\" 200 -\n",
      "100.64.0.24 - - [05/May/2024 10:55:38] \"GET /static/thumbs/6656_2560.png HTTP/1.1\" 200 -\n",
      "100.64.0.24 - - [05/May/2024 10:55:38] \"GET /static/thumbs/6144_7168.png HTTP/1.1\" 200 -\n",
      "100.64.0.24 - - [05/May/2024 10:55:38] \"GET /static/thumbs/6656_3584.png HTTP/1.1\" 200 -\n",
      "100.64.0.24 - - [05/May/2024 10:55:38] \"GET /static/thumbs/6656_4608.png HTTP/1.1\" 200 -\n",
      "100.64.0.24 - - [05/May/2024 10:55:38] \"GET /static/thumbs/6656_5120.png HTTP/1.1\" 200 -\n",
      "100.64.0.24 - - [05/May/2024 10:55:38] \"GET /static/thumbs/7168_1024.png HTTP/1.1\" 200 -\n",
      "100.64.0.24 - - [05/May/2024 10:55:38] \"GET /static/thumbs/7168_512.png HTTP/1.1\" 200 -\n",
      "100.64.0.24 - - [05/May/2024 10:55:38] \"GET /static/thumbs/7168_6656.png HTTP/1.1\" 200 -\n",
      "100.64.0.24 - - [05/May/2024 10:55:38] \"GET /static/thumbs/7168_1536.png HTTP/1.1\" 200 -\n",
      "100.64.0.24 - - [05/May/2024 10:55:38] \"GET /static/thumbs/7168_5120.png HTTP/1.1\" 200 -\n",
      "100.64.0.24 - - [05/May/2024 10:55:38] \"GET /static/thumbs/7680_0.png HTTP/1.1\" 200 -\n",
      "100.64.0.24 - - [05/May/2024 10:55:38] \"GET /static/thumbs/7168_6144.png HTTP/1.1\" 200 -\n",
      "100.64.0.24 - - [05/May/2024 10:55:38] \"GET /static/thumbs/7168_5632.png HTTP/1.1\" 200 -\n",
      "100.64.0.24 - - [05/May/2024 10:55:38] \"GET /static/thumbs/7680_1024.png HTTP/1.1\" 200 -\n",
      "100.64.0.24 - - [05/May/2024 10:55:38] \"GET /static/thumbs/7680_4608.png HTTP/1.1\" 200 -\n",
      "100.64.0.24 - - [05/May/2024 10:55:38] \"GET /static/thumbs/7168_7168.png HTTP/1.1\" 200 -\n",
      "100.64.0.24 - - [05/May/2024 10:55:38] \"GET /static/thumbs/7680_2560.png HTTP/1.1\" 200 -\n",
      "100.64.0.24 - - [05/May/2024 10:55:38] \"GET /static/thumbs/7680_3584.png HTTP/1.1\" 200 -\n",
      "100.64.0.24 - - [05/May/2024 10:55:38] \"GET /static/thumbs/7680_3072.png HTTP/1.1\" 200 -\n",
      "100.64.0.24 - - [05/May/2024 10:55:38] \"GET /static/thumbs/7680_2048.png HTTP/1.1\" 200 -\n",
      "100.64.0.24 - - [05/May/2024 10:55:38] \"GET /static/thumbs/7680_512.png HTTP/1.1\" 200 -\n",
      "100.64.0.24 - - [05/May/2024 10:55:38] \"GET /static/thumbs/7680_4096.png HTTP/1.1\" 200 -\n",
      "100.64.0.24 - - [05/May/2024 10:55:38] \"GET /static/thumbs/7680_1536.png HTTP/1.1\" 200 -\n",
      "100.64.0.24 - - [05/May/2024 10:55:39] \"GET /favicon.ico HTTP/1.1\" 404 -\n",
      "100.64.0.24 - - [05/May/2024 10:55:42] \"POST /update_position HTTP/1.1\" 200 -\n",
      "100.64.0.24 - - [05/May/2024 10:55:42] \"POST /update_position HTTP/1.1\" 200 -\n",
      "100.64.0.24 - - [05/May/2024 10:55:42] \"POST /update_position HTTP/1.1\" 200 -\n",
      "100.64.0.24 - - [05/May/2024 10:55:42] \"POST /update_position HTTP/1.1\" 200 -\n",
      "100.64.0.24 - - [05/May/2024 10:55:42] \"POST /update_position HTTP/1.1\" 200 -\n",
      "100.64.0.24 - - [05/May/2024 10:55:42] \"POST /update_position HTTP/1.1\" 200 -\n",
      "100.64.0.24 - - [05/May/2024 10:55:42] \"POST /update_position HTTP/1.1\" 200 -\n",
      "100.64.0.24 - - [05/May/2024 10:55:42] \"POST /update_position HTTP/1.1\" 200 -\n",
      "100.64.0.24 - - [05/May/2024 10:55:42] \"POST /update_position HTTP/1.1\" 200 -\n",
      "100.64.0.24 - - [05/May/2024 10:55:42] \"POST /update_position HTTP/1.1\" 200 -\n",
      "100.64.0.24 - - [05/May/2024 10:55:42] \"POST /update_position HTTP/1.1\" 200 -\n",
      "100.64.0.24 - - [05/May/2024 10:55:42] \"POST /update_position HTTP/1.1\" 200 -\n",
      "100.64.0.24 - - [05/May/2024 10:55:42] \"POST /update_position HTTP/1.1\" 200 -\n"
     ]
    },
    {
     "name": "stdout",
     "output_type": "stream",
     "text": [
      "Overlay moved to position: (512, 0)\n"
     ]
    },
    {
     "name": "stderr",
     "output_type": "stream",
     "text": [
      "100.64.0.24 - - [05/May/2024 10:55:46] \"POST /update_position HTTP/1.1\" 200 -\n",
      "100.64.0.24 - - [05/May/2024 10:55:46] \"POST /update_position HTTP/1.1\" 200 -\n",
      "100.64.0.24 - - [05/May/2024 10:55:46] \"POST /update_position HTTP/1.1\" 200 -\n",
      "100.64.0.24 - - [05/May/2024 10:55:46] \"POST /update_position HTTP/1.1\" 200 -\n",
      "100.64.0.24 - - [05/May/2024 10:55:46] \"POST /update_position HTTP/1.1\" 200 -\n",
      "100.64.0.24 - - [05/May/2024 10:55:46] \"POST /update_position HTTP/1.1\" 200 -\n",
      "100.64.0.24 - - [05/May/2024 10:55:46] \"POST /update_position HTTP/1.1\" 200 -\n",
      "100.64.0.24 - - [05/May/2024 10:55:46] \"POST /update_position HTTP/1.1\" 200 -\n",
      "100.64.0.24 - - [05/May/2024 10:55:47] \"GET /static/tiles/512_0.png HTTP/1.1\" 200 -\n"
     ]
    },
    {
     "name": "stdout",
     "output_type": "stream",
     "text": [
      "Overlay moved to position: (512, 512)\n"
     ]
    },
    {
     "name": "stderr",
     "output_type": "stream",
     "text": [
      "100.64.0.24 - - [05/May/2024 10:55:53] \"POST /update_position HTTP/1.1\" 200 -\n",
      "100.64.0.24 - - [05/May/2024 10:55:53] \"GET /static/tiles/512_512.png HTTP/1.1\" 200 -\n"
     ]
    },
    {
     "name": "stdout",
     "output_type": "stream",
     "text": [
      "Overlay moved to position: (0, 512)\n"
     ]
    },
    {
     "name": "stderr",
     "output_type": "stream",
     "text": [
      "100.64.0.24 - - [05/May/2024 10:55:56] \"POST /update_position HTTP/1.1\" 200 -\n",
      "100.64.0.24 - - [05/May/2024 10:55:57] \"GET /static/tiles/0_512.png HTTP/1.1\" 200 -\n"
     ]
    },
    {
     "name": "stdout",
     "output_type": "stream",
     "text": [
      "Overlay moved to position: (0, 1024)\n"
     ]
    },
    {
     "name": "stderr",
     "output_type": "stream",
     "text": [
      "100.64.0.24 - - [05/May/2024 10:55:59] \"POST /update_position HTTP/1.1\" 200 -\n",
      "100.64.0.24 - - [05/May/2024 10:56:00] \"GET /static/tiles/0_1024.png HTTP/1.1\" 200 -\n"
     ]
    },
    {
     "name": "stdout",
     "output_type": "stream",
     "text": [
      "Overlay moved to position: (0, 1536)\n"
     ]
    },
    {
     "name": "stderr",
     "output_type": "stream",
     "text": [
      "100.64.0.24 - - [05/May/2024 10:56:03] \"POST /update_position HTTP/1.1\" 200 -\n",
      "100.64.0.24 - - [05/May/2024 10:56:03] \"GET /static/tiles/0_1536.png HTTP/1.1\" 200 -\n"
     ]
    },
    {
     "name": "stdout",
     "output_type": "stream",
     "text": [
      "Overlay moved to position: (512, 1536)\n"
     ]
    },
    {
     "name": "stderr",
     "output_type": "stream",
     "text": [
      "100.64.0.24 - - [05/May/2024 10:56:06] \"POST /update_position HTTP/1.1\" 200 -\n",
      "100.64.0.24 - - [05/May/2024 10:56:06] \"GET /static/tiles/512_1536.png HTTP/1.1\" 200 -\n"
     ]
    },
    {
     "name": "stdout",
     "output_type": "stream",
     "text": [
      "Overlay moved to position: (512, 2048)\n",
      "Overlay moved to position: (512, 2560)\n",
      "Overlay moved to position: (512, 3072)\n"
     ]
    },
    {
     "name": "stderr",
     "output_type": "stream",
     "text": [
      "100.64.0.24 - - [05/May/2024 10:56:16] \"POST /update_position HTTP/1.1\" 200 -\n"
     ]
    },
    {
     "name": "stdout",
     "output_type": "stream",
     "text": [
      "Overlay moved to position: (512, 3584)\n"
     ]
    },
    {
     "name": "stderr",
     "output_type": "stream",
     "text": [
      "100.64.0.24 - - [05/May/2024 10:56:17] \"GET /static/tiles/512_2048.png HTTP/1.1\" 200 -\n"
     ]
    },
    {
     "name": "stdout",
     "output_type": "stream",
     "text": [
      "Overlay moved to position: (1024, 3584)\n"
     ]
    },
    {
     "name": "stderr",
     "output_type": "stream",
     "text": [
      "100.64.0.24 - - [05/May/2024 10:56:18] \"POST /update_position HTTP/1.1\" 200 -\n",
      "100.64.0.24 - - [05/May/2024 10:56:18] \"POST /update_position HTTP/1.1\" 200 -\n",
      "100.64.0.24 - - [05/May/2024 10:56:18] \"POST /update_position HTTP/1.1\" 200 -\n"
     ]
    },
    {
     "name": "stdout",
     "output_type": "stream",
     "text": [
      "Overlay moved to position: (1536, 3584)\n",
      "Overlay moved to position: (2048, 3584)\n"
     ]
    },
    {
     "name": "stderr",
     "output_type": "stream",
     "text": [
      "100.64.0.24 - - [05/May/2024 10:56:18] \"GET /static/tiles/512_2560.png HTTP/1.1\" 200 -\n"
     ]
    },
    {
     "name": "stdout",
     "output_type": "stream",
     "text": [
      "Overlay moved to position: (2560, 3584)\n"
     ]
    },
    {
     "name": "stderr",
     "output_type": "stream",
     "text": [
      "100.64.0.24 - - [05/May/2024 10:56:19] \"POST /update_position HTTP/1.1\" 200 -\n",
      "100.64.0.24 - - [05/May/2024 10:56:19] \"POST /update_position HTTP/1.1\" 200 -\n",
      "100.64.0.24 - - [05/May/2024 10:56:19] \"POST /update_position HTTP/1.1\" 200 -\n"
     ]
    },
    {
     "name": "stdout",
     "output_type": "stream",
     "text": [
      "Overlay moved to position: (3072, 3584)\n"
     ]
    },
    {
     "name": "stderr",
     "output_type": "stream",
     "text": [
      "100.64.0.24 - - [05/May/2024 10:56:20] \"GET /static/tiles/1536_3584.png HTTP/1.1\" 200 -\n",
      "100.64.0.24 - - [05/May/2024 10:56:20] \"POST /update_position HTTP/1.1\" 200 -\n",
      "100.64.0.24 - - [05/May/2024 10:56:20] \"POST /update_position HTTP/1.1\" 200 -\n",
      "100.64.0.24 - - [05/May/2024 10:56:21] \"GET /static/tiles/3072_3584.png HTTP/1.1\" 200 -\n"
     ]
    },
    {
     "name": "stdout",
     "output_type": "stream",
     "text": [
      "Overlay moved to position: (3584, 3584)\n"
     ]
    },
    {
     "name": "stderr",
     "output_type": "stream",
     "text": [
      "100.64.0.24 - - [05/May/2024 10:56:21] \"POST /update_position HTTP/1.1\" 200 -\n",
      "100.64.0.24 - - [05/May/2024 10:56:22] \"GET /static/tiles/3584_3584.png HTTP/1.1\" 200 -\n"
     ]
    },
    {
     "name": "stdout",
     "output_type": "stream",
     "text": [
      "Overlay moved to position: (3584, 4096)\n"
     ]
    },
    {
     "name": "stderr",
     "output_type": "stream",
     "text": [
      "100.64.0.24 - - [05/May/2024 10:56:25] \"POST /update_position HTTP/1.1\" 200 -\n",
      "100.64.0.24 - - [05/May/2024 10:56:25] \"GET /static/tiles/3584_4096.png HTTP/1.1\" 200 -\n"
     ]
    },
    {
     "name": "stdout",
     "output_type": "stream",
     "text": [
      "Overlay moved to position: (3584, 4608)\n"
     ]
    },
    {
     "name": "stderr",
     "output_type": "stream",
     "text": [
      "100.64.0.24 - - [05/May/2024 10:56:28] \"POST /update_position HTTP/1.1\" 200 -\n",
      "100.64.0.24 - - [05/May/2024 10:56:29] \"GET /static/tiles/3584_4608.png HTTP/1.1\" 200 -\n"
     ]
    },
    {
     "name": "stdout",
     "output_type": "stream",
     "text": [
      "Overlay moved to position: (3584, 5120)\n",
      "Overlay moved to position: (3584, 5632)\n"
     ]
    },
    {
     "name": "stderr",
     "output_type": "stream",
     "text": [
      "100.64.0.24 - - [05/May/2024 10:56:32] \"POST /update_position HTTP/1.1\" 200 -\n",
      "100.64.0.24 - - [05/May/2024 10:56:32] \"POST /update_position HTTP/1.1\" 200 -\n",
      "100.64.0.24 - - [05/May/2024 10:56:33] \"GET /static/tiles/3584_5120.png HTTP/1.1\" 200 -\n"
     ]
    },
    {
     "name": "stdout",
     "output_type": "stream",
     "text": [
      "Overlay moved to position: (4096, 5632)\n"
     ]
    },
    {
     "name": "stderr",
     "output_type": "stream",
     "text": [
      "100.64.0.24 - - [05/May/2024 10:56:39] \"POST /update_position HTTP/1.1\" 200 -\n",
      "100.64.0.24 - - [05/May/2024 10:56:39] \"GET /static/tiles/4096_5632.png HTTP/1.1\" 200 -\n"
     ]
    },
    {
     "name": "stdout",
     "output_type": "stream",
     "text": [
      "Overlay moved to position: (4096, 5120)\n"
     ]
    },
    {
     "name": "stderr",
     "output_type": "stream",
     "text": [
      "100.64.0.24 - - [05/May/2024 10:56:43] \"POST /update_position HTTP/1.1\" 200 -\n",
      "100.64.0.24 - - [05/May/2024 10:56:43] \"GET /static/tiles/4096_5120.png HTTP/1.1\" 200 -\n"
     ]
    },
    {
     "name": "stdout",
     "output_type": "stream",
     "text": [
      "Overlay moved to position: (4096, 4608)\n"
     ]
    },
    {
     "name": "stderr",
     "output_type": "stream",
     "text": [
      "100.64.0.24 - - [05/May/2024 10:56:46] \"POST /update_position HTTP/1.1\" 200 -\n",
      "100.64.0.24 - - [05/May/2024 10:56:47] \"GET /static/tiles/4096_4608.png HTTP/1.1\" 200 -\n"
     ]
    },
    {
     "name": "stdout",
     "output_type": "stream",
     "text": [
      "Overlay moved to position: (4096, 4096)\n"
     ]
    },
    {
     "name": "stderr",
     "output_type": "stream",
     "text": [
      "100.64.0.24 - - [05/May/2024 10:56:50] \"POST /update_position HTTP/1.1\" 200 -\n",
      "100.64.0.24 - - [05/May/2024 10:56:50] \"GET /static/tiles/4096_4096.png HTTP/1.1\" 200 -\n"
     ]
    },
    {
     "name": "stdout",
     "output_type": "stream",
     "text": [
      "Overlay moved to position: (4096, 3584)\n"
     ]
    },
    {
     "name": "stderr",
     "output_type": "stream",
     "text": [
      "100.64.0.24 - - [05/May/2024 10:56:51] \"POST /update_position HTTP/1.1\" 200 -\n",
      "100.64.0.24 - - [05/May/2024 10:56:52] \"GET /static/tiles/4096_3584.png HTTP/1.1\" 200 -\n"
     ]
    },
    {
     "name": "stdout",
     "output_type": "stream",
     "text": [
      "Overlay moved to position: (4096, 3072)\n"
     ]
    },
    {
     "name": "stderr",
     "output_type": "stream",
     "text": [
      "100.64.0.24 - - [05/May/2024 10:56:53] \"POST /update_position HTTP/1.1\" 200 -\n",
      "100.64.0.24 - - [05/May/2024 10:56:53] \"GET /static/tiles/4096_3072.png HTTP/1.1\" 200 -\n",
      "100.64.0.24 - - [05/May/2024 15:11:48] \"GET / HTTP/1.1\" 200 -\n",
      "100.64.0.24 - - [05/May/2024 15:11:48] \"GET /static/thumbs/0_0.png HTTP/1.1\" 200 -\n",
      "100.64.0.24 - - [05/May/2024 15:11:48] \"GET /static/thumbs/0_512.png HTTP/1.1\" 200 -\n",
      "100.64.0.24 - - [05/May/2024 15:11:48] \"GET /static/thumbs/0_1024.png HTTP/1.1\" 200 -\n",
      "100.64.0.24 - - [05/May/2024 15:11:48] \"GET /static/thumbs/0_4096.png HTTP/1.1\" 200 -\n",
      "100.64.0.24 - - [05/May/2024 15:11:48] \"GET /static/thumbs/0_2560.png HTTP/1.1\" 200 -\n",
      "100.64.0.24 - - [05/May/2024 15:11:48] \"GET /static/thumbs/0_5120.png HTTP/1.1\" 200 -\n",
      "100.64.0.24 - - [05/May/2024 15:11:48] \"GET /static/thumbs/0_3072.png HTTP/1.1\" 200 -\n",
      "100.64.0.24 - - [05/May/2024 15:11:48] \"GET /static/thumbs/0_3584.png HTTP/1.1\" 200 -\n",
      "100.64.0.24 - - [05/May/2024 15:11:48] \"GET /static/thumbs/512_1536.png HTTP/1.1\" 200 -\n",
      "100.64.0.24 - - [05/May/2024 15:11:48] \"GET /static/thumbs/0_4608.png HTTP/1.1\" 200 -\n",
      "100.64.0.24 - - [05/May/2024 15:11:48] \"GET /static/thumbs/0_5632.png HTTP/1.1\" 200 -\n",
      "100.64.0.24 - - [05/May/2024 15:11:48] \"GET /static/thumbs/0_2048.png HTTP/1.1\" 200 -\n",
      "100.64.0.24 - - [05/May/2024 15:11:48] \"GET /static/thumbs/0_6144.png HTTP/1.1\" 200 -\n",
      "100.64.0.24 - - [05/May/2024 15:11:48] \"GET /static/thumbs/0_6656.png HTTP/1.1\" 200 -\n",
      "100.64.0.24 - - [05/May/2024 15:11:48] \"GET /static/thumbs/512_6656.png HTTP/1.1\" 200 -\n",
      "100.64.0.24 - - [05/May/2024 15:11:48] \"GET /static/thumbs/512_5632.png HTTP/1.1\" 200 -\n",
      "100.64.0.24 - - [05/May/2024 15:11:48] \"GET /static/thumbs/512_6144.png HTTP/1.1\" 200 -\n",
      "100.64.0.24 - - [05/May/2024 15:11:48] \"GET /static/thumbs/1024_6144.png HTTP/1.1\" 200 -\n",
      "100.64.0.24 - - [05/May/2024 15:11:48] \"GET /static/thumbs/1536_512.png HTTP/1.1\" 200 -\n",
      "100.64.0.24 - - [05/May/2024 15:11:48] \"GET /static/thumbs/1024_1536.png HTTP/1.1\" 200 -\n",
      "100.64.0.24 - - [05/May/2024 15:11:48] \"GET /static/thumbs/1024_3072.png HTTP/1.1\" 200 -\n",
      "100.64.0.24 - - [05/May/2024 15:11:48] \"GET /static/thumbs/1536_0.png HTTP/1.1\" 200 -\n",
      "100.64.0.24 - - [05/May/2024 15:11:48] \"GET /static/thumbs/512_0.png HTTP/1.1\" 200 -\n",
      "100.64.0.24 - - [05/May/2024 15:11:48] \"GET /static/thumbs/512_2560.png HTTP/1.1\" 200 -\n",
      "100.64.0.24 - - [05/May/2024 15:11:48] \"GET /static/thumbs/1024_4096.png HTTP/1.1\" 200 -\n",
      "100.64.0.24 - - [05/May/2024 15:11:48] \"GET /static/thumbs/1024_512.png HTTP/1.1\" 200 -\n",
      "100.64.0.24 - - [05/May/2024 15:11:48] \"GET /static/thumbs/0_1536.png HTTP/1.1\" 200 -\n",
      "100.64.0.24 - - [05/May/2024 15:11:49] \"GET /static/thumbs/512_3072.png HTTP/1.1\" 200 -\n",
      "100.64.0.24 - - [05/May/2024 15:11:49] \"GET /static/thumbs/512_5120.png HTTP/1.1\" 200 -\n",
      "100.64.0.24 - - [05/May/2024 15:11:49] \"GET /static/thumbs/1024_5120.png HTTP/1.1\" 200 -\n",
      "100.64.0.24 - - [05/May/2024 15:11:49] \"GET /static/thumbs/1024_5632.png HTTP/1.1\" 200 -\n",
      "100.64.0.24 - - [05/May/2024 15:11:49] \"GET /static/thumbs/512_512.png HTTP/1.1\" 200 -\n",
      "100.64.0.24 - - [05/May/2024 15:11:49] \"GET /static/thumbs/1024_6656.png HTTP/1.1\" 200 -\n",
      "100.64.0.24 - - [05/May/2024 15:11:49] \"GET /static/thumbs/512_2048.png HTTP/1.1\" 200 -\n",
      "100.64.0.24 - - [05/May/2024 15:11:49] \"GET /static/thumbs/2048_1536.png HTTP/1.1\" 200 -\n",
      "100.64.0.24 - - [05/May/2024 15:11:49] \"GET /static/thumbs/1024_3584.png HTTP/1.1\" 200 -\n",
      "100.64.0.24 - - [05/May/2024 15:11:49] \"GET /static/thumbs/1024_0.png HTTP/1.1\" 200 -\n",
      "100.64.0.24 - - [05/May/2024 15:11:49] \"GET /static/thumbs/512_4096.png HTTP/1.1\" 200 -\n",
      "100.64.0.24 - - [05/May/2024 15:11:49] \"GET /static/thumbs/1024_2560.png HTTP/1.1\" 200 -\n",
      "100.64.0.24 - - [05/May/2024 15:11:49] \"GET /static/thumbs/2560_1024.png HTTP/1.1\" 200 -\n",
      "100.64.0.24 - - [05/May/2024 15:11:49] \"GET /static/thumbs/512_7168.png HTTP/1.1\" 200 -\n",
      "100.64.0.24 - - [05/May/2024 15:11:49] \"GET /static/thumbs/3072_3584.png HTTP/1.1\" 200 -\n",
      "100.64.0.24 - - [05/May/2024 15:11:49] \"GET /static/thumbs/3072_1536.png HTTP/1.1\" 200 -\n",
      "100.64.0.24 - - [05/May/2024 15:11:49] \"GET /static/thumbs/3072_1024.png HTTP/1.1\" 200 -\n",
      "100.64.0.24 - - [05/May/2024 15:11:49] \"GET /static/thumbs/2048_4096.png HTTP/1.1\" 200 -\n",
      "100.64.0.24 - - [05/May/2024 15:11:49] \"GET /static/thumbs/1536_1536.png HTTP/1.1\" 200 -\n",
      "100.64.0.24 - - [05/May/2024 15:11:49] \"GET /static/thumbs/2560_3584.png HTTP/1.1\" 200 -\n",
      "100.64.0.24 - - [05/May/2024 15:11:49] \"GET /static/thumbs/3072_2560.png HTTP/1.1\" 200 -\n",
      "100.64.0.24 - - [05/May/2024 15:11:49] \"GET /static/thumbs/1536_7168.png HTTP/1.1\" 200 -\n",
      "100.64.0.24 - - [05/May/2024 15:11:49] \"GET /static/thumbs/3072_2048.png HTTP/1.1\" 200 -\n",
      "100.64.0.24 - - [05/May/2024 15:11:49] \"GET /static/thumbs/1536_4096.png HTTP/1.1\" 200 -\n",
      "100.64.0.24 - - [05/May/2024 15:11:49] \"GET /static/thumbs/1536_1024.png HTTP/1.1\" 200 -\n",
      "100.64.0.24 - - [05/May/2024 15:11:49] \"GET /static/thumbs/2048_5120.png HTTP/1.1\" 200 -\n",
      "100.64.0.24 - - [05/May/2024 15:11:49] \"GET /static/thumbs/3072_4096.png HTTP/1.1\" 200 -\n",
      "100.64.0.24 - - [05/May/2024 15:11:49] \"GET /static/thumbs/1536_3072.png HTTP/1.1\" 200 -\n",
      "100.64.0.24 - - [05/May/2024 15:11:49] \"GET /static/thumbs/512_3584.png HTTP/1.1\" 200 -\n",
      "100.64.0.24 - - [05/May/2024 15:11:49] \"GET /static/thumbs/2560_7168.png HTTP/1.1\" 200 -\n",
      "100.64.0.24 - - [05/May/2024 15:11:49] \"GET /static/thumbs/0_7168.png HTTP/1.1\" 200 -\n",
      "100.64.0.24 - - [05/May/2024 15:11:49] \"GET /static/thumbs/3072_512.png HTTP/1.1\" 200 -\n",
      "100.64.0.24 - - [05/May/2024 15:11:49] \"GET /static/thumbs/2048_6144.png HTTP/1.1\" 200 -\n",
      "100.64.0.24 - - [05/May/2024 15:11:49] \"GET /static/thumbs/2560_3072.png HTTP/1.1\" 200 -\n",
      "100.64.0.24 - - [05/May/2024 15:11:49] \"GET /static/thumbs/2560_2048.png HTTP/1.1\" 200 -\n",
      "100.64.0.24 - - [05/May/2024 15:11:49] \"GET /static/thumbs/2560_4096.png HTTP/1.1\" 200 -\n",
      "100.64.0.24 - - [05/May/2024 15:11:49] \"GET /static/thumbs/2560_4608.png HTTP/1.1\" 200 -\n",
      "100.64.0.24 - - [05/May/2024 15:11:49] \"GET /static/thumbs/2560_5120.png HTTP/1.1\" 200 -\n",
      "100.64.0.24 - - [05/May/2024 15:11:49] \"GET /static/thumbs/2560_0.png HTTP/1.1\" 200 -\n",
      "100.64.0.24 - - [05/May/2024 15:11:49] \"GET /static/thumbs/2048_5632.png HTTP/1.1\" 200 -\n",
      "100.64.0.24 - - [05/May/2024 15:11:49] \"GET /static/thumbs/2048_0.png HTTP/1.1\" 200 -\n",
      "100.64.0.24 - - [05/May/2024 15:11:49] \"GET /static/thumbs/2560_6656.png HTTP/1.1\" 200 -\n",
      "100.64.0.24 - - [05/May/2024 15:11:49] \"GET /static/thumbs/1536_3584.png HTTP/1.1\" 200 -\n",
      "100.64.0.24 - - [05/May/2024 15:11:49] \"GET /static/thumbs/3072_3072.png HTTP/1.1\" 200 -\n",
      "100.64.0.24 - - [05/May/2024 15:11:49] \"GET /static/thumbs/3072_0.png HTTP/1.1\" 200 -\n",
      "100.64.0.24 - - [05/May/2024 15:11:49] \"GET /static/thumbs/2560_1536.png HTTP/1.1\" 200 -\n",
      "100.64.0.24 - - [05/May/2024 15:11:49] \"GET /static/thumbs/2048_7168.png HTTP/1.1\" 200 -\n",
      "100.64.0.24 - - [05/May/2024 15:11:49] \"GET /static/thumbs/2048_2560.png HTTP/1.1\" 200 -\n",
      "100.64.0.24 - - [05/May/2024 15:11:49] \"GET /static/thumbs/1024_4608.png HTTP/1.1\" 200 -\n",
      "100.64.0.24 - - [05/May/2024 15:11:49] \"GET /static/thumbs/1024_2048.png HTTP/1.1\" 200 -\n",
      "100.64.0.24 - - [05/May/2024 15:11:49] \"GET /static/thumbs/1536_5632.png HTTP/1.1\" 200 -\n",
      "100.64.0.24 - - [05/May/2024 15:11:49] \"GET /static/thumbs/1536_6144.png HTTP/1.1\" 200 -\n",
      "100.64.0.24 - - [05/May/2024 15:11:49] \"GET /static/thumbs/2560_512.png HTTP/1.1\" 200 -\n",
      "100.64.0.24 - - [05/May/2024 15:11:49] \"GET /static/thumbs/2560_6144.png HTTP/1.1\" 200 -\n",
      "100.64.0.24 - - [05/May/2024 15:11:49] \"GET /static/thumbs/2048_4608.png HTTP/1.1\" 200 -\n",
      "100.64.0.24 - - [05/May/2024 15:11:49] \"GET /static/thumbs/2048_512.png HTTP/1.1\" 200 -\n",
      "100.64.0.24 - - [05/May/2024 15:11:49] \"GET /static/thumbs/2048_2048.png HTTP/1.1\" 200 -\n",
      "100.64.0.24 - - [05/May/2024 15:11:49] \"GET /static/thumbs/3072_6656.png HTTP/1.1\" 200 -\n",
      "100.64.0.24 - - [05/May/2024 15:11:49] \"GET /static/thumbs/1536_6656.png HTTP/1.1\" 200 -\n",
      "100.64.0.24 - - [05/May/2024 15:11:49] \"GET /static/thumbs/1536_2560.png HTTP/1.1\" 200 -\n",
      "100.64.0.24 - - [05/May/2024 15:11:49] \"GET /static/thumbs/1024_1024.png HTTP/1.1\" 200 -\n",
      "100.64.0.24 - - [05/May/2024 15:11:49] \"GET /static/thumbs/512_4608.png HTTP/1.1\" 200 -\n",
      "100.64.0.24 - - [05/May/2024 15:11:49] \"GET /static/thumbs/1536_5120.png HTTP/1.1\" 200 -\n",
      "100.64.0.24 - - [05/May/2024 15:11:49] \"GET /static/thumbs/2048_6656.png HTTP/1.1\" 200 -\n",
      "100.64.0.24 - - [05/May/2024 15:11:49] \"GET /static/thumbs/2560_2560.png HTTP/1.1\" 200 -\n",
      "100.64.0.24 - - [05/May/2024 15:11:49] \"GET /static/thumbs/1536_2048.png HTTP/1.1\" 200 -\n",
      "100.64.0.24 - - [05/May/2024 15:11:49] \"GET /static/thumbs/3072_5632.png HTTP/1.1\" 200 -\n",
      "100.64.0.24 - - [05/May/2024 15:11:49] \"GET /static/thumbs/1024_7168.png HTTP/1.1\" 200 -\n",
      "100.64.0.24 - - [05/May/2024 15:11:49] \"GET /static/thumbs/3072_5120.png HTTP/1.1\" 200 -\n",
      "100.64.0.24 - - [05/May/2024 15:11:49] \"GET /static/thumbs/2560_5632.png HTTP/1.1\" 200 -\n",
      "100.64.0.24 - - [05/May/2024 15:11:49] \"GET /static/thumbs/3072_4608.png HTTP/1.1\" 200 -\n",
      "100.64.0.24 - - [05/May/2024 15:11:49] \"GET /static/thumbs/2048_1024.png HTTP/1.1\" 200 -\n",
      "100.64.0.24 - - [05/May/2024 15:11:49] \"GET /static/thumbs/2048_3584.png HTTP/1.1\" 200 -\n",
      "100.64.0.24 - - [05/May/2024 15:11:49] \"GET /static/thumbs/1536_4608.png HTTP/1.1\" 200 -\n",
      "100.64.0.24 - - [05/May/2024 15:11:49] \"GET /static/thumbs/3072_7168.png HTTP/1.1\" 200 -\n",
      "100.64.0.24 - - [05/May/2024 15:11:49] \"GET /static/thumbs/3584_1024.png HTTP/1.1\" 200 -\n",
      "100.64.0.24 - - [05/May/2024 15:11:49] \"GET /static/thumbs/3584_6656.png HTTP/1.1\" 200 -\n",
      "100.64.0.24 - - [05/May/2024 15:11:49] \"GET /static/thumbs/3584_512.png HTTP/1.1\" 200 -\n",
      "100.64.0.24 - - [05/May/2024 15:11:49] \"GET /static/thumbs/3584_0.png HTTP/1.1\" 200 -\n",
      "100.64.0.24 - - [05/May/2024 15:11:49] \"GET /static/thumbs/3584_6144.png HTTP/1.1\" 200 -\n",
      "100.64.0.24 - - [05/May/2024 15:11:49] \"GET /static/thumbs/3584_1536.png HTTP/1.1\" 200 -\n",
      "100.64.0.24 - - [05/May/2024 15:11:49] \"GET /static/thumbs/3584_5120.png HTTP/1.1\" 200 -\n",
      "100.64.0.24 - - [05/May/2024 15:11:49] \"GET /static/thumbs/4096_3072.png HTTP/1.1\" 200 -\n",
      "100.64.0.24 - - [05/May/2024 15:11:49] \"GET /static/thumbs/4096_2560.png HTTP/1.1\" 200 -\n",
      "100.64.0.24 - - [05/May/2024 15:11:49] \"GET /static/thumbs/3584_5632.png HTTP/1.1\" 200 -\n",
      "100.64.0.24 - - [05/May/2024 15:11:49] \"GET /static/thumbs/4096_5120.png HTTP/1.1\" 200 -\n",
      "100.64.0.24 - - [05/May/2024 15:11:49] \"GET /static/thumbs/4096_4608.png HTTP/1.1\" 200 -\n",
      "100.64.0.24 - - [05/May/2024 15:11:49] \"GET /static/thumbs/4608_0.png HTTP/1.1\" 200 -\n",
      "100.64.0.24 - - [05/May/2024 15:11:49] \"GET /static/thumbs/4096_4096.png HTTP/1.1\" 200 -\n",
      "100.64.0.24 - - [05/May/2024 15:11:49] \"GET /static/thumbs/4608_4096.png HTTP/1.1\" 200 -\n",
      "100.64.0.24 - - [05/May/2024 15:11:49] \"GET /static/thumbs/4096_6656.png HTTP/1.1\" 200 -\n",
      "100.64.0.24 - - [05/May/2024 15:11:49] \"GET /static/thumbs/4608_5632.png HTTP/1.1\" 200 -\n",
      "100.64.0.24 - - [05/May/2024 15:11:49] \"GET /static/thumbs/4608_3584.png HTTP/1.1\" 200 -\n",
      "100.64.0.24 - - [05/May/2024 15:11:49] \"GET /static/thumbs/4608_6656.png HTTP/1.1\" 200 -\n",
      "100.64.0.24 - - [05/May/2024 15:11:49] \"GET /static/thumbs/4608_5120.png HTTP/1.1\" 200 -\n",
      "100.64.0.24 - - [05/May/2024 15:11:49] \"GET /static/thumbs/4096_6144.png HTTP/1.1\" 200 -\n",
      "100.64.0.24 - - [05/May/2024 15:11:49] \"GET /static/thumbs/512_1024.png HTTP/1.1\" 200 -\n",
      "100.64.0.24 - - [05/May/2024 15:11:49] \"GET /static/thumbs/4608_7168.png HTTP/1.1\" 200 -\n",
      "100.64.0.24 - - [05/May/2024 15:11:49] \"GET /static/thumbs/5120_512.png HTTP/1.1\" 200 -\n",
      "100.64.0.24 - - [05/May/2024 15:11:49] \"GET /static/thumbs/5120_0.png HTTP/1.1\" 200 -\n",
      "100.64.0.24 - - [05/May/2024 15:11:49] \"GET /static/thumbs/5120_1536.png HTTP/1.1\" 200 -\n",
      "100.64.0.24 - - [05/May/2024 15:11:49] \"GET /static/thumbs/5120_2560.png HTTP/1.1\" 200 -\n",
      "100.64.0.24 - - [05/May/2024 15:11:49] \"GET /static/thumbs/5120_5632.png HTTP/1.1\" 200 -\n",
      "100.64.0.24 - - [05/May/2024 15:11:49] \"GET /static/thumbs/5120_2048.png HTTP/1.1\" 200 -\n",
      "100.64.0.24 - - [05/May/2024 15:11:49] \"GET /static/thumbs/5120_5120.png HTTP/1.1\" 200 -\n",
      "100.64.0.24 - - [05/May/2024 15:11:49] \"GET /static/thumbs/5120_4608.png HTTP/1.1\" 200 -\n",
      "100.64.0.24 - - [05/May/2024 15:11:49] \"GET /static/thumbs/5632_0.png HTTP/1.1\" 200 -\n",
      "100.64.0.24 - - [05/May/2024 15:11:49] \"GET /static/thumbs/5632_1536.png HTTP/1.1\" 200 -\n",
      "100.64.0.24 - - [05/May/2024 15:11:49] \"GET /static/thumbs/5632_512.png HTTP/1.1\" 200 -\n",
      "100.64.0.24 - - [05/May/2024 15:11:49] \"GET /static/thumbs/5632_2560.png HTTP/1.1\" 200 -\n",
      "100.64.0.24 - - [05/May/2024 15:11:49] \"GET /static/thumbs/5632_5120.png HTTP/1.1\" 200 -\n",
      "100.64.0.24 - - [05/May/2024 15:11:49] \"GET /static/thumbs/5632_4096.png HTTP/1.1\" 200 -\n",
      "100.64.0.24 - - [05/May/2024 15:11:49] \"GET /static/thumbs/5632_3584.png HTTP/1.1\" 200 -\n",
      "100.64.0.24 - - [05/May/2024 15:11:49] \"GET /static/thumbs/6144_1024.png HTTP/1.1\" 200 -\n",
      "100.64.0.24 - - [05/May/2024 15:11:49] \"GET /static/thumbs/5632_3072.png HTTP/1.1\" 200 -\n",
      "100.64.0.24 - - [05/May/2024 15:11:49] \"GET /static/thumbs/5632_4608.png HTTP/1.1\" 200 -\n",
      "100.64.0.24 - - [05/May/2024 15:11:49] \"GET /static/thumbs/6144_2048.png HTTP/1.1\" 200 -\n",
      "100.64.0.24 - - [05/May/2024 15:11:49] \"GET /static/thumbs/6144_1536.png HTTP/1.1\" 200 -\n",
      "100.64.0.24 - - [05/May/2024 15:11:49] \"GET /static/thumbs/6144_2560.png HTTP/1.1\" 200 -\n",
      "100.64.0.24 - - [05/May/2024 15:11:49] \"GET /static/thumbs/6144_4096.png HTTP/1.1\" 200 -\n",
      "100.64.0.24 - - [05/May/2024 15:11:49] \"GET /static/thumbs/6144_3584.png HTTP/1.1\" 200 -\n",
      "100.64.0.24 - - [05/May/2024 15:11:49] \"GET /static/thumbs/6144_3072.png HTTP/1.1\" 200 -\n",
      "100.64.0.24 - - [05/May/2024 15:11:49] \"GET /static/thumbs/7168_0.png HTTP/1.1\" 200 -\n",
      "100.64.0.24 - - [05/May/2024 15:11:49] \"GET /static/thumbs/6144_5632.png HTTP/1.1\" 200 -\n",
      "100.64.0.24 - - [05/May/2024 15:11:49] \"GET /static/thumbs/7168_3584.png HTTP/1.1\" 200 -\n",
      "100.64.0.24 - - [05/May/2024 15:11:49] \"GET /static/thumbs/7680_4608.png HTTP/1.1\" 200 -\n",
      "100.64.0.24 - - [05/May/2024 15:11:49] \"GET /static/thumbs/8192_1024.png HTTP/1.1\" 200 -\n",
      "100.64.0.24 - - [05/May/2024 15:11:49] \"GET /static/thumbs/6144_6656.png HTTP/1.1\" 200 -\n",
      "100.64.0.24 - - [05/May/2024 15:11:49] \"GET /static/thumbs/6656_3072.png HTTP/1.1\" 200 -\n",
      "100.64.0.24 - - [05/May/2024 15:11:49] \"GET /static/thumbs/6656_3584.png HTTP/1.1\" 200 -\n",
      "100.64.0.24 - - [05/May/2024 15:11:49] \"GET /static/thumbs/6656_4096.png HTTP/1.1\" 200 -\n",
      "100.64.0.24 - - [05/May/2024 15:11:49] \"GET /static/thumbs/8192_1536.png HTTP/1.1\" 200 -\n",
      "100.64.0.24 - - [05/May/2024 15:11:49] \"GET /static/thumbs/4096_7168.png HTTP/1.1\" 200 -\n",
      "100.64.0.24 - - [05/May/2024 15:11:49] \"GET /static/thumbs/7680_1536.png HTTP/1.1\" 200 -\n",
      "100.64.0.24 - - [05/May/2024 15:11:49] \"GET /static/thumbs/7168_3072.png HTTP/1.1\" 200 -\n",
      "100.64.0.24 - - [05/May/2024 15:11:49] \"GET /static/thumbs/7680_1024.png HTTP/1.1\" 200 -\n",
      "100.64.0.24 - - [05/May/2024 15:11:49] \"GET /static/thumbs/6144_6144.png HTTP/1.1\" 200 -\n",
      "100.64.0.24 - - [05/May/2024 15:11:49] \"GET /static/thumbs/7168_5120.png HTTP/1.1\" 200 -\n",
      "100.64.0.24 - - [05/May/2024 15:11:49] \"GET /static/thumbs/7168_512.png HTTP/1.1\" 200 -\n",
      "100.64.0.24 - - [05/May/2024 15:11:49] \"GET /static/thumbs/7168_1024.png HTTP/1.1\" 200 -\n",
      "100.64.0.24 - - [05/May/2024 15:11:49] \"GET /static/thumbs/7168_4096.png HTTP/1.1\" 200 -\n",
      "100.64.0.24 - - [05/May/2024 15:11:49] \"GET /static/thumbs/7680_5632.png HTTP/1.1\" 200 -\n",
      "100.64.0.24 - - [05/May/2024 15:11:49] \"GET /static/thumbs/7680_512.png HTTP/1.1\" 200 -\n",
      "100.64.0.24 - - [05/May/2024 15:11:49] \"GET /static/thumbs/8192_5632.png HTTP/1.1\" 200 -\n",
      "100.64.0.24 - - [05/May/2024 15:11:49] \"GET /static/thumbs/7168_4608.png HTTP/1.1\" 200 -\n",
      "100.64.0.24 - - [05/May/2024 15:11:49] \"GET /static/thumbs/7680_2560.png HTTP/1.1\" 200 -\n",
      "100.64.0.24 - - [05/May/2024 15:11:49] \"GET /static/thumbs/7680_5120.png HTTP/1.1\" 200 -\n",
      "100.64.0.24 - - [05/May/2024 15:11:49] \"GET /static/thumbs/8192_2048.png HTTP/1.1\" 200 -\n",
      "100.64.0.24 - - [05/May/2024 15:11:49] \"GET /static/thumbs/7680_2048.png HTTP/1.1\" 200 -\n",
      "100.64.0.24 - - [05/May/2024 15:11:49] \"GET /static/thumbs/6656_2560.png HTTP/1.1\" 200 -\n",
      "100.64.0.24 - - [05/May/2024 15:11:49] \"GET /static/thumbs/6656_2048.png HTTP/1.1\" 200 -\n",
      "100.64.0.24 - - [05/May/2024 15:11:49] \"GET /static/thumbs/6144_5120.png HTTP/1.1\" 200 -\n",
      "100.64.0.24 - - [05/May/2024 15:11:49] \"GET /static/thumbs/3584_2048.png HTTP/1.1\" 200 -\n",
      "100.64.0.24 - - [05/May/2024 15:11:49] \"GET /static/thumbs/7680_6144.png HTTP/1.1\" 200 -\n",
      "100.64.0.24 - - [05/May/2024 15:11:49] \"GET /static/thumbs/8192_7168.png HTTP/1.1\" 200 -\n",
      "100.64.0.24 - - [05/May/2024 15:11:49] \"GET /static/thumbs/3072_6144.png HTTP/1.1\" 200 -\n",
      "100.64.0.24 - - [05/May/2024 15:11:49] \"GET /static/thumbs/6656_1024.png HTTP/1.1\" 200 -\n",
      "100.64.0.24 - - [05/May/2024 15:11:49] \"GET /static/thumbs/8192_3072.png HTTP/1.1\" 200 -\n",
      "100.64.0.24 - - [05/May/2024 15:11:49] \"GET /static/thumbs/7168_2048.png HTTP/1.1\" 200 -\n",
      "100.64.0.24 - - [05/May/2024 15:11:49] \"GET /static/thumbs/6656_5120.png HTTP/1.1\" 200 -\n",
      "100.64.0.24 - - [05/May/2024 15:11:49] \"GET /static/thumbs/5632_7168.png HTTP/1.1\" 200 -\n",
      "100.64.0.24 - - [05/May/2024 15:11:49] \"GET /static/thumbs/3584_3072.png HTTP/1.1\" 200 -\n",
      "100.64.0.24 - - [05/May/2024 15:11:49] \"GET /static/thumbs/3584_2560.png HTTP/1.1\" 200 -\n",
      "100.64.0.24 - - [05/May/2024 15:11:50] \"GET /static/thumbs/6656_0.png HTTP/1.1\" 200 -\n",
      "100.64.0.24 - - [05/May/2024 15:11:50] \"GET /static/thumbs/6144_512.png HTTP/1.1\" 200 -\n",
      "100.64.0.24 - - [05/May/2024 15:11:50] \"GET /static/thumbs/6656_5632.png HTTP/1.1\" 200 -\n",
      "100.64.0.24 - - [05/May/2024 15:11:50] \"GET /static/thumbs/6656_4608.png HTTP/1.1\" 200 -\n",
      "100.64.0.24 - - [05/May/2024 15:11:50] \"GET /static/thumbs/8192_4608.png HTTP/1.1\" 200 -\n",
      "100.64.0.24 - - [05/May/2024 15:11:50] \"GET /static/thumbs/7680_4096.png HTTP/1.1\" 200 -\n",
      "100.64.0.24 - - [05/May/2024 15:11:50] \"GET /static/thumbs/6144_4608.png HTTP/1.1\" 200 -\n",
      "100.64.0.24 - - [05/May/2024 15:11:50] \"GET /static/thumbs/7680_3584.png HTTP/1.1\" 200 -\n",
      "100.64.0.24 - - [05/May/2024 15:11:50] \"GET /static/thumbs/6656_512.png HTTP/1.1\" 200 -\n",
      "100.64.0.24 - - [05/May/2024 15:11:50] \"GET /static/thumbs/4096_5632.png HTTP/1.1\" 200 -\n",
      "100.64.0.24 - - [05/May/2024 15:11:50] \"GET /static/thumbs/6144_7168.png HTTP/1.1\" 200 -\n",
      "100.64.0.24 - - [05/May/2024 15:11:50] \"GET /static/thumbs/7680_6656.png HTTP/1.1\" 200 -\n",
      "100.64.0.24 - - [05/May/2024 15:11:50] \"GET /static/thumbs/8192_6144.png HTTP/1.1\" 200 -\n",
      "100.64.0.24 - - [05/May/2024 15:11:50] \"GET /static/thumbs/3584_3584.png HTTP/1.1\" 200 -\n",
      "100.64.0.24 - - [05/May/2024 15:11:50] \"GET /static/thumbs/4096_2048.png HTTP/1.1\" 200 -\n",
      "100.64.0.24 - - [05/May/2024 15:11:50] \"GET /static/thumbs/7680_7168.png HTTP/1.1\" 200 -\n",
      "100.64.0.24 - - [05/May/2024 15:11:50] \"GET /static/thumbs/6656_7168.png HTTP/1.1\" 200 -\n",
      "100.64.0.24 - - [05/May/2024 15:11:50] \"GET /static/thumbs/5632_5632.png HTTP/1.1\" 200 -\n",
      "100.64.0.24 - - [05/May/2024 15:11:50] \"GET /static/thumbs/5632_6656.png HTTP/1.1\" 200 -\n",
      "100.64.0.24 - - [05/May/2024 15:11:50] \"GET /static/images/drone.png HTTP/1.1\" 200 -\n",
      "100.64.0.24 - - [05/May/2024 15:11:50] \"GET /static/thumbs/8192_2560.png HTTP/1.1\" 200 -\n",
      "100.64.0.24 - - [05/May/2024 15:11:50] \"GET /static/thumbs/6144_0.png HTTP/1.1\" 200 -\n",
      "100.64.0.24 - - [05/May/2024 15:11:50] \"GET /static/thumbs/6656_1536.png HTTP/1.1\" 200 -\n",
      "100.64.0.24 - - [05/May/2024 15:11:50] \"GET /static/thumbs/4096_0.png HTTP/1.1\" 200 -\n",
      "100.64.0.24 - - [05/May/2024 15:11:50] \"GET /static/thumbs/4096_512.png HTTP/1.1\" 200 -\n",
      "100.64.0.24 - - [05/May/2024 15:11:50] \"GET /static/thumbs/7168_7168.png HTTP/1.1\" 200 -\n",
      "100.64.0.24 - - [05/May/2024 15:11:50] \"GET /static/thumbs/2048_3072.png HTTP/1.1\" 200 -\n",
      "100.64.0.24 - - [05/May/2024 15:11:50] \"GET /static/thumbs/5632_6144.png HTTP/1.1\" 200 -\n",
      "100.64.0.24 - - [05/May/2024 15:11:50] \"GET /static/thumbs/4096_1536.png HTTP/1.1\" 200 -\n",
      "100.64.0.24 - - [05/May/2024 15:11:50] \"GET /static/thumbs/8192_5120.png HTTP/1.1\" 200 -\n",
      "100.64.0.24 - - [05/May/2024 15:11:50] \"GET /static/thumbs/7168_5632.png HTTP/1.1\" 200 -\n",
      "100.64.0.24 - - [05/May/2024 15:11:50] \"GET /static/thumbs/8192_6656.png HTTP/1.1\" 200 -\n",
      "100.64.0.24 - - [05/May/2024 15:11:50] \"GET /static/thumbs/7680_3072.png HTTP/1.1\" 200 -\n",
      "100.64.0.24 - - [05/May/2024 15:11:50] \"GET /static/thumbs/6656_6144.png HTTP/1.1\" 200 -\n",
      "100.64.0.24 - - [05/May/2024 15:11:50] \"GET /static/thumbs/4096_1024.png HTTP/1.1\" 200 -\n",
      "100.64.0.24 - - [05/May/2024 15:11:50] \"GET /static/thumbs/3584_4608.png HTTP/1.1\" 200 -\n",
      "100.64.0.24 - - [05/May/2024 15:11:50] \"GET /static/thumbs/3584_4096.png HTTP/1.1\" 200 -\n",
      "100.64.0.24 - - [05/May/2024 15:11:50] \"GET /static/thumbs/4608_1536.png HTTP/1.1\" 200 -\n",
      "100.64.0.24 - - [05/May/2024 15:11:50] \"GET /static/thumbs/6656_6656.png HTTP/1.1\" 200 -\n",
      "100.64.0.24 - - [05/May/2024 15:11:50] \"GET /static/thumbs/4608_2048.png HTTP/1.1\" 200 -\n",
      "100.64.0.24 - - [05/May/2024 15:11:50] \"GET /static/thumbs/3584_7168.png HTTP/1.1\" 200 -\n",
      "100.64.0.24 - - [05/May/2024 15:11:50] \"GET /static/thumbs/4608_2560.png HTTP/1.1\" 200 -\n",
      "100.64.0.24 - - [05/May/2024 15:11:50] \"GET /static/thumbs/7680_0.png HTTP/1.1\" 200 -\n",
      "100.64.0.24 - - [05/May/2024 15:11:50] \"GET /static/thumbs/4096_3584.png HTTP/1.1\" 200 -\n",
      "100.64.0.24 - - [05/May/2024 15:11:50] \"GET /static/thumbs/7168_2560.png HTTP/1.1\" 200 -\n",
      "100.64.0.24 - - [05/May/2024 15:11:50] \"GET /static/thumbs/7168_1536.png HTTP/1.1\" 200 -\n",
      "100.64.0.24 - - [05/May/2024 15:11:50] \"GET /static/thumbs/7168_6144.png HTTP/1.1\" 200 -\n",
      "100.64.0.24 - - [05/May/2024 15:11:50] \"GET /static/thumbs/4608_512.png HTTP/1.1\" 200 -\n",
      "100.64.0.24 - - [05/May/2024 15:11:50] \"GET /static/thumbs/8192_4096.png HTTP/1.1\" 200 -\n",
      "100.64.0.24 - - [05/May/2024 15:11:50] \"GET /static/thumbs/4608_1024.png HTTP/1.1\" 200 -\n",
      "100.64.0.24 - - [05/May/2024 15:11:50] \"GET /static/thumbs/5120_3072.png HTTP/1.1\" 200 -\n",
      "100.64.0.24 - - [05/May/2024 15:11:50] \"GET /static/thumbs/8192_3584.png HTTP/1.1\" 200 -\n",
      "100.64.0.24 - - [05/May/2024 15:11:50] \"GET /static/thumbs/5120_3584.png HTTP/1.1\" 200 -\n",
      "100.64.0.24 - - [05/May/2024 15:11:50] \"GET /static/thumbs/4608_6144.png HTTP/1.1\" 200 -\n",
      "100.64.0.24 - - [05/May/2024 15:11:50] \"GET /static/thumbs/5120_1024.png HTTP/1.1\" 200 -\n",
      "100.64.0.24 - - [05/May/2024 15:11:50] \"GET /static/thumbs/5120_6656.png HTTP/1.1\" 200 -\n",
      "100.64.0.24 - - [05/May/2024 15:11:50] \"GET /static/thumbs/5120_7168.png HTTP/1.1\" 200 -\n",
      "100.64.0.24 - - [05/May/2024 15:11:50] \"GET /static/thumbs/4608_3072.png HTTP/1.1\" 200 -\n",
      "100.64.0.24 - - [05/May/2024 15:11:50] \"GET /static/thumbs/5120_4096.png HTTP/1.1\" 200 -\n",
      "100.64.0.24 - - [05/May/2024 15:11:50] \"GET /static/thumbs/8192_0.png HTTP/1.1\" 200 -\n",
      "100.64.0.24 - - [05/May/2024 15:11:50] \"GET /static/thumbs/5120_6144.png HTTP/1.1\" 200 -\n",
      "100.64.0.24 - - [05/May/2024 15:11:50] \"GET /static/thumbs/5632_1024.png HTTP/1.1\" 200 -\n",
      "100.64.0.24 - - [05/May/2024 15:11:50] \"GET /static/thumbs/7168_6656.png HTTP/1.1\" 200 -\n",
      "100.64.0.24 - - [05/May/2024 15:11:50] \"GET /static/thumbs/5632_2048.png HTTP/1.1\" 200 -\n",
      "100.64.0.24 - - [05/May/2024 15:11:50] \"GET /static/thumbs/4608_4608.png HTTP/1.1\" 200 -\n",
      "100.64.0.24 - - [05/May/2024 15:11:50] \"GET /static/thumbs/8192_512.png HTTP/1.1\" 200 -\n",
      "100.64.0.24 - - [05/May/2024 15:11:51] \"GET /favicon.ico HTTP/1.1\" 404 -\n",
      "100.64.0.24 - - [05/May/2024 15:34:07] \"GET / HTTP/1.1\" 200 -\n",
      "100.64.0.24 - - [05/May/2024 15:34:08] \"GET /static/thumbs/0_5120.png HTTP/1.1\" 200 -\n",
      "100.64.0.24 - - [05/May/2024 15:34:08] \"GET /static/thumbs/512_6144.png HTTP/1.1\" 200 -\n",
      "100.64.0.24 - - [05/May/2024 15:34:08] \"GET /static/thumbs/0_4096.png HTTP/1.1\" 200 -\n",
      "100.64.0.24 - - [05/May/2024 15:34:08] \"GET /static/thumbs/0_0.png HTTP/1.1\" 200 -\n",
      "100.64.0.24 - - [05/May/2024 15:34:08] \"GET /static/thumbs/0_3072.png HTTP/1.1\" 200 -\n",
      "100.64.0.24 - - [05/May/2024 15:34:08] \"GET /static/thumbs/512_2048.png HTTP/1.1\" 200 -\n",
      "100.64.0.24 - - [05/May/2024 15:34:08] \"GET /static/thumbs/512_0.png HTTP/1.1\" 200 -\n",
      "100.64.0.24 - - [05/May/2024 15:34:08] \"GET /static/thumbs/0_6656.png HTTP/1.1\" 200 -\n",
      "100.64.0.24 - - [05/May/2024 15:34:08] \"GET /static/thumbs/512_2560.png HTTP/1.1\" 200 -\n",
      "100.64.0.24 - - [05/May/2024 15:34:08] \"GET /static/thumbs/512_5120.png HTTP/1.1\" 200 -\n",
      "100.64.0.24 - - [05/May/2024 15:34:08] \"GET /static/thumbs/512_3072.png HTTP/1.1\" 200 -\n",
      "100.64.0.24 - - [05/May/2024 15:34:08] \"GET /static/thumbs/512_1024.png HTTP/1.1\" 200 -\n",
      "100.64.0.24 - - [05/May/2024 15:34:08] \"GET /static/thumbs/512_1536.png HTTP/1.1\" 200 -\n",
      "100.64.0.24 - - [05/May/2024 15:34:08] \"GET /static/thumbs/0_512.png HTTP/1.1\" 200 -\n",
      "100.64.0.24 - - [05/May/2024 15:34:08] \"GET /static/thumbs/0_7168.png HTTP/1.1\" 200 -\n",
      "100.64.0.24 - - [05/May/2024 15:34:08] \"GET /static/thumbs/512_4608.png HTTP/1.1\" 200 -\n",
      "100.64.0.24 - - [05/May/2024 15:34:08] \"GET /static/thumbs/512_7168.png HTTP/1.1\" 200 -\n",
      "100.64.0.24 - - [05/May/2024 15:34:08] \"GET /static/thumbs/0_2048.png HTTP/1.1\" 200 -\n",
      "100.64.0.24 - - [05/May/2024 15:34:08] \"GET /static/thumbs/0_3584.png HTTP/1.1\" 200 -\n",
      "100.64.0.24 - - [05/May/2024 15:34:08] \"GET /static/thumbs/512_5632.png HTTP/1.1\" 200 -\n",
      "100.64.0.24 - - [05/May/2024 15:34:08] \"GET /static/thumbs/0_2560.png HTTP/1.1\" 200 -\n",
      "100.64.0.24 - - [05/May/2024 15:34:08] \"GET /static/thumbs/0_1536.png HTTP/1.1\" 200 -\n",
      "100.64.0.24 - - [05/May/2024 15:34:08] \"GET /static/thumbs/0_1024.png HTTP/1.1\" 200 -\n",
      "100.64.0.24 - - [05/May/2024 15:34:08] \"GET /static/thumbs/0_4608.png HTTP/1.1\" 200 -\n",
      "100.64.0.24 - - [05/May/2024 15:34:08] \"GET /static/thumbs/3072_1536.png HTTP/1.1\" 200 -\n",
      "100.64.0.24 - - [05/May/2024 15:34:08] \"GET /static/thumbs/1024_0.png HTTP/1.1\" 200 -\n",
      "100.64.0.24 - - [05/May/2024 15:34:08] \"GET /static/thumbs/1024_3072.png HTTP/1.1\" 200 -\n",
      "100.64.0.24 - - [05/May/2024 15:34:08] \"GET /static/thumbs/0_5632.png HTTP/1.1\" 200 -\n",
      "100.64.0.24 - - [05/May/2024 15:34:08] \"GET /static/thumbs/3072_3072.png HTTP/1.1\" 200 -\n",
      "100.64.0.24 - - [05/May/2024 15:34:08] \"GET /static/thumbs/1536_5632.png HTTP/1.1\" 200 -\n",
      "100.64.0.24 - - [05/May/2024 15:34:08] \"GET /static/thumbs/2560_4608.png HTTP/1.1\" 200 -\n",
      "100.64.0.24 - - [05/May/2024 15:34:08] \"GET /static/thumbs/3072_4608.png HTTP/1.1\" 200 -\n",
      "100.64.0.24 - - [05/May/2024 15:34:08] \"GET /static/thumbs/1536_1024.png HTTP/1.1\" 200 -\n",
      "100.64.0.24 - - [05/May/2024 15:34:08] \"GET /static/thumbs/2560_6656.png HTTP/1.1\" 200 -\n",
      "100.64.0.24 - - [05/May/2024 15:34:08] \"GET /static/thumbs/3072_2048.png HTTP/1.1\" 200 -\n",
      "100.64.0.24 - - [05/May/2024 15:34:08] \"GET /static/thumbs/2048_1536.png HTTP/1.1\" 200 -\n",
      "100.64.0.24 - - [05/May/2024 15:34:08] \"GET /static/thumbs/2048_6656.png HTTP/1.1\" 200 -\n",
      "100.64.0.24 - - [05/May/2024 15:34:08] \"GET /static/thumbs/2560_3072.png HTTP/1.1\" 200 -\n",
      "100.64.0.24 - - [05/May/2024 15:34:08] \"GET /static/thumbs/2560_6144.png HTTP/1.1\" 200 -\n",
      "100.64.0.24 - - [05/May/2024 15:34:08] \"GET /static/thumbs/2560_5120.png HTTP/1.1\" 200 -\n",
      "100.64.0.24 - - [05/May/2024 15:34:08] \"GET /static/thumbs/2560_0.png HTTP/1.1\" 200 -\n",
      "100.64.0.24 - - [05/May/2024 15:34:08] \"GET /static/thumbs/3072_512.png HTTP/1.1\" 200 -\n",
      "100.64.0.24 - - [05/May/2024 15:34:08] \"GET /static/thumbs/3072_3584.png HTTP/1.1\" 200 -\n",
      "100.64.0.24 - - [05/May/2024 15:34:08] \"GET /static/thumbs/2048_3584.png HTTP/1.1\" 200 -\n",
      "100.64.0.24 - - [05/May/2024 15:34:08] \"GET /static/thumbs/1536_6144.png HTTP/1.1\" 200 -\n",
      "100.64.0.24 - - [05/May/2024 15:34:08] \"GET /static/thumbs/2048_4096.png HTTP/1.1\" 200 -\n",
      "100.64.0.24 - - [05/May/2024 15:34:08] \"GET /static/thumbs/1024_5120.png HTTP/1.1\" 200 -\n",
      "100.64.0.24 - - [05/May/2024 15:34:08] \"GET /static/thumbs/2560_2048.png HTTP/1.1\" 200 -\n",
      "100.64.0.24 - - [05/May/2024 15:34:08] \"GET /static/thumbs/2560_5632.png HTTP/1.1\" 200 -\n",
      "100.64.0.24 - - [05/May/2024 15:34:08] \"GET /static/thumbs/1536_2048.png HTTP/1.1\" 200 -\n",
      "100.64.0.24 - - [05/May/2024 15:34:08] \"GET /static/thumbs/3072_4096.png HTTP/1.1\" 200 -\n",
      "100.64.0.24 - - [05/May/2024 15:34:08] \"GET /static/thumbs/3072_1024.png HTTP/1.1\" 200 -\n",
      "100.64.0.24 - - [05/May/2024 15:34:08] \"GET /static/thumbs/1536_4608.png HTTP/1.1\" 200 -\n",
      "100.64.0.24 - - [05/May/2024 15:34:08] \"GET /static/thumbs/1536_6656.png HTTP/1.1\" 200 -\n",
      "100.64.0.24 - - [05/May/2024 15:34:08] \"GET /static/thumbs/1024_6656.png HTTP/1.1\" 200 -\n",
      "100.64.0.24 - - [05/May/2024 15:34:08] \"GET /static/thumbs/2560_1536.png HTTP/1.1\" 200 -\n",
      "100.64.0.24 - - [05/May/2024 15:34:08] \"GET /static/thumbs/1536_1536.png HTTP/1.1\" 200 -\n",
      "100.64.0.24 - - [05/May/2024 15:34:08] \"GET /static/thumbs/2560_4096.png HTTP/1.1\" 200 -\n",
      "100.64.0.24 - - [05/May/2024 15:34:08] \"GET /static/thumbs/512_512.png HTTP/1.1\" 200 -\n",
      "100.64.0.24 - - [05/May/2024 15:34:08] \"GET /static/thumbs/2048_0.png HTTP/1.1\" 200 -\n",
      "100.64.0.24 - - [05/May/2024 15:34:08] \"GET /static/thumbs/2560_3584.png HTTP/1.1\" 200 -\n",
      "100.64.0.24 - - [05/May/2024 15:34:08] \"GET /static/thumbs/2048_6144.png HTTP/1.1\" 200 -\n",
      "100.64.0.24 - - [05/May/2024 15:34:08] \"GET /static/thumbs/2560_2560.png HTTP/1.1\" 200 -\n",
      "100.64.0.24 - - [05/May/2024 15:34:08] \"GET /static/thumbs/3072_2560.png HTTP/1.1\" 200 -\n",
      "100.64.0.24 - - [05/May/2024 15:34:08] \"GET /static/thumbs/2560_7168.png HTTP/1.1\" 200 -\n",
      "100.64.0.24 - - [05/May/2024 15:34:08] \"GET /static/thumbs/2560_512.png HTTP/1.1\" 200 -\n",
      "100.64.0.24 - - [05/May/2024 15:34:08] \"GET /static/thumbs/1024_5632.png HTTP/1.1\" 200 -\n",
      "100.64.0.24 - - [05/May/2024 15:34:08] \"GET /static/thumbs/1024_3584.png HTTP/1.1\" 200 -\n",
      "100.64.0.24 - - [05/May/2024 15:34:08] \"GET /static/thumbs/2560_1024.png HTTP/1.1\" 200 -\n",
      "100.64.0.24 - - [05/May/2024 15:34:08] \"GET /static/thumbs/1024_4608.png HTTP/1.1\" 200 -\n",
      "100.64.0.24 - - [05/May/2024 15:34:08] \"GET /static/thumbs/1536_2560.png HTTP/1.1\" 200 -\n",
      "100.64.0.24 - - [05/May/2024 15:34:08] \"GET /static/thumbs/1024_1024.png HTTP/1.1\" 200 -\n",
      "100.64.0.24 - - [05/May/2024 15:34:08] \"GET /static/thumbs/2048_512.png HTTP/1.1\" 200 -\n",
      "100.64.0.24 - - [05/May/2024 15:34:08] \"GET /static/thumbs/1536_5120.png HTTP/1.1\" 200 -\n",
      "100.64.0.24 - - [05/May/2024 15:34:08] \"GET /static/thumbs/2048_1024.png HTTP/1.1\" 200 -\n",
      "100.64.0.24 - - [05/May/2024 15:34:08] \"GET /static/thumbs/512_6656.png HTTP/1.1\" 200 -\n",
      "100.64.0.24 - - [05/May/2024 15:34:08] \"GET /static/thumbs/1536_3072.png HTTP/1.1\" 200 -\n",
      "100.64.0.24 - - [05/May/2024 15:34:08] \"GET /static/thumbs/2048_4608.png HTTP/1.1\" 200 -\n",
      "100.64.0.24 - - [05/May/2024 15:34:08] \"GET /static/thumbs/0_6144.png HTTP/1.1\" 200 -\n",
      "100.64.0.24 - - [05/May/2024 15:34:08] \"GET /static/thumbs/512_4096.png HTTP/1.1\" 200 -\n",
      "100.64.0.24 - - [05/May/2024 15:34:08] \"GET /static/thumbs/1536_3584.png HTTP/1.1\" 200 -\n",
      "100.64.0.24 - - [05/May/2024 15:34:08] \"GET /static/thumbs/1536_512.png HTTP/1.1\" 200 -\n",
      "100.64.0.24 - - [05/May/2024 15:34:08] \"GET /static/thumbs/1024_512.png HTTP/1.1\" 200 -\n",
      "100.64.0.24 - - [05/May/2024 15:34:08] \"GET /static/thumbs/2048_5632.png HTTP/1.1\" 200 -\n",
      "100.64.0.24 - - [05/May/2024 15:34:08] \"GET /static/thumbs/512_3584.png HTTP/1.1\" 200 -\n",
      "100.64.0.24 - - [05/May/2024 15:34:08] \"GET /static/thumbs/2048_7168.png HTTP/1.1\" 200 -\n",
      "100.64.0.24 - - [05/May/2024 15:34:08] \"GET /static/thumbs/1024_1536.png HTTP/1.1\" 200 -\n",
      "100.64.0.24 - - [05/May/2024 15:34:08] \"GET /static/thumbs/1024_7168.png HTTP/1.1\" 200 -\n",
      "100.64.0.24 - - [05/May/2024 15:34:08] \"GET /static/thumbs/1024_2048.png HTTP/1.1\" 200 -\n",
      "100.64.0.24 - - [05/May/2024 15:34:08] \"GET /static/thumbs/2048_2048.png HTTP/1.1\" 200 -\n",
      "100.64.0.24 - - [05/May/2024 15:34:08] \"GET /static/thumbs/2048_5120.png HTTP/1.1\" 200 -\n",
      "100.64.0.24 - - [05/May/2024 15:34:08] \"GET /static/thumbs/1536_0.png HTTP/1.1\" 200 -\n",
      "100.64.0.24 - - [05/May/2024 15:34:08] \"GET /static/thumbs/3072_0.png HTTP/1.1\" 200 -\n",
      "100.64.0.24 - - [05/May/2024 15:34:08] \"GET /static/thumbs/1024_2560.png HTTP/1.1\" 200 -\n",
      "100.64.0.24 - - [05/May/2024 15:34:08] \"GET /static/thumbs/2048_2560.png HTTP/1.1\" 200 -\n",
      "100.64.0.24 - - [05/May/2024 15:34:08] \"GET /static/thumbs/1024_6144.png HTTP/1.1\" 200 -\n",
      "100.64.0.24 - - [05/May/2024 15:34:08] \"GET /static/thumbs/2048_3072.png HTTP/1.1\" 200 -\n",
      "100.64.0.24 - - [05/May/2024 15:34:08] \"GET /static/thumbs/1024_4096.png HTTP/1.1\" 200 -\n",
      "100.64.0.24 - - [05/May/2024 15:34:08] \"GET /static/thumbs/1536_7168.png HTTP/1.1\" 200 -\n",
      "100.64.0.24 - - [05/May/2024 15:34:08] \"GET /static/thumbs/1536_4096.png HTTP/1.1\" 200 -\n",
      "100.64.0.24 - - [05/May/2024 15:34:09] \"GET /static/thumbs/3584_2560.png HTTP/1.1\" 200 -\n",
      "100.64.0.24 - - [05/May/2024 15:34:09] \"GET /static/thumbs/3072_5120.png HTTP/1.1\" 200 -\n",
      "100.64.0.24 - - [05/May/2024 15:34:09] \"GET /static/thumbs/6144_1536.png HTTP/1.1\" 200 -\n",
      "100.64.0.24 - - [05/May/2024 15:34:09] \"GET /static/thumbs/3584_5120.png HTTP/1.1\" 200 -\n",
      "100.64.0.24 - - [05/May/2024 15:34:09] \"GET /static/thumbs/6656_512.png HTTP/1.1\" 200 -\n",
      "100.64.0.24 - - [05/May/2024 15:34:09] \"GET /static/thumbs/3584_6656.png HTTP/1.1\" 200 -\n",
      "100.64.0.24 - - [05/May/2024 15:34:09] \"GET /static/thumbs/3584_5632.png HTTP/1.1\" 200 -\n",
      "100.64.0.24 - - [05/May/2024 15:34:09] \"GET /static/thumbs/6144_1024.png HTTP/1.1\" 200 -\n",
      "100.64.0.24 - - [05/May/2024 15:34:09] \"GET /static/thumbs/6656_1024.png HTTP/1.1\" 200 -\n",
      "100.64.0.24 - - [05/May/2024 15:34:09] \"GET /static/thumbs/6656_2048.png HTTP/1.1\" 200 -\n",
      "100.64.0.24 - - [05/May/2024 15:34:09] \"GET /static/thumbs/3584_6144.png HTTP/1.1\" 200 -\n",
      "100.64.0.24 - - [05/May/2024 15:34:09] \"GET /static/thumbs/6656_1536.png HTTP/1.1\" 200 -\n",
      "100.64.0.24 - - [05/May/2024 15:34:09] \"GET /static/thumbs/7680_2560.png HTTP/1.1\" 200 -\n",
      "100.64.0.24 - - [05/May/2024 15:34:09] \"GET /static/thumbs/4096_2048.png HTTP/1.1\" 200 -\n",
      "100.64.0.24 - - [05/May/2024 15:34:09] \"GET /static/thumbs/7680_1536.png HTTP/1.1\" 200 -\n",
      "100.64.0.24 - - [05/May/2024 15:34:09] \"GET /static/thumbs/7680_3584.png HTTP/1.1\" 200 -\n",
      "100.64.0.24 - - [05/May/2024 15:34:09] \"GET /static/thumbs/7680_2048.png HTTP/1.1\" 200 -\n",
      "100.64.0.24 - - [05/May/2024 15:34:09] \"GET /static/thumbs/7680_3072.png HTTP/1.1\" 200 -\n",
      "100.64.0.24 - - [05/May/2024 15:34:09] \"GET /static/thumbs/7680_5632.png HTTP/1.1\" 200 -\n",
      "100.64.0.24 - - [05/May/2024 15:34:09] \"GET /static/thumbs/8192_0.png HTTP/1.1\" 200 -\n",
      "100.64.0.24 - - [05/May/2024 15:34:09] \"GET /static/thumbs/8192_512.png HTTP/1.1\" 200 -\n",
      "100.64.0.24 - - [05/May/2024 15:34:09] \"GET /static/thumbs/8192_1536.png HTTP/1.1\" 200 -\n",
      "100.64.0.24 - - [05/May/2024 15:34:09] \"GET /static/thumbs/7680_6144.png HTTP/1.1\" 200 -\n",
      "100.64.0.24 - - [05/May/2024 15:34:09] \"GET /static/thumbs/7680_4096.png HTTP/1.1\" 200 -\n",
      "100.64.0.24 - - [05/May/2024 15:34:09] \"GET /static/thumbs/8192_1024.png HTTP/1.1\" 200 -\n",
      "100.64.0.24 - - [05/May/2024 15:34:09] \"GET /static/thumbs/7680_5120.png HTTP/1.1\" 200 -\n",
      "100.64.0.24 - - [05/May/2024 15:34:09] \"GET /static/thumbs/5120_1024.png HTTP/1.1\" 200 -\n",
      "100.64.0.24 - - [05/May/2024 15:34:09] \"GET /static/thumbs/8192_3072.png HTTP/1.1\" 200 -\n",
      "100.64.0.24 - - [05/May/2024 15:34:09] \"GET /static/thumbs/8192_3584.png HTTP/1.1\" 200 -\n",
      "100.64.0.24 - - [05/May/2024 15:34:09] \"GET /static/thumbs/5120_512.png HTTP/1.1\" 200 -\n",
      "100.64.0.24 - - [05/May/2024 15:34:09] \"GET /static/thumbs/5120_2048.png HTTP/1.1\" 200 -\n",
      "100.64.0.24 - - [05/May/2024 15:34:09] \"GET /static/thumbs/5120_5120.png HTTP/1.1\" 200 -\n",
      "100.64.0.24 - - [05/May/2024 15:34:09] \"GET /static/thumbs/5120_2560.png HTTP/1.1\" 200 -\n",
      "100.64.0.24 - - [05/May/2024 15:34:09] \"GET /static/thumbs/5120_4096.png HTTP/1.1\" 200 -\n",
      "100.64.0.24 - - [05/May/2024 15:34:09] \"GET /static/thumbs/8192_2560.png HTTP/1.1\" 200 -\n",
      "100.64.0.24 - - [05/May/2024 15:34:09] \"GET /static/thumbs/5120_4608.png HTTP/1.1\" 200 -\n",
      "100.64.0.24 - - [05/May/2024 15:34:09] \"GET /static/thumbs/5120_1536.png HTTP/1.1\" 200 -\n",
      "100.64.0.24 - - [05/May/2024 15:34:09] \"GET /static/thumbs/8192_2048.png HTTP/1.1\" 200 -\n",
      "100.64.0.24 - - [05/May/2024 15:34:09] \"GET /static/thumbs/7680_6656.png HTTP/1.1\" 200 -\n",
      "100.64.0.24 - - [05/May/2024 15:34:09] \"GET /static/thumbs/7680_7168.png HTTP/1.1\" 200 -\n",
      "100.64.0.24 - - [05/May/2024 15:34:09] \"GET /static/thumbs/7680_4608.png HTTP/1.1\" 200 -\n",
      "100.64.0.24 - - [05/May/2024 15:34:09] \"GET /static/thumbs/5120_6144.png HTTP/1.1\" 200 -\n",
      "100.64.0.24 - - [05/May/2024 15:34:09] \"GET /static/thumbs/5120_5632.png HTTP/1.1\" 200 -\n",
      "100.64.0.24 - - [05/May/2024 15:34:09] \"GET /static/thumbs/5120_7168.png HTTP/1.1\" 200 -\n",
      "100.64.0.24 - - [05/May/2024 15:34:09] \"GET /static/thumbs/7680_0.png HTTP/1.1\" 200 -\n",
      "100.64.0.24 - - [05/May/2024 15:34:09] \"GET /static/thumbs/5632_0.png HTTP/1.1\" 200 -\n",
      "100.64.0.24 - - [05/May/2024 15:34:09] \"GET /static/thumbs/5120_6656.png HTTP/1.1\" 200 -\n",
      "100.64.0.24 - - [05/May/2024 15:34:09] \"GET /static/thumbs/3584_4096.png HTTP/1.1\" 200 -\n",
      "100.64.0.24 - - [05/May/2024 15:34:09] \"GET /static/thumbs/5632_5120.png HTTP/1.1\" 200 -\n",
      "100.64.0.24 - - [05/May/2024 15:34:09] \"GET /static/thumbs/3584_4608.png HTTP/1.1\" 200 -\n",
      "100.64.0.24 - - [05/May/2024 15:34:09] \"GET /static/thumbs/6144_7168.png HTTP/1.1\" 200 -\n",
      "100.64.0.24 - - [05/May/2024 15:34:09] \"GET /static/thumbs/6656_0.png HTTP/1.1\" 200 -\n",
      "100.64.0.24 - - [05/May/2024 15:34:09] \"GET /static/thumbs/5632_512.png HTTP/1.1\" 200 -\n",
      "100.64.0.24 - - [05/May/2024 15:34:09] \"GET /static/thumbs/4096_5120.png HTTP/1.1\" 200 -\n",
      "100.64.0.24 - - [05/May/2024 15:34:09] \"GET /static/thumbs/7168_2560.png HTTP/1.1\" 200 -\n",
      "100.64.0.24 - - [05/May/2024 15:34:09] \"GET /static/thumbs/6656_2560.png HTTP/1.1\" 200 -\n",
      "100.64.0.24 - - [05/May/2024 15:34:09] \"GET /static/thumbs/5120_3584.png HTTP/1.1\" 200 -\n",
      "100.64.0.24 - - [05/May/2024 15:34:09] \"GET /static/thumbs/7680_512.png HTTP/1.1\" 200 -\n",
      "100.64.0.24 - - [05/May/2024 15:34:09] \"GET /static/thumbs/4096_5632.png HTTP/1.1\" 200 -\n",
      "100.64.0.24 - - [05/May/2024 15:34:09] \"GET /static/thumbs/6144_2560.png HTTP/1.1\" 200 -\n",
      "100.64.0.24 - - [05/May/2024 15:34:09] \"GET /static/thumbs/5632_3584.png HTTP/1.1\" 200 -\n",
      "100.64.0.24 - - [05/May/2024 15:34:09] \"GET /static/thumbs/5632_6144.png HTTP/1.1\" 200 -\n",
      "100.64.0.24 - - [05/May/2024 15:34:09] \"GET /static/thumbs/7168_1536.png HTTP/1.1\" 200 -\n",
      "100.64.0.24 - - [05/May/2024 15:34:09] \"GET /static/thumbs/6144_512.png HTTP/1.1\" 200 -\n",
      "100.64.0.24 - - [05/May/2024 15:34:09] \"GET /static/thumbs/7168_2048.png HTTP/1.1\" 200 -\n",
      "100.64.0.24 - - [05/May/2024 15:34:09] \"GET /static/thumbs/6144_4096.png HTTP/1.1\" 200 -\n",
      "100.64.0.24 - - [05/May/2024 15:34:09] \"GET /static/thumbs/6144_3072.png HTTP/1.1\" 200 -\n",
      "100.64.0.24 - - [05/May/2024 15:34:09] \"GET /static/thumbs/5632_7168.png HTTP/1.1\" 200 -\n",
      "100.64.0.24 - - [05/May/2024 15:34:09] \"GET /static/thumbs/7168_1024.png HTTP/1.1\" 200 -\n",
      "100.64.0.24 - - [05/May/2024 15:34:09] \"GET /static/thumbs/4096_6656.png HTTP/1.1\" 200 -\n",
      "100.64.0.24 - - [05/May/2024 15:34:09] \"GET /static/thumbs/4096_7168.png HTTP/1.1\" 200 -\n",
      "100.64.0.24 - - [05/May/2024 15:34:09] \"GET /static/thumbs/4608_7168.png HTTP/1.1\" 200 -\n",
      "100.64.0.24 - - [05/May/2024 15:34:09] \"GET /static/thumbs/5632_6656.png HTTP/1.1\" 200 -\n",
      "100.64.0.24 - - [05/May/2024 15:34:09] \"GET /static/thumbs/7168_512.png HTTP/1.1\" 200 -\n",
      "100.64.0.24 - - [05/May/2024 15:34:09] \"GET /static/thumbs/7168_4096.png HTTP/1.1\" 200 -\n",
      "100.64.0.24 - - [05/May/2024 15:34:09] \"GET /static/thumbs/4608_4608.png HTTP/1.1\" 200 -\n",
      "100.64.0.24 - - [05/May/2024 15:34:09] \"GET /static/thumbs/7680_1024.png HTTP/1.1\" 200 -\n",
      "100.64.0.24 - - [05/May/2024 15:34:09] \"GET /static/thumbs/4608_6656.png HTTP/1.1\" 200 -\n",
      "100.64.0.24 - - [05/May/2024 15:34:09] \"GET /static/thumbs/5632_5632.png HTTP/1.1\" 200 -\n",
      "100.64.0.24 - - [05/May/2024 15:34:09] \"GET /static/thumbs/5120_0.png HTTP/1.1\" 200 -\n",
      "100.64.0.24 - - [05/May/2024 15:34:09] \"GET /static/thumbs/4608_6144.png HTTP/1.1\" 200 -\n",
      "100.64.0.24 - - [05/May/2024 15:34:09] \"GET /static/thumbs/7168_7168.png HTTP/1.1\" 200 -\n",
      "100.64.0.24 - - [05/May/2024 15:34:09] \"GET /static/thumbs/4096_3584.png HTTP/1.1\" 200 -\n",
      "100.64.0.24 - - [05/May/2024 15:34:09] \"GET /static/thumbs/4608_5120.png HTTP/1.1\" 200 -\n",
      "100.64.0.24 - - [05/May/2024 15:34:09] \"GET /static/thumbs/7168_3584.png HTTP/1.1\" 200 -\n",
      "100.64.0.24 - - [05/May/2024 15:34:09] \"GET /static/thumbs/7168_3072.png HTTP/1.1\" 200 -\n",
      "100.64.0.24 - - [05/May/2024 15:34:09] \"GET /static/thumbs/6144_0.png HTTP/1.1\" 200 -\n",
      "100.64.0.24 - - [05/May/2024 15:34:09] \"GET /static/thumbs/5632_1024.png HTTP/1.1\" 200 -\n",
      "100.64.0.24 - - [05/May/2024 15:34:09] \"GET /static/thumbs/5120_3072.png HTTP/1.1\" 200 -\n",
      "100.64.0.24 - - [05/May/2024 15:34:09] \"GET /static/thumbs/4608_5632.png HTTP/1.1\" 200 -\n",
      "100.64.0.24 - - [05/May/2024 15:34:09] \"GET /static/thumbs/5632_1536.png HTTP/1.1\" 200 -\n",
      "100.64.0.24 - - [05/May/2024 15:34:09] \"GET /static/thumbs/6144_3584.png HTTP/1.1\" 200 -\n",
      "100.64.0.24 - - [05/May/2024 15:34:09] \"GET /static/thumbs/5632_4096.png HTTP/1.1\" 200 -\n",
      "100.64.0.24 - - [05/May/2024 15:34:09] \"GET /static/thumbs/3584_2048.png HTTP/1.1\" 200 -\n",
      "100.64.0.24 - - [05/May/2024 15:34:09] \"GET /static/thumbs/5632_3072.png HTTP/1.1\" 200 -\n",
      "100.64.0.24 - - [05/May/2024 15:34:09] \"GET /static/thumbs/5632_2560.png HTTP/1.1\" 200 -\n",
      "100.64.0.24 - - [05/May/2024 15:34:09] \"GET /static/thumbs/4096_4096.png HTTP/1.1\" 200 -\n",
      "100.64.0.24 - - [05/May/2024 15:34:09] \"GET /static/thumbs/5632_2048.png HTTP/1.1\" 200 -\n",
      "100.64.0.24 - - [05/May/2024 15:34:09] \"GET /static/thumbs/5632_4608.png HTTP/1.1\" 200 -\n",
      "100.64.0.24 - - [05/May/2024 15:34:09] \"GET /static/thumbs/6144_2048.png HTTP/1.1\" 200 -\n",
      "100.64.0.24 - - [05/May/2024 15:34:09] \"GET /static/thumbs/4096_3072.png HTTP/1.1\" 200 -\n",
      "100.64.0.24 - - [05/May/2024 15:34:09] \"GET /static/thumbs/4096_4608.png HTTP/1.1\" 200 -\n",
      "100.64.0.24 - - [05/May/2024 15:34:09] \"GET /static/thumbs/4096_6144.png HTTP/1.1\" 200 -\n",
      "100.64.0.24 - - [05/May/2024 15:34:09] \"GET /static/thumbs/4608_1024.png HTTP/1.1\" 200 -\n",
      "100.64.0.24 - - [05/May/2024 15:34:09] \"GET /static/thumbs/4608_2560.png HTTP/1.1\" 200 -\n",
      "100.64.0.24 - - [05/May/2024 15:34:09] \"GET /static/thumbs/4608_512.png HTTP/1.1\" 200 -\n",
      "100.64.0.24 - - [05/May/2024 15:34:09] \"GET /static/thumbs/4608_0.png HTTP/1.1\" 200 -\n",
      "100.64.0.24 - - [05/May/2024 15:34:09] \"GET /static/thumbs/4608_3584.png HTTP/1.1\" 200 -\n",
      "100.64.0.24 - - [05/May/2024 15:34:09] \"GET /static/thumbs/4608_3072.png HTTP/1.1\" 200 -\n",
      "100.64.0.24 - - [05/May/2024 15:34:09] \"GET /static/thumbs/4608_1536.png HTTP/1.1\" 200 -\n",
      "100.64.0.24 - - [05/May/2024 15:34:09] \"GET /static/thumbs/4096_1024.png HTTP/1.1\" 200 -\n",
      "100.64.0.24 - - [05/May/2024 15:34:09] \"GET /static/thumbs/8192_7168.png HTTP/1.1\" 200 -\n",
      "100.64.0.24 - - [05/May/2024 15:34:09] \"GET /static/thumbs/6144_4608.png HTTP/1.1\" 200 -\n",
      "100.64.0.24 - - [05/May/2024 15:34:09] \"GET /static/thumbs/4096_2560.png HTTP/1.1\" 200 -\n",
      "100.64.0.24 - - [05/May/2024 15:34:09] \"GET /static/thumbs/4608_4096.png HTTP/1.1\" 200 -\n",
      "100.64.0.24 - - [05/May/2024 15:34:09] \"GET /static/thumbs/4608_2048.png HTTP/1.1\" 200 -\n",
      "100.64.0.24 - - [05/May/2024 15:34:09] \"GET /static/thumbs/3584_1536.png HTTP/1.1\" 200 -\n",
      "100.64.0.24 - - [05/May/2024 15:34:09] \"GET /static/thumbs/6656_6144.png HTTP/1.1\" 200 -\n",
      "100.64.0.24 - - [05/May/2024 15:34:09] \"GET /static/thumbs/4096_512.png HTTP/1.1\" 200 -\n",
      "100.64.0.24 - - [05/May/2024 15:34:09] \"GET /static/thumbs/8192_6656.png HTTP/1.1\" 200 -\n",
      "100.64.0.24 - - [05/May/2024 15:34:09] \"GET /static/thumbs/6656_3584.png HTTP/1.1\" 200 -\n",
      "100.64.0.24 - - [05/May/2024 15:34:09] \"GET /static/thumbs/3584_7168.png HTTP/1.1\" 200 -\n",
      "100.64.0.24 - - [05/May/2024 15:34:09] \"GET /static/thumbs/4096_1536.png HTTP/1.1\" 200 -\n",
      "100.64.0.24 - - [05/May/2024 15:34:09] \"GET /static/thumbs/3584_3072.png HTTP/1.1\" 200 -\n",
      "100.64.0.24 - - [05/May/2024 15:34:09] \"GET /static/thumbs/6656_4608.png HTTP/1.1\" 200 -\n",
      "100.64.0.24 - - [05/May/2024 15:34:09] \"GET /static/images/drone.png HTTP/1.1\" 200 -\n",
      "100.64.0.24 - - [05/May/2024 15:34:09] \"GET /static/thumbs/6144_6144.png HTTP/1.1\" 200 -\n",
      "100.64.0.24 - - [05/May/2024 15:34:09] \"GET /static/thumbs/6144_5120.png HTTP/1.1\" 200 -\n",
      "100.64.0.24 - - [05/May/2024 15:34:09] \"GET /static/thumbs/7168_4608.png HTTP/1.1\" 200 -\n",
      "100.64.0.24 - - [05/May/2024 15:34:09] \"GET /static/thumbs/7168_0.png HTTP/1.1\" 200 -\n",
      "100.64.0.24 - - [05/May/2024 15:34:09] \"GET /static/thumbs/3584_0.png HTTP/1.1\" 200 -\n",
      "100.64.0.24 - - [05/May/2024 15:34:09] \"GET /static/thumbs/3584_3584.png HTTP/1.1\" 200 -\n",
      "100.64.0.24 - - [05/May/2024 15:34:09] \"GET /static/thumbs/3584_512.png HTTP/1.1\" 200 -\n",
      "100.64.0.24 - - [05/May/2024 15:34:09] \"GET /static/thumbs/6656_5632.png HTTP/1.1\" 200 -\n",
      "100.64.0.24 - - [05/May/2024 15:34:09] \"GET /static/thumbs/6656_5120.png HTTP/1.1\" 200 -\n",
      "100.64.0.24 - - [05/May/2024 15:34:09] \"GET /static/thumbs/6144_6656.png HTTP/1.1\" 200 -\n",
      "100.64.0.24 - - [05/May/2024 15:34:09] \"GET /static/thumbs/6656_6656.png HTTP/1.1\" 200 -\n",
      "100.64.0.24 - - [05/May/2024 15:34:09] \"GET /static/thumbs/6656_3072.png HTTP/1.1\" 200 -\n",
      "100.64.0.24 - - [05/May/2024 15:34:09] \"GET /static/thumbs/3584_1024.png HTTP/1.1\" 200 -\n",
      "100.64.0.24 - - [05/May/2024 15:34:09] \"GET /static/thumbs/4096_0.png HTTP/1.1\" 200 -\n",
      "100.64.0.24 - - [05/May/2024 15:34:09] \"GET /static/thumbs/3072_7168.png HTTP/1.1\" 200 -\n",
      "100.64.0.24 - - [05/May/2024 15:34:09] \"GET /static/thumbs/6144_5632.png HTTP/1.1\" 200 -\n",
      "100.64.0.24 - - [05/May/2024 15:34:09] \"GET /static/thumbs/3072_6656.png HTTP/1.1\" 200 -\n",
      "100.64.0.24 - - [05/May/2024 15:34:09] \"GET /static/thumbs/3072_5632.png HTTP/1.1\" 200 -\n",
      "100.64.0.24 - - [05/May/2024 15:34:09] \"GET /static/thumbs/7168_5632.png HTTP/1.1\" 200 -\n",
      "100.64.0.24 - - [05/May/2024 15:34:09] \"GET /static/thumbs/8192_6144.png HTTP/1.1\" 200 -\n",
      "100.64.0.24 - - [05/May/2024 15:34:09] \"GET /static/thumbs/8192_4608.png HTTP/1.1\" 200 -\n",
      "100.64.0.24 - - [05/May/2024 15:34:09] \"GET /static/thumbs/7168_6144.png HTTP/1.1\" 200 -\n",
      "100.64.0.24 - - [05/May/2024 15:34:09] \"GET /static/thumbs/8192_4096.png HTTP/1.1\" 200 -\n",
      "100.64.0.24 - - [05/May/2024 15:34:09] \"GET /static/thumbs/8192_5120.png HTTP/1.1\" 200 -\n",
      "100.64.0.24 - - [05/May/2024 15:34:09] \"GET /static/thumbs/7168_6656.png HTTP/1.1\" 200 -\n",
      "100.64.0.24 - - [05/May/2024 15:34:09] \"GET /static/thumbs/7168_5120.png HTTP/1.1\" 200 -\n",
      "100.64.0.24 - - [05/May/2024 15:34:09] \"GET /static/thumbs/8192_5632.png HTTP/1.1\" 200 -\n",
      "100.64.0.24 - - [05/May/2024 15:34:09] \"GET /static/thumbs/6656_7168.png HTTP/1.1\" 200 -\n",
      "100.64.0.24 - - [05/May/2024 15:34:09] \"GET /static/thumbs/6656_4096.png HTTP/1.1\" 200 -\n",
      "100.64.0.24 - - [05/May/2024 15:34:09] \"GET /static/thumbs/3072_6144.png HTTP/1.1\" 200 -\n",
      "100.64.0.24 - - [05/May/2024 15:34:10] \"GET /favicon.ico HTTP/1.1\" 404 -\n"
     ]
    },
    {
     "name": "stdout",
     "output_type": "stream",
     "text": [
      "Overlay moved to position: (512, 0)\n"
     ]
    },
    {
     "name": "stderr",
     "output_type": "stream",
     "text": [
      "100.64.0.24 - - [05/May/2024 15:34:26] \"POST /update_position HTTP/1.1\" 200 -\n",
      "100.64.0.24 - - [05/May/2024 15:34:27] \"GET /static/tiles/512_0.png HTTP/1.1\" 200 -\n"
     ]
    },
    {
     "name": "stdout",
     "output_type": "stream",
     "text": [
      "Overlay moved to position: (512, 1024)\n",
      "Overlay moved to position: (512, 512)\n",
      "Overlay moved to position: (512, 1536)\n",
      "Overlay moved to position: (512, 2048)\n"
     ]
    },
    {
     "name": "stderr",
     "output_type": "stream",
     "text": [
      "100.64.0.24 - - [05/May/2024 15:34:27] \"POST /update_position HTTP/1.1\" 200 -\n"
     ]
    },
    {
     "name": "stdout",
     "output_type": "stream",
     "text": [
      "Overlay moved to position: (512, 2560)\n"
     ]
    },
    {
     "name": "stderr",
     "output_type": "stream",
     "text": [
      "100.64.0.24 - - [05/May/2024 15:34:28] \"GET /static/tiles/512_1024.png HTTP/1.1\" 200 -\n",
      "100.64.0.24 - - [05/May/2024 15:34:29] \"POST /update_position HTTP/1.1\" 200 -\n",
      "100.64.0.24 - - [05/May/2024 15:34:29] \"POST /update_position HTTP/1.1\" 200 -\n",
      "100.64.0.24 - - [05/May/2024 15:34:29] \"POST /update_position HTTP/1.1\" 200 -\n",
      "100.64.0.24 - - [05/May/2024 15:34:29] \"POST /update_position HTTP/1.1\" 200 -\n",
      "100.64.0.24 - - [05/May/2024 15:34:30] \"GET /static/tiles/512_512.png HTTP/1.1\" 200 -\n"
     ]
    },
    {
     "name": "stdout",
     "output_type": "stream",
     "text": [
      "Overlay moved to position: (1024, 2560)\n"
     ]
    },
    {
     "name": "stderr",
     "output_type": "stream",
     "text": [
      "100.64.0.24 - - [05/May/2024 15:34:37] \"POST /update_position HTTP/1.1\" 200 -\n",
      "100.64.0.24 - - [05/May/2024 15:34:38] \"GET /static/tiles/1024_2560.png HTTP/1.1\" 200 -\n"
     ]
    },
    {
     "name": "stdout",
     "output_type": "stream",
     "text": [
      "Overlay moved to position: (1536, 2560)\n"
     ]
    },
    {
     "name": "stderr",
     "output_type": "stream",
     "text": [
      "100.64.0.24 - - [05/May/2024 15:34:41] \"POST /update_position HTTP/1.1\" 200 -\n",
      "100.64.0.24 - - [05/May/2024 15:34:42] \"GET /static/tiles/1536_2560.png HTTP/1.1\" 200 -\n"
     ]
    },
    {
     "name": "stdout",
     "output_type": "stream",
     "text": [
      "Overlay moved to position: (2048, 2560)\n"
     ]
    },
    {
     "name": "stderr",
     "output_type": "stream",
     "text": [
      "100.64.0.24 - - [05/May/2024 15:34:42] \"POST /update_position HTTP/1.1\" 200 -\n",
      "100.64.0.24 - - [05/May/2024 15:34:43] \"GET /static/tiles/2048_2560.png HTTP/1.1\" 200 -\n"
     ]
    },
    {
     "name": "stdout",
     "output_type": "stream",
     "text": [
      "Overlay moved to position: (2560, 2560)\n"
     ]
    },
    {
     "name": "stderr",
     "output_type": "stream",
     "text": [
      "100.64.0.24 - - [05/May/2024 15:34:47] \"POST /update_position HTTP/1.1\" 200 -\n",
      "100.64.0.24 - - [05/May/2024 15:34:48] \"GET /static/tiles/2560_2560.png HTTP/1.1\" 200 -\n"
     ]
    },
    {
     "name": "stdout",
     "output_type": "stream",
     "text": [
      "Overlay moved to position: (2560, 3072)\n"
     ]
    },
    {
     "name": "stderr",
     "output_type": "stream",
     "text": [
      "100.64.0.24 - - [05/May/2024 15:34:54] \"POST /update_position HTTP/1.1\" 200 -\n",
      "100.64.0.24 - - [05/May/2024 15:34:55] \"GET /static/tiles/2560_3072.png HTTP/1.1\" 200 -\n"
     ]
    },
    {
     "name": "stdout",
     "output_type": "stream",
     "text": [
      "Overlay moved to position: (2560, 3584)\n"
     ]
    },
    {
     "name": "stderr",
     "output_type": "stream",
     "text": [
      "100.64.0.24 - - [05/May/2024 15:34:56] \"POST /update_position HTTP/1.1\" 200 -\n",
      "100.64.0.24 - - [05/May/2024 15:34:57] \"GET /static/tiles/2560_3584.png HTTP/1.1\" 200 -\n"
     ]
    },
    {
     "name": "stdout",
     "output_type": "stream",
     "text": [
      "Overlay moved to position: (2560, 3584)\n",
      "Overlay moved to position: (2560, 3584)\n"
     ]
    },
    {
     "name": "stderr",
     "output_type": "stream",
     "text": [
      "100.64.0.24 - - [05/May/2024 15:35:02] \"POST /update_position HTTP/1.1\" 200 -\n",
      "100.64.0.24 - - [05/May/2024 15:35:02] \"POST /update_position HTTP/1.1\" 200 -\n"
     ]
    },
    {
     "name": "stdout",
     "output_type": "stream",
     "text": [
      "Overlay moved to position: (2560, 3584)\n",
      "Overlay moved to position: (2560, 3584)\n"
     ]
    },
    {
     "name": "stderr",
     "output_type": "stream",
     "text": [
      "100.64.0.24 - - [05/May/2024 15:35:03] \"POST /update_position HTTP/1.1\" 200 -\n",
      "100.64.0.24 - - [05/May/2024 15:35:03] \"POST /update_position HTTP/1.1\" 200 -\n"
     ]
    },
    {
     "name": "stdout",
     "output_type": "stream",
     "text": [
      "Overlay moved to position: (3072, 3584)\n"
     ]
    },
    {
     "name": "stderr",
     "output_type": "stream",
     "text": [
      "100.64.0.24 - - [05/May/2024 15:36:16] \"POST /update_position HTTP/1.1\" 200 -\n"
     ]
    },
    {
     "name": "stdout",
     "output_type": "stream",
     "text": [
      "Overlay moved to position: (2560, 3584)\n",
      "Overlay moved to position: (3072, 3584)\n"
     ]
    },
    {
     "name": "stderr",
     "output_type": "stream",
     "text": [
      "100.64.0.24 - - [05/May/2024 15:36:17] \"GET /static/tiles/3072_3584.png HTTP/1.1\" 200 -\n",
      "100.64.0.24 - - [05/May/2024 15:36:17] \"POST /update_position HTTP/1.1\" 200 -\n",
      "100.64.0.24 - - [05/May/2024 15:36:17] \"POST /update_position HTTP/1.1\" 200 -\n",
      "100.64.0.24 - - [05/May/2024 15:36:18] \"GET /static/tiles/3072_3584.png HTTP/1.1\" 206 -\n"
     ]
    },
    {
     "name": "stdout",
     "output_type": "stream",
     "text": [
      "Overlay moved to position: (3584, 3584)\n"
     ]
    },
    {
     "name": "stderr",
     "output_type": "stream",
     "text": [
      "100.64.0.24 - - [05/May/2024 15:36:19] \"POST /update_position HTTP/1.1\" 200 -\n"
     ]
    },
    {
     "name": "stdout",
     "output_type": "stream",
     "text": [
      "Overlay moved to position: (4096, 3584)\n"
     ]
    },
    {
     "name": "stderr",
     "output_type": "stream",
     "text": [
      "100.64.0.24 - - [05/May/2024 15:36:20] \"GET /static/tiles/3584_3584.png HTTP/1.1\" 200 -\n",
      "100.64.0.24 - - [05/May/2024 15:36:20] \"POST /update_position HTTP/1.1\" 200 -\n",
      "100.64.0.24 - - [05/May/2024 15:36:20] \"GET /static/tiles/4096_3584.png HTTP/1.1\" 200 -\n"
     ]
    },
    {
     "name": "stdout",
     "output_type": "stream",
     "text": [
      "Overlay moved to position: (3584, 3584)\n"
     ]
    },
    {
     "name": "stderr",
     "output_type": "stream",
     "text": [
      "100.64.0.24 - - [05/May/2024 15:36:21] \"POST /update_position HTTP/1.1\" 200 -\n",
      "100.64.0.24 - - [05/May/2024 15:36:21] \"GET /static/tiles/3584_3584.png HTTP/1.1\" 206 -\n"
     ]
    },
    {
     "name": "stdout",
     "output_type": "stream",
     "text": [
      "Overlay moved to position: (3584, 4096)\n"
     ]
    },
    {
     "name": "stderr",
     "output_type": "stream",
     "text": [
      "100.64.0.24 - - [05/May/2024 15:36:23] \"POST /update_position HTTP/1.1\" 200 -\n",
      "100.64.0.24 - - [05/May/2024 15:36:24] \"GET /static/tiles/3584_4096.png HTTP/1.1\" 200 -\n"
     ]
    },
    {
     "name": "stdout",
     "output_type": "stream",
     "text": [
      "Overlay moved to position: (3584, 3584)\n"
     ]
    },
    {
     "name": "stderr",
     "output_type": "stream",
     "text": [
      "100.64.0.24 - - [05/May/2024 15:36:24] \"POST /update_position HTTP/1.1\" 200 -\n"
     ]
    },
    {
     "name": "stdout",
     "output_type": "stream",
     "text": [
      "Overlay moved to position: (3584, 4096)\n"
     ]
    },
    {
     "name": "stderr",
     "output_type": "stream",
     "text": [
      "100.64.0.24 - - [05/May/2024 15:36:25] \"POST /update_position HTTP/1.1\" 200 -\n",
      "100.64.0.24 - - [05/May/2024 15:36:26] \"GET /static/tiles/3584_4096.png HTTP/1.1\" 206 -\n"
     ]
    },
    {
     "name": "stdout",
     "output_type": "stream",
     "text": [
      "Overlay moved to position: (3584, 4608)\n"
     ]
    },
    {
     "name": "stderr",
     "output_type": "stream",
     "text": [
      "100.64.0.24 - - [05/May/2024 15:36:26] \"POST /update_position HTTP/1.1\" 200 -\n"
     ]
    },
    {
     "name": "stdout",
     "output_type": "stream",
     "text": [
      "Overlay moved to position: (3584, 5120)\n"
     ]
    },
    {
     "name": "stderr",
     "output_type": "stream",
     "text": [
      "100.64.0.24 - - [05/May/2024 15:36:27] \"GET /static/tiles/3584_4608.png HTTP/1.1\" 200 -\n",
      "100.64.0.24 - - [05/May/2024 15:36:27] \"POST /update_position HTTP/1.1\" 200 -\n",
      "100.64.0.24 - - [05/May/2024 15:36:28] \"GET /static/tiles/3584_5120.png HTTP/1.1\" 200 -\n"
     ]
    },
    {
     "name": "stdout",
     "output_type": "stream",
     "text": [
      "Overlay moved to position: (4096, 5120)\n"
     ]
    },
    {
     "name": "stderr",
     "output_type": "stream",
     "text": [
      "100.64.0.24 - - [05/May/2024 15:36:30] \"POST /update_position HTTP/1.1\" 200 -\n",
      "100.64.0.24 - - [05/May/2024 15:36:30] \"GET /static/tiles/4096_5120.png HTTP/1.1\" 200 -\n"
     ]
    },
    {
     "name": "stdout",
     "output_type": "stream",
     "text": [
      "Overlay moved to position: (3584, 5120)\n",
      "Overlay moved to position: (3072, 5120)\n"
     ]
    },
    {
     "name": "stderr",
     "output_type": "stream",
     "text": [
      "100.64.0.24 - - [05/May/2024 15:36:39] \"POST /update_position HTTP/1.1\" 200 -\n",
      "100.64.0.24 - - [05/May/2024 15:36:40] \"POST /update_position HTTP/1.1\" 200 -\n"
     ]
    },
    {
     "name": "stdout",
     "output_type": "stream",
     "text": [
      "Overlay moved to position: (2560, 5120)\n"
     ]
    },
    {
     "name": "stderr",
     "output_type": "stream",
     "text": [
      "100.64.0.24 - - [05/May/2024 15:36:40] \"GET /static/tiles/3072_5120.png HTTP/1.1\" 200 -\n",
      "100.64.0.24 - - [05/May/2024 15:36:41] \"POST /update_position HTTP/1.1\" 200 -\n",
      "100.64.0.24 - - [05/May/2024 15:36:41] \"GET /static/tiles/2560_5120.png HTTP/1.1\" 200 -\n"
     ]
    },
    {
     "name": "stdout",
     "output_type": "stream",
     "text": [
      "Overlay moved to position: (2048, 5120)\n"
     ]
    },
    {
     "name": "stderr",
     "output_type": "stream",
     "text": [
      "100.64.0.24 - - [05/May/2024 15:36:43] \"POST /update_position HTTP/1.1\" 200 -\n",
      "100.64.0.24 - - [05/May/2024 15:36:44] \"GET /static/tiles/2048_5120.png HTTP/1.1\" 200 -\n"
     ]
    },
    {
     "name": "stdout",
     "output_type": "stream",
     "text": [
      "Overlay moved to position: (1536, 5120)\n"
     ]
    },
    {
     "name": "stderr",
     "output_type": "stream",
     "text": [
      "100.64.0.24 - - [05/May/2024 15:36:45] \"POST /update_position HTTP/1.1\" 200 -\n",
      "100.64.0.24 - - [05/May/2024 15:36:45] \"GET /static/tiles/1536_5120.png HTTP/1.1\" 200 -\n"
     ]
    },
    {
     "name": "stdout",
     "output_type": "stream",
     "text": [
      "Overlay moved to position: (1024, 5120)\n"
     ]
    },
    {
     "name": "stderr",
     "output_type": "stream",
     "text": [
      "100.64.0.24 - - [05/May/2024 15:36:45] \"POST /update_position HTTP/1.1\" 200 -\n",
      "100.64.0.24 - - [05/May/2024 15:36:46] \"GET /static/tiles/1024_5120.png HTTP/1.1\" 200 -\n"
     ]
    },
    {
     "name": "stdout",
     "output_type": "stream",
     "text": [
      "Overlay moved to position: (1024, 5120)\n",
      "Overlay moved to position: (1024, 5120)\n"
     ]
    },
    {
     "name": "stderr",
     "output_type": "stream",
     "text": [
      "100.64.0.24 - - [05/May/2024 15:37:03] \"POST /update_position HTTP/1.1\" 200 -\n",
      "100.64.0.24 - - [05/May/2024 15:37:03] \"POST /update_position HTTP/1.1\" 200 -\n"
     ]
    },
    {
     "name": "stdout",
     "output_type": "stream",
     "text": [
      "Overlay moved to position: (1024, 5120)\n"
     ]
    },
    {
     "name": "stderr",
     "output_type": "stream",
     "text": [
      "100.64.0.24 - - [05/May/2024 15:40:19] \"POST /update_position HTTP/1.1\" 200 -\n",
      "100.64.0.24 - - [05/May/2024 17:11:15] \"POST /update_position HTTP/1.1\" 400 -\n"
     ]
    },
    {
     "name": "stdout",
     "output_type": "stream",
     "text": [
      "Overlay moved to position: (4096, 3072)\n",
      "Overlay moved to position: (4096, 3072)\n",
      "Overlay moved to position: (4096, 3072)\n",
      "Overlay moved to position: (4096, 3072)\n"
     ]
    },
    {
     "name": "stderr",
     "output_type": "stream",
     "text": [
      "100.64.0.24 - - [05/May/2024 17:11:16] \"GET / HTTP/1.1\" 200 -\n"
     ]
    },
    {
     "name": "stdout",
     "output_type": "stream",
     "text": [
      "Overlay moved to position: (4096, 3072)\n",
      "Overlay moved to position: (4096, 3072)\n",
      "Overlay moved to position: (4096, 3072)\n",
      "Overlay moved to position: (4096, 3072)\n",
      "Overlay moved to position: (4096, 3072)\n",
      "Overlay moved to position: (4096, 3072)\n",
      "Overlay moved to position: (4096, 3072)\n",
      "Overlay moved to position: (4096, 3072)\n",
      "Overlay moved to position: (4096, 3072)\n"
     ]
    },
    {
     "name": "stderr",
     "output_type": "stream",
     "text": [
      "100.64.0.24 - - [05/May/2024 17:11:16] \"POST /update_position HTTP/1.1\" 200 -\n",
      "100.64.0.24 - - [05/May/2024 17:11:17] \"GET /static/thumbs/0_512.png HTTP/1.1\" 200 -\n",
      "100.64.0.24 - - [05/May/2024 17:11:17] \"GET /static/thumbs/0_5632.png HTTP/1.1\" 200 -\n",
      "100.64.0.24 - - [05/May/2024 17:11:17] \"GET /static/thumbs/0_2560.png HTTP/1.1\" 200 -\n",
      "100.64.0.24 - - [05/May/2024 17:11:17] \"GET /static/thumbs/0_4096.png HTTP/1.1\" 200 -\n",
      "100.64.0.24 - - [05/May/2024 17:11:17] \"GET /static/thumbs/2560_1024.png HTTP/1.1\" 200 -\n",
      "100.64.0.24 - - [05/May/2024 17:11:17] \"GET /static/thumbs/0_0.png HTTP/1.1\" 200 -\n",
      "100.64.0.24 - - [05/May/2024 17:11:17] \"GET /static/thumbs/0_1024.png HTTP/1.1\" 200 -\n",
      "100.64.0.24 - - [05/May/2024 17:11:17] \"GET /static/thumbs/2560_5632.png HTTP/1.1\" 200 -\n",
      "100.64.0.24 - - [05/May/2024 17:11:17] \"GET /static/thumbs/0_3584.png HTTP/1.1\" 200 -\n",
      "100.64.0.24 - - [05/May/2024 17:11:17] \"GET /static/thumbs/0_6656.png HTTP/1.1\" 200 -\n",
      "100.64.0.24 - - [05/May/2024 17:11:17] \"GET /static/thumbs/512_7168.png HTTP/1.1\" 200 -\n",
      "100.64.0.24 - - [05/May/2024 17:11:17] \"GET /static/thumbs/1536_512.png HTTP/1.1\" 200 -\n",
      "100.64.0.24 - - [05/May/2024 17:11:17] \"GET /static/thumbs/2560_6144.png HTTP/1.1\" 200 -\n",
      "100.64.0.24 - - [05/May/2024 17:11:17] \"GET /static/thumbs/2048_5120.png HTTP/1.1\" 200 -\n",
      "100.64.0.24 - - [05/May/2024 17:11:17] \"GET /static/thumbs/512_6656.png HTTP/1.1\" 200 -\n",
      "100.64.0.24 - - [05/May/2024 17:11:17] \"GET /static/thumbs/512_6144.png HTTP/1.1\" 200 -\n",
      "100.64.0.24 - - [05/May/2024 17:11:17] \"GET /static/thumbs/1536_1024.png HTTP/1.1\" 200 -\n",
      "100.64.0.24 - - [05/May/2024 17:11:17] \"GET /static/thumbs/0_2048.png HTTP/1.1\" 200 -\n",
      "100.64.0.24 - - [05/May/2024 17:11:17] \"GET /static/thumbs/1024_1536.png HTTP/1.1\" 200 -\n",
      "100.64.0.24 - - [05/May/2024 17:11:17] \"GET /static/thumbs/2048_3072.png HTTP/1.1\" 200 -\n",
      "100.64.0.24 - - [05/May/2024 17:11:17] \"GET /static/thumbs/1024_6144.png HTTP/1.1\" 200 -\n",
      "100.64.0.24 - - [05/May/2024 17:11:17] \"GET /static/thumbs/0_4608.png HTTP/1.1\" 200 -\n",
      "100.64.0.24 - - [05/May/2024 17:11:17] \"GET /static/thumbs/2560_4096.png HTTP/1.1\" 200 -\n",
      "100.64.0.24 - - [05/May/2024 17:11:17] \"GET /static/thumbs/1536_3072.png HTTP/1.1\" 200 -\n",
      "100.64.0.24 - - [05/May/2024 17:11:17] \"GET /static/thumbs/1024_4096.png HTTP/1.1\" 200 -\n",
      "100.64.0.24 - - [05/May/2024 17:11:17] \"GET /static/thumbs/512_0.png HTTP/1.1\" 200 -\n",
      "100.64.0.24 - - [05/May/2024 17:11:17] \"GET /static/thumbs/1536_7168.png HTTP/1.1\" 200 -\n",
      "100.64.0.24 - - [05/May/2024 17:11:17] \"GET /static/thumbs/0_7168.png HTTP/1.1\" 200 -\n",
      "100.64.0.24 - - [05/May/2024 17:11:17] \"GET /static/thumbs/2560_1536.png HTTP/1.1\" 200 -\n",
      "100.64.0.24 - - [05/May/2024 17:11:17] \"GET /static/thumbs/2560_2560.png HTTP/1.1\" 200 -\n",
      "100.64.0.24 - - [05/May/2024 17:11:17] \"GET /static/thumbs/1024_7168.png HTTP/1.1\" 200 -\n",
      "100.64.0.24 - - [05/May/2024 17:11:17] \"GET /static/thumbs/0_6144.png HTTP/1.1\" 200 -\n",
      "100.64.0.24 - - [05/May/2024 17:11:17] \"GET /static/thumbs/2048_6656.png HTTP/1.1\" 200 -\n",
      "100.64.0.24 - - [05/May/2024 17:11:17] \"GET /static/thumbs/1536_5632.png HTTP/1.1\" 200 -\n",
      "100.64.0.24 - - [05/May/2024 17:11:17] \"GET /static/thumbs/1024_1024.png HTTP/1.1\" 200 -\n",
      "100.64.0.24 - - [05/May/2024 17:11:17] \"GET /static/thumbs/2048_4096.png HTTP/1.1\" 200 -\n",
      "100.64.0.24 - - [05/May/2024 17:11:17] \"GET /static/thumbs/2560_2048.png HTTP/1.1\" 200 -\n",
      "100.64.0.24 - - [05/May/2024 17:11:17] \"GET /static/thumbs/1024_5120.png HTTP/1.1\" 200 -\n",
      "100.64.0.24 - - [05/May/2024 17:11:17] \"GET /static/thumbs/2048_1536.png HTTP/1.1\" 200 -\n",
      "100.64.0.24 - - [05/May/2024 17:11:17] \"GET /static/thumbs/2560_512.png HTTP/1.1\" 200 -\n",
      "100.64.0.24 - - [05/May/2024 17:11:17] \"GET /static/thumbs/2048_0.png HTTP/1.1\" 200 -\n",
      "100.64.0.24 - - [05/May/2024 17:11:17] \"GET /static/thumbs/2560_3584.png HTTP/1.1\" 200 -\n",
      "100.64.0.24 - - [05/May/2024 17:11:17] \"GET /static/thumbs/512_1024.png HTTP/1.1\" 200 -\n",
      "100.64.0.24 - - [05/May/2024 17:11:17] \"GET /static/thumbs/2048_4608.png HTTP/1.1\" 200 -\n",
      "100.64.0.24 - - [05/May/2024 17:11:17] \"GET /static/thumbs/1024_0.png HTTP/1.1\" 200 -\n",
      "100.64.0.24 - - [05/May/2024 17:11:17] \"GET /static/thumbs/1536_5120.png HTTP/1.1\" 200 -\n",
      "100.64.0.24 - - [05/May/2024 17:11:17] \"GET /static/thumbs/0_1536.png HTTP/1.1\" 200 -\n",
      "100.64.0.24 - - [05/May/2024 17:11:17] \"GET /static/thumbs/512_1536.png HTTP/1.1\" 200 -\n",
      "100.64.0.24 - - [05/May/2024 17:11:17] \"GET /static/thumbs/2048_6144.png HTTP/1.1\" 200 -\n",
      "100.64.0.24 - - [05/May/2024 17:11:17] \"GET /static/thumbs/1536_4608.png HTTP/1.1\" 200 -\n",
      "100.64.0.24 - - [05/May/2024 17:11:17] \"GET /static/thumbs/1024_3072.png HTTP/1.1\" 200 -\n",
      "100.64.0.24 - - [05/May/2024 17:11:17] \"GET /static/thumbs/2560_6656.png HTTP/1.1\" 200 -\n",
      "100.64.0.24 - - [05/May/2024 17:11:17] \"GET /static/thumbs/0_3072.png HTTP/1.1\" 200 -\n",
      "100.64.0.24 - - [05/May/2024 17:11:17] \"GET /static/thumbs/1536_6144.png HTTP/1.1\" 200 -\n",
      "100.64.0.24 - - [05/May/2024 17:11:17] \"GET /static/thumbs/1536_2048.png HTTP/1.1\" 200 -\n",
      "100.64.0.24 - - [05/May/2024 17:11:17] \"GET /static/thumbs/512_3072.png HTTP/1.1\" 200 -\n",
      "100.64.0.24 - - [05/May/2024 17:11:17] \"GET /static/thumbs/512_5120.png HTTP/1.1\" 200 -\n",
      "100.64.0.24 - - [05/May/2024 17:11:17] \"GET /static/thumbs/512_2560.png HTTP/1.1\" 200 -\n",
      "100.64.0.24 - - [05/May/2024 17:11:17] \"GET /static/thumbs/2048_3584.png HTTP/1.1\" 200 -\n",
      "100.64.0.24 - - [05/May/2024 17:11:17] \"GET /static/thumbs/512_4096.png HTTP/1.1\" 200 -\n",
      "100.64.0.24 - - [05/May/2024 17:11:17] \"GET /static/thumbs/2560_0.png HTTP/1.1\" 200 -\n",
      "100.64.0.24 - - [05/May/2024 17:11:17] \"GET /static/thumbs/2048_1024.png HTTP/1.1\" 200 -\n",
      "100.64.0.24 - - [05/May/2024 17:11:17] \"GET /static/thumbs/1536_2560.png HTTP/1.1\" 200 -\n",
      "100.64.0.24 - - [05/May/2024 17:11:17] \"GET /static/thumbs/2560_3072.png HTTP/1.1\" 200 -\n",
      "100.64.0.24 - - [05/May/2024 17:11:17] \"GET /static/thumbs/3072_0.png HTTP/1.1\" 200 -\n",
      "100.64.0.24 - - [05/May/2024 17:11:17] \"GET /static/thumbs/1024_2048.png HTTP/1.1\" 200 -\n",
      "100.64.0.24 - - [05/May/2024 17:11:17] \"GET /static/thumbs/2560_4608.png HTTP/1.1\" 200 -\n",
      "100.64.0.24 - - [05/May/2024 17:11:17] \"GET /static/thumbs/512_512.png HTTP/1.1\" 200 -\n",
      "100.64.0.24 - - [05/May/2024 17:11:17] \"GET /static/thumbs/512_4608.png HTTP/1.1\" 200 -\n",
      "100.64.0.24 - - [05/May/2024 17:11:17] \"GET /static/thumbs/2048_2560.png HTTP/1.1\" 200 -\n",
      "100.64.0.24 - - [05/May/2024 17:11:17] \"GET /static/thumbs/1024_3584.png HTTP/1.1\" 200 -\n",
      "100.64.0.24 - - [05/May/2024 17:11:17] \"GET /static/thumbs/1536_4096.png HTTP/1.1\" 200 -\n",
      "100.64.0.24 - - [05/May/2024 17:11:17] \"GET /static/thumbs/1024_6656.png HTTP/1.1\" 200 -\n",
      "100.64.0.24 - - [05/May/2024 17:11:17] \"GET /static/thumbs/1024_4608.png HTTP/1.1\" 200 -\n",
      "100.64.0.24 - - [05/May/2024 17:11:17] \"GET /static/thumbs/0_5120.png HTTP/1.1\" 200 -\n",
      "100.64.0.24 - - [05/May/2024 17:11:17] \"GET /static/thumbs/2560_5120.png HTTP/1.1\" 200 -\n",
      "100.64.0.24 - - [05/May/2024 17:11:17] \"GET /static/thumbs/1536_1536.png HTTP/1.1\" 200 -\n",
      "100.64.0.24 - - [05/May/2024 17:11:17] \"GET /static/thumbs/2048_5632.png HTTP/1.1\" 200 -\n",
      "100.64.0.24 - - [05/May/2024 17:11:17] \"GET /static/thumbs/2048_2048.png HTTP/1.1\" 200 -\n",
      "100.64.0.24 - - [05/May/2024 17:11:17] \"GET /static/thumbs/1536_6656.png HTTP/1.1\" 200 -\n",
      "100.64.0.24 - - [05/May/2024 17:11:17] \"GET /static/thumbs/1536_0.png HTTP/1.1\" 200 -\n",
      "100.64.0.24 - - [05/May/2024 17:11:17] \"GET /static/thumbs/512_3584.png HTTP/1.1\" 200 -\n",
      "100.64.0.24 - - [05/May/2024 17:11:17] \"GET /static/thumbs/1024_2560.png HTTP/1.1\" 200 -\n",
      "100.64.0.24 - - [05/May/2024 17:11:17] \"GET /static/thumbs/2560_7168.png HTTP/1.1\" 200 -\n",
      "100.64.0.24 - - [05/May/2024 17:11:17] \"GET /static/thumbs/1536_3584.png HTTP/1.1\" 200 -\n",
      "100.64.0.24 - - [05/May/2024 17:11:17] \"GET /static/thumbs/2048_512.png HTTP/1.1\" 200 -\n",
      "100.64.0.24 - - [05/May/2024 17:11:17] \"GET /static/thumbs/2048_7168.png HTTP/1.1\" 200 -\n",
      "100.64.0.24 - - [05/May/2024 17:11:17] \"GET /static/thumbs/512_2048.png HTTP/1.1\" 200 -\n",
      "100.64.0.24 - - [05/May/2024 17:11:17] \"GET /static/thumbs/1024_512.png HTTP/1.1\" 200 -\n",
      "100.64.0.24 - - [05/May/2024 17:11:17] \"GET /static/thumbs/1024_5632.png HTTP/1.1\" 200 -\n",
      "100.64.0.24 - - [05/May/2024 17:11:17] \"GET /static/thumbs/512_5632.png HTTP/1.1\" 200 -\n",
      "100.64.0.24 - - [05/May/2024 17:11:17] \"GET /static/thumbs/3072_512.png HTTP/1.1\" 200 -\n",
      "100.64.0.24 - - [05/May/2024 17:11:17] \"GET /static/thumbs/3072_1536.png HTTP/1.1\" 200 -\n",
      "100.64.0.24 - - [05/May/2024 17:11:17] \"GET /static/thumbs/3072_1024.png HTTP/1.1\" 200 -\n",
      "100.64.0.24 - - [05/May/2024 17:11:17] \"GET /static/images/drone.png HTTP/1.1\" 200 -\n",
      "100.64.0.24 - - [05/May/2024 17:11:17] \"GET /static/thumbs/4608_5120.png HTTP/1.1\" 200 -\n",
      "100.64.0.24 - - [05/May/2024 17:11:17] \"GET /static/thumbs/3072_2048.png HTTP/1.1\" 200 -\n",
      "100.64.0.24 - - [05/May/2024 17:11:17] \"GET /static/thumbs/3072_2560.png HTTP/1.1\" 200 -\n",
      "100.64.0.24 - - [05/May/2024 17:11:17] \"GET /static/thumbs/4608_5632.png HTTP/1.1\" 200 -\n",
      "100.64.0.24 - - [05/May/2024 17:11:17] \"GET /static/thumbs/3072_3072.png HTTP/1.1\" 200 -\n",
      "100.64.0.24 - - [05/May/2024 17:11:17] \"GET /static/thumbs/3072_4096.png HTTP/1.1\" 200 -\n",
      "100.64.0.24 - - [05/May/2024 17:11:17] \"GET /static/thumbs/3072_5120.png HTTP/1.1\" 200 -\n",
      "100.64.0.24 - - [05/May/2024 17:11:17] \"GET /static/thumbs/3072_4608.png HTTP/1.1\" 200 -\n",
      "100.64.0.24 - - [05/May/2024 17:11:17] \"GET /static/thumbs/3072_6144.png HTTP/1.1\" 200 -\n",
      "100.64.0.24 - - [05/May/2024 17:11:17] \"GET /static/thumbs/3072_6656.png HTTP/1.1\" 200 -\n",
      "100.64.0.24 - - [05/May/2024 17:11:17] \"GET /static/thumbs/3072_5632.png HTTP/1.1\" 200 -\n",
      "100.64.0.24 - - [05/May/2024 17:11:17] \"GET /static/thumbs/3584_1024.png HTTP/1.1\" 200 -\n",
      "100.64.0.24 - - [05/May/2024 17:11:17] \"GET /static/thumbs/3072_7168.png HTTP/1.1\" 200 -\n",
      "100.64.0.24 - - [05/May/2024 17:11:17] \"GET /static/thumbs/3584_512.png HTTP/1.1\" 200 -\n",
      "100.64.0.24 - - [05/May/2024 17:11:17] \"GET /static/thumbs/3584_0.png HTTP/1.1\" 200 -\n",
      "100.64.0.24 - - [05/May/2024 17:11:17] \"GET /static/thumbs/3584_2048.png HTTP/1.1\" 200 -\n",
      "100.64.0.24 - - [05/May/2024 17:11:17] \"GET /static/thumbs/3584_1536.png HTTP/1.1\" 200 -\n",
      "100.64.0.24 - - [05/May/2024 17:11:17] \"GET /static/thumbs/3584_3072.png HTTP/1.1\" 200 -\n",
      "100.64.0.24 - - [05/May/2024 17:11:17] \"GET /static/thumbs/3584_2560.png HTTP/1.1\" 200 -\n",
      "100.64.0.24 - - [05/May/2024 17:11:17] \"GET /static/thumbs/3584_4096.png HTTP/1.1\" 200 -\n",
      "100.64.0.24 - - [05/May/2024 17:11:17] \"GET /static/thumbs/3584_3584.png HTTP/1.1\" 200 -\n",
      "100.64.0.24 - - [05/May/2024 17:11:17] \"GET /static/thumbs/3584_4608.png HTTP/1.1\" 200 -\n",
      "100.64.0.24 - - [05/May/2024 17:11:17] \"GET /static/thumbs/3584_5120.png HTTP/1.1\" 200 -\n",
      "100.64.0.24 - - [05/May/2024 17:11:17] \"GET /static/thumbs/3584_6656.png HTTP/1.1\" 200 -\n",
      "100.64.0.24 - - [05/May/2024 17:11:17] \"GET /static/thumbs/3584_5632.png HTTP/1.1\" 200 -\n",
      "100.64.0.24 - - [05/May/2024 17:11:17] \"GET /static/thumbs/4096_512.png HTTP/1.1\" 200 -\n",
      "100.64.0.24 - - [05/May/2024 17:11:17] \"GET /static/thumbs/3584_7168.png HTTP/1.1\" 200 -\n",
      "100.64.0.24 - - [05/May/2024 17:11:17] \"GET /static/thumbs/4096_0.png HTTP/1.1\" 200 -\n",
      "100.64.0.24 - - [05/May/2024 17:11:17] \"GET /static/thumbs/4096_2560.png HTTP/1.1\" 200 -\n",
      "100.64.0.24 - - [05/May/2024 17:11:17] \"GET /static/thumbs/4096_1024.png HTTP/1.1\" 200 -\n",
      "100.64.0.24 - - [05/May/2024 17:11:17] \"GET /static/thumbs/4096_3072.png HTTP/1.1\" 200 -\n",
      "100.64.0.24 - - [05/May/2024 17:11:17] \"GET /static/thumbs/5632_3584.png HTTP/1.1\" 200 -\n",
      "100.64.0.24 - - [05/May/2024 17:11:17] \"GET /static/thumbs/4096_3584.png HTTP/1.1\" 200 -\n",
      "100.64.0.24 - - [05/May/2024 17:11:17] \"GET /static/thumbs/7680_3072.png HTTP/1.1\" 200 -\n",
      "100.64.0.24 - - [05/May/2024 17:11:17] \"GET /static/thumbs/4096_2048.png HTTP/1.1\" 200 -\n",
      "100.64.0.24 - - [05/May/2024 17:11:17] \"GET /static/thumbs/5632_3072.png HTTP/1.1\" 200 -\n",
      "100.64.0.24 - - [05/May/2024 17:11:17] \"GET /static/thumbs/7680_2560.png HTTP/1.1\" 200 -\n",
      "100.64.0.24 - - [05/May/2024 17:11:17] \"GET /static/thumbs/4096_4096.png HTTP/1.1\" 200 -\n",
      "100.64.0.24 - - [05/May/2024 17:11:17] \"GET /static/thumbs/5632_5120.png HTTP/1.1\" 200 -\n",
      "100.64.0.24 - - [05/May/2024 17:11:17] \"GET /static/thumbs/4096_4608.png HTTP/1.1\" 200 -\n",
      "100.64.0.24 - - [05/May/2024 17:11:17] \"GET /static/thumbs/3584_6144.png HTTP/1.1\" 200 -\n",
      "100.64.0.24 - - [05/May/2024 17:11:17] \"GET /static/thumbs/4096_1536.png HTTP/1.1\" 200 -\n",
      "100.64.0.24 - - [05/May/2024 17:11:17] \"GET /static/thumbs/4096_5120.png HTTP/1.1\" 200 -\n",
      "100.64.0.24 - - [05/May/2024 17:11:17] \"GET /static/thumbs/5632_4608.png HTTP/1.1\" 200 -\n",
      "100.64.0.24 - - [05/May/2024 17:11:17] \"GET /static/thumbs/4608_0.png HTTP/1.1\" 200 -\n",
      "100.64.0.24 - - [05/May/2024 17:11:17] \"GET /static/thumbs/4608_6656.png HTTP/1.1\" 200 -\n",
      "100.64.0.24 - - [05/May/2024 17:11:17] \"GET /static/thumbs/5120_7168.png HTTP/1.1\" 200 -\n",
      "100.64.0.24 - - [05/May/2024 17:11:17] \"GET /static/thumbs/5632_4096.png HTTP/1.1\" 200 -\n",
      "100.64.0.24 - - [05/May/2024 17:11:17] \"GET /static/thumbs/4608_2048.png HTTP/1.1\" 200 -\n",
      "100.64.0.24 - - [05/May/2024 17:11:17] \"GET /static/thumbs/5120_4096.png HTTP/1.1\" 200 -\n",
      "100.64.0.24 - - [05/May/2024 17:11:17] \"GET /static/thumbs/4608_512.png HTTP/1.1\" 200 -\n",
      "100.64.0.24 - - [05/May/2024 17:11:17] \"GET /static/thumbs/4608_3072.png HTTP/1.1\" 200 -\n",
      "100.64.0.24 - - [05/May/2024 17:11:17] \"GET /static/thumbs/3072_3584.png HTTP/1.1\" 200 -\n",
      "100.64.0.24 - - [05/May/2024 17:11:17] \"GET /static/thumbs/4608_7168.png HTTP/1.1\" 200 -\n",
      "100.64.0.24 - - [05/May/2024 17:11:17] \"GET /static/thumbs/5120_4608.png HTTP/1.1\" 200 -\n",
      "100.64.0.24 - - [05/May/2024 17:11:17] \"GET /static/thumbs/4608_4096.png HTTP/1.1\" 200 -\n",
      "100.64.0.24 - - [05/May/2024 17:11:17] \"GET /static/thumbs/4608_3584.png HTTP/1.1\" 200 -\n",
      "100.64.0.24 - - [05/May/2024 17:11:17] \"GET /static/thumbs/5120_6144.png HTTP/1.1\" 200 -\n",
      "100.64.0.24 - - [05/May/2024 17:11:17] \"GET /static/thumbs/4096_7168.png HTTP/1.1\" 200 -\n",
      "100.64.0.24 - - [05/May/2024 17:11:17] \"GET /static/thumbs/4608_1024.png HTTP/1.1\" 200 -\n",
      "100.64.0.24 - - [05/May/2024 17:11:17] \"GET /static/thumbs/5120_2048.png HTTP/1.1\" 200 -\n",
      "100.64.0.24 - - [05/May/2024 17:11:17] \"GET /static/thumbs/4608_4608.png HTTP/1.1\" 200 -\n",
      "100.64.0.24 - - [05/May/2024 17:11:17] \"GET /static/thumbs/7168_0.png HTTP/1.1\" 200 -\n",
      "100.64.0.24 - - [05/May/2024 17:11:17] \"GET /static/thumbs/4608_6144.png HTTP/1.1\" 200 -\n",
      "100.64.0.24 - - [05/May/2024 17:11:17] \"GET /static/thumbs/5120_512.png HTTP/1.1\" 200 -\n",
      "100.64.0.24 - - [05/May/2024 17:11:17] \"GET /static/thumbs/4096_6656.png HTTP/1.1\" 200 -\n",
      "100.64.0.24 - - [05/May/2024 17:11:17] \"GET /static/thumbs/5120_5632.png HTTP/1.1\" 200 -\n",
      "100.64.0.24 - - [05/May/2024 17:11:17] \"GET /static/thumbs/4608_2560.png HTTP/1.1\" 200 -\n",
      "100.64.0.24 - - [05/May/2024 17:11:17] \"GET /static/thumbs/4608_1536.png HTTP/1.1\" 200 -\n",
      "100.64.0.24 - - [05/May/2024 17:11:17] \"GET /static/thumbs/5120_5120.png HTTP/1.1\" 200 -\n",
      "100.64.0.24 - - [05/May/2024 17:11:17] \"GET /static/thumbs/4096_5632.png HTTP/1.1\" 200 -\n",
      "100.64.0.24 - - [05/May/2024 17:11:17] \"GET /static/thumbs/5120_1024.png HTTP/1.1\" 200 -\n",
      "100.64.0.24 - - [05/May/2024 17:11:17] \"GET /static/thumbs/7168_2048.png HTTP/1.1\" 200 -\n",
      "100.64.0.24 - - [05/May/2024 17:11:17] \"GET /static/thumbs/7168_4608.png HTTP/1.1\" 200 -\n",
      "100.64.0.24 - - [05/May/2024 17:11:17] \"GET /static/thumbs/5120_0.png HTTP/1.1\" 200 -\n",
      "100.64.0.24 - - [05/May/2024 17:11:17] \"GET /static/thumbs/5120_3584.png HTTP/1.1\" 200 -\n",
      "100.64.0.24 - - [05/May/2024 17:11:17] \"GET /static/thumbs/5120_3072.png HTTP/1.1\" 200 -\n",
      "100.64.0.24 - - [05/May/2024 17:11:17] \"GET /static/thumbs/5120_2560.png HTTP/1.1\" 200 -\n",
      "100.64.0.24 - - [05/May/2024 17:11:18] \"GET /static/thumbs/5120_6656.png HTTP/1.1\" 200 -\n",
      "100.64.0.24 - - [05/May/2024 17:11:18] \"GET /static/thumbs/5632_1536.png HTTP/1.1\" 200 -\n",
      "100.64.0.24 - - [05/May/2024 17:11:18] \"GET /static/thumbs/7168_5632.png HTTP/1.1\" 200 -\n",
      "100.64.0.24 - - [05/May/2024 17:11:18] \"GET /static/thumbs/7168_5120.png HTTP/1.1\" 200 -\n",
      "100.64.0.24 - - [05/May/2024 17:11:18] \"GET /static/thumbs/5632_512.png HTTP/1.1\" 200 -\n",
      "100.64.0.24 - - [05/May/2024 17:11:18] \"GET /static/thumbs/7168_6144.png HTTP/1.1\" 200 -\n",
      "100.64.0.24 - - [05/May/2024 17:11:18] \"GET /static/thumbs/4096_6144.png HTTP/1.1\" 200 -\n",
      "100.64.0.24 - - [05/May/2024 17:11:18] \"GET /static/thumbs/5632_2048.png HTTP/1.1\" 200 -\n",
      "100.64.0.24 - - [05/May/2024 17:11:18] \"GET /static/thumbs/7168_7168.png HTTP/1.1\" 200 -\n",
      "100.64.0.24 - - [05/May/2024 17:11:18] \"GET /static/thumbs/7168_6656.png HTTP/1.1\" 200 -\n",
      "100.64.0.24 - - [05/May/2024 17:11:18] \"GET /static/thumbs/7168_1024.png HTTP/1.1\" 200 -\n",
      "100.64.0.24 - - [05/May/2024 17:11:18] \"GET /static/thumbs/5120_1536.png HTTP/1.1\" 200 -\n",
      "100.64.0.24 - - [05/May/2024 17:11:18] \"GET /static/thumbs/7168_512.png HTTP/1.1\" 200 -\n",
      "100.64.0.24 - - [05/May/2024 17:11:18] \"GET /static/thumbs/7168_2560.png HTTP/1.1\" 200 -\n",
      "100.64.0.24 - - [05/May/2024 17:11:18] \"GET /static/thumbs/5632_1024.png HTTP/1.1\" 200 -\n",
      "100.64.0.24 - - [05/May/2024 17:11:18] \"GET /static/thumbs/7168_1536.png HTTP/1.1\" 200 -\n",
      "100.64.0.24 - - [05/May/2024 17:11:18] \"GET /static/thumbs/6144_0.png HTTP/1.1\" 200 -\n",
      "100.64.0.24 - - [05/May/2024 17:11:18] \"GET /static/thumbs/6144_2560.png HTTP/1.1\" 200 -\n",
      "100.64.0.24 - - [05/May/2024 17:11:18] \"GET /static/thumbs/5632_0.png HTTP/1.1\" 200 -\n",
      "100.64.0.24 - - [05/May/2024 17:11:18] \"GET /static/thumbs/6144_512.png HTTP/1.1\" 200 -\n",
      "100.64.0.24 - - [05/May/2024 17:11:18] \"GET /static/thumbs/7680_512.png HTTP/1.1\" 200 -\n",
      "100.64.0.24 - - [05/May/2024 17:11:18] \"GET /static/thumbs/6144_1536.png HTTP/1.1\" 200 -\n",
      "100.64.0.24 - - [05/May/2024 17:11:18] \"GET /static/thumbs/6144_1024.png HTTP/1.1\" 200 -\n",
      "100.64.0.24 - - [05/May/2024 17:11:18] \"GET /static/thumbs/5632_7168.png HTTP/1.1\" 200 -\n",
      "100.64.0.24 - - [05/May/2024 17:11:18] \"GET /static/thumbs/7168_3072.png HTTP/1.1\" 200 -\n",
      "100.64.0.24 - - [05/May/2024 17:11:18] \"GET /static/thumbs/7168_3584.png HTTP/1.1\" 200 -\n",
      "100.64.0.24 - - [05/May/2024 17:11:18] \"GET /static/thumbs/6144_2048.png HTTP/1.1\" 200 -\n",
      "100.64.0.24 - - [05/May/2024 17:11:18] \"GET /static/thumbs/7680_0.png HTTP/1.1\" 200 -\n",
      "100.64.0.24 - - [05/May/2024 17:11:18] \"GET /static/thumbs/7680_1024.png HTTP/1.1\" 200 -\n",
      "100.64.0.24 - - [05/May/2024 17:11:18] \"GET /static/thumbs/7168_4096.png HTTP/1.1\" 200 -\n",
      "100.64.0.24 - - [05/May/2024 17:11:18] \"GET /static/thumbs/6144_3072.png HTTP/1.1\" 200 -\n",
      "100.64.0.24 - - [05/May/2024 17:11:18] \"GET /static/thumbs/5632_6656.png HTTP/1.1\" 200 -\n",
      "100.64.0.24 - - [05/May/2024 17:11:18] \"GET /static/thumbs/6144_4096.png HTTP/1.1\" 200 -\n",
      "100.64.0.24 - - [05/May/2024 17:11:18] \"GET /static/thumbs/6144_3584.png HTTP/1.1\" 200 -\n",
      "100.64.0.24 - - [05/May/2024 17:11:18] \"GET /static/thumbs/6144_5120.png HTTP/1.1\" 200 -\n",
      "100.64.0.24 - - [05/May/2024 17:11:18] \"GET /static/thumbs/6144_4608.png HTTP/1.1\" 200 -\n",
      "100.64.0.24 - - [05/May/2024 17:11:18] \"GET /static/thumbs/6144_5632.png HTTP/1.1\" 200 -\n",
      "100.64.0.24 - - [05/May/2024 17:11:18] \"GET /static/thumbs/6144_6144.png HTTP/1.1\" 200 -\n",
      "100.64.0.24 - - [05/May/2024 17:11:18] \"GET /static/thumbs/6144_6656.png HTTP/1.1\" 200 -\n",
      "100.64.0.24 - - [05/May/2024 17:11:18] \"GET /static/thumbs/6656_512.png HTTP/1.1\" 200 -\n",
      "100.64.0.24 - - [05/May/2024 17:11:18] \"GET /static/thumbs/6656_6144.png HTTP/1.1\" 200 -\n",
      "100.64.0.24 - - [05/May/2024 17:11:18] \"GET /static/thumbs/6656_2048.png HTTP/1.1\" 200 -\n",
      "100.64.0.24 - - [05/May/2024 17:11:18] \"GET /static/thumbs/6656_6656.png HTTP/1.1\" 200 -\n",
      "100.64.0.24 - - [05/May/2024 17:11:18] \"GET /static/thumbs/6656_4096.png HTTP/1.1\" 200 -\n",
      "100.64.0.24 - - [05/May/2024 17:11:18] \"GET /static/thumbs/6656_0.png HTTP/1.1\" 200 -\n",
      "100.64.0.24 - - [05/May/2024 17:11:18] \"GET /static/thumbs/6656_1024.png HTTP/1.1\" 200 -\n",
      "100.64.0.24 - - [05/May/2024 17:11:18] \"GET /static/thumbs/6144_7168.png HTTP/1.1\" 200 -\n",
      "100.64.0.24 - - [05/May/2024 17:11:18] \"GET /static/thumbs/6656_1536.png HTTP/1.1\" 200 -\n",
      "100.64.0.24 - - [05/May/2024 17:11:18] \"GET /static/thumbs/7680_4608.png HTTP/1.1\" 200 -\n",
      "100.64.0.24 - - [05/May/2024 17:11:18] \"GET /static/thumbs/6656_3072.png HTTP/1.1\" 200 -\n",
      "100.64.0.24 - - [05/May/2024 17:11:18] \"GET /static/thumbs/6656_3584.png HTTP/1.1\" 200 -\n",
      "100.64.0.24 - - [05/May/2024 17:11:18] \"GET /static/thumbs/6656_2560.png HTTP/1.1\" 200 -\n",
      "100.64.0.24 - - [05/May/2024 17:11:18] \"GET /static/thumbs/6656_4608.png HTTP/1.1\" 200 -\n",
      "100.64.0.24 - - [05/May/2024 17:11:18] \"GET /static/thumbs/7680_3584.png HTTP/1.1\" 200 -\n",
      "100.64.0.24 - - [05/May/2024 17:11:18] \"GET /static/thumbs/7680_4096.png HTTP/1.1\" 200 -\n",
      "100.64.0.24 - - [05/May/2024 17:11:18] \"GET /static/thumbs/6656_5120.png HTTP/1.1\" 200 -\n",
      "100.64.0.24 - - [05/May/2024 17:11:18] \"GET /static/thumbs/7680_1536.png HTTP/1.1\" 200 -\n",
      "100.64.0.24 - - [05/May/2024 17:11:18] \"GET /static/thumbs/7680_2048.png HTTP/1.1\" 200 -\n",
      "100.64.0.24 - - [05/May/2024 17:11:18] \"GET /static/thumbs/7680_5120.png HTTP/1.1\" 200 -\n",
      "100.64.0.24 - - [05/May/2024 17:11:18] \"GET /static/thumbs/7680_5632.png HTTP/1.1\" 200 -\n",
      "100.64.0.24 - - [05/May/2024 17:11:18] \"GET /static/thumbs/7680_6144.png HTTP/1.1\" 200 -\n",
      "100.64.0.24 - - [05/May/2024 17:11:18] \"GET /static/thumbs/6656_5632.png HTTP/1.1\" 200 -\n",
      "100.64.0.24 - - [05/May/2024 17:11:18] \"GET /static/thumbs/7680_6656.png HTTP/1.1\" 200 -\n",
      "100.64.0.24 - - [05/May/2024 17:11:18] \"GET /static/thumbs/6656_7168.png HTTP/1.1\" 200 -\n",
      "100.64.0.24 - - [05/May/2024 17:11:18] \"GET /static/thumbs/8192_1536.png HTTP/1.1\" 200 -\n",
      "100.64.0.24 - - [05/May/2024 17:11:18] \"GET /static/thumbs/7680_7168.png HTTP/1.1\" 200 -\n",
      "100.64.0.24 - - [05/May/2024 17:11:18] \"GET /static/thumbs/8192_0.png HTTP/1.1\" 200 -\n",
      "100.64.0.24 - - [05/May/2024 17:11:18] \"GET /static/thumbs/8192_3072.png HTTP/1.1\" 200 -\n",
      "100.64.0.24 - - [05/May/2024 17:11:18] \"GET /static/thumbs/8192_1024.png HTTP/1.1\" 200 -\n",
      "100.64.0.24 - - [05/May/2024 17:11:18] \"GET /static/thumbs/8192_2048.png HTTP/1.1\" 200 -\n",
      "100.64.0.24 - - [05/May/2024 17:11:18] \"GET /static/thumbs/8192_512.png HTTP/1.1\" 200 -\n",
      "100.64.0.24 - - [05/May/2024 17:11:18] \"GET /static/thumbs/8192_3584.png HTTP/1.1\" 200 -\n",
      "100.64.0.24 - - [05/May/2024 17:11:18] \"GET /static/thumbs/8192_4096.png HTTP/1.1\" 200 -\n",
      "100.64.0.24 - - [05/May/2024 17:11:18] \"GET /static/thumbs/8192_2560.png HTTP/1.1\" 200 -\n",
      "100.64.0.24 - - [05/May/2024 17:11:18] \"GET /static/thumbs/8192_5120.png HTTP/1.1\" 200 -\n",
      "100.64.0.24 - - [05/May/2024 17:11:18] \"GET /static/thumbs/8192_4608.png HTTP/1.1\" 200 -\n",
      "100.64.0.24 - - [05/May/2024 17:11:18] \"GET /static/thumbs/8192_5632.png HTTP/1.1\" 200 -\n",
      "100.64.0.24 - - [05/May/2024 17:11:18] \"GET /static/thumbs/8192_6144.png HTTP/1.1\" 200 -\n",
      "100.64.0.24 - - [05/May/2024 17:11:18] \"GET /static/thumbs/8192_6656.png HTTP/1.1\" 200 -\n",
      "100.64.0.24 - - [05/May/2024 17:11:18] \"GET /static/thumbs/5632_2560.png HTTP/1.1\" 200 -\n",
      "100.64.0.24 - - [05/May/2024 17:11:18] \"GET /static/thumbs/5632_5632.png HTTP/1.1\" 200 -\n",
      "100.64.0.24 - - [05/May/2024 17:11:18] \"GET /static/thumbs/5632_6144.png HTTP/1.1\" 200 -\n",
      "100.64.0.24 - - [05/May/2024 17:11:18] \"GET /static/thumbs/8192_7168.png HTTP/1.1\" 200 -\n",
      "100.64.0.24 - - [05/May/2024 17:11:20] \"GET /favicon.ico HTTP/1.1\" 404 -\n"
     ]
    },
    {
     "name": "stdout",
     "output_type": "stream",
     "text": [
      "Overlay moved to position: (512, 0)\n"
     ]
    },
    {
     "name": "stderr",
     "output_type": "stream",
     "text": [
      "100.64.0.20 - - [05/May/2024 17:11:20] \"GET / HTTP/1.1\" 200 -\n"
     ]
    },
    {
     "name": "stdout",
     "output_type": "stream",
     "text": [
      "Overlay moved to position: (1024, 0)\n"
     ]
    },
    {
     "name": "stderr",
     "output_type": "stream",
     "text": [
      "100.64.0.20 - - [05/May/2024 17:11:20] \"GET /static/thumbs/0_0.png HTTP/1.1\" 200 -\n",
      "100.64.0.20 - - [05/May/2024 17:11:20] \"GET /static/thumbs/0_512.png HTTP/1.1\" 200 -\n"
     ]
    },
    {
     "name": "stdout",
     "output_type": "stream",
     "text": [
      "Overlay moved to position: (1536, 0)\n"
     ]
    },
    {
     "name": "stderr",
     "output_type": "stream",
     "text": [
      "100.64.0.20 - - [05/May/2024 17:11:21] \"GET /static/thumbs/0_1024.png HTTP/1.1\" 200 -\n",
      "100.64.0.20 - - [05/May/2024 17:11:21] \"GET /static/thumbs/0_4608.png HTTP/1.1\" 200 -\n",
      "100.64.0.20 - - [05/May/2024 17:11:21] \"GET /static/thumbs/0_3072.png HTTP/1.1\" 200 -\n",
      "100.64.0.20 - - [05/May/2024 17:11:21] \"GET /static/thumbs/0_4096.png HTTP/1.1\" 200 -\n",
      "100.64.0.20 - - [05/May/2024 17:11:21] \"GET /static/thumbs/512_5632.png HTTP/1.1\" 200 -\n",
      "100.64.0.20 - - [05/May/2024 17:11:21] \"GET /static/thumbs/0_7168.png HTTP/1.1\" 200 -\n",
      "100.64.0.20 - - [05/May/2024 17:11:21] \"GET /static/thumbs/0_2560.png HTTP/1.1\" 200 -\n",
      "100.64.0.20 - - [05/May/2024 17:11:21] \"GET /static/thumbs/512_4608.png HTTP/1.1\" 200 -\n",
      "100.64.0.20 - - [05/May/2024 17:11:21] \"GET /static/thumbs/512_1024.png HTTP/1.1\" 200 -\n",
      "100.64.0.20 - - [05/May/2024 17:11:21] \"GET /static/thumbs/0_2048.png HTTP/1.1\" 200 -\n",
      "100.64.0.20 - - [05/May/2024 17:11:21] \"GET /static/thumbs/512_4096.png HTTP/1.1\" 200 -\n",
      "100.64.0.20 - - [05/May/2024 17:11:21] \"GET /static/thumbs/512_2560.png HTTP/1.1\" 200 -\n",
      "100.64.0.20 - - [05/May/2024 17:11:21] \"GET /static/thumbs/1024_5120.png HTTP/1.1\" 200 -\n",
      "100.64.0.20 - - [05/May/2024 17:11:21] \"GET /static/thumbs/1536_7168.png HTTP/1.1\" 200 -\n",
      "100.64.0.20 - - [05/May/2024 17:11:21] \"GET /static/thumbs/0_1536.png HTTP/1.1\" 200 -\n",
      "100.64.0.20 - - [05/May/2024 17:11:21] \"GET /static/thumbs/512_3072.png HTTP/1.1\" 200 -\n",
      "100.64.0.20 - - [05/May/2024 17:11:21] \"GET /static/thumbs/512_3584.png HTTP/1.1\" 200 -\n",
      "100.64.0.20 - - [05/May/2024 17:11:21] \"GET /static/thumbs/512_5120.png HTTP/1.1\" 200 -\n",
      "100.64.0.20 - - [05/May/2024 17:11:21] \"GET /static/thumbs/512_512.png HTTP/1.1\" 200 -\n",
      "100.64.0.20 - - [05/May/2024 17:11:21] \"GET /static/thumbs/1024_0.png HTTP/1.1\" 200 -\n",
      "100.64.0.20 - - [05/May/2024 17:11:21] \"GET /static/thumbs/1536_1536.png HTTP/1.1\" 200 -\n",
      "100.64.0.20 - - [05/May/2024 17:11:21] \"GET /static/thumbs/1536_5120.png HTTP/1.1\" 200 -\n",
      "100.64.0.20 - - [05/May/2024 17:11:21] \"GET /static/thumbs/1024_1024.png HTTP/1.1\" 200 -\n",
      "100.64.0.20 - - [05/May/2024 17:11:21] \"GET /static/thumbs/0_3584.png HTTP/1.1\" 200 -\n",
      "100.64.0.20 - - [05/May/2024 17:11:21] \"GET /static/thumbs/512_1536.png HTTP/1.1\" 200 -\n",
      "100.64.0.20 - - [05/May/2024 17:11:21] \"GET /static/thumbs/1024_6656.png HTTP/1.1\" 200 -\n",
      "100.64.0.20 - - [05/May/2024 17:11:21] \"GET /static/thumbs/1024_5632.png HTTP/1.1\" 200 -\n",
      "100.64.0.20 - - [05/May/2024 17:11:21] \"GET /static/thumbs/2048_3072.png HTTP/1.1\" 200 -\n",
      "100.64.0.20 - - [05/May/2024 17:11:21] \"GET /static/thumbs/0_6656.png HTTP/1.1\" 200 -\n",
      "100.64.0.20 - - [05/May/2024 17:11:21] \"GET /static/thumbs/1536_3072.png HTTP/1.1\" 200 -\n",
      "100.64.0.20 - - [05/May/2024 17:11:21] \"GET /static/thumbs/512_6656.png HTTP/1.1\" 200 -\n",
      "100.64.0.20 - - [05/May/2024 17:11:21] \"GET /static/thumbs/1024_4608.png HTTP/1.1\" 200 -\n",
      "100.64.0.20 - - [05/May/2024 17:11:21] \"GET /static/thumbs/1024_2048.png HTTP/1.1\" 200 -\n",
      "100.64.0.20 - - [05/May/2024 17:11:21] \"GET /static/thumbs/1536_1024.png HTTP/1.1\" 200 -\n",
      "100.64.0.20 - - [05/May/2024 17:11:21] \"GET /static/thumbs/512_2048.png HTTP/1.1\" 200 -\n",
      "100.64.0.20 - - [05/May/2024 17:11:21] \"GET /static/thumbs/512_6144.png HTTP/1.1\" 200 -\n",
      "100.64.0.20 - - [05/May/2024 17:11:21] \"GET /static/thumbs/2048_1536.png HTTP/1.1\" 200 -\n",
      "100.64.0.20 - - [05/May/2024 17:11:21] \"GET /static/thumbs/512_7168.png HTTP/1.1\" 200 -\n",
      "100.64.0.20 - - [05/May/2024 17:11:21] \"GET /static/thumbs/1024_1536.png HTTP/1.1\" 200 -\n",
      "100.64.0.20 - - [05/May/2024 17:11:21] \"GET /static/thumbs/1536_4096.png HTTP/1.1\" 200 -\n",
      "100.64.0.20 - - [05/May/2024 17:11:21] \"GET /static/thumbs/512_0.png HTTP/1.1\" 200 -\n",
      "100.64.0.20 - - [05/May/2024 17:11:21] \"GET /static/thumbs/1536_512.png HTTP/1.1\" 200 -\n",
      "100.64.0.20 - - [05/May/2024 17:11:21] \"GET /static/thumbs/2048_2048.png HTTP/1.1\" 200 -\n",
      "100.64.0.20 - - [05/May/2024 17:11:21] \"GET /static/thumbs/1536_5632.png HTTP/1.1\" 200 -\n",
      "100.64.0.20 - - [05/May/2024 17:11:21] \"GET /static/thumbs/1536_4608.png HTTP/1.1\" 200 -\n",
      "100.64.0.20 - - [05/May/2024 17:11:21] \"GET /static/thumbs/1024_512.png HTTP/1.1\" 200 -\n",
      "100.64.0.20 - - [05/May/2024 17:11:21] \"GET /static/thumbs/1536_3584.png HTTP/1.1\" 200 -\n",
      "100.64.0.20 - - [05/May/2024 17:11:21] \"GET /static/thumbs/1024_2560.png HTTP/1.1\" 200 -\n",
      "100.64.0.20 - - [05/May/2024 17:11:21] \"GET /static/thumbs/1536_6656.png HTTP/1.1\" 200 -\n",
      "100.64.0.20 - - [05/May/2024 17:11:21] \"GET /static/thumbs/1024_3072.png HTTP/1.1\" 200 -\n",
      "100.64.0.20 - - [05/May/2024 17:11:21] \"GET /static/thumbs/2048_512.png HTTP/1.1\" 200 -\n",
      "100.64.0.20 - - [05/May/2024 17:11:21] \"GET /static/thumbs/2048_0.png HTTP/1.1\" 200 -\n",
      "100.64.0.20 - - [05/May/2024 17:11:21] \"GET /static/thumbs/1024_4096.png HTTP/1.1\" 200 -\n",
      "100.64.0.20 - - [05/May/2024 17:11:21] \"GET /static/thumbs/1024_3584.png HTTP/1.1\" 200 -\n",
      "100.64.0.20 - - [05/May/2024 17:11:21] \"GET /static/thumbs/1536_0.png HTTP/1.1\" 200 -\n",
      "100.64.0.20 - - [05/May/2024 17:11:21] \"GET /static/thumbs/1024_7168.png HTTP/1.1\" 200 -\n",
      "100.64.0.20 - - [05/May/2024 17:11:21] \"GET /static/thumbs/1536_2560.png HTTP/1.1\" 200 -\n",
      "100.64.0.20 - - [05/May/2024 17:11:21] \"GET /static/thumbs/1024_6144.png HTTP/1.1\" 200 -\n",
      "100.64.0.20 - - [05/May/2024 17:11:21] \"GET /static/thumbs/0_5632.png HTTP/1.1\" 200 -\n",
      "100.64.0.20 - - [05/May/2024 17:11:21] \"GET /static/thumbs/0_6144.png HTTP/1.1\" 200 -\n",
      "100.64.0.20 - - [05/May/2024 17:11:21] \"GET /static/thumbs/0_5120.png HTTP/1.1\" 200 -\n",
      "100.64.0.20 - - [05/May/2024 17:11:21] \"GET /static/thumbs/2048_1024.png HTTP/1.1\" 200 -\n",
      "100.64.0.20 - - [05/May/2024 17:11:21] \"GET /static/thumbs/1536_2048.png HTTP/1.1\" 200 -\n",
      "100.64.0.20 - - [05/May/2024 17:11:21] \"GET /static/thumbs/1536_6144.png HTTP/1.1\" 200 -\n",
      "100.64.0.20 - - [05/May/2024 17:11:21] \"GET /static/thumbs/2048_2560.png HTTP/1.1\" 200 -\n",
      "100.64.0.20 - - [05/May/2024 17:11:22] \"GET /static/thumbs/2560_512.png HTTP/1.1\" 200 -\n",
      "100.64.0.20 - - [05/May/2024 17:11:22] \"GET /static/thumbs/2048_6144.png HTTP/1.1\" 200 -\n",
      "100.64.0.20 - - [05/May/2024 17:11:22] \"GET /static/thumbs/2048_6656.png HTTP/1.1\" 200 -\n",
      "100.64.0.20 - - [05/May/2024 17:11:22] \"GET /static/thumbs/2560_6144.png HTTP/1.1\" 200 -\n",
      "100.64.0.20 - - [05/May/2024 17:11:22] \"GET /static/thumbs/2048_4608.png HTTP/1.1\" 200 -\n",
      "100.64.0.20 - - [05/May/2024 17:11:22] \"GET /static/thumbs/2048_5632.png HTTP/1.1\" 200 -\n",
      "100.64.0.20 - - [05/May/2024 17:11:22] \"GET /static/thumbs/2048_5120.png HTTP/1.1\" 200 -\n",
      "100.64.0.20 - - [05/May/2024 17:11:22] \"GET /static/thumbs/2048_7168.png HTTP/1.1\" 200 -\n",
      "100.64.0.20 - - [05/May/2024 17:11:22] \"GET /static/thumbs/3072_1024.png HTTP/1.1\" 200 -\n",
      "100.64.0.20 - - [05/May/2024 17:11:22] \"GET /static/thumbs/2560_1024.png HTTP/1.1\" 200 -\n",
      "100.64.0.20 - - [05/May/2024 17:11:22] \"GET /static/thumbs/2560_4096.png HTTP/1.1\" 200 -\n",
      "100.64.0.20 - - [05/May/2024 17:11:22] \"GET /static/thumbs/2560_2048.png HTTP/1.1\" 200 -\n",
      "100.64.0.20 - - [05/May/2024 17:11:22] \"GET /static/thumbs/2560_0.png HTTP/1.1\" 200 -\n",
      "100.64.0.20 - - [05/May/2024 17:11:22] \"GET /static/thumbs/2048_4096.png HTTP/1.1\" 200 -\n",
      "100.64.0.20 - - [05/May/2024 17:11:22] \"GET /static/thumbs/2560_4608.png HTTP/1.1\" 200 -\n",
      "100.64.0.20 - - [05/May/2024 17:11:22] \"GET /static/thumbs/2560_3584.png HTTP/1.1\" 200 -\n",
      "100.64.0.20 - - [05/May/2024 17:11:22] \"GET /static/thumbs/3072_6656.png HTTP/1.1\" 200 -\n",
      "100.64.0.20 - - [05/May/2024 17:11:22] \"GET /static/thumbs/2560_7168.png HTTP/1.1\" 200 -\n",
      "100.64.0.20 - - [05/May/2024 17:11:22] \"GET /static/thumbs/3072_2560.png HTTP/1.1\" 200 -\n",
      "100.64.0.20 - - [05/May/2024 17:11:22] \"GET /static/thumbs/3072_6144.png HTTP/1.1\" 200 -\n",
      "100.64.0.20 - - [05/May/2024 17:11:22] \"GET /static/thumbs/3072_3072.png HTTP/1.1\" 200 -\n",
      "100.64.0.20 - - [05/May/2024 17:11:22] \"GET /static/thumbs/2560_2560.png HTTP/1.1\" 200 -\n",
      "100.64.0.20 - - [05/May/2024 17:11:22] \"GET /static/thumbs/3584_1024.png HTTP/1.1\" 200 -\n",
      "100.64.0.20 - - [05/May/2024 17:11:22] \"GET /static/thumbs/2048_3584.png HTTP/1.1\" 200 -\n",
      "100.64.0.20 - - [05/May/2024 17:11:22] \"GET /static/thumbs/2560_1536.png HTTP/1.1\" 200 -\n",
      "100.64.0.20 - - [05/May/2024 17:11:22] \"GET /static/thumbs/3072_512.png HTTP/1.1\" 200 -\n",
      "100.64.0.20 - - [05/May/2024 17:11:22] \"GET /static/thumbs/3072_4096.png HTTP/1.1\" 200 -\n",
      "100.64.0.20 - - [05/May/2024 17:11:22] \"GET /static/thumbs/2560_5120.png HTTP/1.1\" 200 -\n",
      "100.64.0.20 - - [05/May/2024 17:11:22] \"GET /static/thumbs/3072_3584.png HTTP/1.1\" 200 -\n",
      "100.64.0.20 - - [05/May/2024 17:11:22] \"GET /static/thumbs/2560_3072.png HTTP/1.1\" 200 -\n",
      "100.64.0.20 - - [05/May/2024 17:11:22] \"GET /static/thumbs/4096_5120.png HTTP/1.1\" 200 -\n",
      "100.64.0.20 - - [05/May/2024 17:11:22] \"GET /static/thumbs/2560_5632.png HTTP/1.1\" 200 -\n",
      "100.64.0.20 - - [05/May/2024 17:11:22] \"GET /static/thumbs/4608_0.png HTTP/1.1\" 200 -\n",
      "100.64.0.20 - - [05/May/2024 17:11:22] \"GET /static/thumbs/3072_7168.png HTTP/1.1\" 200 -\n",
      "100.64.0.20 - - [05/May/2024 17:11:22] \"GET /static/thumbs/3072_1536.png HTTP/1.1\" 200 -\n",
      "100.64.0.24 - - [05/May/2024 17:11:22] \"POST /update_position HTTP/1.1\" 200 -\n",
      "100.64.0.24 - - [05/May/2024 17:11:22] \"POST /update_position HTTP/1.1\" 200 -\n",
      "100.64.0.24 - - [05/May/2024 17:11:22] \"POST /update_position HTTP/1.1\" 200 -\n",
      "100.64.0.20 - - [05/May/2024 17:11:22] \"GET /static/thumbs/3072_5120.png HTTP/1.1\" 200 -\n",
      "100.64.0.24 - - [05/May/2024 17:11:22] \"POST /update_position HTTP/1.1\" 200 -\n",
      "100.64.0.24 - - [05/May/2024 17:11:22] \"POST /update_position HTTP/1.1\" 200 -\n",
      "100.64.0.20 - - [05/May/2024 17:11:22] \"GET /static/thumbs/3584_1536.png HTTP/1.1\" 200 -\n",
      "100.64.0.24 - - [05/May/2024 17:11:22] \"POST /update_position HTTP/1.1\" 200 -\n",
      "100.64.0.24 - - [05/May/2024 17:11:22] \"POST /update_position HTTP/1.1\" 200 -\n",
      "100.64.0.20 - - [05/May/2024 17:11:22] \"GET /static/thumbs/3072_5632.png HTTP/1.1\" 200 -\n",
      "100.64.0.24 - - [05/May/2024 17:11:22] \"POST /update_position HTTP/1.1\" 200 -\n",
      "100.64.0.24 - - [05/May/2024 17:11:22] \"POST /update_position HTTP/1.1\" 200 -\n",
      "100.64.0.24 - - [05/May/2024 17:11:22] \"POST /update_position HTTP/1.1\" 200 -\n",
      "100.64.0.24 - - [05/May/2024 17:11:22] \"POST /update_position HTTP/1.1\" 200 -\n",
      "100.64.0.24 - - [05/May/2024 17:11:22] \"POST /update_position HTTP/1.1\" 200 -\n",
      "100.64.0.20 - - [05/May/2024 17:11:22] \"GET /static/thumbs/3584_0.png HTTP/1.1\" 200 -\n",
      "100.64.0.20 - - [05/May/2024 17:11:22] \"GET /static/thumbs/3584_3584.png HTTP/1.1\" 200 -\n",
      "100.64.0.20 - - [05/May/2024 17:11:22] \"GET /static/thumbs/3072_4608.png HTTP/1.1\" 200 -\n",
      "100.64.0.20 - - [05/May/2024 17:11:22] \"GET /static/thumbs/3584_2048.png HTTP/1.1\" 200 -\n",
      "100.64.0.20 - - [05/May/2024 17:11:22] \"GET /static/thumbs/3584_2560.png HTTP/1.1\" 200 -\n",
      "100.64.0.20 - - [05/May/2024 17:11:22] \"GET /static/thumbs/3072_0.png HTTP/1.1\" 200 -\n",
      "100.64.0.20 - - [05/May/2024 17:11:22] \"GET /static/thumbs/3072_2048.png HTTP/1.1\" 200 -\n",
      "100.64.0.20 - - [05/May/2024 17:11:22] \"GET /static/thumbs/3584_4096.png HTTP/1.1\" 200 -\n",
      "100.64.0.20 - - [05/May/2024 17:11:22] \"GET /static/thumbs/4608_5120.png HTTP/1.1\" 200 -\n",
      "100.64.0.20 - - [05/May/2024 17:11:22] \"GET /static/thumbs/4608_2048.png HTTP/1.1\" 200 -\n",
      "100.64.0.20 - - [05/May/2024 17:11:22] \"GET /static/thumbs/4096_6144.png HTTP/1.1\" 200 -\n",
      "100.64.0.20 - - [05/May/2024 17:11:22] \"GET /static/thumbs/2560_6656.png HTTP/1.1\" 200 -\n",
      "100.64.0.20 - - [05/May/2024 17:11:22] \"GET /static/thumbs/4608_4096.png HTTP/1.1\" 200 -\n",
      "100.64.0.20 - - [05/May/2024 17:11:22] \"GET /static/thumbs/4096_4608.png HTTP/1.1\" 200 -\n",
      "100.64.0.20 - - [05/May/2024 17:11:22] \"GET /static/thumbs/4608_6144.png HTTP/1.1\" 200 -\n",
      "100.64.0.20 - - [05/May/2024 17:11:22] \"GET /static/thumbs/4096_7168.png HTTP/1.1\" 200 -\n",
      "100.64.0.20 - - [05/May/2024 17:11:22] \"GET /static/thumbs/4608_4608.png HTTP/1.1\" 200 -\n",
      "100.64.0.20 - - [05/May/2024 17:11:22] \"GET /static/thumbs/4096_1024.png HTTP/1.1\" 200 -\n",
      "100.64.0.20 - - [05/May/2024 17:11:22] \"GET /static/thumbs/3584_6144.png HTTP/1.1\" 200 -\n",
      "100.64.0.20 - - [05/May/2024 17:11:22] \"GET /static/thumbs/4608_6656.png HTTP/1.1\" 200 -\n",
      "100.64.0.20 - - [05/May/2024 17:11:22] \"GET /static/thumbs/4608_3072.png HTTP/1.1\" 200 -\n",
      "100.64.0.20 - - [05/May/2024 17:11:22] \"GET /static/thumbs/4096_6656.png HTTP/1.1\" 200 -\n",
      "100.64.0.20 - - [05/May/2024 17:11:22] \"GET /static/thumbs/4608_3584.png HTTP/1.1\" 200 -\n",
      "100.64.0.20 - - [05/May/2024 17:11:22] \"GET /static/thumbs/4096_3072.png HTTP/1.1\" 200 -\n",
      "100.64.0.20 - - [05/May/2024 17:11:22] \"GET /static/thumbs/4096_512.png HTTP/1.1\" 200 -\n",
      "100.64.0.20 - - [05/May/2024 17:11:22] \"GET /static/thumbs/4608_1024.png HTTP/1.1\" 200 -\n",
      "100.64.0.20 - - [05/May/2024 17:11:22] \"GET /static/thumbs/4608_5632.png HTTP/1.1\" 200 -\n",
      "100.64.0.20 - - [05/May/2024 17:11:22] \"GET /static/thumbs/3584_3072.png HTTP/1.1\" 200 -\n",
      "100.64.0.20 - - [05/May/2024 17:11:22] \"GET /static/thumbs/4608_1536.png HTTP/1.1\" 200 -\n",
      "100.64.0.20 - - [05/May/2024 17:11:22] \"GET /static/thumbs/4096_2560.png HTTP/1.1\" 200 -\n",
      "100.64.0.20 - - [05/May/2024 17:11:22] \"GET /static/thumbs/3584_4608.png HTTP/1.1\" 200 -\n",
      "100.64.0.20 - - [05/May/2024 17:11:22] \"GET /static/thumbs/3584_5120.png HTTP/1.1\" 200 -\n",
      "100.64.0.20 - - [05/May/2024 17:11:22] \"GET /static/thumbs/4096_2048.png HTTP/1.1\" 200 -\n",
      "100.64.0.20 - - [05/May/2024 17:11:22] \"GET /static/thumbs/4608_512.png HTTP/1.1\" 200 -\n",
      "100.64.0.20 - - [05/May/2024 17:11:22] \"GET /static/thumbs/3584_512.png HTTP/1.1\" 200 -\n",
      "100.64.0.20 - - [05/May/2024 17:11:22] \"GET /static/thumbs/4096_3584.png HTTP/1.1\" 200 -\n",
      "100.64.0.20 - - [05/May/2024 17:11:22] \"GET /static/thumbs/3584_7168.png HTTP/1.1\" 200 -\n",
      "100.64.0.20 - - [05/May/2024 17:11:22] \"GET /static/thumbs/4608_2560.png HTTP/1.1\" 200 -\n",
      "100.64.0.20 - - [05/May/2024 17:11:22] \"GET /static/thumbs/4096_5632.png HTTP/1.1\" 200 -\n",
      "100.64.0.20 - - [05/May/2024 17:11:22] \"GET /static/thumbs/4096_1536.png HTTP/1.1\" 200 -\n",
      "100.64.0.20 - - [05/May/2024 17:11:22] \"GET /static/thumbs/4096_4096.png HTTP/1.1\" 200 -\n",
      "100.64.0.20 - - [05/May/2024 17:11:22] \"GET /static/thumbs/3584_5632.png HTTP/1.1\" 200 -\n",
      "100.64.0.20 - - [05/May/2024 17:11:22] \"GET /static/thumbs/3584_6656.png HTTP/1.1\" 200 -\n",
      "100.64.0.20 - - [05/May/2024 17:11:22] \"GET /static/thumbs/4096_0.png HTTP/1.1\" 200 -\n",
      "100.64.0.20 - - [05/May/2024 17:11:22] \"GET /static/thumbs/5120_1024.png HTTP/1.1\" 200 -\n",
      "100.64.0.20 - - [05/May/2024 17:11:22] \"GET /static/thumbs/4608_7168.png HTTP/1.1\" 200 -\n",
      "100.64.0.20 - - [05/May/2024 17:11:22] \"GET /static/thumbs/5120_512.png HTTP/1.1\" 200 -\n",
      "100.64.0.20 - - [05/May/2024 17:11:22] \"GET /static/thumbs/5120_0.png HTTP/1.1\" 200 -\n",
      "100.64.0.20 - - [05/May/2024 17:11:22] \"GET /static/thumbs/5120_1536.png HTTP/1.1\" 200 -\n",
      "100.64.0.20 - - [05/May/2024 17:11:22] \"GET /static/thumbs/5120_7168.png HTTP/1.1\" 200 -\n",
      "100.64.0.20 - - [05/May/2024 17:11:22] \"GET /static/thumbs/5120_2048.png HTTP/1.1\" 200 -\n",
      "100.64.0.20 - - [05/May/2024 17:11:22] \"GET /static/thumbs/5120_2560.png HTTP/1.1\" 200 -\n",
      "100.64.0.20 - - [05/May/2024 17:11:22] \"GET /static/thumbs/5120_5120.png HTTP/1.1\" 200 -\n",
      "100.64.0.20 - - [05/May/2024 17:11:22] \"GET /static/thumbs/5120_4096.png HTTP/1.1\" 200 -\n",
      "100.64.0.20 - - [05/May/2024 17:11:22] \"GET /static/thumbs/5120_3584.png HTTP/1.1\" 200 -\n",
      "100.64.0.20 - - [05/May/2024 17:11:22] \"GET /static/thumbs/5120_3072.png HTTP/1.1\" 200 -\n",
      "100.64.0.20 - - [05/May/2024 17:11:22] \"GET /static/thumbs/5120_6144.png HTTP/1.1\" 200 -\n",
      "100.64.0.20 - - [05/May/2024 17:11:22] \"GET /static/thumbs/5120_6656.png HTTP/1.1\" 200 -\n",
      "100.64.0.20 - - [05/May/2024 17:11:22] \"GET /static/thumbs/5120_5632.png HTTP/1.1\" 200 -\n",
      "100.64.0.20 - - [05/May/2024 17:11:22] \"GET /static/thumbs/5632_0.png HTTP/1.1\" 200 -\n",
      "100.64.0.20 - - [05/May/2024 17:11:22] \"GET /static/thumbs/5120_4608.png HTTP/1.1\" 200 -\n",
      "100.64.0.20 - - [05/May/2024 17:11:22] \"GET /static/thumbs/5632_512.png HTTP/1.1\" 200 -\n",
      "100.64.0.20 - - [05/May/2024 17:11:22] \"GET /static/thumbs/6144_0.png HTTP/1.1\" 200 -\n",
      "100.64.0.20 - - [05/May/2024 17:11:22] \"GET /static/thumbs/6656_5632.png HTTP/1.1\" 200 -\n",
      "100.64.0.20 - - [05/May/2024 17:11:22] \"GET /static/thumbs/6144_512.png HTTP/1.1\" 200 -\n",
      "100.64.0.20 - - [05/May/2024 17:11:22] \"GET /static/thumbs/6656_4608.png HTTP/1.1\" 200 -\n",
      "100.64.0.20 - - [05/May/2024 17:11:22] \"GET /static/thumbs/6656_2048.png HTTP/1.1\" 200 -\n",
      "100.64.0.20 - - [05/May/2024 17:11:22] \"GET /static/thumbs/7168_5120.png HTTP/1.1\" 200 -\n",
      "100.64.0.20 - - [05/May/2024 17:11:22] \"GET /static/thumbs/6656_5120.png HTTP/1.1\" 200 -\n",
      "100.64.0.20 - - [05/May/2024 17:11:22] \"GET /static/thumbs/6656_4096.png HTTP/1.1\" 200 -\n",
      "100.64.0.20 - - [05/May/2024 17:11:22] \"GET /static/thumbs/7168_6144.png HTTP/1.1\" 200 -\n",
      "100.64.0.20 - - [05/May/2024 17:11:22] \"GET /static/thumbs/6144_1024.png HTTP/1.1\" 200 -\n",
      "100.64.0.20 - - [05/May/2024 17:11:22] \"GET /static/thumbs/6656_6656.png HTTP/1.1\" 200 -\n",
      "100.64.0.20 - - [05/May/2024 17:11:22] \"GET /static/thumbs/6144_7168.png HTTP/1.1\" 200 -\n",
      "100.64.0.20 - - [05/May/2024 17:11:22] \"GET /static/thumbs/6656_0.png HTTP/1.1\" 200 -\n",
      "100.64.0.20 - - [05/May/2024 17:11:22] \"GET /static/thumbs/6656_1024.png HTTP/1.1\" 200 -\n",
      "100.64.0.20 - - [05/May/2024 17:11:22] \"GET /static/thumbs/6144_4096.png HTTP/1.1\" 200 -\n",
      "100.64.0.20 - - [05/May/2024 17:11:22] \"GET /static/thumbs/5632_1024.png HTTP/1.1\" 200 -\n",
      "100.64.0.20 - - [05/May/2024 17:11:22] \"GET /static/thumbs/6656_7168.png HTTP/1.1\" 200 -\n",
      "100.64.0.20 - - [05/May/2024 17:11:22] \"GET /static/thumbs/6656_3072.png HTTP/1.1\" 200 -\n",
      "100.64.0.20 - - [05/May/2024 17:11:22] \"GET /static/thumbs/7168_5632.png HTTP/1.1\" 200 -\n",
      "100.64.0.20 - - [05/May/2024 17:11:22] \"GET /static/thumbs/6144_4608.png HTTP/1.1\" 200 -\n",
      "100.64.0.20 - - [05/May/2024 17:11:22] \"GET /static/thumbs/6144_5120.png HTTP/1.1\" 200 -\n",
      "100.64.0.20 - - [05/May/2024 17:11:22] \"GET /static/thumbs/6656_1536.png HTTP/1.1\" 200 -\n",
      "100.64.0.20 - - [05/May/2024 17:11:22] \"GET /static/thumbs/6656_3584.png HTTP/1.1\" 200 -\n",
      "100.64.0.20 - - [05/May/2024 17:11:22] \"GET /static/thumbs/7168_512.png HTTP/1.1\" 200 -\n",
      "100.64.0.20 - - [05/May/2024 17:11:22] \"GET /static/thumbs/5632_4096.png HTTP/1.1\" 200 -\n",
      "100.64.0.20 - - [05/May/2024 17:11:22] \"GET /static/thumbs/7168_1024.png HTTP/1.1\" 200 -\n",
      "100.64.0.20 - - [05/May/2024 17:11:22] \"GET /static/thumbs/7168_1536.png HTTP/1.1\" 200 -\n",
      "100.64.0.20 - - [05/May/2024 17:11:22] \"GET /static/thumbs/5632_5120.png HTTP/1.1\" 200 -\n",
      "100.64.0.20 - - [05/May/2024 17:11:22] \"GET /static/thumbs/5632_5632.png HTTP/1.1\" 200 -\n",
      "100.64.0.20 - - [05/May/2024 17:11:22] \"GET /static/thumbs/5632_4608.png HTTP/1.1\" 200 -\n",
      "100.64.0.20 - - [05/May/2024 17:11:22] \"GET /static/thumbs/6144_2560.png HTTP/1.1\" 200 -\n",
      "100.64.0.20 - - [05/May/2024 17:11:22] \"GET /static/thumbs/5632_6656.png HTTP/1.1\" 200 -\n",
      "100.64.0.20 - - [05/May/2024 17:11:22] \"GET /static/thumbs/5632_7168.png HTTP/1.1\" 200 -\n",
      "100.64.0.20 - - [05/May/2024 17:11:22] \"GET /static/thumbs/6144_1536.png HTTP/1.1\" 200 -\n",
      "100.64.0.20 - - [05/May/2024 17:11:22] \"GET /static/thumbs/6144_2048.png HTTP/1.1\" 200 -\n",
      "100.64.0.20 - - [05/May/2024 17:11:22] \"GET /static/thumbs/6144_6656.png HTTP/1.1\" 200 -\n",
      "100.64.0.20 - - [05/May/2024 17:11:22] \"GET /static/thumbs/6144_5632.png HTTP/1.1\" 200 -\n",
      "100.64.0.20 - - [05/May/2024 17:11:22] \"GET /static/thumbs/6144_3584.png HTTP/1.1\" 200 -\n",
      "100.64.0.20 - - [05/May/2024 17:11:22] \"GET /static/thumbs/6656_512.png HTTP/1.1\" 200 -\n",
      "100.64.0.20 - - [05/May/2024 17:11:22] \"GET /static/thumbs/5632_3584.png HTTP/1.1\" 200 -\n",
      "100.64.0.20 - - [05/May/2024 17:11:22] \"GET /static/thumbs/6656_6144.png HTTP/1.1\" 200 -\n",
      "100.64.0.20 - - [05/May/2024 17:11:22] \"GET /static/thumbs/6656_2560.png HTTP/1.1\" 200 -\n",
      "100.64.0.20 - - [05/May/2024 17:11:22] \"GET /static/thumbs/5632_2048.png HTTP/1.1\" 200 -\n",
      "100.64.0.20 - - [05/May/2024 17:11:22] \"GET /static/thumbs/7168_2048.png HTTP/1.1\" 200 -\n",
      "100.64.0.20 - - [05/May/2024 17:11:22] \"GET /static/thumbs/5632_2560.png HTTP/1.1\" 200 -\n",
      "100.64.0.20 - - [05/May/2024 17:11:22] \"GET /static/thumbs/7168_0.png HTTP/1.1\" 200 -\n",
      "100.64.0.20 - - [05/May/2024 17:11:22] \"GET /static/thumbs/5632_1536.png HTTP/1.1\" 200 -\n",
      "100.64.0.20 - - [05/May/2024 17:11:22] \"GET /static/thumbs/6144_3072.png HTTP/1.1\" 200 -\n",
      "100.64.0.20 - - [05/May/2024 17:11:22] \"GET /static/thumbs/5632_6144.png HTTP/1.1\" 200 -\n",
      "100.64.0.20 - - [05/May/2024 17:11:22] \"GET /static/thumbs/7168_6656.png HTTP/1.1\" 200 -\n",
      "100.64.0.20 - - [05/May/2024 17:11:22] \"GET /static/thumbs/7680_4608.png HTTP/1.1\" 200 -\n",
      "100.64.0.20 - - [05/May/2024 17:11:22] \"GET /static/thumbs/7168_2560.png HTTP/1.1\" 200 -\n",
      "100.64.0.20 - - [05/May/2024 17:11:22] \"GET /static/thumbs/7680_0.png HTTP/1.1\" 200 -\n",
      "100.64.0.20 - - [05/May/2024 17:11:22] \"GET /static/thumbs/8192_1536.png HTTP/1.1\" 200 -\n",
      "100.64.0.20 - - [05/May/2024 17:11:22] \"GET /static/thumbs/7168_3072.png HTTP/1.1\" 200 -\n",
      "100.64.0.20 - - [05/May/2024 17:11:22] \"GET /static/thumbs/7168_7168.png HTTP/1.1\" 200 -\n",
      "100.64.0.20 - - [05/May/2024 17:11:22] \"GET /static/thumbs/6144_6144.png HTTP/1.1\" 200 -\n",
      "100.64.0.20 - - [05/May/2024 17:11:22] \"GET /static/thumbs/8192_0.png HTTP/1.1\" 200 -\n",
      "100.64.0.20 - - [05/May/2024 17:11:22] \"GET /static/thumbs/5632_3072.png HTTP/1.1\" 200 -\n",
      "100.64.0.20 - - [05/May/2024 17:11:22] \"GET /static/thumbs/7680_3584.png HTTP/1.1\" 200 -\n",
      "100.64.0.20 - - [05/May/2024 17:11:22] \"GET /static/thumbs/7680_2560.png HTTP/1.1\" 200 -\n",
      "100.64.0.20 - - [05/May/2024 17:11:22] \"GET /static/thumbs/7680_4096.png HTTP/1.1\" 200 -\n",
      "100.64.0.20 - - [05/May/2024 17:11:22] \"GET /static/thumbs/7680_2048.png HTTP/1.1\" 200 -\n",
      "100.64.0.20 - - [05/May/2024 17:11:22] \"GET /static/thumbs/8192_512.png HTTP/1.1\" 200 -\n",
      "100.64.0.20 - - [05/May/2024 17:11:22] \"GET /static/thumbs/8192_1024.png HTTP/1.1\" 200 -\n",
      "100.64.0.20 - - [05/May/2024 17:11:22] \"GET /static/thumbs/7680_5120.png HTTP/1.1\" 200 -\n",
      "100.64.0.20 - - [05/May/2024 17:11:22] \"GET /static/thumbs/8192_2048.png HTTP/1.1\" 200 -\n",
      "100.64.0.20 - - [05/May/2024 17:11:22] \"GET /static/thumbs/8192_4608.png HTTP/1.1\" 200 -\n",
      "100.64.0.20 - - [05/May/2024 17:11:22] \"GET /static/thumbs/8192_5120.png HTTP/1.1\" 200 -\n",
      "100.64.0.20 - - [05/May/2024 17:11:23] \"GET /static/images/drone.png HTTP/1.1\" 200 -\n",
      "100.64.0.20 - - [05/May/2024 17:11:23] \"GET /static/thumbs/8192_4096.png HTTP/1.1\" 200 -\n",
      "100.64.0.20 - - [05/May/2024 17:11:23] \"GET /static/thumbs/7168_3584.png HTTP/1.1\" 200 -\n",
      "100.64.0.20 - - [05/May/2024 17:11:23] \"GET /static/thumbs/8192_3072.png HTTP/1.1\" 200 -\n",
      "100.64.0.20 - - [05/May/2024 17:11:23] \"GET /static/thumbs/7168_4096.png HTTP/1.1\" 200 -\n",
      "100.64.0.20 - - [05/May/2024 17:11:23] \"GET /static/thumbs/7680_512.png HTTP/1.1\" 200 -\n",
      "100.64.0.20 - - [05/May/2024 17:11:23] \"GET /static/thumbs/8192_5632.png HTTP/1.1\" 200 -\n",
      "100.64.0.20 - - [05/May/2024 17:11:23] \"GET /static/thumbs/7680_6144.png HTTP/1.1\" 200 -\n",
      "100.64.0.20 - - [05/May/2024 17:11:23] \"GET /static/thumbs/8192_2560.png HTTP/1.1\" 200 -\n",
      "100.64.0.20 - - [05/May/2024 17:11:23] \"GET /static/thumbs/7680_6656.png HTTP/1.1\" 200 -\n",
      "100.64.0.20 - - [05/May/2024 17:11:23] \"GET /static/thumbs/7680_5632.png HTTP/1.1\" 200 -\n",
      "100.64.0.20 - - [05/May/2024 17:11:23] \"GET /static/thumbs/7680_7168.png HTTP/1.1\" 200 -\n",
      "100.64.0.20 - - [05/May/2024 17:11:23] \"GET /static/thumbs/7168_4608.png HTTP/1.1\" 200 -\n",
      "100.64.0.20 - - [05/May/2024 17:11:23] \"GET /static/thumbs/8192_6144.png HTTP/1.1\" 200 -\n",
      "100.64.0.20 - - [05/May/2024 17:11:23] \"GET /static/thumbs/8192_6656.png HTTP/1.1\" 200 -\n",
      "100.64.0.20 - - [05/May/2024 17:11:23] \"GET /static/thumbs/8192_3584.png HTTP/1.1\" 200 -\n",
      "100.64.0.20 - - [05/May/2024 17:11:23] \"GET /static/thumbs/7680_1024.png HTTP/1.1\" 200 -\n",
      "100.64.0.20 - - [05/May/2024 17:11:23] \"GET /static/thumbs/8192_7168.png HTTP/1.1\" 200 -\n",
      "100.64.0.20 - - [05/May/2024 17:11:23] \"GET /static/thumbs/7680_3072.png HTTP/1.1\" 200 -\n",
      "100.64.0.20 - - [05/May/2024 17:11:23] \"GET /static/thumbs/7680_1536.png HTTP/1.1\" 200 -\n",
      "100.64.0.24 - - [05/May/2024 17:11:24] \"POST /update_position HTTP/1.1\" 200 -\n",
      "100.64.0.24 - - [05/May/2024 17:11:24] \"POST /update_position HTTP/1.1\" 200 -\n",
      "100.64.0.24 - - [05/May/2024 17:11:24] \"POST /update_position HTTP/1.1\" 200 -\n",
      "100.64.0.24 - - [05/May/2024 17:11:24] \"GET /static/tiles/1536_0.png HTTP/1.1\" 200 -\n"
     ]
    },
    {
     "name": "stdout",
     "output_type": "stream",
     "text": [
      "Overlay moved to position: (1536, 512)\n",
      "Overlay moved to position: (1536, 1024)\n",
      "Overlay moved to position: (1536, 1536)\n",
      "Overlay moved to position: (1536, 2048)\n",
      "Overlay moved to position: (1536, 2560)\n",
      "Overlay moved to position: (1536, 3072)\n"
     ]
    },
    {
     "name": "stderr",
     "output_type": "stream",
     "text": [
      "100.64.0.24 - - [05/May/2024 17:11:37] \"POST /update_position HTTP/1.1\" 200 -\n",
      "100.64.0.24 - - [05/May/2024 17:11:37] \"POST /update_position HTTP/1.1\" 200 -\n"
     ]
    },
    {
     "name": "stdout",
     "output_type": "stream",
     "text": [
      "Overlay moved to position: (1536, 3584)\n"
     ]
    },
    {
     "name": "stderr",
     "output_type": "stream",
     "text": [
      "100.64.0.24 - - [05/May/2024 17:11:38] \"GET /static/tiles/1536_1024.png HTTP/1.1\" 200 -\n"
     ]
    },
    {
     "name": "stdout",
     "output_type": "stream",
     "text": [
      "Overlay moved to position: (2048, 3584)\n",
      "Overlay moved to position: (2560, 3584)\n",
      "Overlay moved to position: (3072, 3584)\n",
      "Overlay moved to position: (3584, 3584)\n",
      "Overlay moved to position: (3584, 4096)\n"
     ]
    },
    {
     "name": "stderr",
     "output_type": "stream",
     "text": [
      "100.64.0.24 - - [05/May/2024 17:11:39] \"POST /update_position HTTP/1.1\" 200 -\n",
      "100.64.0.24 - - [05/May/2024 17:11:39] \"POST /update_position HTTP/1.1\" 200 -\n",
      "100.64.0.24 - - [05/May/2024 17:11:39] \"POST /update_position HTTP/1.1\" 200 -\n",
      "100.64.0.24 - - [05/May/2024 17:11:39] \"POST /update_position HTTP/1.1\" 200 -\n",
      "100.64.0.24 - - [05/May/2024 17:11:40] \"GET /static/tiles/1536_3072.png HTTP/1.1\" 200 -\n",
      "100.64.0.24 - - [05/May/2024 17:11:42] \"POST /update_position HTTP/1.1\" 200 -\n",
      "100.64.0.24 - - [05/May/2024 17:11:42] \"POST /update_position HTTP/1.1\" 200 -\n",
      "100.64.0.24 - - [05/May/2024 17:11:42] \"POST /update_position HTTP/1.1\" 200 -\n",
      "100.64.0.24 - - [05/May/2024 17:11:42] \"POST /update_position HTTP/1.1\" 200 -\n",
      "100.64.0.24 - - [05/May/2024 17:11:42] \"POST /update_position HTTP/1.1\" 200 -\n",
      "100.64.0.24 - - [05/May/2024 17:11:42] \"POST /update_position HTTP/1.1\" 200 -\n",
      "100.64.0.24 - - [05/May/2024 17:11:43] \"GET /static/tiles/3584_4096.png HTTP/1.1\" 200 -\n"
     ]
    },
    {
     "name": "stdout",
     "output_type": "stream",
     "text": [
      "Overlay moved to position: (4096, 4096)\n",
      "Overlay moved to position: (4608, 4096)\n",
      "Overlay moved to position: (5120, 4096)\n",
      "Overlay moved to position: (5632, 4096)\n"
     ]
    },
    {
     "name": "stderr",
     "output_type": "stream",
     "text": [
      "100.64.0.24 - - [05/May/2024 17:11:55] \"POST /update_position HTTP/1.1\" 200 -\n",
      "100.64.0.24 - - [05/May/2024 17:11:55] \"POST /update_position HTTP/1.1\" 200 -\n"
     ]
    },
    {
     "name": "stdout",
     "output_type": "stream",
     "text": [
      "Overlay moved to position: (6144, 4096)\n"
     ]
    },
    {
     "name": "stderr",
     "output_type": "stream",
     "text": [
      "100.64.0.24 - - [05/May/2024 17:11:55] \"GET /static/tiles/4096_4096.png HTTP/1.1\" 200 -\n",
      "100.64.0.24 - - [05/May/2024 17:11:56] \"POST /update_position HTTP/1.1\" 200 -\n",
      "100.64.0.24 - - [05/May/2024 17:11:56] \"POST /update_position HTTP/1.1\" 200 -\n",
      "100.64.0.24 - - [05/May/2024 17:11:56] \"POST /update_position HTTP/1.1\" 200 -\n",
      "100.64.0.24 - - [05/May/2024 17:11:57] \"GET /static/tiles/5120_4096.png HTTP/1.1\" 200 -\n",
      "100.64.0.24 - - [05/May/2024 17:12:24] \"GET / HTTP/1.1\" 200 -\n",
      "100.64.0.24 - - [05/May/2024 17:12:25] \"GET /static/thumbs/0_1024.png HTTP/1.1\" 200 -\n",
      "100.64.0.24 - - [05/May/2024 17:12:25] \"GET /static/thumbs/0_512.png HTTP/1.1\" 200 -\n",
      "100.64.0.24 - - [05/May/2024 17:12:25] \"GET /static/thumbs/0_0.png HTTP/1.1\" 200 -\n",
      "100.64.0.24 - - [05/May/2024 17:12:25] \"GET /static/thumbs/0_1536.png HTTP/1.1\" 200 -\n",
      "100.64.0.24 - - [05/May/2024 17:12:25] \"GET /static/thumbs/0_2048.png HTTP/1.1\" 200 -\n",
      "100.64.0.24 - - [05/May/2024 17:12:25] \"GET /static/thumbs/0_3072.png HTTP/1.1\" 200 -\n",
      "100.64.0.24 - - [05/May/2024 17:12:25] \"GET /static/thumbs/0_2560.png HTTP/1.1\" 200 -\n",
      "100.64.0.24 - - [05/May/2024 17:12:25] \"GET /static/thumbs/0_3584.png HTTP/1.1\" 200 -\n",
      "100.64.0.24 - - [05/May/2024 17:12:25] \"GET /static/thumbs/0_4608.png HTTP/1.1\" 200 -\n",
      "100.64.0.24 - - [05/May/2024 17:12:25] \"GET /static/thumbs/0_4096.png HTTP/1.1\" 200 -\n",
      "100.64.0.24 - - [05/May/2024 17:12:25] \"GET /static/thumbs/0_7168.png HTTP/1.1\" 200 -\n",
      "100.64.0.24 - - [05/May/2024 17:12:25] \"GET /static/thumbs/0_5120.png HTTP/1.1\" 200 -\n",
      "100.64.0.24 - - [05/May/2024 17:12:25] \"GET /static/thumbs/512_0.png HTTP/1.1\" 200 -\n",
      "100.64.0.24 - - [05/May/2024 17:12:25] \"GET /static/thumbs/0_6656.png HTTP/1.1\" 200 -\n",
      "100.64.0.24 - - [05/May/2024 17:12:25] \"GET /static/thumbs/0_6144.png HTTP/1.1\" 200 -\n",
      "100.64.0.24 - - [05/May/2024 17:12:25] \"GET /static/thumbs/512_512.png HTTP/1.1\" 200 -\n",
      "100.64.0.24 - - [05/May/2024 17:12:25] \"GET /static/thumbs/0_5632.png HTTP/1.1\" 200 -\n",
      "100.64.0.24 - - [05/May/2024 17:12:25] \"GET /static/thumbs/512_4096.png HTTP/1.1\" 200 -\n",
      "100.64.0.24 - - [05/May/2024 17:12:25] \"GET /static/thumbs/512_1536.png HTTP/1.1\" 200 -\n",
      "100.64.0.24 - - [05/May/2024 17:12:25] \"GET /static/thumbs/512_3072.png HTTP/1.1\" 200 -\n",
      "100.64.0.24 - - [05/May/2024 17:12:25] \"GET /static/thumbs/512_1024.png HTTP/1.1\" 200 -\n",
      "100.64.0.24 - - [05/May/2024 17:12:25] \"GET /static/thumbs/512_5632.png HTTP/1.1\" 200 -\n",
      "100.64.0.24 - - [05/May/2024 17:12:25] \"GET /static/thumbs/512_4608.png HTTP/1.1\" 200 -\n",
      "100.64.0.24 - - [05/May/2024 17:12:25] \"GET /static/thumbs/512_2048.png HTTP/1.1\" 200 -\n",
      "100.64.0.24 - - [05/May/2024 17:12:25] \"GET /static/thumbs/512_3584.png HTTP/1.1\" 200 -\n",
      "100.64.0.24 - - [05/May/2024 17:12:25] \"GET /static/thumbs/512_2560.png HTTP/1.1\" 200 -\n",
      "100.64.0.24 - - [05/May/2024 17:12:25] \"GET /static/thumbs/512_5120.png HTTP/1.1\" 200 -\n",
      "100.64.0.24 - - [05/May/2024 17:12:25] \"GET /static/thumbs/512_6144.png HTTP/1.1\" 200 -\n",
      "100.64.0.24 - - [05/May/2024 17:12:25] \"GET /static/thumbs/512_7168.png HTTP/1.1\" 200 -\n",
      "100.64.0.24 - - [05/May/2024 17:12:25] \"GET /static/thumbs/512_6656.png HTTP/1.1\" 200 -\n",
      "100.64.0.24 - - [05/May/2024 17:12:25] \"GET /static/thumbs/1024_512.png HTTP/1.1\" 200 -\n",
      "100.64.0.24 - - [05/May/2024 17:12:25] \"GET /static/thumbs/1024_1536.png HTTP/1.1\" 200 -\n",
      "100.64.0.24 - - [05/May/2024 17:12:25] \"GET /static/thumbs/1024_2560.png HTTP/1.1\" 200 -\n",
      "100.64.0.24 - - [05/May/2024 17:12:25] \"GET /static/thumbs/1024_2048.png HTTP/1.1\" 200 -\n",
      "100.64.0.24 - - [05/May/2024 17:12:25] \"GET /static/thumbs/1024_4096.png HTTP/1.1\" 200 -\n",
      "100.64.0.24 - - [05/May/2024 17:12:25] \"GET /static/thumbs/1536_512.png HTTP/1.1\" 200 -\n",
      "100.64.0.24 - - [05/May/2024 17:12:25] \"GET /static/thumbs/1024_3072.png HTTP/1.1\" 200 -\n",
      "100.64.0.24 - - [05/May/2024 17:12:25] \"GET /static/thumbs/1024_5120.png HTTP/1.1\" 200 -\n",
      "100.64.0.24 - - [05/May/2024 17:12:25] \"GET /static/thumbs/1024_7168.png HTTP/1.1\" 200 -\n",
      "100.64.0.24 - - [05/May/2024 17:12:25] \"GET /static/thumbs/1024_6144.png HTTP/1.1\" 200 -\n",
      "100.64.0.24 - - [05/May/2024 17:12:25] \"GET /static/thumbs/1024_0.png HTTP/1.1\" 200 -\n",
      "100.64.0.24 - - [05/May/2024 17:12:25] \"GET /static/thumbs/1024_6656.png HTTP/1.1\" 200 -\n",
      "100.64.0.24 - - [05/May/2024 17:12:25] \"GET /static/thumbs/1024_3584.png HTTP/1.1\" 200 -\n",
      "100.64.0.24 - - [05/May/2024 17:12:25] \"GET /static/thumbs/1024_5632.png HTTP/1.1\" 200 -\n",
      "100.64.0.24 - - [05/May/2024 17:12:25] \"GET /static/thumbs/1536_0.png HTTP/1.1\" 200 -\n",
      "100.64.0.24 - - [05/May/2024 17:12:25] \"GET /static/thumbs/1536_1024.png HTTP/1.1\" 200 -\n",
      "100.64.0.24 - - [05/May/2024 17:12:25] \"GET /static/thumbs/2048_2560.png HTTP/1.1\" 200 -\n",
      "100.64.0.24 - - [05/May/2024 17:12:25] \"GET /static/thumbs/2048_1536.png HTTP/1.1\" 200 -\n",
      "100.64.0.24 - - [05/May/2024 17:12:25] \"GET /static/thumbs/1536_2048.png HTTP/1.1\" 200 -\n",
      "100.64.0.24 - - [05/May/2024 17:12:25] \"GET /static/thumbs/1024_4608.png HTTP/1.1\" 200 -\n",
      "100.64.0.24 - - [05/May/2024 17:12:25] \"GET /static/thumbs/1536_4096.png HTTP/1.1\" 200 -\n",
      "100.64.0.24 - - [05/May/2024 17:12:25] \"GET /static/thumbs/1536_4608.png HTTP/1.1\" 200 -\n",
      "100.64.0.24 - - [05/May/2024 17:12:25] \"GET /static/thumbs/1536_2560.png HTTP/1.1\" 200 -\n",
      "100.64.0.24 - - [05/May/2024 17:12:25] \"GET /static/thumbs/1536_6144.png HTTP/1.1\" 200 -\n",
      "100.64.0.24 - - [05/May/2024 17:12:25] \"GET /static/thumbs/1536_5120.png HTTP/1.1\" 200 -\n",
      "100.64.0.24 - - [05/May/2024 17:12:25] \"GET /static/thumbs/1536_5632.png HTTP/1.1\" 200 -\n",
      "100.64.0.24 - - [05/May/2024 17:12:25] \"GET /static/thumbs/1536_1536.png HTTP/1.1\" 200 -\n",
      "100.64.0.24 - - [05/May/2024 17:12:25] \"GET /static/thumbs/2048_1024.png HTTP/1.1\" 200 -\n",
      "100.64.0.24 - - [05/May/2024 17:12:25] \"GET /static/thumbs/1536_3072.png HTTP/1.1\" 200 -\n",
      "100.64.0.24 - - [05/May/2024 17:12:25] \"GET /static/thumbs/2048_0.png HTTP/1.1\" 200 -\n",
      "100.64.0.24 - - [05/May/2024 17:12:25] \"GET /static/thumbs/2048_2048.png HTTP/1.1\" 200 -\n",
      "100.64.0.24 - - [05/May/2024 17:12:25] \"GET /static/thumbs/2048_512.png HTTP/1.1\" 200 -\n",
      "100.64.0.24 - - [05/May/2024 17:12:25] \"GET /static/thumbs/1536_7168.png HTTP/1.1\" 200 -\n",
      "100.64.0.24 - - [05/May/2024 17:12:25] \"GET /static/thumbs/2048_3072.png HTTP/1.1\" 200 -\n",
      "100.64.0.24 - - [05/May/2024 17:12:25] \"GET /static/thumbs/1536_3584.png HTTP/1.1\" 200 -\n",
      "100.64.0.24 - - [05/May/2024 17:12:25] \"GET /static/thumbs/2048_6144.png HTTP/1.1\" 200 -\n",
      "100.64.0.24 - - [05/May/2024 17:12:25] \"GET /static/thumbs/1536_6656.png HTTP/1.1\" 200 -\n",
      "100.64.0.24 - - [05/May/2024 17:12:25] \"GET /static/thumbs/2048_6656.png HTTP/1.1\" 200 -\n",
      "100.64.0.24 - - [05/May/2024 17:12:25] \"GET /static/thumbs/2048_3584.png HTTP/1.1\" 200 -\n",
      "100.64.0.24 - - [05/May/2024 17:12:25] \"GET /static/thumbs/2048_5120.png HTTP/1.1\" 200 -\n",
      "100.64.0.24 - - [05/May/2024 17:12:25] \"GET /static/thumbs/2560_512.png HTTP/1.1\" 200 -\n",
      "100.64.0.24 - - [05/May/2024 17:12:25] \"GET /static/thumbs/2560_0.png HTTP/1.1\" 200 -\n",
      "100.64.0.24 - - [05/May/2024 17:12:25] \"GET /static/thumbs/2048_5632.png HTTP/1.1\" 200 -\n",
      "100.64.0.24 - - [05/May/2024 17:12:25] \"GET /static/thumbs/2560_1536.png HTTP/1.1\" 200 -\n",
      "100.64.0.24 - - [05/May/2024 17:12:25] \"GET /static/thumbs/2048_4608.png HTTP/1.1\" 200 -\n",
      "100.64.0.24 - - [05/May/2024 17:12:25] \"GET /static/thumbs/2048_7168.png HTTP/1.1\" 200 -\n",
      "100.64.0.24 - - [05/May/2024 17:12:25] \"GET /static/thumbs/2560_1024.png HTTP/1.1\" 200 -\n",
      "100.64.0.24 - - [05/May/2024 17:12:25] \"GET /static/thumbs/2560_2048.png HTTP/1.1\" 200 -\n",
      "100.64.0.24 - - [05/May/2024 17:12:25] \"GET /static/thumbs/2560_2560.png HTTP/1.1\" 200 -\n",
      "100.64.0.24 - - [05/May/2024 17:12:25] \"GET /static/thumbs/2560_4096.png HTTP/1.1\" 200 -\n",
      "100.64.0.24 - - [05/May/2024 17:12:25] \"GET /static/thumbs/2560_3072.png HTTP/1.1\" 200 -\n",
      "100.64.0.24 - - [05/May/2024 17:12:25] \"GET /static/thumbs/2560_3584.png HTTP/1.1\" 200 -\n",
      "100.64.0.24 - - [05/May/2024 17:12:25] \"GET /static/thumbs/2560_6144.png HTTP/1.1\" 200 -\n",
      "100.64.0.24 - - [05/May/2024 17:12:25] \"GET /static/thumbs/2560_5120.png HTTP/1.1\" 200 -\n",
      "100.64.0.24 - - [05/May/2024 17:12:25] \"GET /static/thumbs/3072_1024.png HTTP/1.1\" 200 -\n",
      "100.64.0.24 - - [05/May/2024 17:12:25] \"GET /static/thumbs/2560_5632.png HTTP/1.1\" 200 -\n",
      "100.64.0.24 - - [05/May/2024 17:12:25] \"GET /static/thumbs/2560_6656.png HTTP/1.1\" 200 -\n",
      "100.64.0.24 - - [05/May/2024 17:12:25] \"GET /static/thumbs/2560_4608.png HTTP/1.1\" 200 -\n",
      "100.64.0.24 - - [05/May/2024 17:12:25] \"GET /static/thumbs/2560_7168.png HTTP/1.1\" 200 -\n",
      "100.64.0.24 - - [05/May/2024 17:12:25] \"GET /static/thumbs/3072_0.png HTTP/1.1\" 200 -\n",
      "100.64.0.24 - - [05/May/2024 17:12:25] \"GET /static/thumbs/3072_2560.png HTTP/1.1\" 200 -\n",
      "100.64.0.24 - - [05/May/2024 17:12:25] \"GET /static/thumbs/3072_1536.png HTTP/1.1\" 200 -\n",
      "100.64.0.24 - - [05/May/2024 17:12:25] \"GET /static/thumbs/3072_4096.png HTTP/1.1\" 200 -\n",
      "100.64.0.24 - - [05/May/2024 17:12:25] \"GET /static/thumbs/3072_512.png HTTP/1.1\" 200 -\n",
      "100.64.0.24 - - [05/May/2024 17:12:25] \"GET /static/thumbs/3072_2048.png HTTP/1.1\" 200 -\n",
      "100.64.0.24 - - [05/May/2024 17:12:25] \"GET /static/thumbs/3072_3584.png HTTP/1.1\" 200 -\n",
      "100.64.0.24 - - [05/May/2024 17:12:25] \"GET /static/thumbs/3072_4608.png HTTP/1.1\" 200 -\n",
      "100.64.0.24 - - [05/May/2024 17:12:25] \"GET /static/thumbs/3072_3072.png HTTP/1.1\" 200 -\n",
      "100.64.0.24 - - [05/May/2024 17:12:25] \"GET /static/thumbs/3584_1024.png HTTP/1.1\" 200 -\n",
      "100.64.0.24 - - [05/May/2024 17:12:25] \"GET /static/thumbs/3072_6144.png HTTP/1.1\" 200 -\n",
      "100.64.0.24 - - [05/May/2024 17:12:25] \"GET /static/thumbs/3072_5632.png HTTP/1.1\" 200 -\n",
      "100.64.0.24 - - [05/May/2024 17:12:25] \"GET /static/thumbs/3072_6656.png HTTP/1.1\" 200 -\n",
      "100.64.0.24 - - [05/May/2024 17:12:25] \"GET /static/thumbs/3584_0.png HTTP/1.1\" 200 -\n",
      "100.64.0.24 - - [05/May/2024 17:12:25] \"GET /static/thumbs/3072_5120.png HTTP/1.1\" 200 -\n",
      "100.64.0.24 - - [05/May/2024 17:12:25] \"GET /static/thumbs/4608_7168.png HTTP/1.1\" 200 -\n",
      "100.64.0.24 - - [05/May/2024 17:12:25] \"GET /static/thumbs/3584_512.png HTTP/1.1\" 200 -\n",
      "100.64.0.24 - - [05/May/2024 17:12:25] \"GET /static/thumbs/3072_7168.png HTTP/1.1\" 200 -\n",
      "100.64.0.24 - - [05/May/2024 17:12:25] \"GET /static/thumbs/5120_2560.png HTTP/1.1\" 200 -\n",
      "100.64.0.24 - - [05/May/2024 17:12:25] \"GET /static/thumbs/7168_2560.png HTTP/1.1\" 200 -\n",
      "100.64.0.24 - - [05/May/2024 17:12:25] \"GET /static/thumbs/6144_5120.png HTTP/1.1\" 200 -\n",
      "100.64.0.24 - - [05/May/2024 17:12:25] \"GET /static/thumbs/5120_0.png HTTP/1.1\" 200 -\n",
      "100.64.0.24 - - [05/May/2024 17:12:25] \"GET /static/thumbs/6144_1024.png HTTP/1.1\" 200 -\n",
      "100.64.0.24 - - [05/May/2024 17:12:25] \"GET /static/thumbs/8192_4608.png HTTP/1.1\" 200 -\n",
      "100.64.0.24 - - [05/May/2024 17:12:25] \"GET /static/thumbs/6144_512.png HTTP/1.1\" 200 -\n",
      "100.64.0.24 - - [05/May/2024 17:12:25] \"GET /static/thumbs/7168_2048.png HTTP/1.1\" 200 -\n",
      "100.64.0.24 - - [05/May/2024 17:12:25] \"GET /static/thumbs/1024_1024.png HTTP/1.1\" 200 -\n",
      "100.64.0.24 - - [05/May/2024 17:12:25] \"GET /static/thumbs/4096_5632.png HTTP/1.1\" 200 -\n",
      "100.64.0.24 - - [05/May/2024 17:12:25] \"GET /static/thumbs/6144_1536.png HTTP/1.1\" 200 -\n",
      "100.64.0.24 - - [05/May/2024 17:12:25] \"GET /static/thumbs/4608_0.png HTTP/1.1\" 200 -\n",
      "100.64.0.24 - - [05/May/2024 17:12:25] \"GET /static/thumbs/4096_6144.png HTTP/1.1\" 200 -\n",
      "100.64.0.24 - - [05/May/2024 17:12:25] \"GET /static/thumbs/4608_2560.png HTTP/1.1\" 200 -\n",
      "100.64.0.24 - - [05/May/2024 17:12:25] \"GET /static/thumbs/4608_1024.png HTTP/1.1\" 200 -\n",
      "100.64.0.24 - - [05/May/2024 17:12:25] \"GET /static/thumbs/4096_7168.png HTTP/1.1\" 200 -\n",
      "100.64.0.24 - - [05/May/2024 17:12:25] \"GET /static/thumbs/4096_6656.png HTTP/1.1\" 200 -\n",
      "100.64.0.24 - - [05/May/2024 17:12:25] \"GET /static/thumbs/4608_3072.png HTTP/1.1\" 200 -\n",
      "100.64.0.24 - - [05/May/2024 17:12:25] \"GET /static/thumbs/4608_2048.png HTTP/1.1\" 200 -\n",
      "100.64.0.24 - - [05/May/2024 17:12:25] \"GET /static/thumbs/5120_5632.png HTTP/1.1\" 200 -\n",
      "100.64.0.24 - - [05/May/2024 17:12:25] \"GET /static/thumbs/4608_3584.png HTTP/1.1\" 200 -\n",
      "100.64.0.24 - - [05/May/2024 17:12:25] \"GET /static/thumbs/4608_1536.png HTTP/1.1\" 200 -\n",
      "100.64.0.24 - - [05/May/2024 17:12:25] \"GET /static/thumbs/5120_6144.png HTTP/1.1\" 200 -\n",
      "100.64.0.24 - - [05/May/2024 17:12:25] \"GET /static/thumbs/4608_512.png HTTP/1.1\" 200 -\n",
      "100.64.0.24 - - [05/May/2024 17:12:25] \"GET /static/thumbs/4096_512.png HTTP/1.1\" 200 -\n",
      "100.64.0.24 - - [05/May/2024 17:12:25] \"GET /static/thumbs/4096_1024.png HTTP/1.1\" 200 -\n",
      "100.64.0.24 - - [05/May/2024 17:12:25] \"GET /static/thumbs/3584_4096.png HTTP/1.1\" 200 -\n",
      "100.64.0.24 - - [05/May/2024 17:12:25] \"GET /static/thumbs/5120_4608.png HTTP/1.1\" 200 -\n",
      "100.64.0.24 - - [05/May/2024 17:12:25] \"GET /static/thumbs/4096_1536.png HTTP/1.1\" 200 -\n",
      "100.64.0.24 - - [05/May/2024 17:12:25] \"GET /static/thumbs/5120_4096.png HTTP/1.1\" 200 -\n",
      "100.64.0.24 - - [05/May/2024 17:12:25] \"GET /static/thumbs/5632_5632.png HTTP/1.1\" 200 -\n",
      "100.64.0.24 - - [05/May/2024 17:12:25] \"GET /static/thumbs/6144_5632.png HTTP/1.1\" 200 -\n",
      "100.64.0.24 - - [05/May/2024 17:12:25] \"GET /static/thumbs/5120_5120.png HTTP/1.1\" 200 -\n",
      "100.64.0.24 - - [05/May/2024 17:12:25] \"GET /static/thumbs/6144_6144.png HTTP/1.1\" 200 -\n",
      "100.64.0.24 - - [05/May/2024 17:12:25] \"GET /static/thumbs/5120_6656.png HTTP/1.1\" 200 -\n",
      "100.64.0.24 - - [05/May/2024 17:12:25] \"GET /static/thumbs/6144_6656.png HTTP/1.1\" 200 -\n",
      "100.64.0.24 - - [05/May/2024 17:12:25] \"GET /static/thumbs/4096_4608.png HTTP/1.1\" 200 -\n",
      "100.64.0.24 - - [05/May/2024 17:12:25] \"GET /static/thumbs/6144_4608.png HTTP/1.1\" 200 -\n",
      "100.64.0.24 - - [05/May/2024 17:12:25] \"GET /static/thumbs/5632_3584.png HTTP/1.1\" 200 -\n",
      "100.64.0.24 - - [05/May/2024 17:12:25] \"GET /static/thumbs/5632_3072.png HTTP/1.1\" 200 -\n",
      "100.64.0.24 - - [05/May/2024 17:12:25] \"GET /static/thumbs/6656_4096.png HTTP/1.1\" 200 -\n",
      "100.64.0.24 - - [05/May/2024 17:12:25] \"GET /static/thumbs/7168_4608.png HTTP/1.1\" 200 -\n",
      "100.64.0.24 - - [05/May/2024 17:12:25] \"GET /static/thumbs/6656_3584.png HTTP/1.1\" 200 -\n",
      "100.64.0.24 - - [05/May/2024 17:12:25] \"GET /static/thumbs/8192_7168.png HTTP/1.1\" 200 -\n",
      "100.64.0.24 - - [05/May/2024 17:12:25] \"GET /static/thumbs/6144_7168.png HTTP/1.1\" 200 -\n",
      "100.64.0.24 - - [05/May/2024 17:12:26] \"GET /static/images/drone.png HTTP/1.1\" 200 -\n",
      "100.64.0.24 - - [05/May/2024 17:12:26] \"GET /static/thumbs/3584_2560.png HTTP/1.1\" 200 -\n",
      "100.64.0.24 - - [05/May/2024 17:12:26] \"GET /static/thumbs/3584_2048.png HTTP/1.1\" 200 -\n",
      "100.64.0.24 - - [05/May/2024 17:12:26] \"GET /static/thumbs/3584_1536.png HTTP/1.1\" 200 -\n",
      "100.64.0.24 - - [05/May/2024 17:12:26] \"GET /static/thumbs/8192_1536.png HTTP/1.1\" 200 -\n",
      "100.64.0.24 - - [05/May/2024 17:12:26] \"GET /static/thumbs/3584_7168.png HTTP/1.1\" 200 -\n",
      "100.64.0.24 - - [05/May/2024 17:12:26] \"GET /static/thumbs/3584_3072.png HTTP/1.1\" 200 -\n",
      "100.64.0.24 - - [05/May/2024 17:12:26] \"GET /static/thumbs/7680_3584.png HTTP/1.1\" 200 -\n",
      "100.64.0.24 - - [05/May/2024 17:12:26] \"GET /static/thumbs/3584_6656.png HTTP/1.1\" 200 -\n",
      "100.64.0.24 - - [05/May/2024 17:12:26] \"GET /static/thumbs/5632_6656.png HTTP/1.1\" 200 -\n",
      "100.64.0.24 - - [05/May/2024 17:12:26] \"GET /static/thumbs/5632_7168.png HTTP/1.1\" 200 -\n",
      "100.64.0.24 - - [05/May/2024 17:12:26] \"GET /static/thumbs/5120_1024.png HTTP/1.1\" 200 -\n",
      "100.64.0.24 - - [05/May/2024 17:12:26] \"GET /static/thumbs/6144_0.png HTTP/1.1\" 200 -\n",
      "100.64.0.24 - - [05/May/2024 17:12:26] \"GET /static/thumbs/7680_4608.png HTTP/1.1\" 200 -\n",
      "100.64.0.24 - - [05/May/2024 17:12:26] \"GET /static/thumbs/6144_2560.png HTTP/1.1\" 200 -\n",
      "100.64.0.24 - - [05/May/2024 17:12:26] \"GET /static/thumbs/6144_2048.png HTTP/1.1\" 200 -\n",
      "100.64.0.24 - - [05/May/2024 17:12:26] \"GET /static/thumbs/6656_5120.png HTTP/1.1\" 200 -\n",
      "100.64.0.24 - - [05/May/2024 17:12:26] \"GET /static/thumbs/7680_4096.png HTTP/1.1\" 200 -\n",
      "100.64.0.24 - - [05/May/2024 17:12:26] \"GET /static/thumbs/5632_4096.png HTTP/1.1\" 200 -\n",
      "100.64.0.24 - - [05/May/2024 17:12:26] \"GET /static/thumbs/5632_2560.png HTTP/1.1\" 200 -\n",
      "100.64.0.24 - - [05/May/2024 17:12:26] \"GET /static/thumbs/7680_5632.png HTTP/1.1\" 200 -\n",
      "100.64.0.24 - - [05/May/2024 17:12:26] \"GET /static/thumbs/7680_5120.png HTTP/1.1\" 200 -\n",
      "100.64.0.24 - - [05/May/2024 17:12:26] \"GET /static/thumbs/7680_3072.png HTTP/1.1\" 200 -\n",
      "100.64.0.24 - - [05/May/2024 17:12:26] \"GET /static/thumbs/5632_4608.png HTTP/1.1\" 200 -\n",
      "100.64.0.24 - - [05/May/2024 17:12:26] \"GET /static/thumbs/6656_3072.png HTTP/1.1\" 200 -\n",
      "100.64.0.24 - - [05/May/2024 17:12:26] \"GET /static/thumbs/7168_1024.png HTTP/1.1\" 200 -\n",
      "100.64.0.24 - - [05/May/2024 17:12:26] \"GET /static/thumbs/5632_5120.png HTTP/1.1\" 200 -\n",
      "100.64.0.24 - - [05/May/2024 17:12:26] \"GET /static/thumbs/7168_1536.png HTTP/1.1\" 200 -\n",
      "100.64.0.24 - - [05/May/2024 17:12:26] \"GET /static/thumbs/8192_2048.png HTTP/1.1\" 200 -\n",
      "100.64.0.24 - - [05/May/2024 17:12:26] \"GET /static/thumbs/7168_3072.png HTTP/1.1\" 200 -\n",
      "100.64.0.24 - - [05/May/2024 17:12:26] \"GET /static/thumbs/8192_5632.png HTTP/1.1\" 200 -\n",
      "100.64.0.24 - - [05/May/2024 17:12:26] \"GET /static/thumbs/4096_2048.png HTTP/1.1\" 200 -\n",
      "100.64.0.24 - - [05/May/2024 17:12:26] \"GET /static/thumbs/8192_5120.png HTTP/1.1\" 200 -\n",
      "100.64.0.24 - - [05/May/2024 17:12:26] \"GET /static/thumbs/3584_3584.png HTTP/1.1\" 200 -\n",
      "100.64.0.24 - - [05/May/2024 17:12:26] \"GET /static/thumbs/3584_6144.png HTTP/1.1\" 200 -\n",
      "100.64.0.24 - - [05/May/2024 17:12:26] \"GET /static/thumbs/3584_4608.png HTTP/1.1\" 200 -\n",
      "100.64.0.24 - - [05/May/2024 17:12:26] \"GET /static/thumbs/8192_6144.png HTTP/1.1\" 200 -\n",
      "100.64.0.24 - - [05/May/2024 17:12:26] \"GET /static/thumbs/5632_512.png HTTP/1.1\" 200 -\n",
      "100.64.0.24 - - [05/May/2024 17:12:26] \"GET /static/thumbs/4096_0.png HTTP/1.1\" 200 -\n",
      "100.64.0.24 - - [05/May/2024 17:12:26] \"GET /static/thumbs/3584_5632.png HTTP/1.1\" 200 -\n",
      "100.64.0.24 - - [05/May/2024 17:12:26] \"GET /static/thumbs/3584_5120.png HTTP/1.1\" 200 -\n",
      "100.64.0.24 - - [05/May/2024 17:12:26] \"GET /static/thumbs/6656_2560.png HTTP/1.1\" 200 -\n",
      "100.64.0.24 - - [05/May/2024 17:12:26] \"GET /static/thumbs/8192_6656.png HTTP/1.1\" 200 -\n",
      "100.64.0.24 - - [05/May/2024 17:12:26] \"GET /static/thumbs/6656_5632.png HTTP/1.1\" 200 -\n",
      "100.64.0.24 - - [05/May/2024 17:12:26] \"GET /static/thumbs/6656_4608.png HTTP/1.1\" 200 -\n",
      "100.64.0.24 - - [05/May/2024 17:12:26] \"GET /static/thumbs/6656_6144.png HTTP/1.1\" 200 -\n",
      "100.64.0.24 - - [05/May/2024 17:12:26] \"GET /static/thumbs/6656_6656.png HTTP/1.1\" 200 -\n",
      "100.64.0.24 - - [05/May/2024 17:12:26] \"GET /static/thumbs/6656_7168.png HTTP/1.1\" 200 -\n",
      "100.64.0.24 - - [05/May/2024 17:12:26] \"GET /static/thumbs/7168_0.png HTTP/1.1\" 200 -\n",
      "100.64.0.24 - - [05/May/2024 17:12:26] \"GET /static/thumbs/7168_4096.png HTTP/1.1\" 200 -\n",
      "100.64.0.24 - - [05/May/2024 17:12:26] \"GET /static/thumbs/7168_512.png HTTP/1.1\" 200 -\n",
      "100.64.0.24 - - [05/May/2024 17:12:26] \"GET /static/thumbs/7168_3584.png HTTP/1.1\" 200 -\n",
      "100.64.0.24 - - [05/May/2024 17:12:26] \"GET /static/thumbs/5120_3072.png HTTP/1.1\" 200 -\n",
      "100.64.0.24 - - [05/May/2024 17:12:26] \"GET /static/thumbs/6656_2048.png HTTP/1.1\" 200 -\n",
      "100.64.0.24 - - [05/May/2024 17:12:26] \"GET /static/thumbs/5120_7168.png HTTP/1.1\" 200 -\n",
      "100.64.0.24 - - [05/May/2024 17:12:26] \"GET /static/thumbs/6144_3584.png HTTP/1.1\" 200 -\n",
      "100.64.0.24 - - [05/May/2024 17:12:26] \"GET /static/thumbs/7168_5120.png HTTP/1.1\" 200 -\n",
      "100.64.0.24 - - [05/May/2024 17:12:26] \"GET /static/thumbs/5120_2048.png HTTP/1.1\" 200 -\n",
      "100.64.0.24 - - [05/May/2024 17:12:26] \"GET /static/thumbs/6144_3072.png HTTP/1.1\" 200 -\n",
      "100.64.0.24 - - [05/May/2024 17:12:26] \"GET /static/thumbs/5632_6144.png HTTP/1.1\" 200 -\n",
      "100.64.0.24 - - [05/May/2024 17:12:26] \"GET /static/thumbs/7680_512.png HTTP/1.1\" 200 -\n",
      "100.64.0.24 - - [05/May/2024 17:12:26] \"GET /static/thumbs/5632_2048.png HTTP/1.1\" 200 -\n",
      "100.64.0.24 - - [05/May/2024 17:12:26] \"GET /static/thumbs/7680_6144.png HTTP/1.1\" 200 -\n",
      "100.64.0.24 - - [05/May/2024 17:12:26] \"GET /static/thumbs/6144_4096.png HTTP/1.1\" 200 -\n",
      "100.64.0.24 - - [05/May/2024 17:12:26] \"GET /static/thumbs/6656_0.png HTTP/1.1\" 200 -\n",
      "100.64.0.24 - - [05/May/2024 17:12:26] \"GET /static/thumbs/6656_512.png HTTP/1.1\" 200 -\n",
      "100.64.0.24 - - [05/May/2024 17:12:26] \"GET /static/thumbs/6656_1024.png HTTP/1.1\" 200 -\n",
      "100.64.0.24 - - [05/May/2024 17:12:26] \"GET /static/thumbs/6656_1536.png HTTP/1.1\" 200 -\n",
      "100.64.0.24 - - [05/May/2024 17:12:26] \"GET /static/thumbs/7168_5632.png HTTP/1.1\" 200 -\n",
      "100.64.0.24 - - [05/May/2024 17:12:26] \"GET /static/thumbs/7168_6144.png HTTP/1.1\" 200 -\n",
      "100.64.0.24 - - [05/May/2024 17:12:26] \"GET /static/thumbs/7168_6656.png HTTP/1.1\" 200 -\n",
      "100.64.0.24 - - [05/May/2024 17:12:26] \"GET /static/thumbs/7168_7168.png HTTP/1.1\" 200 -\n",
      "100.64.0.24 - - [05/May/2024 17:12:26] \"GET /static/thumbs/2048_4096.png HTTP/1.1\" 200 -\n",
      "100.64.0.24 - - [05/May/2024 17:12:26] \"GET /static/thumbs/7680_0.png HTTP/1.1\" 200 -\n",
      "100.64.0.24 - - [05/May/2024 17:12:26] \"GET /static/thumbs/7680_1024.png HTTP/1.1\" 200 -\n",
      "100.64.0.24 - - [05/May/2024 17:12:26] \"GET /static/thumbs/7680_1536.png HTTP/1.1\" 200 -\n",
      "100.64.0.24 - - [05/May/2024 17:12:26] \"GET /static/thumbs/7680_2048.png HTTP/1.1\" 200 -\n",
      "100.64.0.24 - - [05/May/2024 17:12:26] \"GET /static/thumbs/7680_2560.png HTTP/1.1\" 200 -\n",
      "100.64.0.24 - - [05/May/2024 17:12:26] \"GET /static/thumbs/4096_3072.png HTTP/1.1\" 200 -\n",
      "100.64.0.24 - - [05/May/2024 17:12:26] \"GET /static/thumbs/7680_6656.png HTTP/1.1\" 200 -\n",
      "100.64.0.24 - - [05/May/2024 17:12:26] \"GET /static/thumbs/4096_3584.png HTTP/1.1\" 200 -\n",
      "100.64.0.24 - - [05/May/2024 17:12:26] \"GET /static/thumbs/7680_7168.png HTTP/1.1\" 200 -\n",
      "100.64.0.24 - - [05/May/2024 17:12:26] \"GET /static/thumbs/4096_4096.png HTTP/1.1\" 200 -\n",
      "100.64.0.24 - - [05/May/2024 17:12:26] \"GET /static/thumbs/4096_5120.png HTTP/1.1\" 200 -\n",
      "100.64.0.24 - - [05/May/2024 17:12:26] \"GET /static/thumbs/4608_5120.png HTTP/1.1\" 200 -\n",
      "100.64.0.24 - - [05/May/2024 17:12:26] \"GET /static/thumbs/4608_4096.png HTTP/1.1\" 200 -\n",
      "100.64.0.24 - - [05/May/2024 17:12:26] \"GET /static/thumbs/4608_4608.png HTTP/1.1\" 200 -\n",
      "100.64.0.24 - - [05/May/2024 17:12:26] \"GET /static/thumbs/4608_5632.png HTTP/1.1\" 200 -\n",
      "100.64.0.24 - - [05/May/2024 17:12:26] \"GET /static/thumbs/4608_6144.png HTTP/1.1\" 200 -\n",
      "100.64.0.24 - - [05/May/2024 17:12:26] \"GET /static/thumbs/4608_6656.png HTTP/1.1\" 200 -\n",
      "100.64.0.24 - - [05/May/2024 17:12:26] \"GET /static/thumbs/5120_512.png HTTP/1.1\" 200 -\n",
      "100.64.0.24 - - [05/May/2024 17:12:26] \"GET /static/thumbs/5120_3584.png HTTP/1.1\" 200 -\n",
      "100.64.0.24 - - [05/May/2024 17:12:26] \"GET /static/thumbs/5120_1536.png HTTP/1.1\" 200 -\n",
      "100.64.0.24 - - [05/May/2024 17:12:26] \"GET /static/thumbs/5632_1024.png HTTP/1.1\" 200 -\n",
      "100.64.0.24 - - [05/May/2024 17:12:26] \"GET /static/thumbs/5632_0.png HTTP/1.1\" 200 -\n",
      "100.64.0.24 - - [05/May/2024 17:12:26] \"GET /static/thumbs/5632_1536.png HTTP/1.1\" 200 -\n",
      "100.64.0.24 - - [05/May/2024 17:12:26] \"GET /static/thumbs/8192_0.png HTTP/1.1\" 200 -\n",
      "100.64.0.24 - - [05/May/2024 17:12:26] \"GET /static/thumbs/8192_1024.png HTTP/1.1\" 200 -\n",
      "100.64.0.24 - - [05/May/2024 17:12:26] \"GET /static/thumbs/8192_3072.png HTTP/1.1\" 200 -\n",
      "100.64.0.24 - - [05/May/2024 17:12:26] \"GET /static/thumbs/8192_512.png HTTP/1.1\" 200 -\n",
      "100.64.0.24 - - [05/May/2024 17:12:26] \"GET /static/thumbs/8192_2560.png HTTP/1.1\" 200 -\n",
      "100.64.0.24 - - [05/May/2024 17:12:26] \"GET /static/thumbs/8192_4096.png HTTP/1.1\" 200 -\n",
      "100.64.0.24 - - [05/May/2024 17:12:26] \"GET /static/thumbs/8192_3584.png HTTP/1.1\" 200 -\n",
      "100.64.0.24 - - [05/May/2024 17:12:26] \"GET /static/thumbs/4096_2560.png HTTP/1.1\" 200 -\n"
     ]
    },
    {
     "name": "stdout",
     "output_type": "stream",
     "text": [
      "Overlay moved to position: (512, 0)\n"
     ]
    },
    {
     "name": "stderr",
     "output_type": "stream",
     "text": [
      "100.64.0.24 - - [05/May/2024 17:12:29] \"POST /update_position HTTP/1.1\" 200 -\n"
     ]
    },
    {
     "name": "stdout",
     "output_type": "stream",
     "text": [
      "Overlay moved to position: (1024, 0)\n",
      "Overlay moved to position: (1536, 0)\n",
      "Overlay moved to position: (2048, 0)\n"
     ]
    },
    {
     "name": "stderr",
     "output_type": "stream",
     "text": [
      "100.64.0.24 - - [05/May/2024 17:12:29] \"GET /static/tiles/512_0.png HTTP/1.1\" 200 -\n"
     ]
    },
    {
     "name": "stdout",
     "output_type": "stream",
     "text": [
      "Overlay moved to position: (2560, 0)\n",
      "Overlay moved to position: (3072, 0)\n",
      "Overlay moved to position: (3584, 0)\n"
     ]
    },
    {
     "name": "stderr",
     "output_type": "stream",
     "text": [
      "100.64.0.24 - - [05/May/2024 17:12:29] \"POST /update_position HTTP/1.1\" 200 -\n"
     ]
    },
    {
     "name": "stdout",
     "output_type": "stream",
     "text": [
      "Overlay moved to position: (4096, 0)\n",
      "Overlay moved to position: (4608, 0)\n"
     ]
    },
    {
     "name": "stderr",
     "output_type": "stream",
     "text": [
      "100.64.0.24 - - [05/May/2024 17:12:29] \"GET /static/tiles/1024_0.png HTTP/1.1\" 200 -\n"
     ]
    },
    {
     "name": "stdout",
     "output_type": "stream",
     "text": [
      "Overlay moved to position: (5120, 0)\n",
      "Overlay moved to position: (5632, 0)\n",
      "Overlay moved to position: (6144, 0)\n",
      "Overlay moved to position: (6656, 0)\n",
      "Overlay moved to position: (7168, 0)\n",
      "Overlay moved to position: (7168, 512)\n"
     ]
    },
    {
     "name": "stderr",
     "output_type": "stream",
     "text": [
      "100.64.0.24 - - [05/May/2024 17:12:32] \"POST /update_position HTTP/1.1\" 200 -\n",
      "100.64.0.24 - - [05/May/2024 17:12:32] \"POST /update_position HTTP/1.1\" 200 -\n",
      "100.64.0.24 - - [05/May/2024 17:12:32] \"POST /update_position HTTP/1.1\" 200 -\n",
      "100.64.0.24 - - [05/May/2024 17:12:32] \"POST /update_position HTTP/1.1\" 200 -\n",
      "100.64.0.24 - - [05/May/2024 17:12:32] \"POST /update_position HTTP/1.1\" 200 -\n",
      "100.64.0.24 - - [05/May/2024 17:12:32] \"POST /update_position HTTP/1.1\" 200 -\n",
      "100.64.0.24 - - [05/May/2024 17:12:32] \"GET /static/tiles/4096_0.png HTTP/1.1\" 200 -\n",
      "100.64.0.24 - - [05/May/2024 17:12:32] \"GET /static/tiles/2560_0.png HTTP/1.1\" 200 -\n"
     ]
    },
    {
     "name": "stdout",
     "output_type": "stream",
     "text": [
      "Overlay moved to position: (7168, 1024)\n"
     ]
    },
    {
     "name": "stderr",
     "output_type": "stream",
     "text": [
      "100.64.0.24 - - [05/May/2024 17:12:33] \"POST /update_position HTTP/1.1\" 200 -\n"
     ]
    },
    {
     "name": "stdout",
     "output_type": "stream",
     "text": [
      "Overlay moved to position: (7168, 1536)\n"
     ]
    },
    {
     "name": "stderr",
     "output_type": "stream",
     "text": [
      "100.64.0.24 - - [05/May/2024 17:12:34] \"GET /static/tiles/4608_0.png HTTP/1.1\" 200 -\n"
     ]
    },
    {
     "name": "stdout",
     "output_type": "stream",
     "text": [
      "Overlay moved to position: (7168, 2048)\n"
     ]
    },
    {
     "name": "stderr",
     "output_type": "stream",
     "text": [
      "100.64.0.24 - - [05/May/2024 17:12:36] \"POST /update_position HTTP/1.1\" 200 -\n",
      "100.64.0.24 - - [05/May/2024 17:12:36] \"POST /update_position HTTP/1.1\" 200 -\n",
      "100.64.0.24 - - [05/May/2024 17:12:36] \"POST /update_position HTTP/1.1\" 200 -\n",
      "100.64.0.24 - - [05/May/2024 17:12:36] \"POST /update_position HTTP/1.1\" 200 -\n",
      "100.64.0.24 - - [05/May/2024 17:12:36] \"POST /update_position HTTP/1.1\" 200 -\n",
      "100.64.0.24 - - [05/May/2024 17:12:36] \"POST /update_position HTTP/1.1\" 200 -\n",
      "100.64.0.24 - - [05/May/2024 17:12:36] \"POST /update_position HTTP/1.1\" 200 -\n",
      "100.64.0.24 - - [05/May/2024 17:12:36] \"GET /static/tiles/6144_0.png HTTP/1.1\" 200 -\n",
      "100.64.0.24 - - [05/May/2024 17:12:36] \"GET /static/tiles/7168_0.png HTTP/1.1\" 200 -\n"
     ]
    },
    {
     "name": "stdout",
     "output_type": "stream",
     "text": [
      "Overlay moved to position: (7168, 2560)\n"
     ]
    },
    {
     "name": "stderr",
     "output_type": "stream",
     "text": [
      "100.64.0.24 - - [05/May/2024 17:12:37] \"POST /update_position HTTP/1.1\" 200 -\n",
      "100.64.0.24 - - [05/May/2024 17:12:37] \"POST /update_position HTTP/1.1\" 200 -\n",
      "100.64.0.24 - - [05/May/2024 17:12:37] \"GET /static/tiles/7168_2048.png HTTP/1.1\" 200 -\n",
      "100.64.0.24 - - [05/May/2024 17:12:38] \"POST /update_position HTTP/1.1\" 200 -\n",
      "100.64.0.24 - - [05/May/2024 17:12:38] \"GET /static/tiles/7168_2560.png HTTP/1.1\" 200 -\n"
     ]
    },
    {
     "name": "stdout",
     "output_type": "stream",
     "text": [
      "Overlay moved to position: (7168, 3072)\n"
     ]
    },
    {
     "name": "stderr",
     "output_type": "stream",
     "text": [
      "100.64.0.24 - - [05/May/2024 17:12:39] \"POST /update_position HTTP/1.1\" 200 -\n",
      "100.64.0.24 - - [05/May/2024 17:12:40] \"GET /static/tiles/7168_3072.png HTTP/1.1\" 200 -\n"
     ]
    },
    {
     "name": "stdout",
     "output_type": "stream",
     "text": [
      "Overlay moved to position: (7168, 3584)\n"
     ]
    },
    {
     "name": "stderr",
     "output_type": "stream",
     "text": [
      "100.64.0.24 - - [05/May/2024 17:12:49] \"POST /update_position HTTP/1.1\" 200 -\n",
      "100.64.0.24 - - [05/May/2024 17:12:51] \"GET /static/tiles/7168_3584.png HTTP/1.1\" 200 -\n"
     ]
    },
    {
     "name": "stdout",
     "output_type": "stream",
     "text": [
      "Overlay moved to position: (7168, 4096)\n"
     ]
    },
    {
     "name": "stderr",
     "output_type": "stream",
     "text": [
      "100.64.0.24 - - [05/May/2024 17:12:55] \"POST /update_position HTTP/1.1\" 200 -\n",
      "100.64.0.24 - - [05/May/2024 17:12:55] \"GET /static/tiles/7168_4096.png HTTP/1.1\" 200 -\n"
     ]
    },
    {
     "name": "stdout",
     "output_type": "stream",
     "text": [
      "Overlay moved to position: (0, 0)\n"
     ]
    },
    {
     "name": "stderr",
     "output_type": "stream",
     "text": [
      "100.64.0.20 - - [05/May/2024 17:13:19] \"POST /update_position HTTP/1.1\" 200 -\n",
      "100.64.0.20 - - [05/May/2024 17:13:20] \"GET /static/tiles/0_0.png HTTP/1.1\" 200 -\n"
     ]
    },
    {
     "name": "stdout",
     "output_type": "stream",
     "text": [
      "Overlay moved to position: (6656, 4096)\n"
     ]
    },
    {
     "name": "stderr",
     "output_type": "stream",
     "text": [
      "100.64.0.24 - - [05/May/2024 17:16:26] \"POST /update_position HTTP/1.1\" 200 -\n",
      "100.64.0.24 - - [05/May/2024 17:16:26] \"GET /static/tiles/6656_4096.png HTTP/1.1\" 200 -\n"
     ]
    },
    {
     "name": "stdout",
     "output_type": "stream",
     "text": [
      "Overlay moved to position: (6144, 4096)\n",
      "Overlay moved to position: (5632, 4096)\n"
     ]
    },
    {
     "name": "stderr",
     "output_type": "stream",
     "text": [
      "100.64.0.24 - - [05/May/2024 17:16:31] \"POST /update_position HTTP/1.1\" 200 -\n"
     ]
    },
    {
     "name": "stdout",
     "output_type": "stream",
     "text": [
      "Overlay moved to position: (5120, 4096)\n",
      "Overlay moved to position: (4608, 4096)\n",
      "Overlay moved to position: (4096, 4096)\n",
      "Overlay moved to position: (3584, 4096)\n"
     ]
    },
    {
     "name": "stderr",
     "output_type": "stream",
     "text": [
      "100.64.0.24 - - [05/May/2024 17:16:32] \"GET /static/tiles/6144_4096.png HTTP/1.1\" 200 -\n"
     ]
    },
    {
     "name": "stdout",
     "output_type": "stream",
     "text": [
      "Overlay moved to position: (3072, 4096)\n",
      "Overlay moved to position: (3072, 4608)\n",
      "Overlay moved to position: (3072, 5120)\n"
     ]
    },
    {
     "name": "stderr",
     "output_type": "stream",
     "text": [
      "100.64.0.24 - - [05/May/2024 17:16:33] \"POST /update_position HTTP/1.1\" 200 -\n",
      "100.64.0.24 - - [05/May/2024 17:16:33] \"POST /update_position HTTP/1.1\" 200 -\n",
      "100.64.0.24 - - [05/May/2024 17:16:33] \"POST /update_position HTTP/1.1\" 200 -\n",
      "100.64.0.24 - - [05/May/2024 17:16:33] \"GET /static/tiles/5632_4096.png HTTP/1.1\" 200 -\n",
      "100.64.0.24 - - [05/May/2024 17:16:35] \"POST /update_position HTTP/1.1\" 200 -\n",
      "100.64.0.24 - - [05/May/2024 17:16:35] \"POST /update_position HTTP/1.1\" 200 -\n",
      "100.64.0.24 - - [05/May/2024 17:16:35] \"POST /update_position HTTP/1.1\" 200 -\n",
      "100.64.0.24 - - [05/May/2024 17:16:35] \"POST /update_position HTTP/1.1\" 200 -\n",
      "100.64.0.24 - - [05/May/2024 17:16:35] \"POST /update_position HTTP/1.1\" 200 -\n",
      "100.64.0.24 - - [05/May/2024 17:16:36] \"GET /static/tiles/4096_4096.png HTTP/1.1\" 200 -\n"
     ]
    },
    {
     "name": "stdout",
     "output_type": "stream",
     "text": [
      "Overlay moved to position: (3584, 5120)\n",
      "Overlay moved to position: (4096, 5120)\n"
     ]
    },
    {
     "name": "stderr",
     "output_type": "stream",
     "text": [
      "100.64.0.24 - - [05/May/2024 17:17:23] \"POST /update_position HTTP/1.1\" 200 -\n",
      "100.64.0.24 - - [05/May/2024 17:17:24] \"POST /update_position HTTP/1.1\" 200 -\n",
      "100.64.0.24 - - [05/May/2024 17:17:24] \"GET /static/tiles/3584_5120.png HTTP/1.1\" 200 -\n",
      "100.64.0.24 - - [05/May/2024 17:17:24] \"GET /static/tiles/4096_5120.png HTTP/1.1\" 200 -\n"
     ]
    },
    {
     "name": "stdout",
     "output_type": "stream",
     "text": [
      "Overlay moved to position: (4096, 4608)\n",
      "Overlay moved to position: (4096, 4096)\n"
     ]
    },
    {
     "name": "stderr",
     "output_type": "stream",
     "text": [
      "100.64.0.24 - - [05/May/2024 17:17:30] \"POST /update_position HTTP/1.1\" 200 -\n",
      "100.64.0.24 - - [05/May/2024 17:17:31] \"GET /static/tiles/4096_4608.png HTTP/1.1\" 200 -\n",
      "100.64.0.24 - - [05/May/2024 17:17:31] \"POST /update_position HTTP/1.1\" 200 -\n"
     ]
    },
    {
     "name": "stdout",
     "output_type": "stream",
     "text": [
      "Overlay moved to position: (4608, 4096)\n",
      "Overlay moved to position: (5120, 4096)\n"
     ]
    },
    {
     "name": "stderr",
     "output_type": "stream",
     "text": [
      "100.64.0.24 - - [05/May/2024 17:23:33] \"POST /update_position HTTP/1.1\" 200 -\n",
      "100.64.0.24 - - [05/May/2024 17:23:33] \"POST /update_position HTTP/1.1\" 200 -\n",
      "100.64.0.24 - - [05/May/2024 17:23:34] \"GET /static/tiles/5120_4096.png HTTP/1.1\" 200 -\n"
     ]
    },
    {
     "name": "stdout",
     "output_type": "stream",
     "text": [
      "Overlay moved to position: (7168, 5120)\n",
      "Overlay moved to position: (7168, 4608)\n",
      "Overlay moved to position: (7168, 4608)\n"
     ]
    },
    {
     "name": "stderr",
     "output_type": "stream",
     "text": [
      "100.64.0.24 - - [05/May/2024 17:27:46] \"POST /update_position HTTP/1.1\" 200 -\n",
      "100.64.0.24 - - [05/May/2024 17:27:46] \"POST /update_position HTTP/1.1\" 200 -\n",
      "100.64.0.24 - - [05/May/2024 17:27:47] \"POST /update_position HTTP/1.1\" 200 -\n",
      "100.64.0.24 - - [05/May/2024 17:27:47] \"GET /static/tiles/7168_5120.png HTTP/1.1\" 200 -\n",
      "100.64.0.24 - - [05/May/2024 17:27:47] \"GET /static/tiles/7168_4608.png HTTP/1.1\" 200 -\n"
     ]
    },
    {
     "name": "stdout",
     "output_type": "stream",
     "text": [
      "Overlay moved to position: (7168, 4608)\n",
      "Overlay moved to position: (7168, 4608)\n"
     ]
    },
    {
     "name": "stderr",
     "output_type": "stream",
     "text": [
      "100.64.0.24 - - [05/May/2024 17:52:36] \"POST /update_position HTTP/1.1\" 200 -\n",
      "100.64.0.24 - - [05/May/2024 17:52:36] \"POST /update_position HTTP/1.1\" 200 -\n",
      "100.64.0.24 - - [05/May/2024 17:56:59] \"GET / HTTP/1.1\" 200 -\n",
      "100.64.0.24 - - [05/May/2024 17:57:00] \"GET /static/thumbs/0_1024.png HTTP/1.1\" 200 -\n",
      "100.64.0.24 - - [05/May/2024 17:57:00] \"GET /static/thumbs/0_512.png HTTP/1.1\" 200 -\n",
      "100.64.0.24 - - [05/May/2024 17:57:00] \"GET /static/thumbs/0_1536.png HTTP/1.1\" 200 -\n",
      "100.64.0.24 - - [05/May/2024 17:57:00] \"GET /static/thumbs/0_0.png HTTP/1.1\" 200 -\n",
      "100.64.0.24 - - [05/May/2024 17:57:00] \"GET /static/thumbs/0_3072.png HTTP/1.1\" 200 -\n",
      "100.64.0.24 - - [05/May/2024 17:57:00] \"GET /static/thumbs/0_2560.png HTTP/1.1\" 200 -\n",
      "100.64.0.24 - - [05/May/2024 17:57:00] \"GET /static/thumbs/0_2048.png HTTP/1.1\" 200 -\n",
      "100.64.0.24 - - [05/May/2024 17:57:00] \"GET /static/thumbs/0_5632.png HTTP/1.1\" 200 -\n",
      "100.64.0.24 - - [05/May/2024 17:57:00] \"GET /static/thumbs/0_3584.png HTTP/1.1\" 200 -\n",
      "100.64.0.24 - - [05/May/2024 17:57:00] \"GET /static/thumbs/512_0.png HTTP/1.1\" 200 -\n",
      "100.64.0.24 - - [05/May/2024 17:57:00] \"GET /static/thumbs/512_1536.png HTTP/1.1\" 200 -\n",
      "100.64.0.24 - - [05/May/2024 17:57:00] \"GET /static/thumbs/512_1024.png HTTP/1.1\" 200 -\n",
      "100.64.0.24 - - [05/May/2024 17:57:00] \"GET /static/thumbs/0_4096.png HTTP/1.1\" 200 -\n",
      "100.64.0.24 - - [05/May/2024 17:57:01] \"GET /static/thumbs/0_6144.png HTTP/1.1\" 200 -\n",
      "100.64.0.24 - - [05/May/2024 17:57:01] \"GET /static/thumbs/1536_1536.png HTTP/1.1\" 200 -\n",
      "100.64.0.24 - - [05/May/2024 17:57:01] \"GET /static/thumbs/2048_5632.png HTTP/1.1\" 200 -\n",
      "100.64.0.24 - - [05/May/2024 17:57:01] \"GET /static/thumbs/2560_6656.png HTTP/1.1\" 200 -\n",
      "100.64.0.24 - - [05/May/2024 17:57:01] \"GET /static/thumbs/2560_7168.png HTTP/1.1\" 200 -\n",
      "100.64.0.24 - - [05/May/2024 17:57:01] \"GET /static/thumbs/1024_4608.png HTTP/1.1\" 200 -\n",
      "100.64.0.24 - - [05/May/2024 17:57:01] \"GET /static/thumbs/2560_5120.png HTTP/1.1\" 200 -\n",
      "100.64.0.24 - - [05/May/2024 17:57:01] \"GET /static/thumbs/2048_1536.png HTTP/1.1\" 200 -\n",
      "100.64.0.24 - - [05/May/2024 17:57:01] \"GET /static/thumbs/2560_2560.png HTTP/1.1\" 200 -\n",
      "100.64.0.24 - - [05/May/2024 17:57:01] \"GET /static/thumbs/2560_6144.png HTTP/1.1\" 200 -\n",
      "100.64.0.24 - - [05/May/2024 17:57:01] \"GET /static/thumbs/1024_2560.png HTTP/1.1\" 200 -\n",
      "100.64.0.24 - - [05/May/2024 17:57:01] \"GET /static/thumbs/1536_5632.png HTTP/1.1\" 200 -\n",
      "100.64.0.24 - - [05/May/2024 17:57:01] \"GET /static/thumbs/3072_4608.png HTTP/1.1\" 200 -\n",
      "100.64.0.24 - - [05/May/2024 17:57:01] \"GET /static/thumbs/2560_5632.png HTTP/1.1\" 200 -\n",
      "100.64.0.24 - - [05/May/2024 17:57:01] \"GET /static/thumbs/2048_2048.png HTTP/1.1\" 200 -\n",
      "100.64.0.24 - - [05/May/2024 17:57:01] \"GET /static/thumbs/1536_3072.png HTTP/1.1\" 200 -\n",
      "100.64.0.24 - - [05/May/2024 17:57:01] \"GET /static/thumbs/1536_4096.png HTTP/1.1\" 200 -\n",
      "100.64.0.24 - - [05/May/2024 17:57:01] \"GET /static/thumbs/2560_512.png HTTP/1.1\" 200 -\n",
      "100.64.0.24 - - [05/May/2024 17:57:01] \"GET /static/thumbs/1536_0.png HTTP/1.1\" 200 -\n",
      "100.64.0.24 - - [05/May/2024 17:57:01] \"GET /static/thumbs/3072_1536.png HTTP/1.1\" 200 -\n",
      "100.64.0.24 - - [05/May/2024 17:57:01] \"GET /static/thumbs/1536_7168.png HTTP/1.1\" 200 -\n",
      "100.64.0.24 - - [05/May/2024 17:57:01] \"GET /static/thumbs/3072_512.png HTTP/1.1\" 200 -\n",
      "100.64.0.24 - - [05/May/2024 17:57:01] \"GET /static/thumbs/1536_1024.png HTTP/1.1\" 200 -\n",
      "100.64.0.24 - - [05/May/2024 17:57:01] \"GET /static/thumbs/1024_4096.png HTTP/1.1\" 200 -\n",
      "100.64.0.24 - - [05/May/2024 17:57:01] \"GET /static/thumbs/1024_6144.png HTTP/1.1\" 200 -\n",
      "100.64.0.24 - - [05/May/2024 17:57:01] \"GET /static/thumbs/2560_3584.png HTTP/1.1\" 200 -\n",
      "100.64.0.24 - - [05/May/2024 17:57:01] \"GET /static/thumbs/512_4096.png HTTP/1.1\" 200 -\n",
      "100.64.0.24 - - [05/May/2024 17:57:01] \"GET /static/thumbs/2048_7168.png HTTP/1.1\" 200 -\n",
      "100.64.0.24 - - [05/May/2024 17:57:01] \"GET /static/thumbs/2048_0.png HTTP/1.1\" 200 -\n",
      "100.64.0.24 - - [05/May/2024 17:57:01] \"GET /static/thumbs/3072_0.png HTTP/1.1\" 200 -\n",
      "100.64.0.24 - - [05/May/2024 17:57:01] \"GET /static/thumbs/2560_4096.png HTTP/1.1\" 200 -\n",
      "100.64.0.24 - - [05/May/2024 17:57:01] \"GET /static/thumbs/1024_7168.png HTTP/1.1\" 200 -\n",
      "100.64.0.24 - - [05/May/2024 17:57:01] \"GET /static/thumbs/3072_2560.png HTTP/1.1\" 200 -\n",
      "100.64.0.24 - - [05/May/2024 17:57:01] \"GET /static/thumbs/2048_3072.png HTTP/1.1\" 200 -\n",
      "100.64.0.24 - - [05/May/2024 17:57:01] \"GET /static/thumbs/2560_2048.png HTTP/1.1\" 200 -\n",
      "100.64.0.24 - - [05/May/2024 17:57:01] \"GET /static/thumbs/3072_1024.png HTTP/1.1\" 200 -\n",
      "100.64.0.24 - - [05/May/2024 17:57:01] \"GET /static/thumbs/2560_1024.png HTTP/1.1\" 200 -\n",
      "100.64.0.24 - - [05/May/2024 17:57:01] \"GET /static/thumbs/3072_2048.png HTTP/1.1\" 200 -\n",
      "100.64.0.24 - - [05/May/2024 17:57:01] \"GET /static/thumbs/2048_4608.png HTTP/1.1\" 200 -\n",
      "100.64.0.24 - - [05/May/2024 17:57:01] \"GET /static/thumbs/512_7168.png HTTP/1.1\" 200 -\n",
      "100.64.0.24 - - [05/May/2024 17:57:01] \"GET /static/thumbs/1536_4608.png HTTP/1.1\" 200 -\n",
      "100.64.0.24 - - [05/May/2024 17:57:01] \"GET /static/thumbs/2048_6144.png HTTP/1.1\" 200 -\n",
      "100.64.0.24 - - [05/May/2024 17:57:01] \"GET /static/thumbs/2560_0.png HTTP/1.1\" 200 -\n",
      "100.64.0.24 - - [05/May/2024 17:57:01] \"GET /static/thumbs/1024_5632.png HTTP/1.1\" 200 -\n",
      "100.64.0.24 - - [05/May/2024 17:57:01] \"GET /static/thumbs/2048_2560.png HTTP/1.1\" 200 -\n",
      "100.64.0.24 - - [05/May/2024 17:57:01] \"GET /static/thumbs/0_6656.png HTTP/1.1\" 200 -\n",
      "100.64.0.24 - - [05/May/2024 17:57:01] \"GET /static/thumbs/2048_3584.png HTTP/1.1\" 200 -\n",
      "100.64.0.24 - - [05/May/2024 17:57:01] \"GET /static/thumbs/2048_5120.png HTTP/1.1\" 200 -\n",
      "100.64.0.24 - - [05/May/2024 17:57:01] \"GET /static/thumbs/1536_2048.png HTTP/1.1\" 200 -\n",
      "100.64.0.24 - - [05/May/2024 17:57:01] \"GET /static/thumbs/1536_5120.png HTTP/1.1\" 200 -\n",
      "100.64.0.24 - - [05/May/2024 17:57:01] \"GET /static/thumbs/2048_4096.png HTTP/1.1\" 200 -\n",
      "100.64.0.24 - - [05/May/2024 17:57:01] \"GET /static/thumbs/2048_1024.png HTTP/1.1\" 200 -\n",
      "100.64.0.24 - - [05/May/2024 17:57:01] \"GET /static/thumbs/1536_3584.png HTTP/1.1\" 200 -\n",
      "100.64.0.24 - - [05/May/2024 17:57:01] \"GET /static/thumbs/1536_6656.png HTTP/1.1\" 200 -\n",
      "100.64.0.24 - - [05/May/2024 17:57:01] \"GET /static/thumbs/1536_2560.png HTTP/1.1\" 200 -\n",
      "100.64.0.24 - - [05/May/2024 17:57:01] \"GET /static/thumbs/3072_4096.png HTTP/1.1\" 200 -\n",
      "100.64.0.24 - - [05/May/2024 17:57:01] \"GET /static/thumbs/1536_512.png HTTP/1.1\" 200 -\n",
      "100.64.0.24 - - [05/May/2024 17:57:01] \"GET /static/thumbs/1024_3072.png HTTP/1.1\" 200 -\n",
      "100.64.0.24 - - [05/May/2024 17:57:01] \"GET /static/thumbs/1024_2048.png HTTP/1.1\" 200 -\n",
      "100.64.0.24 - - [05/May/2024 17:57:01] \"GET /static/thumbs/512_5632.png HTTP/1.1\" 200 -\n",
      "100.64.0.24 - - [05/May/2024 17:57:01] \"GET /static/thumbs/3072_3584.png HTTP/1.1\" 200 -\n",
      "100.64.0.24 - - [05/May/2024 17:57:01] \"GET /static/thumbs/1024_0.png HTTP/1.1\" 200 -\n",
      "100.64.0.24 - - [05/May/2024 17:57:01] \"GET /static/thumbs/2048_512.png HTTP/1.1\" 200 -\n",
      "100.64.0.24 - - [05/May/2024 17:57:01] \"GET /static/thumbs/1024_1024.png HTTP/1.1\" 200 -\n",
      "100.64.0.24 - - [05/May/2024 17:57:01] \"GET /static/thumbs/2560_3072.png HTTP/1.1\" 200 -\n",
      "100.64.0.24 - - [05/May/2024 17:57:01] \"GET /static/thumbs/2560_1536.png HTTP/1.1\" 200 -\n",
      "100.64.0.24 - - [05/May/2024 17:57:01] \"GET /static/thumbs/1536_6144.png HTTP/1.1\" 200 -\n",
      "100.64.0.24 - - [05/May/2024 17:57:01] \"GET /static/thumbs/3072_3072.png HTTP/1.1\" 200 -\n",
      "100.64.0.24 - - [05/May/2024 17:57:01] \"GET /static/thumbs/512_512.png HTTP/1.1\" 200 -\n",
      "100.64.0.24 - - [05/May/2024 17:57:01] \"GET /static/thumbs/1024_6656.png HTTP/1.1\" 200 -\n",
      "100.64.0.24 - - [05/May/2024 17:57:01] \"GET /static/thumbs/1024_1536.png HTTP/1.1\" 200 -\n",
      "100.64.0.24 - - [05/May/2024 17:57:01] \"GET /static/thumbs/2560_4608.png HTTP/1.1\" 200 -\n",
      "100.64.0.24 - - [05/May/2024 17:57:01] \"GET /static/thumbs/0_7168.png HTTP/1.1\" 200 -\n",
      "100.64.0.24 - - [05/May/2024 17:57:01] \"GET /static/thumbs/512_5120.png HTTP/1.1\" 200 -\n",
      "100.64.0.24 - - [05/May/2024 17:57:01] \"GET /static/thumbs/0_5120.png HTTP/1.1\" 200 -\n",
      "100.64.0.24 - - [05/May/2024 17:57:01] \"GET /static/thumbs/2048_6656.png HTTP/1.1\" 200 -\n",
      "100.64.0.24 - - [05/May/2024 17:57:01] \"GET /static/thumbs/0_4608.png HTTP/1.1\" 200 -\n",
      "100.64.0.24 - - [05/May/2024 17:57:01] \"GET /static/thumbs/1024_512.png HTTP/1.1\" 200 -\n",
      "100.64.0.24 - - [05/May/2024 17:57:01] \"GET /static/thumbs/512_3584.png HTTP/1.1\" 200 -\n",
      "100.64.0.24 - - [05/May/2024 17:57:01] \"GET /static/thumbs/512_3072.png HTTP/1.1\" 200 -\n",
      "100.64.0.24 - - [05/May/2024 17:57:01] \"GET /static/thumbs/512_2048.png HTTP/1.1\" 200 -\n",
      "100.64.0.24 - - [05/May/2024 17:57:01] \"GET /static/thumbs/1024_3584.png HTTP/1.1\" 200 -\n",
      "100.64.0.24 - - [05/May/2024 17:57:01] \"GET /static/thumbs/512_6144.png HTTP/1.1\" 200 -\n",
      "100.64.0.24 - - [05/May/2024 17:57:01] \"GET /static/thumbs/1024_5120.png HTTP/1.1\" 200 -\n",
      "100.64.0.24 - - [05/May/2024 17:57:01] \"GET /static/thumbs/512_6656.png HTTP/1.1\" 200 -\n",
      "100.64.0.24 - - [05/May/2024 17:57:01] \"GET /static/thumbs/512_4608.png HTTP/1.1\" 200 -\n",
      "100.64.0.24 - - [05/May/2024 17:57:01] \"GET /static/thumbs/512_2560.png HTTP/1.1\" 200 -\n",
      "100.64.0.24 - - [05/May/2024 17:57:01] \"GET /static/thumbs/3072_5120.png HTTP/1.1\" 200 -\n",
      "100.64.0.24 - - [05/May/2024 17:57:01] \"GET /static/images/drone.png HTTP/1.1\" 200 -\n",
      "100.64.0.24 - - [05/May/2024 17:57:01] \"GET /static/thumbs/3072_5632.png HTTP/1.1\" 200 -\n",
      "100.64.0.24 - - [05/May/2024 17:57:01] \"GET /static/thumbs/3072_6144.png HTTP/1.1\" 200 -\n",
      "100.64.0.24 - - [05/May/2024 17:57:01] \"GET /static/thumbs/3072_6656.png HTTP/1.1\" 200 -\n",
      "100.64.0.24 - - [05/May/2024 17:57:01] \"GET /static/thumbs/4608_4096.png HTTP/1.1\" 200 -\n",
      "100.64.0.24 - - [05/May/2024 17:57:01] \"GET /static/thumbs/4608_1536.png HTTP/1.1\" 200 -\n",
      "100.64.0.24 - - [05/May/2024 17:57:01] \"GET /static/thumbs/4608_2048.png HTTP/1.1\" 200 -\n",
      "100.64.0.24 - - [05/May/2024 17:57:01] \"GET /static/thumbs/4608_1024.png HTTP/1.1\" 200 -\n",
      "100.64.0.24 - - [05/May/2024 17:57:01] \"GET /static/thumbs/4608_3584.png HTTP/1.1\" 200 -\n",
      "100.64.0.24 - - [05/May/2024 17:57:01] \"GET /static/thumbs/4608_3072.png HTTP/1.1\" 200 -\n",
      "100.64.0.24 - - [05/May/2024 17:57:01] \"GET /static/thumbs/4608_4608.png HTTP/1.1\" 200 -\n",
      "100.64.0.24 - - [05/May/2024 17:57:01] \"GET /static/thumbs/4608_2560.png HTTP/1.1\" 200 -\n",
      "100.64.0.24 - - [05/May/2024 17:57:01] \"GET /static/thumbs/4608_5120.png HTTP/1.1\" 200 -\n",
      "100.64.0.24 - - [05/May/2024 17:57:01] \"GET /static/thumbs/4608_5632.png HTTP/1.1\" 200 -\n",
      "100.64.0.24 - - [05/May/2024 17:57:01] \"GET /static/thumbs/4608_6144.png HTTP/1.1\" 200 -\n",
      "100.64.0.24 - - [05/May/2024 17:57:01] \"GET /static/thumbs/4608_7168.png HTTP/1.1\" 200 -\n",
      "100.64.0.24 - - [05/May/2024 17:57:01] \"GET /static/thumbs/4608_6656.png HTTP/1.1\" 200 -\n",
      "100.64.0.24 - - [05/May/2024 17:57:01] \"GET /static/thumbs/8192_4096.png HTTP/1.1\" 200 -\n",
      "100.64.0.24 - - [05/May/2024 17:57:01] \"GET /static/thumbs/8192_4608.png HTTP/1.1\" 200 -\n",
      "100.64.0.24 - - [05/May/2024 17:57:01] \"GET /static/thumbs/8192_5120.png HTTP/1.1\" 200 -\n",
      "100.64.0.24 - - [05/May/2024 17:57:01] \"GET /static/thumbs/8192_6144.png HTTP/1.1\" 200 -\n",
      "100.64.0.24 - - [05/May/2024 17:57:01] \"GET /static/thumbs/8192_5632.png HTTP/1.1\" 200 -\n",
      "100.64.0.24 - - [05/May/2024 17:57:01] \"GET /static/thumbs/8192_6656.png HTTP/1.1\" 200 -\n",
      "100.64.0.24 - - [05/May/2024 17:57:01] \"GET /static/thumbs/7680_512.png HTTP/1.1\" 200 -\n",
      "100.64.0.24 - - [05/May/2024 17:57:01] \"GET /static/thumbs/7680_1024.png HTTP/1.1\" 200 -\n",
      "100.64.0.24 - - [05/May/2024 17:57:01] \"GET /static/thumbs/7680_2048.png HTTP/1.1\" 200 -\n",
      "100.64.0.24 - - [05/May/2024 17:57:01] \"GET /static/thumbs/7680_1536.png HTTP/1.1\" 200 -\n",
      "100.64.0.24 - - [05/May/2024 17:57:01] \"GET /static/thumbs/7680_3072.png HTTP/1.1\" 200 -\n",
      "100.64.0.24 - - [05/May/2024 17:57:01] \"GET /static/thumbs/7680_4608.png HTTP/1.1\" 200 -\n",
      "100.64.0.24 - - [05/May/2024 17:57:01] \"GET /static/thumbs/7680_2560.png HTTP/1.1\" 200 -\n",
      "100.64.0.24 - - [05/May/2024 17:57:01] \"GET /static/thumbs/7680_3584.png HTTP/1.1\" 200 -\n",
      "100.64.0.24 - - [05/May/2024 17:57:01] \"GET /static/thumbs/8192_1024.png HTTP/1.1\" 200 -\n",
      "100.64.0.24 - - [05/May/2024 17:57:01] \"GET /static/thumbs/7680_4096.png HTTP/1.1\" 200 -\n",
      "100.64.0.24 - - [05/May/2024 17:57:01] \"GET /static/thumbs/8192_1536.png HTTP/1.1\" 200 -\n",
      "100.64.0.24 - - [05/May/2024 17:57:01] \"GET /static/thumbs/7680_5120.png HTTP/1.1\" 200 -\n",
      "100.64.0.24 - - [05/May/2024 17:57:01] \"GET /static/thumbs/7680_6144.png HTTP/1.1\" 200 -\n",
      "100.64.0.24 - - [05/May/2024 17:57:01] \"GET /static/thumbs/7680_5632.png HTTP/1.1\" 200 -\n",
      "100.64.0.24 - - [05/May/2024 17:57:01] \"GET /static/thumbs/7680_6656.png HTTP/1.1\" 200 -\n",
      "100.64.0.24 - - [05/May/2024 17:57:01] \"GET /static/thumbs/8192_0.png HTTP/1.1\" 200 -\n",
      "100.64.0.24 - - [05/May/2024 17:57:01] \"GET /static/thumbs/8192_512.png HTTP/1.1\" 200 -\n",
      "100.64.0.24 - - [05/May/2024 17:57:01] \"GET /static/thumbs/7680_7168.png HTTP/1.1\" 200 -\n",
      "100.64.0.24 - - [05/May/2024 17:57:01] \"GET /static/thumbs/8192_2560.png HTTP/1.1\" 200 -\n",
      "100.64.0.24 - - [05/May/2024 17:57:01] \"GET /static/thumbs/8192_2048.png HTTP/1.1\" 200 -\n",
      "100.64.0.24 - - [05/May/2024 17:57:01] \"GET /static/thumbs/3072_7168.png HTTP/1.1\" 200 -\n",
      "100.64.0.24 - - [05/May/2024 17:57:01] \"GET /static/thumbs/8192_3072.png HTTP/1.1\" 200 -\n",
      "100.64.0.24 - - [05/May/2024 17:57:01] \"GET /static/thumbs/3584_6144.png HTTP/1.1\" 200 -\n",
      "100.64.0.24 - - [05/May/2024 17:57:01] \"GET /static/thumbs/8192_3584.png HTTP/1.1\" 200 -\n",
      "100.64.0.24 - - [05/May/2024 17:57:01] \"GET /static/thumbs/8192_7168.png HTTP/1.1\" 200 -\n",
      "100.64.0.24 - - [05/May/2024 17:57:01] \"GET /static/thumbs/3584_5120.png HTTP/1.1\" 200 -\n",
      "100.64.0.24 - - [05/May/2024 17:57:01] \"GET /static/thumbs/3584_5632.png HTTP/1.1\" 200 -\n",
      "100.64.0.24 - - [05/May/2024 17:57:02] \"GET /static/thumbs/3584_6656.png HTTP/1.1\" 200 -\n",
      "100.64.0.24 - - [05/May/2024 17:57:02] \"GET /static/thumbs/3584_7168.png HTTP/1.1\" 200 -\n",
      "100.64.0.24 - - [05/May/2024 17:57:02] \"GET /static/thumbs/4096_5120.png HTTP/1.1\" 200 -\n",
      "100.64.0.24 - - [05/May/2024 17:57:02] \"GET /static/thumbs/4608_0.png HTTP/1.1\" 200 -\n",
      "100.64.0.24 - - [05/May/2024 17:57:02] \"GET /static/thumbs/5120_3584.png HTTP/1.1\" 200 -\n",
      "100.64.0.24 - - [05/May/2024 17:57:02] \"GET /static/thumbs/4096_0.png HTTP/1.1\" 200 -\n",
      "100.64.0.24 - - [05/May/2024 17:57:02] \"GET /static/thumbs/5120_7168.png HTTP/1.1\" 200 -\n",
      "100.64.0.24 - - [05/May/2024 17:57:02] \"GET /static/thumbs/4096_2560.png HTTP/1.1\" 200 -\n",
      "100.64.0.24 - - [05/May/2024 17:57:02] \"GET /static/thumbs/4096_4608.png HTTP/1.1\" 200 -\n",
      "100.64.0.24 - - [05/May/2024 17:57:02] \"GET /static/thumbs/4096_4096.png HTTP/1.1\" 200 -\n",
      "100.64.0.24 - - [05/May/2024 17:57:02] \"GET /static/thumbs/5632_3584.png HTTP/1.1\" 200 -\n",
      "100.64.0.24 - - [05/May/2024 17:57:02] \"GET /static/thumbs/4096_5632.png HTTP/1.1\" 200 -\n",
      "100.64.0.24 - - [05/May/2024 17:57:02] \"GET /static/thumbs/4096_6144.png HTTP/1.1\" 200 -\n",
      "100.64.0.24 - - [05/May/2024 17:57:02] \"GET /static/thumbs/6144_2560.png HTTP/1.1\" 200 -\n",
      "100.64.0.24 - - [05/May/2024 17:57:02] \"GET /static/thumbs/4096_1024.png HTTP/1.1\" 200 -\n",
      "100.64.0.24 - - [05/May/2024 17:57:02] \"GET /static/thumbs/4096_512.png HTTP/1.1\" 200 -\n",
      "100.64.0.24 - - [05/May/2024 17:57:02] \"GET /static/thumbs/4096_3072.png HTTP/1.1\" 200 -\n",
      "100.64.0.24 - - [05/May/2024 17:57:02] \"GET /static/thumbs/4096_1536.png HTTP/1.1\" 200 -\n",
      "100.64.0.24 - - [05/May/2024 17:57:02] \"GET /static/thumbs/6656_6656.png HTTP/1.1\" 200 -\n",
      "100.64.0.24 - - [05/May/2024 17:57:02] \"GET /static/thumbs/4096_2048.png HTTP/1.1\" 200 -\n",
      "100.64.0.24 - - [05/May/2024 17:57:02] \"GET /static/thumbs/5632_6656.png HTTP/1.1\" 200 -\n",
      "100.64.0.24 - - [05/May/2024 17:57:02] \"GET /static/thumbs/4096_6656.png HTTP/1.1\" 200 -\n",
      "100.64.0.24 - - [05/May/2024 17:57:02] \"GET /static/thumbs/5632_2048.png HTTP/1.1\" 200 -\n",
      "100.64.0.24 - - [05/May/2024 17:57:02] \"GET /static/thumbs/6656_2048.png HTTP/1.1\" 200 -\n",
      "100.64.0.24 - - [05/May/2024 17:57:02] \"GET /static/thumbs/6656_4096.png HTTP/1.1\" 200 -\n",
      "100.64.0.24 - - [05/May/2024 17:57:02] \"GET /static/thumbs/6144_2048.png HTTP/1.1\" 200 -\n",
      "100.64.0.24 - - [05/May/2024 17:57:02] \"GET /static/thumbs/4096_3584.png HTTP/1.1\" 200 -\n",
      "100.64.0.24 - - [05/May/2024 17:57:02] \"GET /static/thumbs/7168_0.png HTTP/1.1\" 200 -\n",
      "100.64.0.24 - - [05/May/2024 17:57:02] \"GET /static/thumbs/5632_5632.png HTTP/1.1\" 200 -\n",
      "100.64.0.24 - - [05/May/2024 17:57:02] \"GET /static/thumbs/5120_512.png HTTP/1.1\" 200 -\n",
      "100.64.0.24 - - [05/May/2024 17:57:02] \"GET /static/thumbs/5632_2560.png HTTP/1.1\" 200 -\n",
      "100.64.0.24 - - [05/May/2024 17:57:02] \"GET /static/thumbs/7168_2048.png HTTP/1.1\" 200 -\n",
      "100.64.0.24 - - [05/May/2024 17:57:02] \"GET /static/thumbs/6144_3584.png HTTP/1.1\" 200 -\n",
      "100.64.0.24 - - [05/May/2024 17:57:02] \"GET /static/thumbs/6144_7168.png HTTP/1.1\" 200 -\n",
      "100.64.0.24 - - [05/May/2024 17:57:02] \"GET /static/thumbs/5632_5120.png HTTP/1.1\" 200 -\n",
      "100.64.0.24 - - [05/May/2024 17:57:02] \"GET /static/thumbs/5120_6144.png HTTP/1.1\" 200 -\n",
      "100.64.0.24 - - [05/May/2024 17:57:02] \"GET /static/thumbs/6144_3072.png HTTP/1.1\" 200 -\n",
      "100.64.0.24 - - [05/May/2024 17:57:02] \"GET /static/thumbs/5632_4608.png HTTP/1.1\" 200 -\n",
      "100.64.0.24 - - [05/May/2024 17:57:02] \"GET /static/thumbs/6656_3072.png HTTP/1.1\" 200 -\n",
      "100.64.0.24 - - [05/May/2024 17:57:02] \"GET /static/thumbs/5120_0.png HTTP/1.1\" 200 -\n",
      "100.64.0.24 - - [05/May/2024 17:57:02] \"GET /static/thumbs/5120_1024.png HTTP/1.1\" 200 -\n",
      "100.64.0.24 - - [05/May/2024 17:57:02] \"GET /static/thumbs/6656_1024.png HTTP/1.1\" 200 -\n",
      "100.64.0.24 - - [05/May/2024 17:57:02] \"GET /static/thumbs/6144_0.png HTTP/1.1\" 200 -\n",
      "100.64.0.24 - - [05/May/2024 17:57:02] \"GET /static/thumbs/5120_1536.png HTTP/1.1\" 200 -\n",
      "100.64.0.24 - - [05/May/2024 17:57:02] \"GET /static/thumbs/5632_512.png HTTP/1.1\" 200 -\n",
      "100.64.0.24 - - [05/May/2024 17:57:02] \"GET /static/thumbs/5120_6656.png HTTP/1.1\" 200 -\n",
      "100.64.0.24 - - [05/May/2024 17:57:02] \"GET /static/thumbs/5632_6144.png HTTP/1.1\" 200 -\n",
      "100.64.0.24 - - [05/May/2024 17:57:02] \"GET /static/thumbs/7168_512.png HTTP/1.1\" 200 -\n",
      "100.64.0.24 - - [05/May/2024 17:57:02] \"GET /static/thumbs/6144_4096.png HTTP/1.1\" 200 -\n",
      "100.64.0.24 - - [05/May/2024 17:57:02] \"GET /static/thumbs/6656_2560.png HTTP/1.1\" 200 -\n",
      "100.64.0.24 - - [05/May/2024 17:57:02] \"GET /static/thumbs/5120_5632.png HTTP/1.1\" 200 -\n",
      "100.64.0.24 - - [05/May/2024 17:57:02] \"GET /static/thumbs/5632_4096.png HTTP/1.1\" 200 -\n",
      "100.64.0.24 - - [05/May/2024 17:57:02] \"GET /static/thumbs/6144_512.png HTTP/1.1\" 200 -\n",
      "100.64.0.24 - - [05/May/2024 17:57:02] \"GET /static/thumbs/4608_512.png HTTP/1.1\" 200 -\n",
      "100.64.0.24 - - [05/May/2024 17:57:02] \"GET /static/thumbs/6144_6144.png HTTP/1.1\" 200 -\n",
      "100.64.0.24 - - [05/May/2024 17:57:02] \"GET /static/thumbs/5632_1536.png HTTP/1.1\" 200 -\n",
      "100.64.0.24 - - [05/May/2024 17:57:02] \"GET /static/thumbs/7168_1024.png HTTP/1.1\" 200 -\n",
      "100.64.0.24 - - [05/May/2024 17:57:02] \"GET /static/thumbs/6656_5120.png HTTP/1.1\" 200 -\n",
      "100.64.0.24 - - [05/May/2024 17:57:02] \"GET /static/thumbs/5632_7168.png HTTP/1.1\" 200 -\n",
      "100.64.0.24 - - [05/May/2024 17:57:02] \"GET /static/thumbs/6144_1024.png HTTP/1.1\" 200 -\n",
      "100.64.0.24 - - [05/May/2024 17:57:02] \"GET /static/thumbs/6656_0.png HTTP/1.1\" 200 -\n",
      "100.64.0.24 - - [05/May/2024 17:57:02] \"GET /static/thumbs/5632_3072.png HTTP/1.1\" 200 -\n",
      "100.64.0.24 - - [05/May/2024 17:57:02] \"GET /static/thumbs/6656_4608.png HTTP/1.1\" 200 -\n",
      "100.64.0.24 - - [05/May/2024 17:57:02] \"GET /static/thumbs/5120_2048.png HTTP/1.1\" 200 -\n",
      "100.64.0.24 - - [05/May/2024 17:57:02] \"GET /static/thumbs/6656_7168.png HTTP/1.1\" 200 -\n",
      "100.64.0.24 - - [05/May/2024 17:57:02] \"GET /static/thumbs/6144_1536.png HTTP/1.1\" 200 -\n",
      "100.64.0.24 - - [05/May/2024 17:57:02] \"GET /static/thumbs/5120_4608.png HTTP/1.1\" 200 -\n",
      "100.64.0.24 - - [05/May/2024 17:57:02] \"GET /static/thumbs/6144_4608.png HTTP/1.1\" 200 -\n",
      "100.64.0.24 - - [05/May/2024 17:57:02] \"GET /static/thumbs/7168_3584.png HTTP/1.1\" 200 -\n",
      "100.64.0.24 - - [05/May/2024 17:57:02] \"GET /static/thumbs/7168_1536.png HTTP/1.1\" 200 -\n",
      "100.64.0.24 - - [05/May/2024 17:57:02] \"GET /static/thumbs/6144_5120.png HTTP/1.1\" 200 -\n",
      "100.64.0.24 - - [05/May/2024 17:57:02] \"GET /static/thumbs/6656_6144.png HTTP/1.1\" 200 -\n",
      "100.64.0.24 - - [05/May/2024 17:57:02] \"GET /static/thumbs/6656_3584.png HTTP/1.1\" 200 -\n",
      "100.64.0.24 - - [05/May/2024 17:57:02] \"GET /static/thumbs/5632_0.png HTTP/1.1\" 200 -\n",
      "100.64.0.24 - - [05/May/2024 17:57:02] \"GET /static/thumbs/5120_2560.png HTTP/1.1\" 200 -\n",
      "100.64.0.24 - - [05/May/2024 17:57:02] \"GET /static/thumbs/6656_5632.png HTTP/1.1\" 200 -\n",
      "100.64.0.24 - - [05/May/2024 17:57:02] \"GET /static/thumbs/6144_5632.png HTTP/1.1\" 200 -\n",
      "100.64.0.24 - - [05/May/2024 17:57:02] \"GET /static/thumbs/7168_4608.png HTTP/1.1\" 200 -\n",
      "100.64.0.24 - - [05/May/2024 17:57:02] \"GET /static/thumbs/6656_512.png HTTP/1.1\" 200 -\n",
      "100.64.0.24 - - [05/May/2024 17:57:02] \"GET /static/thumbs/7168_3072.png HTTP/1.1\" 200 -\n",
      "100.64.0.24 - - [05/May/2024 17:57:02] \"GET /static/thumbs/6144_6656.png HTTP/1.1\" 200 -\n",
      "100.64.0.24 - - [05/May/2024 17:57:02] \"GET /static/thumbs/4096_7168.png HTTP/1.1\" 200 -\n",
      "100.64.0.24 - - [05/May/2024 17:57:02] \"GET /static/thumbs/5120_5120.png HTTP/1.1\" 200 -\n",
      "100.64.0.24 - - [05/May/2024 17:57:02] \"GET /static/thumbs/7168_4096.png HTTP/1.1\" 200 -\n",
      "100.64.0.24 - - [05/May/2024 17:57:02] \"GET /static/thumbs/6656_1536.png HTTP/1.1\" 200 -\n",
      "100.64.0.24 - - [05/May/2024 17:57:02] \"GET /static/thumbs/5632_1024.png HTTP/1.1\" 200 -\n",
      "100.64.0.24 - - [05/May/2024 17:57:02] \"GET /static/thumbs/7168_2560.png HTTP/1.1\" 200 -\n",
      "100.64.0.24 - - [05/May/2024 17:57:02] \"GET /static/thumbs/5120_4096.png HTTP/1.1\" 200 -\n",
      "100.64.0.24 - - [05/May/2024 17:57:02] \"GET /static/thumbs/5120_3072.png HTTP/1.1\" 200 -\n",
      "100.64.0.24 - - [05/May/2024 17:57:02] \"GET /static/thumbs/7168_6656.png HTTP/1.1\" 200 -\n",
      "100.64.0.24 - - [05/May/2024 17:57:02] \"GET /static/thumbs/3584_2048.png HTTP/1.1\" 200 -\n",
      "100.64.0.24 - - [05/May/2024 17:57:02] \"GET /static/thumbs/3584_1024.png HTTP/1.1\" 200 -\n",
      "100.64.0.24 - - [05/May/2024 17:57:02] \"GET /static/thumbs/7680_0.png HTTP/1.1\" 200 -\n",
      "100.64.0.24 - - [05/May/2024 17:57:02] \"GET /static/thumbs/7168_5632.png HTTP/1.1\" 200 -\n",
      "100.64.0.24 - - [05/May/2024 17:57:02] \"GET /static/thumbs/7168_5120.png HTTP/1.1\" 200 -\n",
      "100.64.0.24 - - [05/May/2024 17:57:02] \"GET /static/thumbs/7168_6144.png HTTP/1.1\" 200 -\n",
      "100.64.0.24 - - [05/May/2024 17:57:02] \"GET /static/thumbs/7168_7168.png HTTP/1.1\" 200 -\n",
      "100.64.0.24 - - [05/May/2024 17:57:02] \"GET /static/thumbs/3584_512.png HTTP/1.1\" 200 -\n",
      "100.64.0.24 - - [05/May/2024 17:57:02] \"GET /static/thumbs/3584_1536.png HTTP/1.1\" 200 -\n",
      "100.64.0.24 - - [05/May/2024 17:57:02] \"GET /static/thumbs/3584_2560.png HTTP/1.1\" 200 -\n",
      "100.64.0.24 - - [05/May/2024 17:57:02] \"GET /static/thumbs/3584_3072.png HTTP/1.1\" 200 -\n",
      "100.64.0.24 - - [05/May/2024 17:57:02] \"GET /static/thumbs/3584_0.png HTTP/1.1\" 200 -\n",
      "100.64.0.24 - - [05/May/2024 17:57:02] \"GET /static/thumbs/3584_3584.png HTTP/1.1\" 200 -\n",
      "100.64.0.24 - - [05/May/2024 17:57:02] \"GET /static/thumbs/3584_4096.png HTTP/1.1\" 200 -\n",
      "100.64.0.24 - - [05/May/2024 17:57:02] \"GET /static/thumbs/3584_4608.png HTTP/1.1\" 200 -\n"
     ]
    },
    {
     "name": "stdout",
     "output_type": "stream",
     "text": [
      "Overlay moved to position: (512, 0)\n"
     ]
    },
    {
     "name": "stderr",
     "output_type": "stream",
     "text": [
      "100.64.0.24 - - [05/May/2024 18:00:18] \"POST /update_position HTTP/1.1\" 200 -\n",
      "100.64.0.24 - - [05/May/2024 18:00:18] \"GET /static/tiles/512_0.png HTTP/1.1\" 304 -\n"
     ]
    },
    {
     "name": "stdout",
     "output_type": "stream",
     "text": [
      "Overlay moved to position: (512, 512)\n"
     ]
    },
    {
     "name": "stderr",
     "output_type": "stream",
     "text": [
      "100.64.0.24 - - [05/May/2024 18:00:19] \"POST /update_position HTTP/1.1\" 200 -\n"
     ]
    },
    {
     "name": "stdout",
     "output_type": "stream",
     "text": [
      "Overlay moved to position: (512, 1024)\n"
     ]
    },
    {
     "name": "stderr",
     "output_type": "stream",
     "text": [
      "100.64.0.24 - - [05/May/2024 18:00:19] \"POST /update_position HTTP/1.1\" 200 -\n",
      "100.64.0.24 - - [05/May/2024 18:00:19] \"GET /static/tiles/512_512.png HTTP/1.1\" 304 -\n",
      "100.64.0.24 - - [05/May/2024 18:00:20] \"GET /static/tiles/512_1024.png HTTP/1.1\" 304 -\n"
     ]
    },
    {
     "name": "stdout",
     "output_type": "stream",
     "text": [
      "Overlay moved to position: (1024, 1024)\n"
     ]
    },
    {
     "name": "stderr",
     "output_type": "stream",
     "text": [
      "100.64.0.24 - - [05/May/2024 18:00:21] \"POST /update_position HTTP/1.1\" 200 -\n",
      "100.64.0.24 - - [05/May/2024 18:00:21] \"GET /static/tiles/1024_1024.png HTTP/1.1\" 304 -\n"
     ]
    },
    {
     "name": "stdout",
     "output_type": "stream",
     "text": [
      "Overlay moved to position: (1024, 1536)\n"
     ]
    },
    {
     "name": "stderr",
     "output_type": "stream",
     "text": [
      "100.64.0.24 - - [05/May/2024 18:00:22] \"POST /update_position HTTP/1.1\" 200 -\n"
     ]
    },
    {
     "name": "stdout",
     "output_type": "stream",
     "text": [
      "Overlay moved to position: (1024, 2048)\n"
     ]
    },
    {
     "name": "stderr",
     "output_type": "stream",
     "text": [
      "100.64.0.24 - - [05/May/2024 18:00:23] \"POST /update_position HTTP/1.1\" 200 -\n",
      "100.64.0.24 - - [05/May/2024 18:00:23] \"GET /static/tiles/1024_1536.png HTTP/1.1\" 304 -\n"
     ]
    },
    {
     "name": "stdout",
     "output_type": "stream",
     "text": [
      "Overlay moved to position: (1024, 2560)\n"
     ]
    },
    {
     "name": "stderr",
     "output_type": "stream",
     "text": [
      "100.64.0.24 - - [05/May/2024 18:00:23] \"POST /update_position HTTP/1.1\" 200 -\n",
      "100.64.0.24 - - [05/May/2024 18:00:23] \"GET /static/tiles/1024_2048.png HTTP/1.1\" 304 -\n"
     ]
    },
    {
     "name": "stdout",
     "output_type": "stream",
     "text": [
      "Overlay moved to position: (1024, 2048)\n"
     ]
    },
    {
     "name": "stderr",
     "output_type": "stream",
     "text": [
      "100.64.0.24 - - [05/May/2024 18:00:24] \"POST /update_position HTTP/1.1\" 200 -\n",
      "100.64.0.24 - - [05/May/2024 18:00:24] \"GET /static/tiles/1024_2048.png HTTP/1.1\" 304 -\n"
     ]
    },
    {
     "name": "stdout",
     "output_type": "stream",
     "text": [
      "Overlay moved to position: (1024, 2560)\n"
     ]
    },
    {
     "name": "stderr",
     "output_type": "stream",
     "text": [
      "100.64.0.24 - - [05/May/2024 18:00:26] \"POST /update_position HTTP/1.1\" 200 -\n"
     ]
    },
    {
     "name": "stdout",
     "output_type": "stream",
     "text": [
      "Overlay moved to position: (1536, 2560)\n"
     ]
    },
    {
     "name": "stderr",
     "output_type": "stream",
     "text": [
      "100.64.0.24 - - [05/May/2024 18:00:27] \"GET /static/tiles/1024_2560.png HTTP/1.1\" 304 -\n",
      "100.64.0.24 - - [05/May/2024 18:00:27] \"POST /update_position HTTP/1.1\" 200 -\n"
     ]
    },
    {
     "name": "stdout",
     "output_type": "stream",
     "text": [
      "Overlay moved to position: (2048, 2560)\n"
     ]
    },
    {
     "name": "stderr",
     "output_type": "stream",
     "text": [
      "100.64.0.24 - - [05/May/2024 18:00:27] \"POST /update_position HTTP/1.1\" 200 -\n"
     ]
    },
    {
     "name": "stdout",
     "output_type": "stream",
     "text": [
      "Overlay moved to position: (2560, 2560)\n"
     ]
    },
    {
     "name": "stderr",
     "output_type": "stream",
     "text": [
      "100.64.0.24 - - [05/May/2024 18:00:28] \"GET /static/tiles/1536_2560.png HTTP/1.1\" 304 -\n",
      "100.64.0.24 - - [05/May/2024 18:00:28] \"GET /static/tiles/2048_2560.png HTTP/1.1\" 304 -\n",
      "100.64.0.24 - - [05/May/2024 18:00:28] \"POST /update_position HTTP/1.1\" 200 -\n"
     ]
    },
    {
     "name": "stdout",
     "output_type": "stream",
     "text": [
      "Overlay moved to position: (3072, 2560)\n"
     ]
    },
    {
     "name": "stderr",
     "output_type": "stream",
     "text": [
      "100.64.0.24 - - [05/May/2024 18:00:28] \"POST /update_position HTTP/1.1\" 200 -\n",
      "100.64.0.24 - - [05/May/2024 18:00:29] \"GET /static/tiles/2560_2560.png HTTP/1.1\" 304 -\n"
     ]
    },
    {
     "name": "stdout",
     "output_type": "stream",
     "text": [
      "Overlay moved to position: (3584, 2560)\n"
     ]
    },
    {
     "name": "stderr",
     "output_type": "stream",
     "text": [
      "100.64.0.24 - - [05/May/2024 18:00:29] \"POST /update_position HTTP/1.1\" 200 -\n",
      "100.64.0.24 - - [05/May/2024 18:00:29] \"GET /static/tiles/3072_2560.png HTTP/1.1\" 304 -\n"
     ]
    },
    {
     "name": "stdout",
     "output_type": "stream",
     "text": [
      "Overlay moved to position: (4096, 2560)\n"
     ]
    },
    {
     "name": "stderr",
     "output_type": "stream",
     "text": [
      "100.64.0.24 - - [05/May/2024 18:00:30] \"POST /update_position HTTP/1.1\" 200 -\n",
      "100.64.0.24 - - [05/May/2024 18:00:30] \"GET /static/tiles/3584_2560.png HTTP/1.1\" 304 -\n"
     ]
    },
    {
     "name": "stdout",
     "output_type": "stream",
     "text": [
      "Overlay moved to position: (4096, 3072)\n"
     ]
    },
    {
     "name": "stderr",
     "output_type": "stream",
     "text": [
      "100.64.0.24 - - [05/May/2024 18:00:30] \"GET /static/tiles/4096_2560.png HTTP/1.1\" 304 -\n",
      "100.64.0.24 - - [05/May/2024 18:00:30] \"POST /update_position HTTP/1.1\" 200 -\n"
     ]
    },
    {
     "name": "stdout",
     "output_type": "stream",
     "text": [
      "Overlay moved to position: (4096, 3584)\n"
     ]
    },
    {
     "name": "stderr",
     "output_type": "stream",
     "text": [
      "100.64.0.24 - - [05/May/2024 18:00:31] \"GET /static/tiles/4096_3072.png HTTP/1.1\" 304 -\n",
      "100.64.0.24 - - [05/May/2024 18:00:31] \"POST /update_position HTTP/1.1\" 200 -\n"
     ]
    },
    {
     "name": "stdout",
     "output_type": "stream",
     "text": [
      "Overlay moved to position: (4096, 4096)\n"
     ]
    },
    {
     "name": "stderr",
     "output_type": "stream",
     "text": [
      "100.64.0.24 - - [05/May/2024 18:00:31] \"GET /static/tiles/4096_3584.png HTTP/1.1\" 200 -\n",
      "100.64.0.24 - - [05/May/2024 18:00:31] \"POST /update_position HTTP/1.1\" 200 -\n",
      "100.64.0.24 - - [05/May/2024 18:00:32] \"GET /static/tiles/4096_4096.png HTTP/1.1\" 304 -\n"
     ]
    },
    {
     "name": "stdout",
     "output_type": "stream",
     "text": [
      "Overlay moved to position: (4096, 4096)\n"
     ]
    },
    {
     "name": "stderr",
     "output_type": "stream",
     "text": [
      "100.64.0.24 - - [05/May/2024 18:00:42] \"POST /update_position HTTP/1.1\" 200 -\n"
     ]
    },
    {
     "name": "stdout",
     "output_type": "stream",
     "text": [
      "Overlay moved to position: (4096, 4096)\n",
      "Overlay moved to position: (4096, 4096)\n"
     ]
    }
   ],
   "source": [
    "from flask import Flask, render_template, request, jsonify\n",
    "from flask_bootstrap import Bootstrap\n",
    "app = Flask(__name__)\n",
    "Bootstrap(app)\n",
    "\n",
    "import clip\n",
    "import torch\n",
    "from PIL import Image\n",
    "clipmodel = 'ViT-L/14'\n",
    "device = \"cuda:0\" if torch.cuda.is_available() else \"cpu\"\n",
    "model, preprocess = clip.load(clipmodel, device=device)\n",
    "\n",
    "# Load the fine-tuned model\n",
    "model_path = 'models/clip_ft_30.pt'  # Update this path\n",
    "model = torch.load(model_path)\n",
    "model.eval()\n",
    "model_path\n",
    "\n",
    "import os\n",
    "\n",
    "def gather_prompts(directory):\n",
    "    prompts = set()  # Using a set to avoid duplicate prompts\n",
    "\n",
    "    # Walk through all files in the directory\n",
    "    for root, dirs, files in os.walk(directory):\n",
    "        for file in files:\n",
    "            if file.endswith(\".txt\"):  # Ensure it's a text file\n",
    "                file_path = os.path.join(root, file)\n",
    "                with open(file_path, 'r', encoding='utf-8') as f:\n",
    "                    # Read each line from the file, strip whitespace, and add to the set\n",
    "                    for line in f:\n",
    "                        stripped_line = line.strip()\n",
    "                        #print(stripped_line)\n",
    "                        if stripped_line:  # Only add non-empty lines\n",
    "                            prompts.add(stripped_line)\n",
    "\n",
    "    return list(prompts)  # Convert set to list to allow indexing\n",
    "\n",
    "# Specify the path to your directory containing text files\n",
    "directory_path = 'tiles/'\n",
    "all_prompts = gather_prompts(directory_path)\n",
    "\n",
    "print(f\"Found {len(all_prompts)} unique prompts.\")\n",
    "\n",
    "# Assuming 'model', 'preprocess', and 'image_preprocessed' are already defined\n",
    "text_tokens = clip.tokenize(all_prompts).to(device)\n",
    "\n",
    "# Proceed with model encoding and similarity calculation\n",
    "with torch.no_grad():\n",
    "    #image_features = model.encode_image(image_preprocessed)\n",
    "    text_features = model.encode_text(text_tokens)\n",
    "\n",
    "\n",
    "@app.route('/')\n",
    "def display_grid():\n",
    "    max_x = 8192\n",
    "    max_y = 7168\n",
    "    step = 512\n",
    "    num_tiles_x = max_x // step + 1\n",
    "    num_tiles_y = max_y // step + 1\n",
    "    \n",
    "    tiles = []\n",
    "    for x in range(num_tiles_x):\n",
    "        row = []\n",
    "        for y in range(num_tiles_y):\n",
    "            tile_path = f'thumbs/{x * step}_{y * step}.png'\n",
    "            row.append(tile_path)\n",
    "        tiles.append(row)\n",
    "    \n",
    "    return render_template('index.html', tiles=tiles)\n",
    "\n",
    "\n",
    "@app.route('/update_position', methods=['POST'])\n",
    "def update_position():\n",
    "    data = request.get_json()\n",
    "    x = data.get('x')\n",
    "    y = data.get('y')\n",
    "    print(f\"Overlay moved to position: ({x*16}, {y*16})\")\n",
    "    image_path = f'tiles/{x*16}_{y*16}.png'  # Adjust this path\n",
    "    image = Image.open(image_path).convert(\"RGB\")\n",
    "    \n",
    "    # Preprocess the image\n",
    "    image_preprocessed = preprocess(image).unsqueeze(0).to(device)\n",
    "    \n",
    "    # Proceed with model encoding and similarity calculation\n",
    "    with torch.no_grad():\n",
    "        # Calculate the cosine similarity\n",
    "        logits_per_image, logits_per_text = model(image_preprocessed, text_tokens)\n",
    "        probs = logits_per_image.softmax(dim=-1).cpu().numpy()\n",
    "    \n",
    "    # Display the top scoring prompts\n",
    "    top_prompts = sorted(zip(all_prompts, probs[0]), key=lambda x: x[1], reverse=True)[0]\n",
    "    text, confidence = (top_prompts)\n",
    "    coordinates = text.split('),')[0]+')'\n",
    "    description = text.split('),')[1]\n",
    "    # Here you can do more with the position, like storing it or processing it further.\n",
    "    return jsonify({'x': x * 16, 'y': y * 16, 'message': description, 'coords': coordinates})\n",
    "\n",
    "if __name__ == '__main__':\n",
    "    app.run(host='0.0.0.0', port=3002)\n"
   ]
  },
  {
   "cell_type": "code",
   "execution_count": 67,
   "id": "18fb4e65-d330-4105-b156-04ff2ff4f8bb",
   "metadata": {},
   "outputs": [
    {
     "name": "stdout",
     "output_type": "stream",
     "text": [
      "Collecting flask-bootstrap\n",
      "  Using cached Flask_Bootstrap-3.3.7.1-py3-none-any.whl\n",
      "Installing collected packages: flask-bootstrap\n",
      "Successfully installed flask-bootstrap-3.3.7.1\n",
      "\u001b[33mWARNING: Running pip as the 'root' user can result in broken permissions and conflicting behaviour with the system package manager. It is recommended to use a virtual environment instead: https://pip.pypa.io/warnings/venv\u001b[0m\u001b[33m\n",
      "\u001b[0m\n",
      "\u001b[1m[\u001b[0m\u001b[34;49mnotice\u001b[0m\u001b[1;39;49m]\u001b[0m\u001b[39;49m A new release of pip is available: \u001b[0m\u001b[31;49m23.3.1\u001b[0m\u001b[39;49m -> \u001b[0m\u001b[32;49m24.0\u001b[0m\n",
      "\u001b[1m[\u001b[0m\u001b[34;49mnotice\u001b[0m\u001b[1;39;49m]\u001b[0m\u001b[39;49m To update, run: \u001b[0m\u001b[32;49mpython -m pip install --upgrade pip\u001b[0m\n"
     ]
    }
   ],
   "source": [
    "!pip install flask-bootstrap --no-deps"
   ]
  },
  {
   "cell_type": "code",
   "execution_count": null,
   "id": "ad340c68-808f-420b-90f1-dadb58fb1f89",
   "metadata": {},
   "outputs": [],
   "source": []
  }
 ],
 "metadata": {
  "kernelspec": {
   "display_name": "Python 3 (ipykernel)",
   "language": "python",
   "name": "python3"
  },
  "language_info": {
   "codemirror_mode": {
    "name": "ipython",
    "version": 3
   },
   "file_extension": ".py",
   "mimetype": "text/x-python",
   "name": "python",
   "nbconvert_exporter": "python",
   "pygments_lexer": "ipython3",
   "version": "3.10.12"
  }
 },
 "nbformat": 4,
 "nbformat_minor": 5
}
